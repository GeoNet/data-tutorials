{
 "cells": [
  {
   "cell_type": "markdown",
   "id": "amazing-gateway",
   "metadata": {},
   "source": [
    "# Exploring Data Summary from Tilde"
   ]
  },
  {
   "cell_type": "markdown",
   "id": "central-current",
   "metadata": {},
   "source": [
    "## &nbsp;Table of contents\n",
    "### 1. Building the Basic Tilde Query\n",
    "### 2. Building a Tilde Query with a specific domain\n",
    "### 3. Find station locations and display on a map\n",
    "### 4. Station data and data range graphs"
   ]
  },
  {
   "cell_type": "markdown",
   "id": "stupid-citation",
   "metadata": {},
   "source": [
    "## &nbsp;1. Building the Basic Tilde Query"
   ]
  },
  {
   "cell_type": "markdown",
   "id": "clear-possession",
   "metadata": {},
   "source": [
    "###### Import required modules and set the source URL"
   ]
  },
  {
   "cell_type": "code",
   "execution_count": 1,
   "id": "juvenile-vaccine",
   "metadata": {},
   "outputs": [],
   "source": [
    "import requests\n",
    "import json\n",
    "import pandas as pd\n",
    "import numpy as np\n",
    "import matplotlib.pyplot as plt\n",
    "from matplotlib.transforms import offset_copy\n",
    "import cartopy.crs as ccrs\n",
    "import cartopy.feature as cfeature"
   ]
  },
  {
   "cell_type": "code",
   "execution_count": 2,
   "id": "demonstrated-softball",
   "metadata": {},
   "outputs": [],
   "source": [
    "#API version 3\n",
    "source = 'https://tilde.geonet.org.nz/v3'"
   ]
  },
  {
   "cell_type": "markdown",
   "id": "controlling-seminar",
   "metadata": {},
   "source": [
    "### A basic query with no parameters applied\n",
    "\n",
    "This query returns information on the different data domains held in Tilde using the 'dataSummary' endpoint `https://tilde.geonet.org.nz/v3/dataSummary/`."
   ]
  },
  {
   "cell_type": "markdown",
   "id": "prime-threat",
   "metadata": {},
   "source": [
    "######  Set the URL of a basic data summary query"
   ]
  },
  {
   "cell_type": "code",
   "execution_count": 3,
   "id": "possible-carnival",
   "metadata": {},
   "outputs": [],
   "source": [
    "url = source+'/dataSummary/'"
   ]
  },
  {
   "cell_type": "code",
   "execution_count": 4,
   "id": "guided-revelation",
   "metadata": {},
   "outputs": [
    {
     "name": "stdout",
     "output_type": "stream",
     "text": [
      "<Response [200]>\n"
     ]
    }
   ],
   "source": [
    "r = requests.get(url)\n",
    "print (r)"
   ]
  },
  {
   "cell_type": "markdown",
   "id": "daily-bankruptcy",
   "metadata": {},
   "source": [
    "###### Store the response as a nested dictionary and see the output"
   ]
  },
  {
   "cell_type": "markdown",
   "id": "electronic-single",
   "metadata": {},
   "source": [
    "A nested dictionary in python is a dictionary within a dictionary. It's a collection of dictionaries into one single directory. <br>\n",
    "In TILDE, each data domain has different entries which sit within that specific domain name. For example, DART data sit within the _dart_ domain. By creating a nested dictionary we can specify the domain and then split it by domain name. "
   ]
  },
  {
   "cell_type": "code",
   "execution_count": 5,
   "id": "pretty-repair",
   "metadata": {},
   "outputs": [
    {
     "data": {
      "text/plain": [
       "dict"
      ]
     },
     "execution_count": 5,
     "metadata": {},
     "output_type": "execute_result"
    }
   ],
   "source": [
    "summary = r.json()\n",
    "type(summary)"
   ]
  },
  {
   "cell_type": "code",
   "execution_count": 6,
   "id": "infrared-necessity",
   "metadata": {},
   "outputs": [
    {
     "data": {
      "text/plain": [
       "{'domains': {'coastal': {'domain': 'coastal',\n",
       "   'description': 'Coastal Tsunami Gauge Network',\n",
       "   'recordCount': 75405608,\n",
       "   'seriesCount': 73,\n",
       "   'stationCount': 19,\n",
       "   'earliestRecord': '2022-10-30T22:40:15Z',\n",
       "   'latestRecord': '2023-05-01T14:59:45Z'},\n",
       "  'dart': {'domain': 'dart',\n",
       "   'description': 'Deep-ocean Assessment and Reporting of Tsunami',\n",
       "   'recordCount': 125752630,\n",
       "   'seriesCount': 116,\n",
       "   'stationCount': 12,\n",
       "   'earliestRecord': '2019-12-13T00:00:00Z',\n",
       "   'latestRecord': '2023-05-01T12:00:00Z'},\n",
       "  'envirosensor': {'domain': 'envirosensor',\n",
       "   'description': 'Environmental Sensors',\n",
       "   'recordCount': 14412033,\n",
       "   'seriesCount': 237,\n",
       "   'stationCount': 18,\n",
       "   'earliestRecord': '2018-08-10T01:40:00Z',\n",
       "   'latestRecord': '2023-05-01T14:50:00Z'}}}"
      ]
     },
     "execution_count": 6,
     "metadata": {},
     "output_type": "execute_result"
    }
   ],
   "source": [
    "summary"
   ]
  },
  {
   "cell_type": "markdown",
   "id": "chicken-favor",
   "metadata": {},
   "source": [
    "######  Specifying the domains from the summary"
   ]
  },
  {
   "cell_type": "code",
   "execution_count": 7,
   "id": "killing-charles",
   "metadata": {},
   "outputs": [
    {
     "data": {
      "text/plain": [
       "{'coastal': {'domain': 'coastal',\n",
       "  'description': 'Coastal Tsunami Gauge Network',\n",
       "  'recordCount': 75405608,\n",
       "  'seriesCount': 73,\n",
       "  'stationCount': 19,\n",
       "  'earliestRecord': '2022-10-30T22:40:15Z',\n",
       "  'latestRecord': '2023-05-01T14:59:45Z'},\n",
       " 'dart': {'domain': 'dart',\n",
       "  'description': 'Deep-ocean Assessment and Reporting of Tsunami',\n",
       "  'recordCount': 125752630,\n",
       "  'seriesCount': 116,\n",
       "  'stationCount': 12,\n",
       "  'earliestRecord': '2019-12-13T00:00:00Z',\n",
       "  'latestRecord': '2023-05-01T12:00:00Z'},\n",
       " 'envirosensor': {'domain': 'envirosensor',\n",
       "  'description': 'Environmental Sensors',\n",
       "  'recordCount': 14412033,\n",
       "  'seriesCount': 237,\n",
       "  'stationCount': 18,\n",
       "  'earliestRecord': '2018-08-10T01:40:00Z',\n",
       "  'latestRecord': '2023-05-01T14:50:00Z'}}"
      ]
     },
     "execution_count": 7,
     "metadata": {},
     "output_type": "execute_result"
    }
   ],
   "source": [
    "domains = summary['domains']\n",
    "domains"
   ]
  },
  {
   "cell_type": "markdown",
   "id": "graphic-finland",
   "metadata": {},
   "source": [
    "**Access Method 1 - Use the items method to access each entry**\n",
    "<br>\n",
    "To have actual information about the domain you can print out the key-value pairs as shown below. In this case we print out various item names that have been returned for our _dart_ domain in the response above. We are printing out each item line by line, with the domain name being at the top. "
   ]
  },
  {
   "cell_type": "code",
   "execution_count": 8,
   "id": "fiscal-reply",
   "metadata": {},
   "outputs": [
    {
     "name": "stdout",
     "output_type": "stream",
     "text": [
      "For Domain =  coastal\n",
      "\tDomain name = None\n",
      "\tDescription = Coastal Tsunami Gauge Network\n",
      "\tRecord count = 75405608\n",
      "\tSeries count = 73\n",
      "\tStation count = 19\n",
      "\tEarliest record = 2022-10-30T22:40:15Z\n",
      "\tLatest record = 2023-05-01T14:59:45Z\n",
      "For Domain =  dart\n",
      "\tDomain name = None\n",
      "\tDescription = Deep-ocean Assessment and Reporting of Tsunami\n",
      "\tRecord count = 125752630\n",
      "\tSeries count = 116\n",
      "\tStation count = 12\n",
      "\tEarliest record = 2019-12-13T00:00:00Z\n",
      "\tLatest record = 2023-05-01T12:00:00Z\n",
      "For Domain =  envirosensor\n",
      "\tDomain name = None\n",
      "\tDescription = Environmental Sensors\n",
      "\tRecord count = 14412033\n",
      "\tSeries count = 237\n",
      "\tStation count = 18\n",
      "\tEarliest record = 2018-08-10T01:40:00Z\n",
      "\tLatest record = 2023-05-01T14:50:00Z\n"
     ]
    }
   ],
   "source": [
    "#iterate over key,value pairs and print the results\n",
    "for domain,detail in domains.items():\n",
    "    print ('For Domain = ', domain)     \n",
    "    print ('\\tDomain name =', detail.get('domain_name'))\n",
    "    print ('\\tDescription =', detail.get('description'))\n",
    "    print ('\\tRecord count =', detail.get('recordCount'))\n",
    "    print ('\\tSeries count =', detail.get('seriesCount'))\n",
    "    print ('\\tStation count =', detail.get('stationCount'))\n",
    "    print ('\\tEarliest record =', detail.get('earliestRecord'))\n",
    "    print ('\\tLatest record =', detail.get('latestRecord'))"
   ]
  },
  {
   "cell_type": "markdown",
   "id": "quick-mapping",
   "metadata": {},
   "source": [
    "**Access Method 2 - Summary info in table format**\n",
    "<br>\n",
    "Pandas dataframes can be quite useful because they enable the user to visualize information in a table instead of line-by-line as shown above. The dataframe calls for the values in the 'domains' variable that we set above and then the 'orient' (orientation) is specified to be the 'index' because we are using the highest level key as the index, and subsidiary keys as columns. Each domain has it's own row in the dataframe."
   ]
  },
  {
   "cell_type": "code",
   "execution_count": 9,
   "id": "grand-costume",
   "metadata": {},
   "outputs": [
    {
     "data": {
      "text/html": [
       "<div>\n",
       "<style scoped>\n",
       "    .dataframe tbody tr th:only-of-type {\n",
       "        vertical-align: middle;\n",
       "    }\n",
       "\n",
       "    .dataframe tbody tr th {\n",
       "        vertical-align: top;\n",
       "    }\n",
       "\n",
       "    .dataframe thead th {\n",
       "        text-align: right;\n",
       "    }\n",
       "</style>\n",
       "<table border=\"1\" class=\"dataframe\">\n",
       "  <thead>\n",
       "    <tr style=\"text-align: right;\">\n",
       "      <th></th>\n",
       "      <th>domain</th>\n",
       "      <th>description</th>\n",
       "      <th>recordCount</th>\n",
       "      <th>seriesCount</th>\n",
       "      <th>stationCount</th>\n",
       "      <th>earliestRecord</th>\n",
       "      <th>latestRecord</th>\n",
       "    </tr>\n",
       "  </thead>\n",
       "  <tbody>\n",
       "    <tr>\n",
       "      <th>coastal</th>\n",
       "      <td>coastal</td>\n",
       "      <td>Coastal Tsunami Gauge Network</td>\n",
       "      <td>75405608</td>\n",
       "      <td>73</td>\n",
       "      <td>19</td>\n",
       "      <td>2022-10-30T22:40:15Z</td>\n",
       "      <td>2023-05-01T14:59:45Z</td>\n",
       "    </tr>\n",
       "    <tr>\n",
       "      <th>dart</th>\n",
       "      <td>dart</td>\n",
       "      <td>Deep-ocean Assessment and Reporting of Tsunami</td>\n",
       "      <td>125752630</td>\n",
       "      <td>116</td>\n",
       "      <td>12</td>\n",
       "      <td>2019-12-13T00:00:00Z</td>\n",
       "      <td>2023-05-01T12:00:00Z</td>\n",
       "    </tr>\n",
       "    <tr>\n",
       "      <th>envirosensor</th>\n",
       "      <td>envirosensor</td>\n",
       "      <td>Environmental Sensors</td>\n",
       "      <td>14412033</td>\n",
       "      <td>237</td>\n",
       "      <td>18</td>\n",
       "      <td>2018-08-10T01:40:00Z</td>\n",
       "      <td>2023-05-01T14:50:00Z</td>\n",
       "    </tr>\n",
       "  </tbody>\n",
       "</table>\n",
       "</div>"
      ],
      "text/plain": [
       "                    domain                                     description  \\\n",
       "coastal            coastal                   Coastal Tsunami Gauge Network   \n",
       "dart                  dart  Deep-ocean Assessment and Reporting of Tsunami   \n",
       "envirosensor  envirosensor                           Environmental Sensors   \n",
       "\n",
       "              recordCount  seriesCount  stationCount        earliestRecord  \\\n",
       "coastal          75405608           73            19  2022-10-30T22:40:15Z   \n",
       "dart            125752630          116            12  2019-12-13T00:00:00Z   \n",
       "envirosensor     14412033          237            18  2018-08-10T01:40:00Z   \n",
       "\n",
       "                      latestRecord  \n",
       "coastal       2023-05-01T14:59:45Z  \n",
       "dart          2023-05-01T12:00:00Z  \n",
       "envirosensor  2023-05-01T14:50:00Z  "
      ]
     },
     "execution_count": 9,
     "metadata": {},
     "output_type": "execute_result"
    }
   ],
   "source": [
    "df = pd.DataFrame.from_dict(data=domains, orient='index')\n",
    "df"
   ]
  },
  {
   "cell_type": "markdown",
   "id": "prerequisite-rough",
   "metadata": {},
   "source": [
    "## &nbsp;2. Building a Tilde Query with a specific domain\n",
    "\n",
    "This query returns information about the specific data domains provided. <br> \n",
    "The query is `https://tilde.geonet.org.nz/v3/dataSummary/[domain]`. For this example we will continue to use the dart domain."
   ]
  },
  {
   "cell_type": "markdown",
   "id": "solved-columbus",
   "metadata": {
    "tags": []
   },
   "source": [
    "######  Exploring summary for the dart domain\n",
    "<br>\n",
    "Following the same steps as above but specifying 'dart' domain after 'dataSummary'"
   ]
  },
  {
   "cell_type": "code",
   "execution_count": 10,
   "id": "loved-civilization",
   "metadata": {},
   "outputs": [],
   "source": [
    "mydomain='dart'\n",
    "url = 'https://tilde.geonet.org.nz/v3/dataSummary/'+mydomain\n",
    "r = requests.get(url)\n",
    "summary = r.json()"
   ]
  },
  {
   "cell_type": "markdown",
   "id": "sealed-interface",
   "metadata": {},
   "source": [
    "#### Find available data methods, specifically for DART `water-height` data\n",
    "For the DART data there are two sampling rates for water-height, 15 minutes (15m) and 15 seconds (15s). There is also raw data which are collected from a DART station only when it is serviced."
   ]
  },
  {
   "cell_type": "markdown",
   "id": "cultural-consultation",
   "metadata": {},
   "source": [
    "**Dig down to the specific key for data methods**\n",
    "<br>\n",
    "This shows the different data methods that are within the summary file for water-height data. We can see the number of records, earliest and latest record, number of stations collecting data, etc."
   ]
  },
  {
   "cell_type": "code",
   "execution_count": 11,
   "id": "junior-border",
   "metadata": {
    "tags": []
   },
   "outputs": [
    {
     "data": {
      "text/plain": [
       "{'15m': {'method': '15m',\n",
       "  'aspects': {'nil': {'aspect': 'nil',\n",
       "    'recordCount': 882637,\n",
       "    'stationCount': 12,\n",
       "    'earliestRecord': '2019-12-13T02:15:00Z',\n",
       "    'latestRecord': '2023-05-01T12:00:00Z'}}},\n",
       " '15s': {'method': '15s',\n",
       "  'aspects': {'nil': {'aspect': 'nil',\n",
       "    'recordCount': 243087,\n",
       "    'stationCount': 12,\n",
       "    'earliestRecord': '2020-03-14T10:00:00Z',\n",
       "    'latestRecord': '2023-04-29T13:59:45Z'}}},\n",
       " 'raw': {'method': 'raw',\n",
       "  'aspects': {'nil': {'aspect': 'nil',\n",
       "    'recordCount': 30875281,\n",
       "    'stationCount': 8,\n",
       "    'earliestRecord': '2019-12-13T00:00:00Z',\n",
       "    'latestRecord': '2022-08-14T22:59:45Z'}}}}"
      ]
     },
     "execution_count": 11,
     "metadata": {},
     "output_type": "execute_result"
    }
   ],
   "source": [
    "datatypes = summary['domain']['dart']['names']['water-height']['methods']\n",
    "datatypes"
   ]
  },
  {
   "cell_type": "markdown",
   "id": "bored-magnet",
   "metadata": {},
   "source": [
    "## &nbsp;3. Find station locations and display on a map\n",
    "<BR> For this we'll use the coastal tsunami gauge data."
   ]
  },
  {
   "cell_type": "markdown",
   "id": "trying-latin",
   "metadata": {},
   "source": [
    "**Access Method 1 - Using the specific key for station metadata**"
   ]
  },
  {
   "cell_type": "code",
   "execution_count": 12,
   "id": "a8c93051-2074-40da-9b6e-487a93b115fc",
   "metadata": {},
   "outputs": [],
   "source": [
    "mydomain='coastal'\n",
    "url = 'https://tilde.geonet.org.nz/v3/dataSummary/'+mydomain\n",
    "r = requests.get(url)\n",
    "summary = r.json()"
   ]
  },
  {
   "cell_type": "code",
   "execution_count": 13,
   "id": "fabulous-seattle",
   "metadata": {},
   "outputs": [],
   "source": [
    "stations = summary['domain']['coastal']['stations']"
   ]
  },
  {
   "cell_type": "markdown",
   "id": "german-click",
   "metadata": {},
   "source": [
    "Using stations.items we can specify what variables we are after, e.g. station, latitude, longitude and then print these. The key used is also the station. "
   ]
  },
  {
   "cell_type": "code",
   "execution_count": 14,
   "id": "north-associate",
   "metadata": {},
   "outputs": [
    {
     "name": "stdout",
     "output_type": "stream",
     "text": [
      "AUCT AUCT -36.8314 174.7865\n",
      "CHIT CHIT -44.024 -176.3675\n",
      "CHST CHST -41.903 171.4341\n",
      "CPIT CPIT -40.8993 176.2317\n",
      "GBIT GBIT -36.189 175.4889\n",
      "GIST GIST -38.6754 178.0229\n",
      "HRMT HRMT -38.8129 175.9963\n",
      "KAIT KAIT -42.4129 173.7028\n",
      "LOTT LOTT -37.5504 178.159\n",
      "MNKT MNKT -37.0466 174.5117\n",
      "NAPT NAPT -39.4757 176.9201\n",
      "NBRT NBRT -43.506 172.735\n",
      "NCPT NCPT -34.4148 173.0487\n",
      "OTAT OTAT -45.8143 170.6294\n",
      "PUYT PUYT -46.0848 166.5894\n",
      "RBCT RBCT -29.28 -177.8944\n",
      "RFRT RFRT -29.2511 -177.9038\n",
      "TAUT TAUT -37.6411 176.1812\n",
      "WLGT WLGT -41.2845 174.7799\n"
     ]
    }
   ],
   "source": [
    "for key,val in stations.items():\n",
    "    print (key, val['station'], val['latitude'], val['longitude'])"
   ]
  },
  {
   "cell_type": "markdown",
   "id": "failing-timothy",
   "metadata": {},
   "source": [
    "**Access Method 2 - Direct to a Pandas dataframe**\n",
    "<br>\n",
    "For easier reading we can make this information into a pandas dataframe where we are only focusing on station, latitude, and longitude. Which we can specify using `columns=[]`. So the station becomes the dataframe index and the other keys the column names. "
   ]
  },
  {
   "cell_type": "code",
   "execution_count": 15,
   "id": "aquatic-ambassador",
   "metadata": {},
   "outputs": [
    {
     "data": {
      "text/html": [
       "<div>\n",
       "<style scoped>\n",
       "    .dataframe tbody tr th:only-of-type {\n",
       "        vertical-align: middle;\n",
       "    }\n",
       "\n",
       "    .dataframe tbody tr th {\n",
       "        vertical-align: top;\n",
       "    }\n",
       "\n",
       "    .dataframe thead th {\n",
       "        text-align: right;\n",
       "    }\n",
       "</style>\n",
       "<table border=\"1\" class=\"dataframe\">\n",
       "  <thead>\n",
       "    <tr style=\"text-align: right;\">\n",
       "      <th></th>\n",
       "      <th>station</th>\n",
       "      <th>latitude</th>\n",
       "      <th>longitude</th>\n",
       "    </tr>\n",
       "  </thead>\n",
       "  <tbody>\n",
       "    <tr>\n",
       "      <th>AUCT</th>\n",
       "      <td>AUCT</td>\n",
       "      <td>-36.8314</td>\n",
       "      <td>174.7865</td>\n",
       "    </tr>\n",
       "    <tr>\n",
       "      <th>CHIT</th>\n",
       "      <td>CHIT</td>\n",
       "      <td>-44.0240</td>\n",
       "      <td>-176.3675</td>\n",
       "    </tr>\n",
       "    <tr>\n",
       "      <th>CHST</th>\n",
       "      <td>CHST</td>\n",
       "      <td>-41.9030</td>\n",
       "      <td>171.4341</td>\n",
       "    </tr>\n",
       "    <tr>\n",
       "      <th>CPIT</th>\n",
       "      <td>CPIT</td>\n",
       "      <td>-40.8993</td>\n",
       "      <td>176.2317</td>\n",
       "    </tr>\n",
       "    <tr>\n",
       "      <th>GBIT</th>\n",
       "      <td>GBIT</td>\n",
       "      <td>-36.1890</td>\n",
       "      <td>175.4889</td>\n",
       "    </tr>\n",
       "    <tr>\n",
       "      <th>GIST</th>\n",
       "      <td>GIST</td>\n",
       "      <td>-38.6754</td>\n",
       "      <td>178.0229</td>\n",
       "    </tr>\n",
       "    <tr>\n",
       "      <th>HRMT</th>\n",
       "      <td>HRMT</td>\n",
       "      <td>-38.8129</td>\n",
       "      <td>175.9963</td>\n",
       "    </tr>\n",
       "    <tr>\n",
       "      <th>KAIT</th>\n",
       "      <td>KAIT</td>\n",
       "      <td>-42.4129</td>\n",
       "      <td>173.7028</td>\n",
       "    </tr>\n",
       "    <tr>\n",
       "      <th>LOTT</th>\n",
       "      <td>LOTT</td>\n",
       "      <td>-37.5504</td>\n",
       "      <td>178.1590</td>\n",
       "    </tr>\n",
       "    <tr>\n",
       "      <th>MNKT</th>\n",
       "      <td>MNKT</td>\n",
       "      <td>-37.0466</td>\n",
       "      <td>174.5117</td>\n",
       "    </tr>\n",
       "    <tr>\n",
       "      <th>NAPT</th>\n",
       "      <td>NAPT</td>\n",
       "      <td>-39.4757</td>\n",
       "      <td>176.9201</td>\n",
       "    </tr>\n",
       "    <tr>\n",
       "      <th>NBRT</th>\n",
       "      <td>NBRT</td>\n",
       "      <td>-43.5060</td>\n",
       "      <td>172.7350</td>\n",
       "    </tr>\n",
       "    <tr>\n",
       "      <th>NCPT</th>\n",
       "      <td>NCPT</td>\n",
       "      <td>-34.4148</td>\n",
       "      <td>173.0487</td>\n",
       "    </tr>\n",
       "    <tr>\n",
       "      <th>OTAT</th>\n",
       "      <td>OTAT</td>\n",
       "      <td>-45.8143</td>\n",
       "      <td>170.6294</td>\n",
       "    </tr>\n",
       "    <tr>\n",
       "      <th>PUYT</th>\n",
       "      <td>PUYT</td>\n",
       "      <td>-46.0848</td>\n",
       "      <td>166.5894</td>\n",
       "    </tr>\n",
       "    <tr>\n",
       "      <th>RBCT</th>\n",
       "      <td>RBCT</td>\n",
       "      <td>-29.2800</td>\n",
       "      <td>-177.8944</td>\n",
       "    </tr>\n",
       "    <tr>\n",
       "      <th>RFRT</th>\n",
       "      <td>RFRT</td>\n",
       "      <td>-29.2511</td>\n",
       "      <td>-177.9038</td>\n",
       "    </tr>\n",
       "    <tr>\n",
       "      <th>TAUT</th>\n",
       "      <td>TAUT</td>\n",
       "      <td>-37.6411</td>\n",
       "      <td>176.1812</td>\n",
       "    </tr>\n",
       "    <tr>\n",
       "      <th>WLGT</th>\n",
       "      <td>WLGT</td>\n",
       "      <td>-41.2845</td>\n",
       "      <td>174.7799</td>\n",
       "    </tr>\n",
       "  </tbody>\n",
       "</table>\n",
       "</div>"
      ],
      "text/plain": [
       "     station  latitude  longitude\n",
       "AUCT    AUCT  -36.8314   174.7865\n",
       "CHIT    CHIT  -44.0240  -176.3675\n",
       "CHST    CHST  -41.9030   171.4341\n",
       "CPIT    CPIT  -40.8993   176.2317\n",
       "GBIT    GBIT  -36.1890   175.4889\n",
       "GIST    GIST  -38.6754   178.0229\n",
       "HRMT    HRMT  -38.8129   175.9963\n",
       "KAIT    KAIT  -42.4129   173.7028\n",
       "LOTT    LOTT  -37.5504   178.1590\n",
       "MNKT    MNKT  -37.0466   174.5117\n",
       "NAPT    NAPT  -39.4757   176.9201\n",
       "NBRT    NBRT  -43.5060   172.7350\n",
       "NCPT    NCPT  -34.4148   173.0487\n",
       "OTAT    OTAT  -45.8143   170.6294\n",
       "PUYT    PUYT  -46.0848   166.5894\n",
       "RBCT    RBCT  -29.2800  -177.8944\n",
       "RFRT    RFRT  -29.2511  -177.9038\n",
       "TAUT    TAUT  -37.6411   176.1812\n",
       "WLGT    WLGT  -41.2845   174.7799"
      ]
     },
     "execution_count": 15,
     "metadata": {},
     "output_type": "execute_result"
    }
   ],
   "source": [
    "df = pd.DataFrame.from_dict(data=stations, orient='index', columns=['station', 'latitude', 'longitude'])\n",
    "df"
   ]
  },
  {
   "cell_type": "markdown",
   "id": "exceptional-routine",
   "metadata": {},
   "source": [
    "**Map the positions, using the dataframe as the data source**\n",
    "<br>\n",
    "Using cartopy https://scitools.org.uk/cartopy/docs/latest/index.html and matplotlib we can then generate a map of the stations using the values (station, latitude and longitude) from the pandas dataframe `df` that we generated in the step above. Using the station variable we can also plot the names next to the stations using `ax.text`. "
   ]
  },
  {
   "cell_type": "code",
   "execution_count": 112,
   "id": "freelance-sculpture",
   "metadata": {},
   "outputs": [
    {
     "data": {
      "image/png": "[encoded data removed]",
      "text/plain": [
       "<Figure size 500x500 with 1 Axes>"
      ]
     },
     "metadata": {},
     "output_type": "display_data"
    }
   ],
   "source": [
    "fig = plt.figure(figsize=(5,5))\n",
    "ax = fig.add_subplot(1, 1, 1, projection=ccrs.PlateCarree(central_longitude=180))\n",
    "ax.set_extent([165, 185, -50, -28], crs=ccrs.PlateCarree())\n",
    "\n",
    "# Put a background image on for nice sea rendering.\n",
    "ax.stock_img()\n",
    "\n",
    "ax.add_feature(cfeature.LAND)\n",
    "ax.add_feature(cfeature.COASTLINE)\n",
    "\n",
    "xx = df['longitude'].values\n",
    "yy = df['latitude'].values\n",
    "names = df['station'].values\n",
    "ax.plot(xx, yy, color='navy', marker='v', linestyle='None', transform=ccrs.Geodetic())\n",
    "\n",
    "geodetic_transform = ccrs.Geodetic()._as_mpl_transform(ax)\n",
    "text_transform = offset_copy(geodetic_transform, units='dots', y=-10)\n",
    "\n",
    "for x, y, n in zip(xx, yy, names):\n",
    "    ax.text(x, y, n, fontsize=8, verticalalignment='center', horizontalalignment='center', transform=text_transform)\n",
    "             "
   ]
  },
  {
   "cell_type": "markdown",
   "id": "e4041791-b2c5-407a-9065-e892f4728774",
   "metadata": {},
   "source": [
    "## &nbsp;4. Station data and data plots"
   ]
  },
  {
   "cell_type": "markdown",
   "id": "46106dfa-3e4f-4bc2-866c-760ce416b768",
   "metadata": {},
   "source": [
    "We want to generate a dataframe that contains all the information summarising the data available at each station. For this example we'll use the `enivirosensor` domain."
   ]
  },
  {
   "cell_type": "code",
   "execution_count": 16,
   "id": "a28379e9-bcd7-4ddb-87fe-c1b451d9e89f",
   "metadata": {},
   "outputs": [],
   "source": [
    "mydomain = 'envirosensor'\n",
    "url = 'https://tilde.geonet.org.nz/v3/dataSummary/'+mydomain\n",
    "r = requests.get(url)\n",
    "summary = r.json()"
   ]
  },
  {
   "cell_type": "markdown",
   "id": "aa49e35f-5656-4a9d-8489-1e10f8b07bc9",
   "metadata": {},
   "source": [
    "Each station in the envirosensor domain provides several data series, and virtually no two stations are alike. This makes for a long, complex data summary. And the JSON format doesn't make it easy to read. It will be very useful if we can list each of the stations and exactly what data streams are in each record in a table-like format. We'll make a pandas dataframe for this.\n",
    "\n",
    "We do this with a function and then call it with the output going to a dataframe."
   ]
  },
  {
   "cell_type": "code",
   "execution_count": 17,
   "id": "13f11d5b-2532-400e-aafc-83cb6d49d730",
   "metadata": {},
   "outputs": [],
   "source": [
    "def station_data(summary, domain):\n",
    "    #dataframe for results\n",
    "    df = pd.DataFrame()\n",
    "    \n",
    "    #select just station part of dictionary\n",
    "    stations = summary['domain'][domain]['stations']\n",
    "\n",
    "    #get list of stations\n",
    "    # print ('##Station locations##')\n",
    "    stationlist = []\n",
    "    reccount = 0\n",
    "    for key,val in stations.items():\n",
    "        stationlist.append(key)\n",
    "        # print (key, val['station_name'], val['latitude'], val['longitude'])\n",
    "\n",
    "    #with each station, get the location information, and the sensor_codes part of the dictionary\n",
    "    # print('\\n')\n",
    "    # print ('##Station details##')\n",
    "    for sta in stationlist:\n",
    "        # print ('##'+sta+'##')\n",
    "        latitude = stations[sta].get('latitude')\n",
    "        longitude = stations[sta].get('longitude')\n",
    "        sensorcodes = stations[sta]['sensorCodes']\n",
    "        # print (sensorcodes)\n",
    "\n",
    "        codelist = []\n",
    "        for key,val in sensorcodes.items():\n",
    "            codelist.append(key)\n",
    "            # print ('sensor code = ', val['sensor_code'])\n",
    "            \n",
    "        #get the names part\n",
    "        for code in codelist:\n",
    "            # print ('code=',code)\n",
    "            names = sensorcodes[code]['names']\n",
    "\n",
    "            namelist = []\n",
    "            for key,val in names.items():\n",
    "                namelist.append(key)\n",
    "                # print (sta, code, val['measure_name'])\n",
    "\n",
    "            #get the methods part    \n",
    "            for name in namelist:\n",
    "                # print ('name='+name)\n",
    "                methods = names[name]['methods']\n",
    "\n",
    "                methodlist = []\n",
    "                for key,val in methods.items():\n",
    "                    methodlist.append(key)\n",
    "                    \n",
    "                #get the aspects part    \n",
    "                for method in methodlist:\n",
    "                    # print ('method=', method)\n",
    "                    aspects  = methods[method]['aspects']\n",
    "\n",
    "                    aspectlist = []\n",
    "                    for key,val in aspects.items():\n",
    "                        aspectlist.append(key)\n",
    "                        # print (sta, code, name, method, val['aspect'])\n",
    "                        \n",
    "                        #get the record data\n",
    "                        for aspect in aspectlist:\n",
    "                                # print ('aspect=', aspect)\n",
    "                                records = aspects[aspect]\n",
    "                                recordcount = records.get('recordCount')\n",
    "                                earliestrecord = records.get('earliestRecord')\n",
    "                                latestrecord = records.get('latestRecord')\n",
    "                                # print (recordcount, earliestrecord, latestrecord)\n",
    "                                            \n",
    "                                #dictionary containing the various data\n",
    "                                dic = {'station':sta, 'latitude':latitude, 'longitude':longitude, 'sensor_code':code, 'data_name':name, 'data_method':method, 'aspect':aspect, 'record_count':recordcount, 'earliestrecord':earliestrecord, 'latestrecord':latestrecord}\n",
    "                                #make a temprary dataframe from the dictionary\n",
    "                                tempdf = pd.DataFrame(dic, index=[reccount])\n",
    "                                #df = df.append(d, ignore_index=True)\n",
    "                                #concatenate with dataframe containing site information\n",
    "                                df = pd.concat([df, tempdf])\n",
    "                                reccount +=1\n",
    "\n",
    "    df['earliestrecord'] = pd.to_datetime(df['earliestrecord'])\n",
    "    df['latestrecord'] = pd.to_datetime(df['latestrecord'])\n",
    "    return(df)"
   ]
  },
  {
   "cell_type": "code",
   "execution_count": 18,
   "id": "d90b6544-8148-40dd-8062-e2015b300314",
   "metadata": {},
   "outputs": [],
   "source": [
    "#call function to get main station data, supply the domain name\n",
    "station_data = station_data(summary, mydomain)"
   ]
  },
  {
   "cell_type": "markdown",
   "id": "643f6c87-0b90-445e-8e12-5a98e9fdaade",
   "metadata": {},
   "source": [
    "#### Use the dataframe of station record data and visualize this in different ways"
   ]
  },
  {
   "cell_type": "markdown",
   "id": "fb53c1e7-8c6d-480f-864c-7a99dd159140",
   "metadata": {},
   "source": [
    "Use `station_data.head()` to see only the first few lines. If we used `station_data.tail()` we can see the last few lines. "
   ]
  },
  {
   "cell_type": "code",
   "execution_count": 19,
   "id": "b4a25a56-49ad-4f8e-a4db-85c98d6d26e0",
   "metadata": {},
   "outputs": [
    {
     "data": {
      "text/html": [
       "<div>\n",
       "<style scoped>\n",
       "    .dataframe tbody tr th:only-of-type {\n",
       "        vertical-align: middle;\n",
       "    }\n",
       "\n",
       "    .dataframe tbody tr th {\n",
       "        vertical-align: top;\n",
       "    }\n",
       "\n",
       "    .dataframe thead th {\n",
       "        text-align: right;\n",
       "    }\n",
       "</style>\n",
       "<table border=\"1\" class=\"dataframe\">\n",
       "  <thead>\n",
       "    <tr style=\"text-align: right;\">\n",
       "      <th></th>\n",
       "      <th>station</th>\n",
       "      <th>latitude</th>\n",
       "      <th>longitude</th>\n",
       "      <th>sensor_code</th>\n",
       "      <th>data_name</th>\n",
       "      <th>data_method</th>\n",
       "      <th>aspect</th>\n",
       "      <th>record_count</th>\n",
       "      <th>earliestrecord</th>\n",
       "      <th>latestrecord</th>\n",
       "    </tr>\n",
       "  </thead>\n",
       "  <tbody>\n",
       "    <tr>\n",
       "      <th>0</th>\n",
       "      <td>ALS1R</td>\n",
       "      <td>-36.9328</td>\n",
       "      <td>174.5764</td>\n",
       "      <td>01</td>\n",
       "      <td>total-rainfall</td>\n",
       "      <td>tot</td>\n",
       "      <td>nil</td>\n",
       "      <td>9587</td>\n",
       "      <td>2023-02-24 01:10:00+00:00</td>\n",
       "      <td>2023-05-01 14:50:00+00:00</td>\n",
       "    </tr>\n",
       "    <tr>\n",
       "      <th>1</th>\n",
       "      <td>ALS1R</td>\n",
       "      <td>-36.9328</td>\n",
       "      <td>174.5764</td>\n",
       "      <td>02</td>\n",
       "      <td>total-rainfall</td>\n",
       "      <td>tot</td>\n",
       "      <td>nil</td>\n",
       "      <td>9587</td>\n",
       "      <td>2023-02-24 01:10:00+00:00</td>\n",
       "      <td>2023-05-01 14:50:00+00:00</td>\n",
       "    </tr>\n",
       "    <tr>\n",
       "      <th>2</th>\n",
       "      <td>ALS2R</td>\n",
       "      <td>-36.9598</td>\n",
       "      <td>174.4718</td>\n",
       "      <td>01</td>\n",
       "      <td>total-rainfall</td>\n",
       "      <td>tot</td>\n",
       "      <td>nil</td>\n",
       "      <td>9714</td>\n",
       "      <td>2023-02-23 04:00:00+00:00</td>\n",
       "      <td>2023-05-01 14:50:00+00:00</td>\n",
       "    </tr>\n",
       "    <tr>\n",
       "      <th>3</th>\n",
       "      <td>ALS2R</td>\n",
       "      <td>-36.9598</td>\n",
       "      <td>174.4718</td>\n",
       "      <td>02</td>\n",
       "      <td>total-rainfall</td>\n",
       "      <td>tot</td>\n",
       "      <td>nil</td>\n",
       "      <td>9714</td>\n",
       "      <td>2023-02-23 04:00:00+00:00</td>\n",
       "      <td>2023-05-01 14:50:00+00:00</td>\n",
       "    </tr>\n",
       "    <tr>\n",
       "      <th>4</th>\n",
       "      <td>FOXAG</td>\n",
       "      <td>-43.5181</td>\n",
       "      <td>170.0490</td>\n",
       "      <td>01</td>\n",
       "      <td>total-rainfall</td>\n",
       "      <td>tot</td>\n",
       "      <td>nil</td>\n",
       "      <td>196547</td>\n",
       "      <td>2019-02-06 01:10:00+00:00</td>\n",
       "      <td>2023-05-01 14:50:00+00:00</td>\n",
       "    </tr>\n",
       "  </tbody>\n",
       "</table>\n",
       "</div>"
      ],
      "text/plain": [
       "  station  latitude  longitude sensor_code       data_name data_method aspect  \\\n",
       "0   ALS1R  -36.9328   174.5764          01  total-rainfall         tot    nil   \n",
       "1   ALS1R  -36.9328   174.5764          02  total-rainfall         tot    nil   \n",
       "2   ALS2R  -36.9598   174.4718          01  total-rainfall         tot    nil   \n",
       "3   ALS2R  -36.9598   174.4718          02  total-rainfall         tot    nil   \n",
       "4   FOXAG  -43.5181   170.0490          01  total-rainfall         tot    nil   \n",
       "\n",
       "   record_count            earliestrecord              latestrecord  \n",
       "0          9587 2023-02-24 01:10:00+00:00 2023-05-01 14:50:00+00:00  \n",
       "1          9587 2023-02-24 01:10:00+00:00 2023-05-01 14:50:00+00:00  \n",
       "2          9714 2023-02-23 04:00:00+00:00 2023-05-01 14:50:00+00:00  \n",
       "3          9714 2023-02-23 04:00:00+00:00 2023-05-01 14:50:00+00:00  \n",
       "4        196547 2019-02-06 01:10:00+00:00 2023-05-01 14:50:00+00:00  "
      ]
     },
     "execution_count": 19,
     "metadata": {},
     "output_type": "execute_result"
    }
   ],
   "source": [
    "station_data.head()"
   ]
  },
  {
   "cell_type": "markdown",
   "id": "bc83bd23-8c9d-4642-9685-6651d0c406fd",
   "metadata": {},
   "source": [
    "**Record count by station and sensor code**\n",
    "<br>\n",
    "By using `pd.pivot_table` we can transform the above table, so we can look at record_counts for each sensor_code at each station. The sensor_code is the number assigned to each physical sensor at a station. Not all stations have the same number of sensors, so at some stations the record_count will not be defined for some sensor_codes, and will be shown as `NaN`."
   ]
  },
  {
   "cell_type": "code",
   "execution_count": 20,
   "id": "6bee3040-268e-4557-9359-2551b6f83fe3",
   "metadata": {},
   "outputs": [
    {
     "data": {
      "text/html": [
       "<div>\n",
       "<style scoped>\n",
       "    .dataframe tbody tr th:only-of-type {\n",
       "        vertical-align: middle;\n",
       "    }\n",
       "\n",
       "    .dataframe tbody tr th {\n",
       "        vertical-align: top;\n",
       "    }\n",
       "\n",
       "    .dataframe thead tr th {\n",
       "        text-align: left;\n",
       "    }\n",
       "\n",
       "    .dataframe thead tr:last-of-type th {\n",
       "        text-align: right;\n",
       "    }\n",
       "</style>\n",
       "<table border=\"1\" class=\"dataframe\">\n",
       "  <thead>\n",
       "    <tr>\n",
       "      <th></th>\n",
       "      <th colspan=\"11\" halign=\"left\">record_count</th>\n",
       "    </tr>\n",
       "    <tr>\n",
       "      <th>sensor_code</th>\n",
       "      <th>01</th>\n",
       "      <th>02</th>\n",
       "      <th>03</th>\n",
       "      <th>04</th>\n",
       "      <th>05</th>\n",
       "      <th>06</th>\n",
       "      <th>07</th>\n",
       "      <th>08</th>\n",
       "      <th>09</th>\n",
       "      <th>10</th>\n",
       "      <th>11</th>\n",
       "    </tr>\n",
       "    <tr>\n",
       "      <th>station</th>\n",
       "      <th></th>\n",
       "      <th></th>\n",
       "      <th></th>\n",
       "      <th></th>\n",
       "      <th></th>\n",
       "      <th></th>\n",
       "      <th></th>\n",
       "      <th></th>\n",
       "      <th></th>\n",
       "      <th></th>\n",
       "      <th></th>\n",
       "    </tr>\n",
       "  </thead>\n",
       "  <tbody>\n",
       "    <tr>\n",
       "      <th>ALS1R</th>\n",
       "      <td>9587.0</td>\n",
       "      <td>9587.0</td>\n",
       "      <td>NaN</td>\n",
       "      <td>NaN</td>\n",
       "      <td>NaN</td>\n",
       "      <td>NaN</td>\n",
       "      <td>NaN</td>\n",
       "      <td>NaN</td>\n",
       "      <td>NaN</td>\n",
       "      <td>NaN</td>\n",
       "      <td>NaN</td>\n",
       "    </tr>\n",
       "    <tr>\n",
       "      <th>ALS2R</th>\n",
       "      <td>9714.0</td>\n",
       "      <td>9714.0</td>\n",
       "      <td>NaN</td>\n",
       "      <td>NaN</td>\n",
       "      <td>NaN</td>\n",
       "      <td>NaN</td>\n",
       "      <td>NaN</td>\n",
       "      <td>NaN</td>\n",
       "      <td>NaN</td>\n",
       "      <td>NaN</td>\n",
       "      <td>NaN</td>\n",
       "    </tr>\n",
       "    <tr>\n",
       "      <th>FOXAG</th>\n",
       "      <td>196547.0</td>\n",
       "      <td>196510.0</td>\n",
       "      <td>87716.685185</td>\n",
       "      <td>87716.111111</td>\n",
       "      <td>87717.0</td>\n",
       "      <td>NaN</td>\n",
       "      <td>NaN</td>\n",
       "      <td>NaN</td>\n",
       "      <td>NaN</td>\n",
       "      <td>NaN</td>\n",
       "      <td>NaN</td>\n",
       "    </tr>\n",
       "    <tr>\n",
       "      <th>FOXKP</th>\n",
       "      <td>30006.0</td>\n",
       "      <td>NaN</td>\n",
       "      <td>30006.000000</td>\n",
       "      <td>30006.000000</td>\n",
       "      <td>30006.0</td>\n",
       "      <td>11784.0</td>\n",
       "      <td>NaN</td>\n",
       "      <td>NaN</td>\n",
       "      <td>NaN</td>\n",
       "      <td>NaN</td>\n",
       "      <td>NaN</td>\n",
       "    </tr>\n",
       "    <tr>\n",
       "      <th>FOXRB</th>\n",
       "      <td>30013.0</td>\n",
       "      <td>NaN</td>\n",
       "      <td>30013.000000</td>\n",
       "      <td>NaN</td>\n",
       "      <td>NaN</td>\n",
       "      <td>NaN</td>\n",
       "      <td>NaN</td>\n",
       "      <td>NaN</td>\n",
       "      <td>NaN</td>\n",
       "      <td>NaN</td>\n",
       "      <td>NaN</td>\n",
       "    </tr>\n",
       "  </tbody>\n",
       "</table>\n",
       "</div>"
      ],
      "text/plain": [
       "            record_count                                                 \\\n",
       "sensor_code           01        02            03            04       05   \n",
       "station                                                                   \n",
       "ALS1R             9587.0    9587.0           NaN           NaN      NaN   \n",
       "ALS2R             9714.0    9714.0           NaN           NaN      NaN   \n",
       "FOXAG           196547.0  196510.0  87716.685185  87716.111111  87717.0   \n",
       "FOXKP            30006.0       NaN  30006.000000  30006.000000  30006.0   \n",
       "FOXRB            30013.0       NaN  30013.000000           NaN      NaN   \n",
       "\n",
       "                                          \n",
       "sensor_code       06  07  08  09  10  11  \n",
       "station                                   \n",
       "ALS1R            NaN NaN NaN NaN NaN NaN  \n",
       "ALS2R            NaN NaN NaN NaN NaN NaN  \n",
       "FOXAG            NaN NaN NaN NaN NaN NaN  \n",
       "FOXKP        11784.0 NaN NaN NaN NaN NaN  \n",
       "FOXRB            NaN NaN NaN NaN NaN NaN  "
      ]
     },
     "execution_count": 20,
     "metadata": {},
     "output_type": "execute_result"
    }
   ],
   "source": [
    "rc = pd.pivot_table(station_data, index='station', values=['record_count'], columns='sensor_code')\n",
    "rc.head()"
   ]
  },
  {
   "cell_type": "markdown",
   "id": "83d8c409-2ecb-44a2-8612-4112ed0eb011",
   "metadata": {},
   "source": [
    "We can then plot this as a bar plot using a horizontal bar chart `plot.barh`. This allows us to show the number of records for each station. We don't expect to see the same number of records for each station, but we should, largely, see the same number for each sensor_code at a given station, unless an extra sensor has been added after the station was installed."
   ]
  },
  {
   "cell_type": "code",
   "execution_count": 21,
   "id": "cf029f27-c1b4-49b1-aeb5-423e43e0216b",
   "metadata": {},
   "outputs": [
    {
     "data": {
      "text/plain": [
       "Text(0.5, 1.0, 'Record count by sensor_code')"
      ]
     },
     "execution_count": 21,
     "metadata": {},
     "output_type": "execute_result"
    },
    {
     "data": {
      "image/png": "[encoded data removed]",
      "text/plain": [
       "<Figure size 720x360 with 1 Axes>"
      ]
     },
     "metadata": {
      "needs_background": "light"
     },
     "output_type": "display_data"
    }
   ],
   "source": [
    "ax = rc.plot.barh(figsize=(10,5))\n",
    "ax.set_ylabel('record count')\n",
    "ax.set_title('Record count by sensor_code')"
   ]
  },
  {
   "cell_type": "markdown",
   "id": "8cdb2207-7e6d-4107-9c95-90d69f9d19aa",
   "metadata": {},
   "source": [
    "**Creating a data time-range plot, for one station, split by sensor_code**"
   ]
  },
  {
   "cell_type": "markdown",
   "id": "da06986e-9558-48c0-833a-493ee714a758",
   "metadata": {},
   "source": [
    "Our intention is to show graphically the available data at one station, and to do that by sensor_code. There are too many stations to do that for all. Many stations collect data with more than one data_method, but these are all collected at the same time, so the number of `snapshot`, `min`, and `max` should always be the same. We'll therefore only display the data range for the `snapshot` data_method. So we first select only the records that have a`data_method` of `snapshot` and add then to a new dataframe called `snapshot`. <br>\n",
    "Creating a dataframe with a new column entry `stasen` which combines the station and sensor_code columns, this will produce a column with values such as NA002_01, OT013_02, TO006_01,...etc that we will subsequently use as y-axis labels. This step will give you a copy warning which you can usualy safely ignore. We can then sort by this column using `snapshot.sort_values` and specifying the 'stasen' column which we just generated. To view the output of this, add `snapsorted` or `snapsorted.head()` to a new line in the code cell below and run."
   ]
  },
  {
   "cell_type": "code",
   "execution_count": 22,
   "id": "0f0364b3-f1d9-4d6d-998e-e5bb4e4f6c1a",
   "metadata": {},
   "outputs": [],
   "source": [
    "TO003 = station_data[(station_data['data_method']=='snapshot') & (station_data['station']=='TO003')]"
   ]
  },
  {
   "cell_type": "code",
   "execution_count": 23,
   "id": "5559b8d8-1ad7-4fab-a1a1-0dc0c415d4cc",
   "metadata": {},
   "outputs": [
    {
     "name": "stderr",
     "output_type": "stream",
     "text": [
      "/tmp/ipykernel_34159/3264754779.py:1: SettingWithCopyWarning: \n",
      "A value is trying to be set on a copy of a slice from a DataFrame.\n",
      "Try using .loc[row_indexer,col_indexer] = value instead\n",
      "\n",
      "See the caveats in the documentation: https://pandas.pydata.org/pandas-docs/stable/user_guide/indexing.html#returning-a-view-versus-a-copy\n",
      "  TO003['stasen'] = TO003['station'] + '_' + TO003['sensor_code']\n"
     ]
    }
   ],
   "source": [
    "TO003['stasen'] = TO003['station'] + '_' + TO003['sensor_code']"
   ]
  },
  {
   "cell_type": "code",
   "execution_count": 24,
   "id": "a5ee5541-caee-442c-8edb-3ffda95199dd",
   "metadata": {},
   "outputs": [
    {
     "data": {
      "text/html": [
       "<div>\n",
       "<style scoped>\n",
       "    .dataframe tbody tr th:only-of-type {\n",
       "        vertical-align: middle;\n",
       "    }\n",
       "\n",
       "    .dataframe tbody tr th {\n",
       "        vertical-align: top;\n",
       "    }\n",
       "\n",
       "    .dataframe thead th {\n",
       "        text-align: right;\n",
       "    }\n",
       "</style>\n",
       "<table border=\"1\" class=\"dataframe\">\n",
       "  <thead>\n",
       "    <tr style=\"text-align: right;\">\n",
       "      <th></th>\n",
       "      <th>station</th>\n",
       "      <th>latitude</th>\n",
       "      <th>longitude</th>\n",
       "      <th>sensor_code</th>\n",
       "      <th>data_name</th>\n",
       "      <th>data_method</th>\n",
       "      <th>aspect</th>\n",
       "      <th>record_count</th>\n",
       "      <th>earliestrecord</th>\n",
       "      <th>latestrecord</th>\n",
       "      <th>stasen</th>\n",
       "    </tr>\n",
       "  </thead>\n",
       "  <tbody>\n",
       "    <tr>\n",
       "      <th>307</th>\n",
       "      <td>TO003</td>\n",
       "      <td>-39.1097</td>\n",
       "      <td>175.6721</td>\n",
       "      <td>01</td>\n",
       "      <td>air-temperature</td>\n",
       "      <td>snapshot</td>\n",
       "      <td>nil</td>\n",
       "      <td>99012</td>\n",
       "      <td>2021-05-28 04:00:00+00:00</td>\n",
       "      <td>2023-05-01 14:50:00+00:00</td>\n",
       "      <td>TO003_01</td>\n",
       "    </tr>\n",
       "    <tr>\n",
       "      <th>310</th>\n",
       "      <td>TO003</td>\n",
       "      <td>-39.1097</td>\n",
       "      <td>175.6721</td>\n",
       "      <td>02</td>\n",
       "      <td>fumarole-temperature</td>\n",
       "      <td>snapshot</td>\n",
       "      <td>nil</td>\n",
       "      <td>99012</td>\n",
       "      <td>2021-05-28 04:00:00+00:00</td>\n",
       "      <td>2023-05-01 14:50:00+00:00</td>\n",
       "      <td>TO003_02</td>\n",
       "    </tr>\n",
       "    <tr>\n",
       "      <th>313</th>\n",
       "      <td>TO003</td>\n",
       "      <td>-39.1097</td>\n",
       "      <td>175.6721</td>\n",
       "      <td>03</td>\n",
       "      <td>fumarole-temperature</td>\n",
       "      <td>snapshot</td>\n",
       "      <td>nil</td>\n",
       "      <td>99012</td>\n",
       "      <td>2021-05-28 04:00:00+00:00</td>\n",
       "      <td>2023-05-01 14:50:00+00:00</td>\n",
       "      <td>TO003_03</td>\n",
       "    </tr>\n",
       "    <tr>\n",
       "      <th>316</th>\n",
       "      <td>TO003</td>\n",
       "      <td>-39.1097</td>\n",
       "      <td>175.6721</td>\n",
       "      <td>04</td>\n",
       "      <td>fumarole-temperature</td>\n",
       "      <td>snapshot</td>\n",
       "      <td>nil</td>\n",
       "      <td>99012</td>\n",
       "      <td>2021-05-28 04:00:00+00:00</td>\n",
       "      <td>2023-05-01 14:50:00+00:00</td>\n",
       "      <td>TO003_04</td>\n",
       "    </tr>\n",
       "    <tr>\n",
       "      <th>319</th>\n",
       "      <td>TO003</td>\n",
       "      <td>-39.1097</td>\n",
       "      <td>175.6721</td>\n",
       "      <td>05</td>\n",
       "      <td>ground-temperature</td>\n",
       "      <td>snapshot</td>\n",
       "      <td>at-enclosure</td>\n",
       "      <td>43332</td>\n",
       "      <td>2022-06-28 01:00:00+00:00</td>\n",
       "      <td>2023-05-01 14:50:00+00:00</td>\n",
       "      <td>TO003_05</td>\n",
       "    </tr>\n",
       "    <tr>\n",
       "      <th>322</th>\n",
       "      <td>TO003</td>\n",
       "      <td>-39.1097</td>\n",
       "      <td>175.6721</td>\n",
       "      <td>06</td>\n",
       "      <td>ground-temperature</td>\n",
       "      <td>snapshot</td>\n",
       "      <td>20-m-north-of-enclosure</td>\n",
       "      <td>43332</td>\n",
       "      <td>2022-06-28 01:00:00+00:00</td>\n",
       "      <td>2023-05-01 14:50:00+00:00</td>\n",
       "      <td>TO003_06</td>\n",
       "    </tr>\n",
       "    <tr>\n",
       "      <th>325</th>\n",
       "      <td>TO003</td>\n",
       "      <td>-39.1097</td>\n",
       "      <td>175.6721</td>\n",
       "      <td>07</td>\n",
       "      <td>ground-temperature</td>\n",
       "      <td>snapshot</td>\n",
       "      <td>20-m-south-of-enclosure</td>\n",
       "      <td>43326</td>\n",
       "      <td>2022-06-28 01:00:00+00:00</td>\n",
       "      <td>2023-05-01 14:50:00+00:00</td>\n",
       "      <td>TO003_07</td>\n",
       "    </tr>\n",
       "    <tr>\n",
       "      <th>328</th>\n",
       "      <td>TO003</td>\n",
       "      <td>-39.1097</td>\n",
       "      <td>175.6721</td>\n",
       "      <td>08</td>\n",
       "      <td>ground-temperature</td>\n",
       "      <td>snapshot</td>\n",
       "      <td>40-m-south-of-enclosure</td>\n",
       "      <td>43332</td>\n",
       "      <td>2022-06-28 01:00:00+00:00</td>\n",
       "      <td>2023-05-01 14:50:00+00:00</td>\n",
       "      <td>TO003_08</td>\n",
       "    </tr>\n",
       "    <tr>\n",
       "      <th>331</th>\n",
       "      <td>TO003</td>\n",
       "      <td>-39.1097</td>\n",
       "      <td>175.6721</td>\n",
       "      <td>09</td>\n",
       "      <td>ground-selfpotential</td>\n",
       "      <td>snapshot</td>\n",
       "      <td>20-m-north-relative-to-enclosure</td>\n",
       "      <td>43332</td>\n",
       "      <td>2022-06-28 01:00:00+00:00</td>\n",
       "      <td>2023-05-01 14:50:00+00:00</td>\n",
       "      <td>TO003_09</td>\n",
       "    </tr>\n",
       "    <tr>\n",
       "      <th>334</th>\n",
       "      <td>TO003</td>\n",
       "      <td>-39.1097</td>\n",
       "      <td>175.6721</td>\n",
       "      <td>10</td>\n",
       "      <td>ground-selfpotential</td>\n",
       "      <td>snapshot</td>\n",
       "      <td>20-m-south-relative-to-enclosure</td>\n",
       "      <td>43332</td>\n",
       "      <td>2022-06-28 01:00:00+00:00</td>\n",
       "      <td>2023-05-01 14:50:00+00:00</td>\n",
       "      <td>TO003_10</td>\n",
       "    </tr>\n",
       "    <tr>\n",
       "      <th>337</th>\n",
       "      <td>TO003</td>\n",
       "      <td>-39.1097</td>\n",
       "      <td>175.6721</td>\n",
       "      <td>11</td>\n",
       "      <td>ground-selfpotential</td>\n",
       "      <td>snapshot</td>\n",
       "      <td>40-m-south-relative-to-enclosure</td>\n",
       "      <td>43332</td>\n",
       "      <td>2022-06-28 01:00:00+00:00</td>\n",
       "      <td>2023-05-01 14:50:00+00:00</td>\n",
       "      <td>TO003_11</td>\n",
       "    </tr>\n",
       "  </tbody>\n",
       "</table>\n",
       "</div>"
      ],
      "text/plain": [
       "    station  latitude  longitude sensor_code             data_name  \\\n",
       "307   TO003  -39.1097   175.6721          01       air-temperature   \n",
       "310   TO003  -39.1097   175.6721          02  fumarole-temperature   \n",
       "313   TO003  -39.1097   175.6721          03  fumarole-temperature   \n",
       "316   TO003  -39.1097   175.6721          04  fumarole-temperature   \n",
       "319   TO003  -39.1097   175.6721          05    ground-temperature   \n",
       "322   TO003  -39.1097   175.6721          06    ground-temperature   \n",
       "325   TO003  -39.1097   175.6721          07    ground-temperature   \n",
       "328   TO003  -39.1097   175.6721          08    ground-temperature   \n",
       "331   TO003  -39.1097   175.6721          09  ground-selfpotential   \n",
       "334   TO003  -39.1097   175.6721          10  ground-selfpotential   \n",
       "337   TO003  -39.1097   175.6721          11  ground-selfpotential   \n",
       "\n",
       "    data_method                            aspect  record_count  \\\n",
       "307    snapshot                               nil         99012   \n",
       "310    snapshot                               nil         99012   \n",
       "313    snapshot                               nil         99012   \n",
       "316    snapshot                               nil         99012   \n",
       "319    snapshot                      at-enclosure         43332   \n",
       "322    snapshot           20-m-north-of-enclosure         43332   \n",
       "325    snapshot           20-m-south-of-enclosure         43326   \n",
       "328    snapshot           40-m-south-of-enclosure         43332   \n",
       "331    snapshot  20-m-north-relative-to-enclosure         43332   \n",
       "334    snapshot  20-m-south-relative-to-enclosure         43332   \n",
       "337    snapshot  40-m-south-relative-to-enclosure         43332   \n",
       "\n",
       "               earliestrecord              latestrecord    stasen  \n",
       "307 2021-05-28 04:00:00+00:00 2023-05-01 14:50:00+00:00  TO003_01  \n",
       "310 2021-05-28 04:00:00+00:00 2023-05-01 14:50:00+00:00  TO003_02  \n",
       "313 2021-05-28 04:00:00+00:00 2023-05-01 14:50:00+00:00  TO003_03  \n",
       "316 2021-05-28 04:00:00+00:00 2023-05-01 14:50:00+00:00  TO003_04  \n",
       "319 2022-06-28 01:00:00+00:00 2023-05-01 14:50:00+00:00  TO003_05  \n",
       "322 2022-06-28 01:00:00+00:00 2023-05-01 14:50:00+00:00  TO003_06  \n",
       "325 2022-06-28 01:00:00+00:00 2023-05-01 14:50:00+00:00  TO003_07  \n",
       "328 2022-06-28 01:00:00+00:00 2023-05-01 14:50:00+00:00  TO003_08  \n",
       "331 2022-06-28 01:00:00+00:00 2023-05-01 14:50:00+00:00  TO003_09  \n",
       "334 2022-06-28 01:00:00+00:00 2023-05-01 14:50:00+00:00  TO003_10  \n",
       "337 2022-06-28 01:00:00+00:00 2023-05-01 14:50:00+00:00  TO003_11  "
      ]
     },
     "execution_count": 24,
     "metadata": {},
     "output_type": "execute_result"
    }
   ],
   "source": [
    "TO003"
   ]
  },
  {
   "cell_type": "markdown",
   "id": "45759ade-ce8f-4697-88e0-d2610a6082f3",
   "metadata": {},
   "source": [
    "We now want to make a new column called 'pos' that will be the position on the y-axis to plot the data range line."
   ]
  },
  {
   "cell_type": "code",
   "execution_count": 25,
   "id": "c6ab528a-645e-4b80-bd9f-2c764f45071c",
   "metadata": {},
   "outputs": [
    {
     "name": "stderr",
     "output_type": "stream",
     "text": [
      "/tmp/ipykernel_34159/622800220.py:1: SettingWithCopyWarning: \n",
      "A value is trying to be set on a copy of a slice from a DataFrame.\n",
      "Try using .loc[row_indexer,col_indexer] = value instead\n",
      "\n",
      "See the caveats in the documentation: https://pandas.pydata.org/pandas-docs/stable/user_guide/indexing.html#returning-a-view-versus-a-copy\n",
      "  TO003['pos'] = len(TO003) - np.arange(len(TO003))\n"
     ]
    }
   ],
   "source": [
    "TO003['pos'] = len(TO003) - np.arange(len(TO003))"
   ]
  },
  {
   "cell_type": "code",
   "execution_count": 26,
   "id": "7a05371c-d4dd-48a6-88e4-ce3aa2262f5e",
   "metadata": {},
   "outputs": [
    {
     "data": {
      "text/html": [
       "<div>\n",
       "<style scoped>\n",
       "    .dataframe tbody tr th:only-of-type {\n",
       "        vertical-align: middle;\n",
       "    }\n",
       "\n",
       "    .dataframe tbody tr th {\n",
       "        vertical-align: top;\n",
       "    }\n",
       "\n",
       "    .dataframe thead th {\n",
       "        text-align: right;\n",
       "    }\n",
       "</style>\n",
       "<table border=\"1\" class=\"dataframe\">\n",
       "  <thead>\n",
       "    <tr style=\"text-align: right;\">\n",
       "      <th></th>\n",
       "      <th>station</th>\n",
       "      <th>latitude</th>\n",
       "      <th>longitude</th>\n",
       "      <th>sensor_code</th>\n",
       "      <th>data_name</th>\n",
       "      <th>data_method</th>\n",
       "      <th>aspect</th>\n",
       "      <th>record_count</th>\n",
       "      <th>earliestrecord</th>\n",
       "      <th>latestrecord</th>\n",
       "      <th>stasen</th>\n",
       "      <th>pos</th>\n",
       "    </tr>\n",
       "  </thead>\n",
       "  <tbody>\n",
       "    <tr>\n",
       "      <th>307</th>\n",
       "      <td>TO003</td>\n",
       "      <td>-39.1097</td>\n",
       "      <td>175.6721</td>\n",
       "      <td>01</td>\n",
       "      <td>air-temperature</td>\n",
       "      <td>snapshot</td>\n",
       "      <td>nil</td>\n",
       "      <td>99012</td>\n",
       "      <td>2021-05-28 04:00:00+00:00</td>\n",
       "      <td>2023-05-01 14:50:00+00:00</td>\n",
       "      <td>TO003_01</td>\n",
       "      <td>11</td>\n",
       "    </tr>\n",
       "    <tr>\n",
       "      <th>310</th>\n",
       "      <td>TO003</td>\n",
       "      <td>-39.1097</td>\n",
       "      <td>175.6721</td>\n",
       "      <td>02</td>\n",
       "      <td>fumarole-temperature</td>\n",
       "      <td>snapshot</td>\n",
       "      <td>nil</td>\n",
       "      <td>99012</td>\n",
       "      <td>2021-05-28 04:00:00+00:00</td>\n",
       "      <td>2023-05-01 14:50:00+00:00</td>\n",
       "      <td>TO003_02</td>\n",
       "      <td>10</td>\n",
       "    </tr>\n",
       "    <tr>\n",
       "      <th>313</th>\n",
       "      <td>TO003</td>\n",
       "      <td>-39.1097</td>\n",
       "      <td>175.6721</td>\n",
       "      <td>03</td>\n",
       "      <td>fumarole-temperature</td>\n",
       "      <td>snapshot</td>\n",
       "      <td>nil</td>\n",
       "      <td>99012</td>\n",
       "      <td>2021-05-28 04:00:00+00:00</td>\n",
       "      <td>2023-05-01 14:50:00+00:00</td>\n",
       "      <td>TO003_03</td>\n",
       "      <td>9</td>\n",
       "    </tr>\n",
       "    <tr>\n",
       "      <th>316</th>\n",
       "      <td>TO003</td>\n",
       "      <td>-39.1097</td>\n",
       "      <td>175.6721</td>\n",
       "      <td>04</td>\n",
       "      <td>fumarole-temperature</td>\n",
       "      <td>snapshot</td>\n",
       "      <td>nil</td>\n",
       "      <td>99012</td>\n",
       "      <td>2021-05-28 04:00:00+00:00</td>\n",
       "      <td>2023-05-01 14:50:00+00:00</td>\n",
       "      <td>TO003_04</td>\n",
       "      <td>8</td>\n",
       "    </tr>\n",
       "    <tr>\n",
       "      <th>319</th>\n",
       "      <td>TO003</td>\n",
       "      <td>-39.1097</td>\n",
       "      <td>175.6721</td>\n",
       "      <td>05</td>\n",
       "      <td>ground-temperature</td>\n",
       "      <td>snapshot</td>\n",
       "      <td>at-enclosure</td>\n",
       "      <td>43332</td>\n",
       "      <td>2022-06-28 01:00:00+00:00</td>\n",
       "      <td>2023-05-01 14:50:00+00:00</td>\n",
       "      <td>TO003_05</td>\n",
       "      <td>7</td>\n",
       "    </tr>\n",
       "  </tbody>\n",
       "</table>\n",
       "</div>"
      ],
      "text/plain": [
       "    station  latitude  longitude sensor_code             data_name  \\\n",
       "307   TO003  -39.1097   175.6721          01       air-temperature   \n",
       "310   TO003  -39.1097   175.6721          02  fumarole-temperature   \n",
       "313   TO003  -39.1097   175.6721          03  fumarole-temperature   \n",
       "316   TO003  -39.1097   175.6721          04  fumarole-temperature   \n",
       "319   TO003  -39.1097   175.6721          05    ground-temperature   \n",
       "\n",
       "    data_method        aspect  record_count            earliestrecord  \\\n",
       "307    snapshot           nil         99012 2021-05-28 04:00:00+00:00   \n",
       "310    snapshot           nil         99012 2021-05-28 04:00:00+00:00   \n",
       "313    snapshot           nil         99012 2021-05-28 04:00:00+00:00   \n",
       "316    snapshot           nil         99012 2021-05-28 04:00:00+00:00   \n",
       "319    snapshot  at-enclosure         43332 2022-06-28 01:00:00+00:00   \n",
       "\n",
       "                 latestrecord    stasen  pos  \n",
       "307 2023-05-01 14:50:00+00:00  TO003_01   11  \n",
       "310 2023-05-01 14:50:00+00:00  TO003_02   10  \n",
       "313 2023-05-01 14:50:00+00:00  TO003_03    9  \n",
       "316 2023-05-01 14:50:00+00:00  TO003_04    8  \n",
       "319 2023-05-01 14:50:00+00:00  TO003_05    7  "
      ]
     },
     "execution_count": 26,
     "metadata": {},
     "output_type": "execute_result"
    }
   ],
   "source": [
    "TO003.head()"
   ]
  },
  {
   "cell_type": "markdown",
   "id": "314366a8-566d-4a5b-b21a-ba5049654dd4",
   "metadata": {},
   "source": [
    "Now we can set up the labeling for station name vs yvalue. To set the variable `station_list` we use the `stasen` values from the dataframe, this way we will have entries for each station, sensor_code, data_method combination. The yvals are used to set the spacing between the yticks in the next plot. By using `range` which is `range([start], stop [,step])`. We can generate a list that starts at the number of station-sesnor_code pairs, stops at 0 and steps by -1."
   ]
  },
  {
   "cell_type": "code",
   "execution_count": 27,
   "id": "be10cfeb-e6cd-42ad-b7a9-51564ebca7f0",
   "metadata": {},
   "outputs": [],
   "source": [
    "station_list = TO003['stasen'].values\n",
    "yvals = range((len(TO003)),0,-1)"
   ]
  },
  {
   "cell_type": "code",
   "execution_count": 28,
   "id": "2609b324-37fb-49a2-b8e4-46db71cc0260",
   "metadata": {},
   "outputs": [
    {
     "data": {
      "text/html": [
       "<div>\n",
       "<style scoped>\n",
       "    .dataframe tbody tr th:only-of-type {\n",
       "        vertical-align: middle;\n",
       "    }\n",
       "\n",
       "    .dataframe tbody tr th {\n",
       "        vertical-align: top;\n",
       "    }\n",
       "\n",
       "    .dataframe thead th {\n",
       "        text-align: right;\n",
       "    }\n",
       "</style>\n",
       "<table border=\"1\" class=\"dataframe\">\n",
       "  <thead>\n",
       "    <tr style=\"text-align: right;\">\n",
       "      <th></th>\n",
       "      <th>station</th>\n",
       "      <th>latitude</th>\n",
       "      <th>longitude</th>\n",
       "      <th>sensor_code</th>\n",
       "      <th>data_name</th>\n",
       "      <th>data_method</th>\n",
       "      <th>aspect</th>\n",
       "      <th>record_count</th>\n",
       "      <th>earliestrecord</th>\n",
       "      <th>latestrecord</th>\n",
       "      <th>stasen</th>\n",
       "      <th>pos</th>\n",
       "    </tr>\n",
       "  </thead>\n",
       "  <tbody>\n",
       "    <tr>\n",
       "      <th>307</th>\n",
       "      <td>TO003</td>\n",
       "      <td>-39.1097</td>\n",
       "      <td>175.6721</td>\n",
       "      <td>01</td>\n",
       "      <td>air-temperature</td>\n",
       "      <td>snapshot</td>\n",
       "      <td>nil</td>\n",
       "      <td>99012</td>\n",
       "      <td>2021-05-28 04:00:00+00:00</td>\n",
       "      <td>2023-05-01 14:50:00+00:00</td>\n",
       "      <td>TO003_01</td>\n",
       "      <td>11</td>\n",
       "    </tr>\n",
       "    <tr>\n",
       "      <th>310</th>\n",
       "      <td>TO003</td>\n",
       "      <td>-39.1097</td>\n",
       "      <td>175.6721</td>\n",
       "      <td>02</td>\n",
       "      <td>fumarole-temperature</td>\n",
       "      <td>snapshot</td>\n",
       "      <td>nil</td>\n",
       "      <td>99012</td>\n",
       "      <td>2021-05-28 04:00:00+00:00</td>\n",
       "      <td>2023-05-01 14:50:00+00:00</td>\n",
       "      <td>TO003_02</td>\n",
       "      <td>10</td>\n",
       "    </tr>\n",
       "    <tr>\n",
       "      <th>313</th>\n",
       "      <td>TO003</td>\n",
       "      <td>-39.1097</td>\n",
       "      <td>175.6721</td>\n",
       "      <td>03</td>\n",
       "      <td>fumarole-temperature</td>\n",
       "      <td>snapshot</td>\n",
       "      <td>nil</td>\n",
       "      <td>99012</td>\n",
       "      <td>2021-05-28 04:00:00+00:00</td>\n",
       "      <td>2023-05-01 14:50:00+00:00</td>\n",
       "      <td>TO003_03</td>\n",
       "      <td>9</td>\n",
       "    </tr>\n",
       "    <tr>\n",
       "      <th>316</th>\n",
       "      <td>TO003</td>\n",
       "      <td>-39.1097</td>\n",
       "      <td>175.6721</td>\n",
       "      <td>04</td>\n",
       "      <td>fumarole-temperature</td>\n",
       "      <td>snapshot</td>\n",
       "      <td>nil</td>\n",
       "      <td>99012</td>\n",
       "      <td>2021-05-28 04:00:00+00:00</td>\n",
       "      <td>2023-05-01 14:50:00+00:00</td>\n",
       "      <td>TO003_04</td>\n",
       "      <td>8</td>\n",
       "    </tr>\n",
       "    <tr>\n",
       "      <th>319</th>\n",
       "      <td>TO003</td>\n",
       "      <td>-39.1097</td>\n",
       "      <td>175.6721</td>\n",
       "      <td>05</td>\n",
       "      <td>ground-temperature</td>\n",
       "      <td>snapshot</td>\n",
       "      <td>at-enclosure</td>\n",
       "      <td>43332</td>\n",
       "      <td>2022-06-28 01:00:00+00:00</td>\n",
       "      <td>2023-05-01 14:50:00+00:00</td>\n",
       "      <td>TO003_05</td>\n",
       "      <td>7</td>\n",
       "    </tr>\n",
       "  </tbody>\n",
       "</table>\n",
       "</div>"
      ],
      "text/plain": [
       "    station  latitude  longitude sensor_code             data_name  \\\n",
       "307   TO003  -39.1097   175.6721          01       air-temperature   \n",
       "310   TO003  -39.1097   175.6721          02  fumarole-temperature   \n",
       "313   TO003  -39.1097   175.6721          03  fumarole-temperature   \n",
       "316   TO003  -39.1097   175.6721          04  fumarole-temperature   \n",
       "319   TO003  -39.1097   175.6721          05    ground-temperature   \n",
       "\n",
       "    data_method        aspect  record_count            earliestrecord  \\\n",
       "307    snapshot           nil         99012 2021-05-28 04:00:00+00:00   \n",
       "310    snapshot           nil         99012 2021-05-28 04:00:00+00:00   \n",
       "313    snapshot           nil         99012 2021-05-28 04:00:00+00:00   \n",
       "316    snapshot           nil         99012 2021-05-28 04:00:00+00:00   \n",
       "319    snapshot  at-enclosure         43332 2022-06-28 01:00:00+00:00   \n",
       "\n",
       "                 latestrecord    stasen  pos  \n",
       "307 2023-05-01 14:50:00+00:00  TO003_01   11  \n",
       "310 2023-05-01 14:50:00+00:00  TO003_02   10  \n",
       "313 2023-05-01 14:50:00+00:00  TO003_03    9  \n",
       "316 2023-05-01 14:50:00+00:00  TO003_04    8  \n",
       "319 2023-05-01 14:50:00+00:00  TO003_05    7  "
      ]
     },
     "execution_count": 28,
     "metadata": {},
     "output_type": "execute_result"
    }
   ],
   "source": [
    "TO003.head()"
   ]
  },
  {
   "cell_type": "markdown",
   "id": "6f1fcafa-c252-4d24-8cde-c508520d6682",
   "metadata": {},
   "source": [
    "Now we want to visualise this data."
   ]
  },
  {
   "cell_type": "code",
   "execution_count": 29,
   "id": "2eb8fdb3-876e-4224-8393-a44393b14d72",
   "metadata": {},
   "outputs": [
    {
     "data": {
      "image/png": "[encoded data removed]",
      "text/plain": [
       "<Figure size 1080x1080 with 1 Axes>"
      ]
     },
     "metadata": {
      "needs_background": "light"
     },
     "output_type": "display_data"
    }
   ],
   "source": [
    "fig,ax = plt.subplots(figsize=(15,15))\n",
    "\n",
    "#setting different variables, x1=earliest record, x2=latest record, y=position and c=colours of lines.\n",
    "#when using ax.plot, we are going from the earliest to the latest record on the x-axis, and the y-axis is set by\n",
    "#position.\n",
    "# for x1, x2, y in zip(snapsorted['earliestrecord'], snapsorted['latestrecord'], snapsorted['pos']):\n",
    "for x1, x2, y in zip(TO003['earliestrecord'], TO003['latestrecord'], TO003['pos']):\n",
    "    ax.plot([x1, x2], [y, y], color='cornflowerblue')\n",
    "\n",
    "#label y-axis with station_type name\n",
    "ax.set_yticks(yvals)\n",
    "ax.set_yticklabels(station_list)\n",
    "\n",
    "ax.grid(axis='x')\n",
    "\n",
    "ax.set_title('Data Range', fontsize=16)\n",
    "ax.set_ylabel('station_sensor');"
   ]
  }
 ],
 "metadata": {
  "kernelspec": {
   "display_name": "Python 3 (ipykernel)",
   "language": "python",
   "name": "python3"
  },
  "language_info": {
   "codemirror_mode": {
    "name": "ipython",
    "version": 3
   },
   "file_extension": ".py",
   "mimetype": "text/x-python",
   "name": "python",
   "nbconvert_exporter": "python",
   "pygments_lexer": "ipython3",
   "version": "3.10.8"
  }
 },
 "nbformat": 4,
 "nbformat_minor": 5
}
