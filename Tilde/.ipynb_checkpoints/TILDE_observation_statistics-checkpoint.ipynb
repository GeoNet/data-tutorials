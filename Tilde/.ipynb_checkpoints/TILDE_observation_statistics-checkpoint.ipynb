{
 "cells": [
  {
   "cell_type": "markdown",
   "id": "governing-vertex",
   "metadata": {},
   "source": [
    "# Accessing Observation Statistics From TILDE, Application to DART Data"
   ]
  },
  {
   "cell_type": "markdown",
   "id": "turned-charter",
   "metadata": {},
   "source": [
    "In this notebook we will develop a better understanding of the TILDE observation statistics query. This is one of the three endpoints available from the TILDE API. Where the TILDE API is located here `https://tilde.geonet.org.nz/api-docs/` and with the observation statistics query `https://tilde.geonet.org.nz/api-docs/endpoint/stats`.\n",
    "\n",
    "### Purpose\n",
    "This notebook is intended to demonstrate how to obtain observation statistics and how to work the returned information in python to learn about the data held in TILDE. Currently we are applying this to the DART (Deep-ocean Assessment and Reporting of Tsunamis) data. "
   ]
  },
  {
   "cell_type": "markdown",
   "id": "excess-panama",
   "metadata": {},
   "source": [
    "## &nbsp;Table of contents\n",
    "### 1. Introduction\n",
    "### 2. Building a Basic TILDE Query and Extracting the Key Statistics\n",
    "### 3. Building a Query with startdate and enddate parameters\n",
    "### 4. Building a Query with parameters for the last 7 days\n",
    "### 5. Building a Query requesting percentiles"
   ]
  },
  {
   "cell_type": "markdown",
   "id": "wooden-colleague",
   "metadata": {},
   "source": [
    "## &nbsp;1. Introduction"
   ]
  },
  {
   "cell_type": "markdown",
   "id": "civic-switch",
   "metadata": {},
   "source": [
    "In this tutorial we will be learning how to use Python to access the TILDE API Observation Statistics endpoint. To highlight the different functionality and the statistics available we will be using the DART (Deep-ocean Assessment and Reporting of Tsunamis) dataset to highlight this. GeoNet has an API (Application Programming Interface) to access its DART data. You do not need to know anything about APIs to use this tutorial. If you would like more info see XX.\n",
    "\n",
    "This tutorial assumes you have basic knowledge of Python."
   ]
  },
  {
   "cell_type": "markdown",
   "id": "occasional-minutes",
   "metadata": {},
   "source": [
    "###### About GeoNet DART data"
   ]
  },
  {
   "cell_type": "markdown",
   "id": "surgical-charles",
   "metadata": {},
   "source": [
    "GeoNet uses the 12 DART Tsunameters deployed offshore New Zealand and around the Southwestern Pacific Ocean to monitor ocean height. When a change has been detected of a certain magnitude, the buoy will \"trigger\" and go into a heightened detection mode. The DARTs have two operational reporting modes; standard and event. When in standard reporting mode, the BPR (bottom pressure recorder) and buoy system send four six-hour bundles of 15 minute water height values. When in event reporting mode, BPR data are sampled at 15 second intervals and are sent more regularly. The buoy surface location (latitude and longitude) will also be sent daily. \n",
    "\n",
    "For more DART information see the GeoNet page: https://www.geonet.org.nz/tsunami/dart"
   ]
  },
  {
   "cell_type": "markdown",
   "id": "fleet-pioneer",
   "metadata": {},
   "source": [
    "## &nbsp;2. Building a Basic TILDE Query and Extracting the Key Statistics"
   ]
  },
  {
   "cell_type": "markdown",
   "id": "mounted-demand",
   "metadata": {},
   "source": [
    "###### Import required modules and set the source URL"
   ]
  },
  {
   "cell_type": "code",
   "execution_count": 1,
   "id": "impressed-photographer",
   "metadata": {},
   "outputs": [],
   "source": [
    "import requests\n",
    "import json\n",
    "import pandas as pd\n",
    "import matplotlib.pyplot as plt"
   ]
  },
  {
   "cell_type": "code",
   "execution_count": 2,
   "id": "french-regulation",
   "metadata": {},
   "outputs": [],
   "source": [
    "source = 'https://tilde.geonet.org.nz'"
   ]
  },
  {
   "cell_type": "markdown",
   "id": "fitting-spyware",
   "metadata": {},
   "source": [
    "### A basic query with the minimum required parameters\n",
    "\n",
    "The query is `https://tilde.geonet.org.nz/v1/stats/` with the source URL being stated above `https://tilde.geonet.org.nz`.\n",
    "\n",
    "The minimum required parameters are:\n",
    "- domain = `dart`\n",
    "- key = `NZE/water-height/40/WTZ`, this specifies a station `NZE`, a data name `water-height`, a sensor code `40`, and a data type `WTZ`. A data type of `WTZ` is 15 minute sampled data. A type of `UTZ` is 15 second sampled data.\n",
    "With this information we can now use a more specific URL."
   ]
  },
  {
   "cell_type": "code",
   "execution_count": 3,
   "id": "conservative-forward",
   "metadata": {},
   "outputs": [],
   "source": [
    "url = source+'/v1/stats/dart/NZE/water-height/40/WTZ'"
   ]
  },
  {
   "cell_type": "code",
   "execution_count": 5,
   "id": "middle-england",
   "metadata": {},
   "outputs": [
    {
     "name": "stdout",
     "output_type": "stream",
     "text": [
      "<Response [200]>\n"
     ]
    }
   ],
   "source": [
    "r = requests.get(url)\n",
    "print (r)"
   ]
  },
  {
   "cell_type": "markdown",
   "id": "latest-proportion",
   "metadata": {},
   "source": [
    "We use `requests.get` to retrieve the data from the URL. The response status code says whether we were successful in getting the data requested and why not if we were unsuccessful:\n",
    "<ul>\n",
    "<li>200 -- everything went okay, and the result has been returned (if any)\n",
    "<li>301 -- the server is redirecting you to a different endpoint. This can happen when a company switches domain names, or an endpoint name is changed.\n",
    "<li>400 -- the server thinks you made a bad request. This can happen when you don't send along the right data, among other things.\n",
    "<li>404 -- the resource you tried to access wasn't found on the server.\n",
    "</ul>"
   ]
  },
  {
   "cell_type": "markdown",
   "id": "adjustable-scholarship",
   "metadata": {},
   "source": [
    "###### Store the response as a nested dictionary and see the output"
   ]
  },
  {
   "cell_type": "markdown",
   "id": "removable-shadow",
   "metadata": {},
   "source": [
    "Nested dictionaries in python is a dictionary within a dictionary. It's a collection of dictionaries into one single directory. In TILDE, each domain has different entries which sit within that specific domain name, e.g. for example, the DART entries sit within the DART domain. By creating a nested dictionary we can then specify the domain and then split it by domain name. `Summary` is our nested dictionary and when printed we can see that there are a lot of variables. "
   ]
  },
  {
   "cell_type": "code",
   "execution_count": 6,
   "id": "eleven-lindsay",
   "metadata": {},
   "outputs": [
    {
     "data": {
      "text/plain": [
       "dict"
      ]
     },
     "execution_count": 6,
     "metadata": {},
     "output_type": "execute_result"
    }
   ],
   "source": [
    "summary = r.json()\n",
    "type(summary)"
   ]
  },
  {
   "cell_type": "code",
   "execution_count": 7,
   "id": "golden-disney",
   "metadata": {},
   "outputs": [
    {
     "data": {
      "text/plain": [
       "{'series': {'domain': 'dart',\n",
       "  'station': 'NZE',\n",
       "  'name': 'water-height',\n",
       "  'sensorCode': '40',\n",
       "  'type': 'WTZ'},\n",
       " 'lat': -36.0493,\n",
       " 'lon': -177.708,\n",
       " 'seriesElevationM': 0,\n",
       " 'seriesElevationDatum': 'WGS-84',\n",
       " 'seriesRelativeHeightM': -5779,\n",
       " 'valueUnit': 'mm',\n",
       " 'errorUnit': 'mm',\n",
       " 'first': {'value': 5779799, 'err': 0, 'qc': '', 'ts': '2019-12-19T00:15:00Z'},\n",
       " 'last': {'value': 5777860, 'err': 0, 'qc': '', 'ts': '2021-09-20T00:00:00Z'},\n",
       " 'maximum': {'value': 5779799,\n",
       "  'err': 0,\n",
       "  'qc': '',\n",
       "  'ts': '2019-12-19T00:15:00Z'},\n",
       " 'minimum': {'value': 5777561,\n",
       "  'err': 0,\n",
       "  'qc': '',\n",
       "  'ts': '2021-05-29T02:45:00Z'},\n",
       " 'count': 36868,\n",
       " 'mean': 5778559.4166,\n",
       " 'median': 5778559.5,\n",
       " 'stddevPopulation': 427.6202,\n",
       " 'percentiles': None}"
      ]
     },
     "execution_count": 7,
     "metadata": {},
     "output_type": "execute_result"
    }
   ],
   "source": [
    "summary"
   ]
  },
  {
   "cell_type": "markdown",
   "id": "simple-segment",
   "metadata": {},
   "source": [
    "##### We can then just specify the series\n",
    "<br>\n",
    "And the extract the key statistics and display them in a more readable format. To do this, we select the 'series' component of the dictionary. Printing the output of `series`, can also be compared to `summary` above to see what happens when we select this component."
   ]
  },
  {
   "cell_type": "code",
   "execution_count": 20,
   "id": "collect-traffic",
   "metadata": {},
   "outputs": [],
   "source": [
    "series = summary['series']\n",
    "series"
   ]
  },
  {
   "cell_type": "markdown",
   "id": "animated-twist",
   "metadata": {},
   "source": [
    "We can also add some other key statistics from our dictionary `summary`, by using the same method that we did for 'series'. To specify the statistics required, we need to make sure we are selected the correct values. For example, within `summary`, the dictionary `first` has multiple variables ('value', 'err', 'qc', and 'ts'). To specify the first observed time we would need `summary['first']['ts']`. For other values within `summary` that don't have variables within them (e.g. count, mean, median), we can just use `summary['count']`. "
   ]
  },
  {
   "cell_type": "code",
   "execution_count": 10,
   "id": "driven-applicant",
   "metadata": {},
   "outputs": [],
   "source": [
    "series['first obs'] = summary['first']['ts']\n",
    "series['last obs'] = summary['last']['ts']\n",
    "series['maximum obs'] = summary['maximum']['value']\n",
    "series['minimum obs'] = summary['minimum']['value']\n",
    "series['number obs'] = summary['count']\n",
    "series['mean obs'] = summary['mean']\n",
    "series['median obs'] = summary['median']\n",
    "series['population stdev'] = summary['stddevPopulation']\n",
    "series['percentiles'] = summary['percentiles']"
   ]
  },
  {
   "cell_type": "markdown",
   "id": "cross-disabled",
   "metadata": {},
   "source": [
    "Using tabulate (https://pypi.org/project/tabulate/) we can now print our key statistics (series.item()) into a readable table. The table is using a github format, different formats, such as 'simple', 'grid', 'fancy_grid', and 'presto' are also available. If `tabulate` is not installed, running `conda install -c conda-forge tabulate` in a terminal within the GeoNet anaconda environment will work (for data-tutorials). "
   ]
  },
  {
   "cell_type": "markdown",
   "id": "bronze-bonus",
   "metadata": {},
   "source": [
    "###### conda install -c conda-forge tabulate  - will need to be added to data-tutorials instructions"
   ]
  },
  {
   "cell_type": "code",
   "execution_count": 11,
   "id": "variable-tourist",
   "metadata": {},
   "outputs": [
    {
     "name": "stdout",
     "output_type": "stream",
     "text": [
      "| Parameter        | Value                |\n",
      "|------------------|----------------------|\n",
      "| domain           | dart                 |\n",
      "| station          | NZE                  |\n",
      "| name             | water-height         |\n",
      "| sensorCode       | 40                   |\n",
      "| type             | WTZ                  |\n",
      "| first obs        | 2019-12-19T00:15:00Z |\n",
      "| last obs         | 2021-09-20T00:00:00Z |\n",
      "| maximum obs      | 5779799              |\n",
      "| minimum obs      | 5777561              |\n",
      "| number obs       | 36868                |\n",
      "| mean obs         | 5778559.4166         |\n",
      "| median obs       | 5778559.5            |\n",
      "| population stdev | 427.6202             |\n",
      "| percentiles      |                      |\n"
     ]
    }
   ],
   "source": [
    "from tabulate import tabulate\n",
    "\n",
    "headers = ['Parameter', 'Value']\n",
    "data = [(k,v) for k,v in series.items()]\n",
    "print (tabulate(data, headers=headers, tablefmt='github'))"
   ]
  },
  {
   "cell_type": "markdown",
   "id": "enclosed-norway",
   "metadata": {},
   "source": [
    "## &nbsp;3. Building a Query with startdate and enddate parameters\n",
    "\n",
    "The minimum required parameters are:\n",
    "- domain = `dart`\n",
    "- key = `NZE/water-height/40/WTZ`, this specifies a station `NZE`, a data name `water-height`, a sensor code `40`, and a data type `WTZ`. A data type of `WTZ` is 15 minute sampled data. A type of `UTZ` is 15 second sampled data.\n",
    "\n",
    "We will now be adding a start date and end date of:\n",
    "- startdate = `2021-01-01`\n",
    "- enddate = `2021-01-31`\n",
    "\n",
    "\n",
    "For this, we will begin by changing our URL and then generating a nested dictionary called `summary`, as shown previously. Printing the summary will show a very similar summary to above, but this time the first and last datapoints we be what we have specified in the URL. Feel free to test this by uncommenting `summary` to see what the output is. "
   ]
  },
  {
   "cell_type": "code",
   "execution_count": 15,
   "id": "antique-industry",
   "metadata": {},
   "outputs": [],
   "source": [
    "url = source+'/v1/stats/dart/NZE/water-height/40/WTZ/2021-01-01/2021-01-31'\n",
    "\n",
    "r = requests.get(url)\n",
    "summary = r.json()\n",
    "#summary"
   ]
  },
  {
   "cell_type": "markdown",
   "id": "involved-monte",
   "metadata": {},
   "source": [
    "We will now use a similar method as we did before and select the `series` component of the dictionary as well as adding some other key statistics as we did above. "
   ]
  },
  {
   "cell_type": "code",
   "execution_count": 16,
   "id": "ordinary-depression",
   "metadata": {},
   "outputs": [],
   "source": [
    "#selecting the series component of the `summary` dictionary\n",
    "series = summary['series']"
   ]
  },
  {
   "cell_type": "code",
   "execution_count": 17,
   "id": "interracial-adams",
   "metadata": {},
   "outputs": [],
   "source": [
    "#selecting key statistics\n",
    "series['first obs'] = summary['first']['ts']\n",
    "series['last obs'] = summary['last']['ts']\n",
    "series['maximum obs'] = summary['maximum']['value']\n",
    "series['minimum obs'] = summary['minimum']['value']\n",
    "series['number obs'] = summary['count']\n",
    "series['mean obs'] = summary['mean']\n",
    "series['median obs'] = summary['median']\n",
    "series['population stdev'] = summary['stddevPopulation']\n",
    "series['percentiles'] = summary['percentiles']"
   ]
  },
  {
   "cell_type": "markdown",
   "id": "integrated-raising",
   "metadata": {},
   "source": [
    "As before we will now use tabulate and print this into a table. In this table we can see that the `first obs` and the `last obs` are using the start and end dates that we specified in the URL."
   ]
  },
  {
   "cell_type": "code",
   "execution_count": 18,
   "id": "vital-black",
   "metadata": {},
   "outputs": [
    {
     "name": "stdout",
     "output_type": "stream",
     "text": [
      "| Parameter        | Value                |\n",
      "|------------------|----------------------|\n",
      "| domain           | dart                 |\n",
      "| station          | NZE                  |\n",
      "| name             | water-height         |\n",
      "| sensorCode       | 40                   |\n",
      "| type             | WTZ                  |\n",
      "| first obs        | 2021-01-01T00:15:00Z |\n",
      "| last obs         | 2021-01-31T19:00:00Z |\n",
      "| maximum obs      | 5779178              |\n",
      "| minimum obs      | 5777791              |\n",
      "| number obs       | 1140                 |\n",
      "| mean obs         | 5778475.7771         |\n",
      "| median obs       | 5778471              |\n",
      "| population stdev | 402.082              |\n",
      "| percentiles      |                      |\n"
     ]
    }
   ],
   "source": [
    "headers = ['Parameter', 'Value']\n",
    "data = [(k,v) for k,v in series.items()]\n",
    "print (tabulate(data, headers=headers, tablefmt='github'))"
   ]
  },
  {
   "cell_type": "markdown",
   "id": "together-confidence",
   "metadata": {},
   "source": [
    "## &nbsp;4. Building a Query with parameters for the last 7 days\n",
    "\n",
    "The minimum required parameters are:\n",
    "- domain = `dart`\n",
    "- key = `NZE/water-height/40/WTZ`, this specifies a station `NZE`, a data name `water-height`, a sensor code `40`, and a data type `WTZ`. A data type of `WTZ` is 15 minute sampled data. A type of `UTZ` is 15 second sampled data.\n",
    "\n",
    "We will now be adding:\n",
    "- `latest`\n",
    "- period = `7d`\n",
    "\n",
    "The latest `period` can be 30d (latest 30 days), 7d, 2d, 1d, or 6h (latest 6 hours). Other periods will produce an error.\n",
    "\n",
    "When calculating the start of the query, the current time is taken into account.\n",
    "\n",
    "We will begin again by changing our URL and then generating a nested dictionary called `summary`, as shown previously. Printing the summary will show a very similar summary to above, but this time we will be seeing the first and last data points for the data period that has been selected, in this case the last 7 days from the current time. Feel free to test this by uncommenting `summary` to see what the output is.  "
   ]
  },
  {
   "cell_type": "code",
   "execution_count": 28,
   "id": "coordinated-vegetarian",
   "metadata": {},
   "outputs": [
    {
     "data": {
      "text/plain": [
       "{'series': {'domain': 'dart',\n",
       "  'station': 'NZE',\n",
       "  'name': 'water-height',\n",
       "  'sensorCode': '40',\n",
       "  'type': 'WTZ'},\n",
       " 'lat': -36.0493,\n",
       " 'lon': -177.708,\n",
       " 'seriesElevationM': 0,\n",
       " 'seriesElevationDatum': 'WGS-84',\n",
       " 'seriesRelativeHeightM': -5779,\n",
       " 'valueUnit': 'mm',\n",
       " 'errorUnit': 'mm',\n",
       " 'first': {'value': 5777820, 'err': 0, 'qc': '', 'ts': '2021-09-13T04:45:00Z'},\n",
       " 'last': {'value': 5777860, 'err': 0, 'qc': '', 'ts': '2021-09-20T00:00:00Z'},\n",
       " 'maximum': {'value': 5779118,\n",
       "  'err': 0,\n",
       "  'qc': '',\n",
       "  'ts': '2021-09-13T11:30:00Z'},\n",
       " 'minimum': {'value': 5777775,\n",
       "  'err': 0,\n",
       "  'qc': '',\n",
       "  'ts': '2021-09-13T17:45:00Z'},\n",
       " 'count': 654,\n",
       " 'mean': 5778436.925,\n",
       " 'median': 5778433,\n",
       " 'stddevPopulation': 392.2612,\n",
       " 'percentiles': None}"
      ]
     },
     "execution_count": 28,
     "metadata": {},
     "output_type": "execute_result"
    }
   ],
   "source": [
    "url = source+'/v1/stats/dart/NZE/water-height/40/WTZ/latest/7d'\n",
    "\n",
    "r = requests.get(url)\n",
    "summary = r.json()\n",
    "#summary"
   ]
  },
  {
   "cell_type": "markdown",
   "id": "little-corporation",
   "metadata": {},
   "source": [
    "We will now use a similar method as we have done before and select the `series` component of the dictionary as well as adding some other key statistics. "
   ]
  },
  {
   "cell_type": "code",
   "execution_count": 24,
   "id": "broken-england",
   "metadata": {},
   "outputs": [],
   "source": [
    "#selecting the series component of the `summary` dictionary\n",
    "series = summary['series']"
   ]
  },
  {
   "cell_type": "code",
   "execution_count": 25,
   "id": "coral-encyclopedia",
   "metadata": {},
   "outputs": [],
   "source": [
    "#selecting key statistics\n",
    "series['first obs'] = summary['first']['ts']\n",
    "series['last obs'] = summary['last']['ts']\n",
    "series['maximum obs'] = summary['maximum']['value']\n",
    "series['minimum obs'] = summary['minimum']['value']\n",
    "series['number obs'] = summary['count']\n",
    "series['mean obs'] = summary['mean']\n",
    "series['median obs'] = summary['median']\n",
    "series['population stdev'] = summary['stddevPopulation']\n",
    "series['percentiles'] = summary['percentiles']"
   ]
  },
  {
   "cell_type": "markdown",
   "id": "federal-spanking",
   "metadata": {},
   "source": [
    "As before we will now use tabulate and print this into a table. In this table we can see that the `first obs` and the `last obs` are using the data period that we specified in the URL."
   ]
  },
  {
   "cell_type": "code",
   "execution_count": 26,
   "id": "balanced-contest",
   "metadata": {},
   "outputs": [
    {
     "name": "stdout",
     "output_type": "stream",
     "text": [
      "| Parameter        | Value                |\n",
      "|------------------|----------------------|\n",
      "| domain           | dart                 |\n",
      "| station          | NZE                  |\n",
      "| name             | water-height         |\n",
      "| sensorCode       | 40                   |\n",
      "| type             | WTZ                  |\n",
      "| first obs        | 2021-09-13T04:45:00Z |\n",
      "| last obs         | 2021-09-20T00:00:00Z |\n",
      "| maximum obs      | 5779118              |\n",
      "| minimum obs      | 5777775              |\n",
      "| number obs       | 654                  |\n",
      "| mean obs         | 5778436.925          |\n",
      "| median obs       | 5778433              |\n",
      "| population stdev | 392.2612             |\n",
      "| percentiles      |                      |\n"
     ]
    }
   ],
   "source": [
    "headers = ['Parameter', 'Value']\n",
    "data = [(k,v) for k,v in series.items()]\n",
    "print (tabulate(data, headers=headers, tablefmt='github'))"
   ]
  },
  {
   "cell_type": "markdown",
   "id": "aquatic-bikini",
   "metadata": {},
   "source": [
    "## &nbsp;5. Building a Query requesting percentiles\n",
    "\n",
    "The minimum required parameters are:\n",
    "- domain = `dart`\n",
    "- key = `NZE/water-height/40/WTZ`, this specifies a station `NZE`, a data name `water-height`, a sensor code `40`, and a data type `WTZ`. A data type of `WTZ` is 15 minute sampled data. A type of `UTZ` is 15 second sampled data.\n",
    "\n",
    "We will now be adding:\n",
    "- `?percentiles=10,75`, 10th and 75th percentiles\n",
    "\n",
    "We will begin again by changing our URL and then generating a nested dictionary called `summary`, as shown previously. Printing the summary will show a very similar summary to above, but this time we will be seeing the 10th and 75th percentiles Feel free to test this by uncommenting `summary` to see what the output is. In our previous `summary` dictionaries we had `percentile=None`, now we are seeing a specific result. To change to different percentiles, e.g. 25 and 70, just change the URL `?percentiles=25,70`."
   ]
  },
  {
   "cell_type": "code",
   "execution_count": 31,
   "id": "cutting-possibility",
   "metadata": {},
   "outputs": [
    {
     "data": {
      "text/plain": [
       "{'series': {'domain': 'dart',\n",
       "  'station': 'NZE',\n",
       "  'name': 'water-height',\n",
       "  'sensorCode': '40',\n",
       "  'type': 'WTZ'},\n",
       " 'lat': -36.0493,\n",
       " 'lon': -177.708,\n",
       " 'seriesElevationM': 0,\n",
       " 'seriesElevationDatum': 'WGS-84',\n",
       " 'seriesRelativeHeightM': -5779,\n",
       " 'valueUnit': 'mm',\n",
       " 'errorUnit': 'mm',\n",
       " 'first': {'value': 5779799, 'err': 0, 'qc': '', 'ts': '2019-12-19T00:15:00Z'},\n",
       " 'last': {'value': 5777860, 'err': 0, 'qc': '', 'ts': '2021-09-20T00:00:00Z'},\n",
       " 'maximum': {'value': 5779799,\n",
       "  'err': 0,\n",
       "  'qc': '',\n",
       "  'ts': '2019-12-19T00:15:00Z'},\n",
       " 'minimum': {'value': 5777561,\n",
       "  'err': 0,\n",
       "  'qc': '',\n",
       "  'ts': '2021-05-29T02:45:00Z'},\n",
       " 'count': 36868,\n",
       " 'mean': 5778559.4166,\n",
       " 'median': 5778559.5,\n",
       " 'stddevPopulation': 427.6202,\n",
       " 'percentiles': [{'perc': 10, 'value': 5777991},\n",
       "  {'perc': 75, 'value': 5778921}]}"
      ]
     },
     "execution_count": 31,
     "metadata": {},
     "output_type": "execute_result"
    }
   ],
   "source": [
    "url = source+'/v1/stats/dart/NZE/water-height/40/WTZ/?percentiles=10,75'\n",
    "\n",
    "r = requests.get(url)\n",
    "summary = r.json()\n",
    "#summary"
   ]
  },
  {
   "cell_type": "markdown",
   "id": "forward-border",
   "metadata": {},
   "source": [
    "#### Box and whisker plot.\n",
    "If we specified a low and a high percentile, we can summarise the distribution of observations, with a box-and-whisker style plot. We begin by specifying the median, minimum and maximum values which we can generate from the summary dictionary. "
   ]
  },
  {
   "cell_type": "code",
   "execution_count": 32,
   "id": "powerful-preference",
   "metadata": {},
   "outputs": [
    {
     "name": "stdout",
     "output_type": "stream",
     "text": [
      "5777561 5778559.5 5779799\n"
     ]
    }
   ],
   "source": [
    "medv = summary['median']\n",
    "minv = summary['minimum']['value']\n",
    "maxv = summary['maximum']['value']\n",
    "print (minv,medv,maxv)"
   ]
  },
  {
   "cell_type": "markdown",
   "id": "rental-contrast",
   "metadata": {},
   "source": [
    "From the `percentiles` values in the summary dictionary we can generate more values for the box and whisker plot. Where `lopcp` and `hipcp` are the low and high percentage values that we set in the URL (in this example, 10 and 75), `lopcv` and `hipcv` are the low and high percentage values, `first` and `last` are the first and last timestamp values from the summary dictionary. We can also print all of these variables and see that they match up with the `summary` information above. "
   ]
  },
  {
   "cell_type": "code",
   "execution_count": 35,
   "id": "settled-penguin",
   "metadata": {},
   "outputs": [
    {
     "name": "stdout",
     "output_type": "stream",
     "text": [
      "10 75 5777991 5778921 2019-12-19T00:15:00Z 2021-09-20T00:00:00Z\n"
     ]
    }
   ],
   "source": [
    "pcs = summary['percentiles']\n",
    "\n",
    "lopcp = pcs[0].get('perc')\n",
    "hipcp = pcs[1].get('perc')\n",
    "\n",
    "lopcv = pcs[0].get('value')\n",
    "hipcv = pcs[1].get('value')\n",
    "\n",
    "first = summary['first']['ts']\n",
    "last = summary['last']['ts']\n",
    "\n",
    "print (lopcp,hipcp,lopcv,hipcv,first,last)"
   ]
  },
  {
   "cell_type": "markdown",
   "id": "entire-institution",
   "metadata": {},
   "source": [
    "We will now plot this using a box and whisker style by using our above parameters. "
   ]
  },
  {
   "cell_type": "code",
   "execution_count": 34,
   "id": "external-jackson",
   "metadata": {},
   "outputs": [
    {
     "data": {
      "text/plain": [
       "Text(0.5, 1.0, '2019-12-19T00:15:00Z - 2021-09-20T00:00:00Z')"
      ]
     },
     "execution_count": 34,
     "metadata": {},
     "output_type": "execute_result"
    },
    {
     "data": {
      "image/png": "[encoded data removed]",
      "text/plain": [
       "<Figure size 432x288 with 1 Axes>"
      ]
     },
     "metadata": {
      "needs_background": "light"
     },
     "output_type": "display_data"
    }
   ],
   "source": [
    "fig,ax = plt.subplots()\n",
    "#draw box from lowpcv to hipcv\n",
    "ax.bar(0, hipcv-lopcv, bottom=lopcv, color='#41b0f0', label='precentiles '+str(lopcp)+'-'+str(hipcp))\n",
    "# vertical line from minv to maxv\n",
    "ax.vlines(0, minv, maxv, color='black', label='min-max')\n",
    "#horizontal line at medv\n",
    "ax.hlines(medv, -0.4, 0.4, linestyles='dashed', colors='red', label='median')\n",
    "\n",
    "#make more like a box and whisker\n",
    "ax.set_xlim(-1,1)\n",
    "ax.ticklabel_format(useOffset=False, style='plain')\n",
    "plt.xticks([])\n",
    "\n",
    "plt.legend(loc='best')\n",
    "\n",
    "plt.suptitle('Data summary '+series['station']+'-'+series['name']+'-'+series['sensorCode']+'-'+series['type'])\n",
    "plt.title(first+' - '+last)"
   ]
  }
 ],
 "metadata": {
  "kernelspec": {
   "display_name": "Python 3",
   "language": "python",
   "name": "python3"
  },
  "language_info": {
   "codemirror_mode": {
    "name": "ipython",
    "version": 3
   },
   "file_extension": ".py",
   "mimetype": "text/x-python",
   "name": "python",
   "nbconvert_exporter": "python",
   "pygments_lexer": "ipython3",
   "version": "3.7.8"
  },
  "toc-autonumbering": false,
  "toc-showcode": false,
  "toc-showmarkdowntxt": false
 },
 "nbformat": 4,
 "nbformat_minor": 5
}
