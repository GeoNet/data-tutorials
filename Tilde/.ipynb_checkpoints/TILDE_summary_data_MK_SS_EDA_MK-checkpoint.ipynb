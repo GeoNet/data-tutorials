{
 "cells": [
  {
   "cell_type": "markdown",
   "id": "continent-miller",
   "metadata": {},
   "source": [
    "# Exploring Data Summary from TILDE, Application to DART data"
   ]
  },
  {
   "cell_type": "markdown",
   "id": "digital-journey",
   "metadata": {},
   "source": [
    "In this notebook we will develop a better understanding of the TILDE `data summary` endpoint. By the end of this tutorial, you will be able to display the DART (Deep-ocean Assessment and Reporting of Tsunamis) data in various formats such as a map or a data range plot. This data summary endpoint can also be accessed from our API (e.g. `https://tilde.geonet.org.nz/api-docs/endpoint/dataSummary`). "
   ]
  },
  {
   "cell_type": "markdown",
   "id": "enclosed-anaheim",
   "metadata": {},
   "source": [
    "## &nbsp;Table of contents\n",
    "### 1. Introduction\n",
    "### 2. Building the Basic TILDE Query\n",
    "### 3. Building a TILDE Query with a specific domain\n",
    "### 4. Find station locations and display on a map\n",
    "### 5. Station data and data range graphs"
   ]
  },
  {
   "cell_type": "markdown",
   "id": "raised-market",
   "metadata": {},
   "source": [
    "## &nbsp;1. Introduction"
   ]
  },
  {
   "cell_type": "markdown",
   "id": "received-aircraft",
   "metadata": {},
   "source": [
    "In this tutorial we will be learning how to use Python to query the TILDE API `Data Summary` endpoint. To highlight different functionalities and the data available we will be using the DART (Deep-ocean Assessment and Reporting of Tsunamis) dataset. TILDE is the API (Application Programmatic Interface) to access its DART data. You do not need to know anything about APIs to use this tutorial. If you would like more info see `https://tilde.geonet.org.nz/api-docs/`.\n",
    "\n",
    "This tutorial assumes you have basic knowledge of Python."
   ]
  },
  {
   "cell_type": "markdown",
   "id": "relative-charger",
   "metadata": {},
   "source": [
    "###### About GeoNet DART data"
   ]
  },
  {
   "cell_type": "markdown",
   "id": "personalized-heating",
   "metadata": {},
   "source": [
    "GeoNet uses the 12 DART Tsunameters deployed offshore New Zealand and around the Southwestern Pacific Ocean to monitor ocean height. When a change has been detected of a certain magnitude, the buoy will \"trigger\" and go into a heightened detection mode. The DARTs have two operational reporting modes; standard and event. When in standard reporting mode, the BPR (bottom pressure recorder) and buoy system send four six-hour bundles of 15 minute water height values. When in event reporting mode, BPR data are sampled at 15 second intervals and are sent more frequently. The buoy surface location (latitude and longitude) will also be sent daily. <br>\n",
    "TILDE provides access to the 15 minutes and 15 second sampled data.\n",
    "\n",
    "For more DART information see the GeoNet page: https://www.geonet.org.nz/tsunami/dart"
   ]
  },
  {
   "cell_type": "markdown",
   "id": "communist-silly",
   "metadata": {},
   "source": [
    "## &nbsp;2. Building the Basic TILDE Query"
   ]
  },
  {
   "cell_type": "markdown",
   "id": "empty-happening",
   "metadata": {},
   "source": [
    "###### Import required modules and set the source URL"
   ]
  },
  {
   "cell_type": "code",
   "execution_count": 1,
   "id": "impaired-possible",
   "metadata": {},
   "outputs": [],
   "source": [
    "import requests\n",
    "import json\n",
    "import pandas as pd\n",
    "import numpy as np\n",
    "import matplotlib.pyplot as plt"
   ]
  },
  {
   "cell_type": "code",
   "execution_count": 2,
   "id": "ongoing-binary",
   "metadata": {},
   "outputs": [],
   "source": [
    "source = 'https://tilde.geonet.org.nz'"
   ]
  },
  {
   "cell_type": "markdown",
   "id": "surrounded-wound",
   "metadata": {},
   "source": [
    "### A basic query with no parameters applied\n",
    "\n",
    "This query returns information on the different data domains held in TILDE. The query uses the 'dataSummary' endpoint as `https://tilde.geonet.org.nz/v1/dataSummary/`."
   ]
  },
  {
   "cell_type": "markdown",
   "id": "grand-reset",
   "metadata": {},
   "source": [
    "######  Set the URL of a basic data summary query"
   ]
  },
  {
   "cell_type": "code",
   "execution_count": 3,
   "id": "collective-brick",
   "metadata": {},
   "outputs": [],
   "source": [
    "url = source+'/v1/dataSummary/'"
   ]
  },
  {
   "cell_type": "code",
   "execution_count": 4,
   "id": "drawn-words",
   "metadata": {},
   "outputs": [
    {
     "name": "stdout",
     "output_type": "stream",
     "text": [
      "<Response [200]>\n"
     ]
    }
   ],
   "source": [
    "r = requests.get(url)\n",
    "print (r)"
   ]
  },
  {
   "cell_type": "markdown",
   "id": "removable-sarah",
   "metadata": {},
   "source": [
    "We use `requests.get` to retrieve the data from the URL. The response status code says whether we were successful in getting the data requested and why not if we were unsuccessful:\n",
    "<ul>\n",
    "<li>200 -- everything went okay, and the result has been returned (if any)\n",
    "<li>301 -- the server is redirecting you to a different endpoint. This can happen when a company switches domain names, or an endpoint name is changed.\n",
    "<li>400 -- the server thinks you made a bad request. This can happen when you don't send along the right data, among other things.\n",
    "<li>404 -- the resource you tried to access wasn't found on the server.\n",
    "</ul>"
   ]
  },
  {
   "cell_type": "markdown",
   "id": "warming-rescue",
   "metadata": {},
   "source": [
    "###### Store the response as a nested dictionary and see the output"
   ]
  },
  {
   "cell_type": "markdown",
   "id": "further-olympus",
   "metadata": {},
   "source": [
    "A nested dictionary in python is a dictionary within a dictionary. It's a collection of dictionaries into one single directory. <br>\n",
    "In TILDE, each data domain has different entries which sit within that specific domain name. For example, DART data sit within the _dart_ domain. By creating a nested dictionary we can specify the domain and then split it by domain name. "
   ]
  },
  {
   "cell_type": "code",
   "execution_count": 5,
   "id": "scenic-michael",
   "metadata": {},
   "outputs": [
    {
     "data": {
      "text/plain": [
       "dict"
      ]
     },
     "execution_count": 5,
     "metadata": {},
     "output_type": "execute_result"
    }
   ],
   "source": [
    "summary = r.json()\n",
    "type(summary)"
   ]
  },
  {
   "cell_type": "code",
   "execution_count": 6,
   "id": "cross-shopping",
   "metadata": {},
   "outputs": [
    {
     "data": {
      "text/plain": [
       "{'domains': {'dart': {'domain_name': 'dart',\n",
       "   'description': 'Deep-ocean Assessment and Reporting of Tsunami',\n",
       "   'recordCount': 298497,\n",
       "   'seriesCount': 25,\n",
       "   'stationCount': 12,\n",
       "   'earliestRecord': '2019-12-13T02:15:00Z',\n",
       "   'latestRecord': '2021-10-07T12:00:00Z'}}}"
      ]
     },
     "execution_count": 6,
     "metadata": {},
     "output_type": "execute_result"
    }
   ],
   "source": [
    "summary"
   ]
  },
  {
   "cell_type": "markdown",
   "id": "brief-production",
   "metadata": {},
   "source": [
    "######  Specifying the domains from the summary"
   ]
  },
  {
   "cell_type": "markdown",
   "id": "dental-turkey",
   "metadata": {},
   "source": [
    "Currently only the DART domain exists in tilde. As more domains become available more details will be shown here. "
   ]
  },
  {
   "cell_type": "code",
   "execution_count": 7,
   "id": "automated-rental",
   "metadata": {},
   "outputs": [
    {
     "data": {
      "text/plain": [
       "{'dart': {'domain_name': 'dart',\n",
       "  'description': 'Deep-ocean Assessment and Reporting of Tsunami',\n",
       "  'recordCount': 298497,\n",
       "  'seriesCount': 25,\n",
       "  'stationCount': 12,\n",
       "  'earliestRecord': '2019-12-13T02:15:00Z',\n",
       "  'latestRecord': '2021-10-07T12:00:00Z'}}"
      ]
     },
     "execution_count": 7,
     "metadata": {},
     "output_type": "execute_result"
    }
   ],
   "source": [
    "domains = summary['domains']\n",
    "domains"
   ]
  },
  {
   "cell_type": "markdown",
   "id": "polish-wonder",
   "metadata": {},
   "source": [
    "**Access Method 1 - Use the items method to access each entry**\n",
    "<br>\n",
    "To have actual information about the domain you can print out the key-value pairs as shown below. In this case we print out various item names that have been returned for our _dart_ domain in the response above. We are printing out each item line by line, with the domain name being at the top. "
   ]
  },
  {
   "cell_type": "code",
   "execution_count": 8,
   "id": "bizarre-prefix",
   "metadata": {},
   "outputs": [
    {
     "name": "stdout",
     "output_type": "stream",
     "text": [
      "For Domain =  dart\n",
      "\tDomain name = dart\n",
      "\tDescription = Deep-ocean Assessment and Reporting of Tsunami\n",
      "\tRecord count = 298497\n",
      "\tSeries count = 25\n",
      "\tStation count = 12\n",
      "\tEarliest record = 2019-12-13T02:15:00Z\n",
      "\tLatest record = 2021-10-07T12:00:00Z\n"
     ]
    }
   ],
   "source": [
    "#iterate over key,value pairs and print the results\n",
    "for domain,detail in domains.items():\n",
    "    print ('For Domain = ', domain)     \n",
    "    print ('\\tDomain name =', detail.get('domain_name'))\n",
    "    print ('\\tDescription =', detail.get('description'))\n",
    "    print ('\\tRecord count =', detail.get('recordCount'))\n",
    "    print ('\\tSeries count =', detail.get('seriesCount'))\n",
    "    print ('\\tStation count =', detail.get('stationCount'))\n",
    "    print ('\\tEarliest record =', detail.get('earliestRecord'))\n",
    "    print ('\\tLatest record =', detail.get('latestRecord'))"
   ]
  },
  {
   "cell_type": "markdown",
   "id": "ethical-understanding",
   "metadata": {},
   "source": [
    "**Access Method 2 - Summary info in table format**\n",
    "<br>\n",
    "Pandas dataframes can be quite useful because they enable the user to visualize information in a table instead of line-by-line as shown above. The dataframe calls for the values in the 'domains' variable that we set above and then the 'orient' (orientation) is specified to be the 'index' because we are using the dictionary keys as rows. Where the dictionary keys are 'domain_name, description, record_count, etc.'. If we had multiple domains, this would create extra row entries."
   ]
  },
  {
   "cell_type": "code",
   "execution_count": 9,
   "id": "spatial-booking",
   "metadata": {},
   "outputs": [
    {
     "data": {
      "text/html": [
       "<div>\n",
       "<style scoped>\n",
       "    .dataframe tbody tr th:only-of-type {\n",
       "        vertical-align: middle;\n",
       "    }\n",
       "\n",
       "    .dataframe tbody tr th {\n",
       "        vertical-align: top;\n",
       "    }\n",
       "\n",
       "    .dataframe thead th {\n",
       "        text-align: right;\n",
       "    }\n",
       "</style>\n",
       "<table border=\"1\" class=\"dataframe\">\n",
       "  <thead>\n",
       "    <tr style=\"text-align: right;\">\n",
       "      <th></th>\n",
       "      <th>domain_name</th>\n",
       "      <th>description</th>\n",
       "      <th>recordCount</th>\n",
       "      <th>seriesCount</th>\n",
       "      <th>stationCount</th>\n",
       "      <th>earliestRecord</th>\n",
       "      <th>latestRecord</th>\n",
       "    </tr>\n",
       "  </thead>\n",
       "  <tbody>\n",
       "    <tr>\n",
       "      <th>dart</th>\n",
       "      <td>dart</td>\n",
       "      <td>Deep-ocean Assessment and Reporting of Tsunami</td>\n",
       "      <td>298497</td>\n",
       "      <td>25</td>\n",
       "      <td>12</td>\n",
       "      <td>2019-12-13T02:15:00Z</td>\n",
       "      <td>2021-10-07T12:00:00Z</td>\n",
       "    </tr>\n",
       "  </tbody>\n",
       "</table>\n",
       "</div>"
      ],
      "text/plain": [
       "     domain_name                                     description  recordCount  \\\n",
       "dart        dart  Deep-ocean Assessment and Reporting of Tsunami       298497   \n",
       "\n",
       "      seriesCount  stationCount        earliestRecord          latestRecord  \n",
       "dart           25            12  2019-12-13T02:15:00Z  2021-10-07T12:00:00Z  "
      ]
     },
     "execution_count": 9,
     "metadata": {},
     "output_type": "execute_result"
    }
   ],
   "source": [
    "df = pd.DataFrame.from_dict(data=domains, orient='index')\n",
    "df"
   ]
  },
  {
   "cell_type": "markdown",
   "id": "super-directive",
   "metadata": {},
   "source": [
    "**Access Method 3 - Normalizing semi-structured JSON data into a flat table.**\n",
    "<br>\n",
    "This is quite similar to the step above, but adds the domain value (e.g. dart) to the beginning of the header of each column. This will then make new columns with the keys as headers for each new domain. This would eventually create a table with a lot of columns if there are many headers and different domains. E.g. See an example below using only two different headers (domain_name and description) but for two domains (dart and gnss). "
   ]
  },
  {
   "cell_type": "markdown",
   "id": "social-prototype",
   "metadata": {},
   "source": [
    "|&nbsp; | dart.domain_name | dart.description | gnss.domain_name | gnss.description |\n",
    "| --- | --- | --- | --- | --- |\n",
    "|0 | dart | Deep-ocean Assessment and Reporting of Tsunami | NaN | NaN |\n",
    "|1 | NaN | NaN | gnss | Global Navigation Satellite Systems | "
   ]
  },
  {
   "cell_type": "code",
   "execution_count": 10,
   "id": "headed-pillow",
   "metadata": {},
   "outputs": [
    {
     "data": {
      "text/html": [
       "<div>\n",
       "<style scoped>\n",
       "    .dataframe tbody tr th:only-of-type {\n",
       "        vertical-align: middle;\n",
       "    }\n",
       "\n",
       "    .dataframe tbody tr th {\n",
       "        vertical-align: top;\n",
       "    }\n",
       "\n",
       "    .dataframe thead th {\n",
       "        text-align: right;\n",
       "    }\n",
       "</style>\n",
       "<table border=\"1\" class=\"dataframe\">\n",
       "  <thead>\n",
       "    <tr style=\"text-align: right;\">\n",
       "      <th></th>\n",
       "      <th>dart.domain_name</th>\n",
       "      <th>dart.description</th>\n",
       "      <th>dart.recordCount</th>\n",
       "      <th>dart.seriesCount</th>\n",
       "      <th>dart.stationCount</th>\n",
       "      <th>dart.earliestRecord</th>\n",
       "      <th>dart.latestRecord</th>\n",
       "    </tr>\n",
       "  </thead>\n",
       "  <tbody>\n",
       "    <tr>\n",
       "      <th>0</th>\n",
       "      <td>dart</td>\n",
       "      <td>Deep-ocean Assessment and Reporting of Tsunami</td>\n",
       "      <td>298497</td>\n",
       "      <td>25</td>\n",
       "      <td>12</td>\n",
       "      <td>2019-12-13T02:15:00Z</td>\n",
       "      <td>2021-10-07T12:00:00Z</td>\n",
       "    </tr>\n",
       "  </tbody>\n",
       "</table>\n",
       "</div>"
      ],
      "text/plain": [
       "  dart.domain_name                                dart.description  \\\n",
       "0             dart  Deep-ocean Assessment and Reporting of Tsunami   \n",
       "\n",
       "   dart.recordCount  dart.seriesCount  dart.stationCount  \\\n",
       "0            298497                25                 12   \n",
       "\n",
       "    dart.earliestRecord     dart.latestRecord  \n",
       "0  2019-12-13T02:15:00Z  2021-10-07T12:00:00Z  "
      ]
     },
     "execution_count": 10,
     "metadata": {},
     "output_type": "execute_result"
    }
   ],
   "source": [
    "df = pd.json_normalize(domains)\n",
    "df"
   ]
  },
  {
   "cell_type": "markdown",
   "id": "quality-rochester",
   "metadata": {},
   "source": [
    "## &nbsp;3. Building a TILDE Query with a specific domain\n",
    "\n",
    "This query returns information about the specific data domains provided. <br> \n",
    "The query is `https://tilde.geonet.org.nz/v1/dataSummary/[domain]`. For this example we will continue to use the DART domain."
   ]
  },
  {
   "cell_type": "markdown",
   "id": "lyric-pulse",
   "metadata": {},
   "source": [
    "######  Exploring summary for the DART domain\n",
    "<br>\n",
    "Following the same steps as above but specifying 'dart' domain after 'dataSummary'"
   ]
  },
  {
   "cell_type": "code",
   "execution_count": 11,
   "id": "acoustic-consent",
   "metadata": {},
   "outputs": [],
   "source": [
    "url = 'https://tilde.geonet.org.nz/v1/dataSummary/dart'\n",
    "r = requests.get(url)\n",
    "summary = r.json()"
   ]
  },
  {
   "cell_type": "markdown",
   "id": "still-filling",
   "metadata": {},
   "source": [
    "#### Find available data types, specifically for `water-height`\n",
    "For the DART data there are two sampling rates for water-height, the standard mode where data is sampled every 15 minutes (WTZ) and the trigger mode/higher rate where the water-height is sampled every 15 seconds (UTZ). "
   ]
  },
  {
   "cell_type": "markdown",
   "id": "close-thing",
   "metadata": {},
   "source": [
    "**Access Method 1 - Dig down to the specific key for data types**\n",
    "<br>\n",
    "This shows the different data types that are within the summary file, with particular focus on water-height. With this we can see the earliest and latest record for the two different sample rates for water-height. As the higher rate (UTZ) is only used during the triggered period, using the 'latestRecord' we can see when the last triggered period was. "
   ]
  },
  {
   "cell_type": "code",
   "execution_count": 12,
   "id": "earned-norman",
   "metadata": {},
   "outputs": [
    {
     "data": {
      "text/plain": [
       "{'UTZ': {'type_name': 'UTZ',\n",
       "  'recordCount': 63549,\n",
       "  'stationCount': 12,\n",
       "  'earliestRecord': '2020-03-14T10:05:00Z',\n",
       "  'latestRecord': '2021-10-02T09:59:45Z'},\n",
       " 'WTZ': {'type_name': 'WTZ',\n",
       "  'recordCount': 234948,\n",
       "  'stationCount': 11,\n",
       "  'earliestRecord': '2019-12-13T02:15:00Z',\n",
       "  'latestRecord': '2021-10-07T12:00:00Z'}}"
      ]
     },
     "execution_count": 12,
     "metadata": {},
     "output_type": "execute_result"
    }
   ],
   "source": [
    "datatypes = summary['domain']['dart']['names']['water-height']['types']\n",
    "datatypes"
   ]
  },
  {
   "cell_type": "markdown",
   "id": "understood-socket",
   "metadata": {},
   "source": [
    "This information can also be displayed in a table using a pandas dataframe to make the results easier to read. This is using the same example as earlier but focuses on water height as we are using the 'datatypes' variable which we specified above."
   ]
  },
  {
   "cell_type": "code",
   "execution_count": 13,
   "id": "domestic-aquatic",
   "metadata": {},
   "outputs": [
    {
     "data": {
      "text/html": [
       "<div>\n",
       "<style scoped>\n",
       "    .dataframe tbody tr th:only-of-type {\n",
       "        vertical-align: middle;\n",
       "    }\n",
       "\n",
       "    .dataframe tbody tr th {\n",
       "        vertical-align: top;\n",
       "    }\n",
       "\n",
       "    .dataframe thead th {\n",
       "        text-align: right;\n",
       "    }\n",
       "</style>\n",
       "<table border=\"1\" class=\"dataframe\">\n",
       "  <thead>\n",
       "    <tr style=\"text-align: right;\">\n",
       "      <th></th>\n",
       "      <th>type_name</th>\n",
       "      <th>recordCount</th>\n",
       "      <th>stationCount</th>\n",
       "      <th>earliestRecord</th>\n",
       "      <th>latestRecord</th>\n",
       "    </tr>\n",
       "  </thead>\n",
       "  <tbody>\n",
       "    <tr>\n",
       "      <th>UTZ</th>\n",
       "      <td>UTZ</td>\n",
       "      <td>63549</td>\n",
       "      <td>12</td>\n",
       "      <td>2020-03-14T10:05:00Z</td>\n",
       "      <td>2021-10-02T09:59:45Z</td>\n",
       "    </tr>\n",
       "    <tr>\n",
       "      <th>WTZ</th>\n",
       "      <td>WTZ</td>\n",
       "      <td>234948</td>\n",
       "      <td>11</td>\n",
       "      <td>2019-12-13T02:15:00Z</td>\n",
       "      <td>2021-10-07T12:00:00Z</td>\n",
       "    </tr>\n",
       "  </tbody>\n",
       "</table>\n",
       "</div>"
      ],
      "text/plain": [
       "    type_name  recordCount  stationCount        earliestRecord  \\\n",
       "UTZ       UTZ        63549            12  2020-03-14T10:05:00Z   \n",
       "WTZ       WTZ       234948            11  2019-12-13T02:15:00Z   \n",
       "\n",
       "             latestRecord  \n",
       "UTZ  2021-10-02T09:59:45Z  \n",
       "WTZ  2021-10-07T12:00:00Z  "
      ]
     },
     "execution_count": 13,
     "metadata": {},
     "output_type": "execute_result"
    }
   ],
   "source": [
    "df = pd.DataFrame.from_dict(data=datatypes, orient='index')\n",
    "df"
   ]
  },
  {
   "cell_type": "markdown",
   "id": "australian-scout",
   "metadata": {},
   "source": [
    "## &nbsp;4. Find station locations and display on a map"
   ]
  },
  {
   "cell_type": "markdown",
   "id": "accepted-sunrise",
   "metadata": {},
   "source": [
    "**Access Method 1 - Using the specific key for station metadata**\n",
    "<br>\n",
    "Using the summary file we can access the DART station locations"
   ]
  },
  {
   "cell_type": "code",
   "execution_count": 14,
   "id": "hairy-cedar",
   "metadata": {},
   "outputs": [],
   "source": [
    "stations = summary['domain']['dart']['stations']"
   ]
  },
  {
   "cell_type": "markdown",
   "id": "julian-account",
   "metadata": {},
   "source": [
    "Using station.items we can specify what variables we are after, e.g. station_name, latitude, longitude and then print these. The key used is also the station_name. "
   ]
  },
  {
   "cell_type": "code",
   "execution_count": 15,
   "id": "severe-shower",
   "metadata": {},
   "outputs": [
    {
     "name": "stdout",
     "output_type": "stream",
     "text": [
      "NZA NZA -42.371 176.914\n",
      "NZB NZB -40.599 179.096\n",
      "NZC NZC -38.2 -179.797\n",
      "NZD NZD -36.0998 178.6037\n",
      "NZE NZE -36.049 -177.703\n",
      "NZF NZF -29.682 -175.009\n",
      "NZG NZG -23.344 -173.409\n",
      "NZH NZH -20.087 -171.854\n",
      "NZI NZI -16.89 -171.198\n",
      "NZJ NZJ -26.6672 163.9549\n",
      "NZK NZK -24.3093 169.4988\n",
      "NZL NZL -19.3096 166.782\n"
     ]
    }
   ],
   "source": [
    "for key,val in stations.items():\n",
    "    print (key, val['station_name'], val['latitude'], val['longitude'])"
   ]
  },
  {
   "cell_type": "markdown",
   "id": "absolute-wesley",
   "metadata": {},
   "source": [
    "**Access Method 2 - Direct to a Pandas dataframe**\n",
    "<br>\n",
    "For easier reading we can then make this information into a pandas dataframe where we are only focusing on station_name, latitude, and longitude. Which we can specify using `columns=[]`. So the station becomes the dataframe index and the other keys the column names. "
   ]
  },
  {
   "cell_type": "code",
   "execution_count": 16,
   "id": "suffering-girlfriend",
   "metadata": {},
   "outputs": [
    {
     "data": {
      "text/html": [
       "<div>\n",
       "<style scoped>\n",
       "    .dataframe tbody tr th:only-of-type {\n",
       "        vertical-align: middle;\n",
       "    }\n",
       "\n",
       "    .dataframe tbody tr th {\n",
       "        vertical-align: top;\n",
       "    }\n",
       "\n",
       "    .dataframe thead th {\n",
       "        text-align: right;\n",
       "    }\n",
       "</style>\n",
       "<table border=\"1\" class=\"dataframe\">\n",
       "  <thead>\n",
       "    <tr style=\"text-align: right;\">\n",
       "      <th></th>\n",
       "      <th>station_name</th>\n",
       "      <th>latitude</th>\n",
       "      <th>longitude</th>\n",
       "    </tr>\n",
       "  </thead>\n",
       "  <tbody>\n",
       "    <tr>\n",
       "      <th>NZA</th>\n",
       "      <td>NZA</td>\n",
       "      <td>-42.3710</td>\n",
       "      <td>176.9140</td>\n",
       "    </tr>\n",
       "    <tr>\n",
       "      <th>NZB</th>\n",
       "      <td>NZB</td>\n",
       "      <td>-40.5990</td>\n",
       "      <td>179.0960</td>\n",
       "    </tr>\n",
       "    <tr>\n",
       "      <th>NZC</th>\n",
       "      <td>NZC</td>\n",
       "      <td>-38.2000</td>\n",
       "      <td>-179.7970</td>\n",
       "    </tr>\n",
       "    <tr>\n",
       "      <th>NZD</th>\n",
       "      <td>NZD</td>\n",
       "      <td>-36.0998</td>\n",
       "      <td>178.6037</td>\n",
       "    </tr>\n",
       "    <tr>\n",
       "      <th>NZE</th>\n",
       "      <td>NZE</td>\n",
       "      <td>-36.0490</td>\n",
       "      <td>-177.7030</td>\n",
       "    </tr>\n",
       "    <tr>\n",
       "      <th>NZF</th>\n",
       "      <td>NZF</td>\n",
       "      <td>-29.6820</td>\n",
       "      <td>-175.0090</td>\n",
       "    </tr>\n",
       "    <tr>\n",
       "      <th>NZG</th>\n",
       "      <td>NZG</td>\n",
       "      <td>-23.3440</td>\n",
       "      <td>-173.4090</td>\n",
       "    </tr>\n",
       "    <tr>\n",
       "      <th>NZH</th>\n",
       "      <td>NZH</td>\n",
       "      <td>-20.0870</td>\n",
       "      <td>-171.8540</td>\n",
       "    </tr>\n",
       "    <tr>\n",
       "      <th>NZI</th>\n",
       "      <td>NZI</td>\n",
       "      <td>-16.8900</td>\n",
       "      <td>-171.1980</td>\n",
       "    </tr>\n",
       "    <tr>\n",
       "      <th>NZJ</th>\n",
       "      <td>NZJ</td>\n",
       "      <td>-26.6672</td>\n",
       "      <td>163.9549</td>\n",
       "    </tr>\n",
       "    <tr>\n",
       "      <th>NZK</th>\n",
       "      <td>NZK</td>\n",
       "      <td>-24.3093</td>\n",
       "      <td>169.4988</td>\n",
       "    </tr>\n",
       "    <tr>\n",
       "      <th>NZL</th>\n",
       "      <td>NZL</td>\n",
       "      <td>-19.3096</td>\n",
       "      <td>166.7820</td>\n",
       "    </tr>\n",
       "  </tbody>\n",
       "</table>\n",
       "</div>"
      ],
      "text/plain": [
       "    station_name  latitude  longitude\n",
       "NZA          NZA  -42.3710   176.9140\n",
       "NZB          NZB  -40.5990   179.0960\n",
       "NZC          NZC  -38.2000  -179.7970\n",
       "NZD          NZD  -36.0998   178.6037\n",
       "NZE          NZE  -36.0490  -177.7030\n",
       "NZF          NZF  -29.6820  -175.0090\n",
       "NZG          NZG  -23.3440  -173.4090\n",
       "NZH          NZH  -20.0870  -171.8540\n",
       "NZI          NZI  -16.8900  -171.1980\n",
       "NZJ          NZJ  -26.6672   163.9549\n",
       "NZK          NZK  -24.3093   169.4988\n",
       "NZL          NZL  -19.3096   166.7820"
      ]
     },
     "execution_count": 16,
     "metadata": {},
     "output_type": "execute_result"
    }
   ],
   "source": [
    "df = pd.DataFrame.from_dict(data=stations, orient='index', columns=['station_name', 'latitude', 'longitude'])\n",
    "df"
   ]
  },
  {
   "cell_type": "markdown",
   "id": "narrow-magazine",
   "metadata": {},
   "source": [
    "**Map the positions, using the dataframe as the data source**\n",
    "<br>\n",
    "Using cartopy https://scitools.org.uk/cartopy/docs/latest/index.html and matplotlib we can then generate a map of the stations using the values (station_name, latitude and longitude) from the pandas dataframe `df` that we generated in the step above. Using the station_name variable we can also plot the names next to the stations using `ax.text`. "
   ]
  },
  {
   "cell_type": "code",
   "execution_count": 17,
   "id": "apart-transition",
   "metadata": {},
   "outputs": [
    {
     "data": {
      "image/png": "[encoded data removed]",
      "text/plain": [
       "<Figure size 360x360 with 1 Axes>"
      ]
     },
     "metadata": {
      "needs_background": "light"
     },
     "output_type": "display_data"
    }
   ],
   "source": [
    "import matplotlib.pyplot as plt\n",
    "from matplotlib.transforms import offset_copy\n",
    "import cartopy.crs as ccrs\n",
    "import cartopy.feature as cfeature\n",
    "\n",
    "fig = plt.figure(figsize=(5,5))\n",
    "ax = fig.add_subplot(1, 1, 1, projection=ccrs.PlateCarree(central_longitude=180))\n",
    "ax.set_extent([160, 190, -48, -15], crs=ccrs.PlateCarree())\n",
    "\n",
    "# Put a background image on for nice sea rendering.\n",
    "ax.stock_img()\n",
    "\n",
    "ax.add_feature(cfeature.LAND)\n",
    "ax.add_feature(cfeature.COASTLINE)\n",
    "\n",
    "xx = df['longitude'].values\n",
    "yy = df['latitude'].values\n",
    "names = df['station_name'].values\n",
    "ax.plot(xx, yy, color='red', marker='o', linestyle='None', transform=ccrs.Geodetic())\n",
    "\n",
    "geodetic_transform = ccrs.Geodetic()._as_mpl_transform(ax)\n",
    "text_transform = offset_copy(geodetic_transform, units='dots', y=-10)\n",
    "\n",
    "for x, y, n in zip(xx, yy, names):\n",
    "    ax.text(x, y, n, fontsize=8, verticalalignment='center', horizontalalignment='center', transform=text_transform)\n",
    "             "
   ]
  },
  {
   "cell_type": "markdown",
   "id": "dying-audit",
   "metadata": {},
   "source": [
    "## &nbsp;5. Station data and data plots"
   ]
  },
  {
   "cell_type": "markdown",
   "id": "interior-characteristic",
   "metadata": {},
   "source": [
    "#### Create a dataframe of station record data (number, earliest, latest) and visualize this in different ways\n",
    "This is a python module that defines the levels of the nested category. We need to step through each level of the nested dictionary, first finding the keys at that level, then iterating through those keys. Finally we assign the results to a pandas dataframe for easy analysis."
   ]
  },
  {
   "cell_type": "code",
   "execution_count": 18,
   "id": "confidential-immune",
   "metadata": {},
   "outputs": [],
   "source": [
    "def station_data(summary):\n",
    "    #dataframe for results\n",
    "    df = pd.DataFrame()\n",
    "    \n",
    "    #select just station part of dictionary\n",
    "    stations = summary['domain']['dart']['stations']\n",
    "\n",
    "    #get list of stations\n",
    "    stationlist = []\n",
    "    for key,val in stations.items():\n",
    "        stationlist.append(key)\n",
    "    #     print (key, val['station_name'], val['latitude'], val['longitude'])\n",
    "\n",
    "    #with each station, get the sensorcode part of the dictionary\n",
    "    for sta in stationlist:\n",
    "#         print ('##'+sta+'##')\n",
    "        sensorcodes = stations[sta]['sensor_codes']\n",
    "    #     print (sensorcodes)\n",
    "\n",
    "        codelist = []\n",
    "        for key,val in sensorcodes.items():\n",
    "            codelist.append(key)\n",
    "    #         print (val['sensor_code'])\n",
    "\n",
    "        #get the names part\n",
    "        for code in codelist:\n",
    "#             print (code)\n",
    "            names = sensorcodes[code]['names']\n",
    "\n",
    "            namelist = []\n",
    "            for key,val in names.items():\n",
    "                namelist.append(key)\n",
    "    #             print (val['measure_name'])\n",
    "\n",
    "            #get the types part    \n",
    "            for name in namelist:\n",
    "#                 print ('name='+name)\n",
    "                types = names[name]['types']\n",
    "\n",
    "                typelist = []\n",
    "                for key,val in types.items():\n",
    "                    typelist.append(key)\n",
    "    #                 print (val['type_name'])\n",
    "\n",
    "                for type in typelist:\n",
    "#                     print ('type='+type)\n",
    "                    records = types[type]\n",
    "                    recordcount = records.get('recordCount')\n",
    "                    earliestrecord = records.get('earliestRecord')\n",
    "                    latestrecord = records.get('latestRecord')\n",
    "                    \n",
    "                    d = {'station':sta, 'data_name':name, 'data_type':type, 'record_count':recordcount, 'earliestrecord':earliestrecord, 'latestrecord':latestrecord}\n",
    "                    df = df.append(d, ignore_index=True)\n",
    "#         print()\n",
    "    df['earliestrecord'] = pd.to_datetime(df['earliestrecord'])\n",
    "    df['latestrecord'] = pd.to_datetime(df['latestrecord'])\n",
    "    return(df)"
   ]
  },
  {
   "cell_type": "markdown",
   "id": "animal-singapore",
   "metadata": {},
   "source": [
    "We can now call the function to get the main station data. By using `df.head()` we are also only asking for the first few lines. If we used `df.tail()` we can see the last few lines. "
   ]
  },
  {
   "cell_type": "code",
   "execution_count": 19,
   "id": "dimensional-distinction",
   "metadata": {},
   "outputs": [
    {
     "data": {
      "text/html": [
       "<div>\n",
       "<style scoped>\n",
       "    .dataframe tbody tr th:only-of-type {\n",
       "        vertical-align: middle;\n",
       "    }\n",
       "\n",
       "    .dataframe tbody tr th {\n",
       "        vertical-align: top;\n",
       "    }\n",
       "\n",
       "    .dataframe thead th {\n",
       "        text-align: right;\n",
       "    }\n",
       "</style>\n",
       "<table border=\"1\" class=\"dataframe\">\n",
       "  <thead>\n",
       "    <tr style=\"text-align: right;\">\n",
       "      <th></th>\n",
       "      <th>station</th>\n",
       "      <th>data_name</th>\n",
       "      <th>data_type</th>\n",
       "      <th>record_count</th>\n",
       "      <th>earliestrecord</th>\n",
       "      <th>latestrecord</th>\n",
       "    </tr>\n",
       "  </thead>\n",
       "  <tbody>\n",
       "    <tr>\n",
       "      <th>0</th>\n",
       "      <td>NZA</td>\n",
       "      <td>water-height</td>\n",
       "      <td>UTZ</td>\n",
       "      <td>13491.0</td>\n",
       "      <td>2020-05-08 04:43:00+00:00</td>\n",
       "      <td>2021-09-07 06:05:00+00:00</td>\n",
       "    </tr>\n",
       "    <tr>\n",
       "      <th>1</th>\n",
       "      <td>NZA</td>\n",
       "      <td>water-height</td>\n",
       "      <td>WTZ</td>\n",
       "      <td>43972.0</td>\n",
       "      <td>2019-12-21 22:15:00+00:00</td>\n",
       "      <td>2021-10-07 12:00:00+00:00</td>\n",
       "    </tr>\n",
       "    <tr>\n",
       "      <th>2</th>\n",
       "      <td>NZB</td>\n",
       "      <td>water-height</td>\n",
       "      <td>UTZ</td>\n",
       "      <td>9258.0</td>\n",
       "      <td>2020-10-28 22:19:15+00:00</td>\n",
       "      <td>2021-08-17 23:48:15+00:00</td>\n",
       "    </tr>\n",
       "    <tr>\n",
       "      <th>3</th>\n",
       "      <td>NZB</td>\n",
       "      <td>water-height</td>\n",
       "      <td>WTZ</td>\n",
       "      <td>26684.0</td>\n",
       "      <td>2020-09-18 23:15:00+00:00</td>\n",
       "      <td>2021-10-07 12:00:00+00:00</td>\n",
       "    </tr>\n",
       "    <tr>\n",
       "      <th>4</th>\n",
       "      <td>NZC</td>\n",
       "      <td>water-height</td>\n",
       "      <td>UTZ</td>\n",
       "      <td>3780.0</td>\n",
       "      <td>2020-05-29 01:00:00+00:00</td>\n",
       "      <td>2021-07-24 02:06:00+00:00</td>\n",
       "    </tr>\n",
       "  </tbody>\n",
       "</table>\n",
       "</div>"
      ],
      "text/plain": [
       "  station     data_name data_type  record_count            earliestrecord  \\\n",
       "0     NZA  water-height       UTZ       13491.0 2020-05-08 04:43:00+00:00   \n",
       "1     NZA  water-height       WTZ       43972.0 2019-12-21 22:15:00+00:00   \n",
       "2     NZB  water-height       UTZ        9258.0 2020-10-28 22:19:15+00:00   \n",
       "3     NZB  water-height       WTZ       26684.0 2020-09-18 23:15:00+00:00   \n",
       "4     NZC  water-height       UTZ        3780.0 2020-05-29 01:00:00+00:00   \n",
       "\n",
       "               latestrecord  \n",
       "0 2021-09-07 06:05:00+00:00  \n",
       "1 2021-10-07 12:00:00+00:00  \n",
       "2 2021-08-17 23:48:15+00:00  \n",
       "3 2021-10-07 12:00:00+00:00  \n",
       "4 2021-07-24 02:06:00+00:00  "
      ]
     },
     "execution_count": 19,
     "metadata": {},
     "output_type": "execute_result"
    }
   ],
   "source": [
    "#call function to get main station data\n",
    "df = station_data(summary)\n",
    "df.head()"
   ]
  },
  {
   "cell_type": "markdown",
   "id": "armed-tours",
   "metadata": {},
   "source": [
    "**Record count by station and type**\n",
    "<br>\n",
    "By using `pd.pivot_table` we can transform the above table, so we can look at different record_counts (UTZ and WTZ) against each station. "
   ]
  },
  {
   "cell_type": "code",
   "execution_count": 20,
   "id": "selective-charity",
   "metadata": {},
   "outputs": [
    {
     "data": {
      "text/html": [
       "<div>\n",
       "<style scoped>\n",
       "    .dataframe tbody tr th:only-of-type {\n",
       "        vertical-align: middle;\n",
       "    }\n",
       "\n",
       "    .dataframe tbody tr th {\n",
       "        vertical-align: top;\n",
       "    }\n",
       "\n",
       "    .dataframe thead tr th {\n",
       "        text-align: left;\n",
       "    }\n",
       "\n",
       "    .dataframe thead tr:last-of-type th {\n",
       "        text-align: right;\n",
       "    }\n",
       "</style>\n",
       "<table border=\"1\" class=\"dataframe\">\n",
       "  <thead>\n",
       "    <tr>\n",
       "      <th></th>\n",
       "      <th colspan=\"2\" halign=\"left\">record_count</th>\n",
       "    </tr>\n",
       "    <tr>\n",
       "      <th>data_type</th>\n",
       "      <th>UTZ</th>\n",
       "      <th>WTZ</th>\n",
       "    </tr>\n",
       "    <tr>\n",
       "      <th>station</th>\n",
       "      <th></th>\n",
       "      <th></th>\n",
       "    </tr>\n",
       "  </thead>\n",
       "  <tbody>\n",
       "    <tr>\n",
       "      <th>NZA</th>\n",
       "      <td>13491.0</td>\n",
       "      <td>43972.0</td>\n",
       "    </tr>\n",
       "    <tr>\n",
       "      <th>NZB</th>\n",
       "      <td>9258.0</td>\n",
       "      <td>26684.0</td>\n",
       "    </tr>\n",
       "    <tr>\n",
       "      <th>NZC</th>\n",
       "      <td>3780.0</td>\n",
       "      <td>44908.0</td>\n",
       "    </tr>\n",
       "    <tr>\n",
       "      <th>NZD</th>\n",
       "      <td>1729.0</td>\n",
       "      <td>5720.0</td>\n",
       "    </tr>\n",
       "    <tr>\n",
       "      <th>NZE</th>\n",
       "      <td>10515.0</td>\n",
       "      <td>38548.0</td>\n",
       "    </tr>\n",
       "  </tbody>\n",
       "</table>\n",
       "</div>"
      ],
      "text/plain": [
       "          record_count         \n",
       "data_type          UTZ      WTZ\n",
       "station                        \n",
       "NZA            13491.0  43972.0\n",
       "NZB             9258.0  26684.0\n",
       "NZC             3780.0  44908.0\n",
       "NZD             1729.0   5720.0\n",
       "NZE            10515.0  38548.0"
      ]
     },
     "execution_count": 20,
     "metadata": {},
     "output_type": "execute_result"
    }
   ],
   "source": [
    "rc = pd.pivot_table(df, index='station', columns='data_type')\n",
    "rc.head()"
   ]
  },
  {
   "cell_type": "markdown",
   "id": "grand-monroe",
   "metadata": {},
   "source": [
    "We can then plot this as a bar plot using `plot.bar`. This allows us to visualize the number of UTZ and WTZ files for each station. As we'd expect we see more of the standard 15 minute sampled (WTZ) files than the high rate files (UTZ)."
   ]
  },
  {
   "cell_type": "code",
   "execution_count": 21,
   "id": "progressive-definition",
   "metadata": {},
   "outputs": [
    {
     "data": {
      "image/png": "[encoded data removed]",
      "text/plain": [
       "<Figure size 720x360 with 1 Axes>"
      ]
     },
     "metadata": {
      "needs_background": "light"
     },
     "output_type": "display_data"
    }
   ],
   "source": [
    "ax = rc.plot.bar(figsize=(10,5))\n",
    "ax.set_ylabel('record count');"
   ]
  },
  {
   "cell_type": "markdown",
   "id": "mental-albert",
   "metadata": {},
   "source": [
    "**Creating a data range plot, with stations split by type (UTZ, WTZ) against time**"
   ]
  },
  {
   "cell_type": "markdown",
   "id": "round-headquarters",
   "metadata": {},
   "source": [
    "Creating a dataframe with a new column entry 'statyp' which combines the station and the datatype columns, this will produce a column with values such as NZA_UTZ, NZA_WTZ, NZB_UTZ,...etc. We can then sort by this column using `df.sort_values` and specifying the 'statyp' column which we just generated. To view the output of this, add `df` or `df.head()` to a new line in the code box and run."
   ]
  },
  {
   "cell_type": "code",
   "execution_count": 22,
   "id": "portable-asthma",
   "metadata": {},
   "outputs": [],
   "source": [
    "df['statyp'] = df['station'] + '_' + df['data_type']\n",
    "df.sort_values('statyp', inplace=True)"
   ]
  },
  {
   "cell_type": "markdown",
   "id": "miniature-gnome",
   "metadata": {},
   "source": [
    "We now want to make a new column called 'pos' for position this will be the position on the y-axis to plot the data range line. `len(df)` gets the number of rows in the dataframe, for this example there are 25 rows, so len(df) = 25. Using `len(df) - np.arange(len(df))` we start with 25 (as this is the total number of lines) and then with each row we are getting one less. This allows us to have a position value for each row. "
   ]
  },
  {
   "cell_type": "code",
   "execution_count": 23,
   "id": "mediterranean-merchandise",
   "metadata": {},
   "outputs": [
    {
     "data": {
      "text/html": [
       "<div>\n",
       "<style scoped>\n",
       "    .dataframe tbody tr th:only-of-type {\n",
       "        vertical-align: middle;\n",
       "    }\n",
       "\n",
       "    .dataframe tbody tr th {\n",
       "        vertical-align: top;\n",
       "    }\n",
       "\n",
       "    .dataframe thead th {\n",
       "        text-align: right;\n",
       "    }\n",
       "</style>\n",
       "<table border=\"1\" class=\"dataframe\">\n",
       "  <thead>\n",
       "    <tr style=\"text-align: right;\">\n",
       "      <th></th>\n",
       "      <th>station</th>\n",
       "      <th>data_name</th>\n",
       "      <th>data_type</th>\n",
       "      <th>record_count</th>\n",
       "      <th>earliestrecord</th>\n",
       "      <th>latestrecord</th>\n",
       "      <th>statyp</th>\n",
       "      <th>pos</th>\n",
       "    </tr>\n",
       "  </thead>\n",
       "  <tbody>\n",
       "    <tr>\n",
       "      <th>0</th>\n",
       "      <td>NZA</td>\n",
       "      <td>water-height</td>\n",
       "      <td>UTZ</td>\n",
       "      <td>13491.0</td>\n",
       "      <td>2020-05-08 04:43:00+00:00</td>\n",
       "      <td>2021-09-07 06:05:00+00:00</td>\n",
       "      <td>NZA_UTZ</td>\n",
       "      <td>25</td>\n",
       "    </tr>\n",
       "    <tr>\n",
       "      <th>1</th>\n",
       "      <td>NZA</td>\n",
       "      <td>water-height</td>\n",
       "      <td>WTZ</td>\n",
       "      <td>43972.0</td>\n",
       "      <td>2019-12-21 22:15:00+00:00</td>\n",
       "      <td>2021-10-07 12:00:00+00:00</td>\n",
       "      <td>NZA_WTZ</td>\n",
       "      <td>24</td>\n",
       "    </tr>\n",
       "    <tr>\n",
       "      <th>2</th>\n",
       "      <td>NZB</td>\n",
       "      <td>water-height</td>\n",
       "      <td>UTZ</td>\n",
       "      <td>9258.0</td>\n",
       "      <td>2020-10-28 22:19:15+00:00</td>\n",
       "      <td>2021-08-17 23:48:15+00:00</td>\n",
       "      <td>NZB_UTZ</td>\n",
       "      <td>23</td>\n",
       "    </tr>\n",
       "    <tr>\n",
       "      <th>3</th>\n",
       "      <td>NZB</td>\n",
       "      <td>water-height</td>\n",
       "      <td>WTZ</td>\n",
       "      <td>26684.0</td>\n",
       "      <td>2020-09-18 23:15:00+00:00</td>\n",
       "      <td>2021-10-07 12:00:00+00:00</td>\n",
       "      <td>NZB_WTZ</td>\n",
       "      <td>22</td>\n",
       "    </tr>\n",
       "    <tr>\n",
       "      <th>4</th>\n",
       "      <td>NZC</td>\n",
       "      <td>water-height</td>\n",
       "      <td>UTZ</td>\n",
       "      <td>3780.0</td>\n",
       "      <td>2020-05-29 01:00:00+00:00</td>\n",
       "      <td>2021-07-24 02:06:00+00:00</td>\n",
       "      <td>NZC_UTZ</td>\n",
       "      <td>21</td>\n",
       "    </tr>\n",
       "  </tbody>\n",
       "</table>\n",
       "</div>"
      ],
      "text/plain": [
       "  station     data_name data_type  record_count            earliestrecord  \\\n",
       "0     NZA  water-height       UTZ       13491.0 2020-05-08 04:43:00+00:00   \n",
       "1     NZA  water-height       WTZ       43972.0 2019-12-21 22:15:00+00:00   \n",
       "2     NZB  water-height       UTZ        9258.0 2020-10-28 22:19:15+00:00   \n",
       "3     NZB  water-height       WTZ       26684.0 2020-09-18 23:15:00+00:00   \n",
       "4     NZC  water-height       UTZ        3780.0 2020-05-29 01:00:00+00:00   \n",
       "\n",
       "               latestrecord   statyp  pos  \n",
       "0 2021-09-07 06:05:00+00:00  NZA_UTZ   25  \n",
       "1 2021-10-07 12:00:00+00:00  NZA_WTZ   24  \n",
       "2 2021-08-17 23:48:15+00:00  NZB_UTZ   23  \n",
       "3 2021-10-07 12:00:00+00:00  NZB_WTZ   22  \n",
       "4 2021-07-24 02:06:00+00:00  NZC_UTZ   21  "
      ]
     },
     "execution_count": 23,
     "metadata": {},
     "output_type": "execute_result"
    }
   ],
   "source": [
    "df['pos'] = len(df) - np.arange(len(df))\n",
    "df.head()"
   ]
  },
  {
   "cell_type": "markdown",
   "id": "bearing-muscle",
   "metadata": {},
   "source": [
    "Now we can set up the labeling for station name vs yvalue. To set the variable 'station_list' we use the 'statyp' values from the dataframe, this way we will have entries for each station and datatype. The yvals are used to set the spacing between the yticks in the next plot. By using `range` which is `range([start], stop [,step])`. We can generate a list that starts at 25 (from len(df)), stops at 0 and steps by -1 (as we want to decrease from 25 to 0 in 1 tick increments)."
   ]
  },
  {
   "cell_type": "code",
   "execution_count": 24,
   "id": "tired-server",
   "metadata": {},
   "outputs": [],
   "source": [
    "station_list = df['statyp'].values\n",
    "yvals = range((len(df)),0,-1)"
   ]
  },
  {
   "cell_type": "markdown",
   "id": "ethical-breathing",
   "metadata": {},
   "source": [
    "Now we want to visualise this data. We will need to import cycle and islice from itertools which are functions created for efficient looping (https://docs.python.org/3/library/itertools.html), this will be used for alternating colours lines for UTZ and WTZ."
   ]
  },
  {
   "cell_type": "code",
   "execution_count": 25,
   "id": "brazilian-footwear",
   "metadata": {},
   "outputs": [
    {
     "data": {
      "image/png": "[encoded data removed]",
      "text/plain": [
       "<Figure size 1080x720 with 1 Axes>"
      ]
     },
     "metadata": {
      "needs_background": "light"
     },
     "output_type": "display_data"
    }
   ],
   "source": [
    "#data visualization of data range plot\n",
    "from itertools import cycle, islice\n",
    "\n",
    "fig,ax = plt.subplots(figsize=(15,10))\n",
    "\n",
    "#alternate colours, so UTZ and WTZ coloured differently\n",
    "my_colors = list(islice(cycle(['#41b0f0', '#f07b41']), None, len(df)))\n",
    "\n",
    "#setting different variables, x1=earliest record, x2=latest record, y=position and c=colours of lines.\n",
    "#when using ax.plot, we are going from the earliest to the latest record on the x-axis, and the y-axis is set by\n",
    "#position, with the colour being specified by 'my_colors'.\n",
    "for x1, x2, y, c in zip(df['earliestrecord'], df['latestrecord'], df['pos'], my_colors):\n",
    "    ax.plot([x1, x2], [y, y], color=c)\n",
    "\n",
    "#label y-axis with station_type name\n",
    "ax.set_yticks(yvals)\n",
    "ax.set_yticklabels(station_list)\n",
    "\n",
    "ax.grid(axis='x')\n",
    "\n",
    "ax.set_title('Data Range', fontsize=16)\n",
    "ax.set_ylabel('station_type');"
   ]
  }
 ],
 "metadata": {
  "kernelspec": {
   "display_name": "Python 3",
   "language": "python",
   "name": "python3"
  },
  "language_info": {
   "codemirror_mode": {
    "name": "ipython",
    "version": 3
   },
   "file_extension": ".py",
   "mimetype": "text/x-python",
   "name": "python",
   "nbconvert_exporter": "python",
   "pygments_lexer": "ipython3",
   "version": "3.7.8"
  }
 },
 "nbformat": 4,
 "nbformat_minor": 5
}
