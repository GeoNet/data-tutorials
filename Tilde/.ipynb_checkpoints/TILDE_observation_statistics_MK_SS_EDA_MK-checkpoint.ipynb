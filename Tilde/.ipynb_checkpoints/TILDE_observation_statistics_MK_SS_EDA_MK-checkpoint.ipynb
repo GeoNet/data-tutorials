{
 "cells": [
  {
   "cell_type": "markdown",
   "id": "christian-luther",
   "metadata": {},
   "source": [
    "# Exploring Observation Statistics From TILDE, Application to DART Data"
   ]
  },
  {
   "cell_type": "markdown",
   "id": "former-persian",
   "metadata": {},
   "source": [
    "In this notebook we will develop a better understanding of the TILDE `statistics` endpoint. By the end of this tutorial, you will generate a box-and-whisker plot of percentile data and create a height range plot of all DART (Deep-ocean Assessment and Reporting of Tsunamis) buoys. This statistics endpoint can also be accessed from our API (e.g. `https://tilde.geonet.org.nz/api-docs/endpoint/stats`."
   ]
  },
  {
   "cell_type": "markdown",
   "id": "premium-arthur",
   "metadata": {},
   "source": [
    "## &nbsp;Table of contents\n",
    "### 1. Introduction\n",
    "### 2. Building a Basic TILDE Query and Extracting the Key Statistics\n",
    "### 3. Building a Query using startdate and enddate parameters\n",
    "### 4. Building a Query using parameters from the last 7 days\n",
    "### 5. Building a Query using Percentiles\n",
    "### 6. Comparing query results from several stations"
   ]
  },
  {
   "cell_type": "markdown",
   "id": "applicable-canyon",
   "metadata": {},
   "source": [
    "## &nbsp;1. Introduction"
   ]
  },
  {
   "cell_type": "markdown",
   "id": "offensive-laugh",
   "metadata": {},
   "source": [
    "In this tutorial we will be learning how to use Python to access the TILDE API `Statistics` endpoint. To highlight the different functionality and the statistics available we will be using the DART (Deep-ocean Assessment and Reporting of Tsunamis) dataset. GeoNet has an API (Application Programming Interface) to access its DART data. You do not need to know anything about APIs to use this tutorial. If you would like more info see https://tilde-beta.geonet.org.nz/api-docs/.\n",
    "\n",
    "This tutorial assumes you have basic knowledge of Python."
   ]
  },
  {
   "cell_type": "markdown",
   "id": "saving-virginia",
   "metadata": {},
   "source": [
    "###### About GeoNet DART data"
   ]
  },
  {
   "cell_type": "markdown",
   "id": "pleasant-petersburg",
   "metadata": {},
   "source": [
    "GeoNet uses the 12 DART Tsunameters deployed offshore New Zealand and around the Southwestern Pacific Ocean to monitor ocean height. When a change has been detected of a certain magnitude, a buoy will \"trigger\" and go into a heightened detection mode. The DARTs have two operational reporting modes; standard and event. When in standard reporting mode, the BPR (bottom pressure recorder) and buoy system send four six-hour bundles of 15 minute water height values. When in event reporting mode, BPR data are sampled at 15 second intervals and are sent more regularly. The buoy surface location (latitude and longitude) will also be sent daily. <br>\n",
    "TILDE provides access to the 15 minutes and 15 second sampled data.\n",
    "\n",
    "For more DART information see the GeoNet page: https://www.geonet.org.nz/tsunami/dart"
   ]
  },
  {
   "cell_type": "markdown",
   "id": "instructional-vehicle",
   "metadata": {},
   "source": [
    "## &nbsp;2. Building a Basic TILDE Query and Extracting the Key Statistics"
   ]
  },
  {
   "cell_type": "markdown",
   "id": "impressive-failing",
   "metadata": {},
   "source": [
    "###### Import required modules and set the source URL"
   ]
  },
  {
   "cell_type": "code",
   "execution_count": 1,
   "id": "governing-brisbane",
   "metadata": {},
   "outputs": [],
   "source": [
    "import requests\n",
    "import json\n",
    "import pandas as pd\n",
    "import matplotlib.pyplot as plt"
   ]
  },
  {
   "cell_type": "code",
   "execution_count": 2,
   "id": "subtle-grammar",
   "metadata": {},
   "outputs": [],
   "source": [
    "source = 'https://tilde.geonet.org.nz'"
   ]
  },
  {
   "cell_type": "markdown",
   "id": "chemical-treasure",
   "metadata": {},
   "source": [
    "### A basic query with the minimum required parameters\n",
    "\n",
    "The query is `https://tilde-beta.geonet.org.nz/v1/stats/` with the source URL being stated above `https://tilde-beta.geonet.org.nz`.\n",
    "\n",
    "The minimum required parameters are:\n",
    "- domain = `dart`\n",
    "- key = `NZE/water-height/40/WTZ`, this specifies a station `NZE`, a data name `water-height`, a sensor code `40`, and a data type `WTZ`. A data type of `WTZ` is 15 minute sampled data. A data type of `UTZ` is 15 second sampled (triggered) data.\n",
    "With this information we can now use a more specific URL.\n",
    "\n",
    "Optional parameters are:\n",
    "- startdate = `latest` or `2021-01-01`\n",
    "- enddate = `30d` or `2021-01-31`\n",
    "- percentile = list of percentiles you want to query (separated by a comma if more than one)"
   ]
  },
  {
   "cell_type": "code",
   "execution_count": 3,
   "id": "original-suspension",
   "metadata": {},
   "outputs": [],
   "source": [
    "url = source+'/v1/stats/dart/NZE/water-height/40/WTZ?percentiles=95'"
   ]
  },
  {
   "cell_type": "code",
   "execution_count": 4,
   "id": "pursuant-destination",
   "metadata": {},
   "outputs": [
    {
     "name": "stdout",
     "output_type": "stream",
     "text": [
      "<Response [200]>\n"
     ]
    }
   ],
   "source": [
    "r = requests.get(url)\n",
    "print (r)"
   ]
  },
  {
   "cell_type": "markdown",
   "id": "thermal-exhibition",
   "metadata": {},
   "source": [
    "We use `requests.get` to retrieve the data from the URL. The response status code says whether we were successful in getting the data requested and if we were unsuccessful, why not :\n",
    "<ul>\n",
    "<li>200 -- everything went okay, and the result has been returned (if any)\n",
    "<li>301 -- the server is redirecting you to a different endpoint. This can happen when a company switches domain names, or an endpoint name is changed.\n",
    "<li>400 -- the server thinks you made a bad request. This can happen when you don't send along the right data, among other things.\n",
    "<li>404 -- the resource you tried to access wasn't found on the server.\n",
    "</ul>"
   ]
  },
  {
   "cell_type": "markdown",
   "id": "heated-floor",
   "metadata": {},
   "source": [
    "###### Store the response as a nested dictionary and see the output"
   ]
  },
  {
   "cell_type": "markdown",
   "id": "governmental-pathology",
   "metadata": {},
   "source": [
    "A nested dictionary in python is a dictionary within a dictionary. It's a collection of dictionaries into one single directory. In TILDE, each domain has different entries which sit within that specific domain name, e.g. for example, the DART entries sit within the DART domain. By creating a nested dictionary we can then specify the domain and then split it by domain name. `summary` is our nested dictionary and when printed we can see that there are a lot of key:value pairs. "
   ]
  },
  {
   "cell_type": "code",
   "execution_count": 5,
   "id": "tight-light",
   "metadata": {},
   "outputs": [
    {
     "data": {
      "text/plain": [
       "dict"
      ]
     },
     "execution_count": 5,
     "metadata": {},
     "output_type": "execute_result"
    }
   ],
   "source": [
    "summary = r.json()\n",
    "type(summary)"
   ]
  },
  {
   "cell_type": "code",
   "execution_count": 6,
   "id": "found-seller",
   "metadata": {},
   "outputs": [
    {
     "data": {
      "text/plain": [
       "{'series': {'domain': 'dart',\n",
       "  'station': 'NZE',\n",
       "  'name': 'water-height',\n",
       "  'sensorCode': '40',\n",
       "  'type': 'WTZ'},\n",
       " 'lat': -36.0493,\n",
       " 'lon': -177.708,\n",
       " 'seriesElevationM': 0,\n",
       " 'seriesDatum': 'WGS84',\n",
       " 'seriesRelativeHeightM': -5779,\n",
       " 'valueUnit': 'mm',\n",
       " 'errorUnit': 'mm',\n",
       " 'first': {'value': 5779799, 'err': 0, 'qc': '', 'ts': '2019-12-19T00:15:00Z'},\n",
       " 'last': {'value': 5777997, 'err': 0, 'qc': '', 'ts': '2021-10-08T00:00:00Z'},\n",
       " 'maximum': {'value': 5779799,\n",
       "  'err': 0,\n",
       "  'qc': '',\n",
       "  'ts': '2019-12-19T00:15:00Z'},\n",
       " 'minimum': {'value': 5777561,\n",
       "  'err': 0,\n",
       "  'qc': '',\n",
       "  'ts': '2021-05-29T02:45:00Z'},\n",
       " 'count': 38596,\n",
       " 'mean': 5778552.4662,\n",
       " 'median': 5778552,\n",
       " 'stddevPopulation': 426.8847,\n",
       " 'percentiles': [{'perc': 95, 'value': 5779208}]}"
      ]
     },
     "execution_count": 6,
     "metadata": {},
     "output_type": "execute_result"
    }
   ],
   "source": [
    "summary"
   ]
  },
  {
   "cell_type": "markdown",
   "id": "alternative-fruit",
   "metadata": {},
   "source": [
    "##### We can then specify the series\n",
    "<br>\n",
    "Extract the key statistics and display them in a more readable format. To do this, we select the 'series' component of the dictionary and assign it to a new dictionary called `my_series`. Printing the output of `my_series`, can also be compared to `summary` above to see what happens when we select this component."
   ]
  },
  {
   "cell_type": "code",
   "execution_count": 7,
   "id": "sexual-wiring",
   "metadata": {},
   "outputs": [
    {
     "data": {
      "text/plain": [
       "{'domain': 'dart',\n",
       " 'station': 'NZE',\n",
       " 'name': 'water-height',\n",
       " 'sensorCode': '40',\n",
       " 'type': 'WTZ'}"
      ]
     },
     "execution_count": 7,
     "metadata": {},
     "output_type": "execute_result"
    }
   ],
   "source": [
    "my_series = summary['series']\n",
    "my_series"
   ]
  },
  {
   "cell_type": "markdown",
   "id": "precise-charleston",
   "metadata": {},
   "source": [
    "We can also add some other key statistics from our dictionary `summary`, by using the same method that we did for 'series'. To specify the statistics required, we need to make sure we are selected the correct values. For example, within `summary`, the dictionary `first` has multiple keys ('value', 'err', 'qc', and 'ts'). To specify the first observed time we would need `summary['first']['ts']`. For other keys within `summary` that don't have sub-keys (e.g. count, mean, median), we can just use `summary['count']`. "
   ]
  },
  {
   "cell_type": "code",
   "execution_count": 8,
   "id": "wrong-launch",
   "metadata": {},
   "outputs": [],
   "source": [
    "my_series['first obs'] = summary['first']['ts']\n",
    "my_series['last obs'] = summary['last']['ts']\n",
    "my_series['maximum obs'] = summary['maximum']['value']\n",
    "my_series['minimum obs'] = summary['minimum']['value']\n",
    "my_series['number obs'] = summary['count']\n",
    "my_series['mean obs'] = summary['mean']\n",
    "my_series['median obs'] = summary['median']\n",
    "my_series['population stdev'] = summary['stddevPopulation']\n",
    "my_series['95 percentile'] = summary['percentiles'][0]['value']"
   ]
  },
  {
   "cell_type": "markdown",
   "id": "dress-guyana",
   "metadata": {},
   "source": [
    "We can now print `my_series` in a nice, easily readable table by using tabulate (https://pypi.org/project/tabulate/), which allows to print items to a table using (my_series.item()). The type of table format has many different options, such as 'simple', 'grid', 'fancy_grid', and 'presto' available. "
   ]
  },
  {
   "cell_type": "markdown",
   "id": "armed-japan",
   "metadata": {},
   "source": [
    "If `tabulate` is not installed (if using an older version of the `environment.yml` file), either run `conda env update -f environment.yml` after pulling the most recent environment.yml file from the data-tutorials github repository or run `conda install -c conda-forge tabulate` in a terminal within the GeoNet anaconda environment."
   ]
  },
  {
   "cell_type": "code",
   "execution_count": 9,
   "id": "entitled-dragon",
   "metadata": {},
   "outputs": [
    {
     "name": "stdout",
     "output_type": "stream",
     "text": [
      "| Parameter        | Value                |\n",
      "|------------------|----------------------|\n",
      "| domain           | dart                 |\n",
      "| station          | NZE                  |\n",
      "| name             | water-height         |\n",
      "| sensorCode       | 40                   |\n",
      "| type             | WTZ                  |\n",
      "| first obs        | 2019-12-19T00:15:00Z |\n",
      "| last obs         | 2021-10-08T00:00:00Z |\n",
      "| maximum obs      | 5779799              |\n",
      "| minimum obs      | 5777561              |\n",
      "| number obs       | 38596                |\n",
      "| mean obs         | 5778552.4662         |\n",
      "| median obs       | 5778552              |\n",
      "| population stdev | 426.8847             |\n",
      "| 95 percentile    | 5779208              |\n"
     ]
    }
   ],
   "source": [
    "from tabulate import tabulate\n",
    "\n",
    "headers = ['Parameter', 'Value']\n",
    "data = [(k,v) for k,v in my_series.items()]\n",
    "print (tabulate(data, headers=headers, tablefmt='github'))"
   ]
  },
  {
   "cell_type": "markdown",
   "id": "blond-bennett",
   "metadata": {},
   "source": [
    "## &nbsp;3. Building a Query using startdate and enddate parameters\n",
    "\n",
    "The minimum required parameters are:\n",
    "- domain = `dart`\n",
    "- key = `NZE/water-height/40/WTZ`, this specifies a station `NZE`, a data name `water-height`, a sensor code `40`, and a data type `WTZ`. A data type of `WTZ` is 15 minute sampled data. A data type of `UTZ` is 15 second sampled data.\n",
    "\n",
    "We will now be adding a start date and end date of:\n",
    "- startdate = `2021-01-01`\n",
    "- enddate = `2021-01-31`\n",
    "\n",
    "For this, we will begin by changing our URL and then generating a nested dictionary called `summary`, as shown previously. Printing the summary will show a very similar summary to above, but this time the first and last datapoints we be what we have specified in the URL. Feel free to test this by uncommenting `summary` to see what the output is. "
   ]
  },
  {
   "cell_type": "code",
   "execution_count": 10,
   "id": "ruled-corpus",
   "metadata": {},
   "outputs": [],
   "source": [
    "url = source+'/v1/stats/dart/NZE/water-height/40/WTZ/2021-01-01/2021-01-31?percentiles=95'\n",
    "\n",
    "r = requests.get(url)\n",
    "summary = r.json()\n",
    "#summary"
   ]
  },
  {
   "cell_type": "markdown",
   "id": "scheduled-tennis",
   "metadata": {},
   "source": [
    "We will now use a similar method as we did before and select the `series` component of the dictionary as well as adding some other key statistics as we did above. "
   ]
  },
  {
   "cell_type": "code",
   "execution_count": 11,
   "id": "czech-sympathy",
   "metadata": {},
   "outputs": [
    {
     "data": {
      "text/plain": [
       "{'domain': 'dart',\n",
       " 'station': 'NZE',\n",
       " 'name': 'water-height',\n",
       " 'sensorCode': '40',\n",
       " 'type': 'WTZ'}"
      ]
     },
     "execution_count": 11,
     "metadata": {},
     "output_type": "execute_result"
    }
   ],
   "source": [
    "my_series2 = summary['series']\n",
    "my_series2"
   ]
  },
  {
   "cell_type": "code",
   "execution_count": 12,
   "id": "southeast-illness",
   "metadata": {},
   "outputs": [],
   "source": [
    "my_series2['first obs'] = summary['first']['ts']\n",
    "my_series2['last obs'] = summary['last']['ts']\n",
    "my_series2['maximum obs'] = summary['maximum']['value']\n",
    "my_series2['minimum obs'] = summary['minimum']['value']\n",
    "my_series2['number obs'] = summary['count']\n",
    "my_series2['mean obs'] = summary['mean']\n",
    "my_series2['median obs'] = summary['median']\n",
    "my_series2['population stdev'] = summary['stddevPopulation']\n",
    "my_series2['95 percentile'] = summary['percentiles'][0]['value']"
   ]
  },
  {
   "cell_type": "markdown",
   "id": "pressing-disorder",
   "metadata": {},
   "source": [
    "As before we will now use tabulate and print this into a table. In this table we can see that the `first obs` and the `last obs` are using the start and end dates that we specified in the URL."
   ]
  },
  {
   "cell_type": "code",
   "execution_count": 13,
   "id": "sapphire-donor",
   "metadata": {},
   "outputs": [
    {
     "name": "stdout",
     "output_type": "stream",
     "text": [
      "| Parameter        | Value                |\n",
      "|------------------|----------------------|\n",
      "| domain           | dart                 |\n",
      "| station          | NZE                  |\n",
      "| name             | water-height         |\n",
      "| sensorCode       | 40                   |\n",
      "| type             | WTZ                  |\n",
      "| first obs        | 2021-01-01T00:15:00Z |\n",
      "| last obs         | 2021-01-31T19:00:00Z |\n",
      "| maximum obs      | 5779178              |\n",
      "| minimum obs      | 5777791              |\n",
      "| number obs       | 1140                 |\n",
      "| mean obs         | 5778475.7771         |\n",
      "| median obs       | 5778471              |\n",
      "| population stdev | 402.082              |\n",
      "| 95 percentile    | 5779078.95           |\n"
     ]
    }
   ],
   "source": [
    "headers = ['Parameter', 'Value']\n",
    "data = [(k,v) for k,v in my_series2.items()]\n",
    "print (tabulate(data, headers=headers, tablefmt='github'))"
   ]
  },
  {
   "cell_type": "markdown",
   "id": "intelligent-synthesis",
   "metadata": {},
   "source": [
    "## &nbsp;4. Building a Query using parameters from the last 7 days\n",
    "\n",
    "The minimum required parameters are:\n",
    "- domain = `dart`\n",
    "- key = `NZE/water-height/40/WTZ`, this specifies a station `NZE`, a data name `water-height`, a sensor code `40`, and a data type `WTZ`. A data type of `WTZ` is 15 minute sampled data. A data type of `UTZ` is 15 second sampled data.\n",
    "\n",
    "We will now be adding:\n",
    "- `latest`\n",
    "- period = `7d`\n",
    "\n",
    "The latest `period` can be 30d (latest 30 days), 7d, 2d, 1d, or 6h (latest 6 hours). Other periods will produce an error.\n",
    "\n",
    "When calculating the start of the query, the current time is taken into account.\n",
    "\n",
    "We will begin again by changing our URL and then generating a nested dictionary called `summary`, as shown previously. Printing the summary will show a very similar summary to above, but this time we will be seeing the first and last data points for the data period that has been selected, in this case the last 7 days from the current time. Feel free to test this by uncommenting `summary` to see what the output is.  "
   ]
  },
  {
   "cell_type": "code",
   "execution_count": 14,
   "id": "daily-following",
   "metadata": {},
   "outputs": [],
   "source": [
    "url = source+'/v1/stats/dart/NZE/water-height/40/WTZ/latest/7d?percentiles=50'\n",
    "\n",
    "r = requests.get(url)\n",
    "summary = r.json()\n",
    "# summary"
   ]
  },
  {
   "cell_type": "markdown",
   "id": "clean-cigarette",
   "metadata": {},
   "source": [
    "We will now use a similar method as we have done before and select the `series` component of the dictionary as well as adding some other key statistics. "
   ]
  },
  {
   "cell_type": "code",
   "execution_count": 15,
   "id": "terminal-louisiana",
   "metadata": {},
   "outputs": [],
   "source": [
    "#selecting the series component of the `summary` dictionary\n",
    "my_series3 = summary['series']"
   ]
  },
  {
   "cell_type": "code",
   "execution_count": 16,
   "id": "auburn-cleaner",
   "metadata": {},
   "outputs": [],
   "source": [
    "#selecting key statistics\n",
    "my_series3['first obs'] = summary['first']['ts']\n",
    "my_series3['last obs'] = summary['last']['ts']\n",
    "my_series3['maximum obs'] = summary['maximum']['value']\n",
    "my_series3['minimum obs'] = summary['minimum']['value']\n",
    "my_series3['number obs'] = summary['count']\n",
    "my_series3['mean obs'] = summary['mean']\n",
    "my_series3['median obs'] = summary['median']\n",
    "my_series3['population stdev'] = summary['stddevPopulation']\n",
    "my_series3['50 percentile'] = summary['percentiles'][0]['value']"
   ]
  },
  {
   "cell_type": "markdown",
   "id": "elect-banks",
   "metadata": {},
   "source": [
    "As before we will now use tabulate and print this into a table. In this table we can see that the `first obs` and the `last obs` are using the data period that we specified in the URL."
   ]
  },
  {
   "cell_type": "code",
   "execution_count": 17,
   "id": "altered-format",
   "metadata": {},
   "outputs": [
    {
     "name": "stdout",
     "output_type": "stream",
     "text": [
      "| Parameter        | Value                |\n",
      "|------------------|----------------------|\n",
      "| domain           | dart                 |\n",
      "| station          | NZE                  |\n",
      "| name             | water-height         |\n",
      "| sensorCode       | 40                   |\n",
      "| type             | WTZ                  |\n",
      "| first obs        | 2021-10-01T01:45:00Z |\n",
      "| last obs         | 2021-10-08T00:00:00Z |\n",
      "| maximum obs      | 5779153              |\n",
      "| minimum obs      | 5777730              |\n",
      "| number obs       | 666                  |\n",
      "| mean obs         | 5778407.1291         |\n",
      "| median obs       | 5778406              |\n",
      "| population stdev | 371.9788             |\n",
      "| 50 percentile    | 5778406              |\n"
     ]
    }
   ],
   "source": [
    "headers = ['Parameter', 'Value']\n",
    "data = [(k,v) for k,v in my_series3.items()]\n",
    "print (tabulate(data, headers=headers, tablefmt='github'))"
   ]
  },
  {
   "cell_type": "markdown",
   "id": "outside-regression",
   "metadata": {},
   "source": [
    "## &nbsp;5. Building a Query using Percentiles\n",
    "\n",
    "The minimum required parameters are:\n",
    "- domain = `dart`\n",
    "- key = `NZE/water-height/40/WTZ`, this specifies a station `NZE`, a data name `water-height`, a sensor code `40`, and a data type `WTZ`. A data type of `WTZ` is 15 minute sampled data. A data type of `UTZ` is 15 second sampled data.\n",
    "\n",
    "We will now be adding:\n",
    "- `?percentiles=10,75`, 10th and 75th percentiles\n",
    "\n",
    "We will begin again by changing our URL and then generating a nested dictionary called `summary`, as shown previously. Printing the summary will show a very similar summary to above, but this time we will be seeing the 10th and 75th percentiles Feel free to test this by uncommenting `summary` to see what the output is. In our previous `summary` dictionaries we had `percentile=None`, now we are seeing a specific result. To change to different percentiles, e.g. 25 and 70, just change the URL `?percentiles=25,70`."
   ]
  },
  {
   "cell_type": "code",
   "execution_count": 18,
   "id": "found-regular",
   "metadata": {},
   "outputs": [],
   "source": [
    "url = source+'/v1/stats/dart/NZE/water-height/40/WTZ/?percentiles=10,75'\n",
    "\n",
    "r = requests.get(url)\n",
    "summary = r.json()\n",
    "#summary"
   ]
  },
  {
   "cell_type": "markdown",
   "id": "juvenile-distinction",
   "metadata": {},
   "source": [
    "#### Box-and-whisker plot.\n",
    "If we specified a low and a high percentile, we can summarise the distribution of observations, with a box-and-whisker style plot (https://en.wikipedia.org/wiki/Box_plot). We begin by specifying the median, minimum and maximum values which are avialable directly from the summary dictionary. "
   ]
  },
  {
   "cell_type": "code",
   "execution_count": 19,
   "id": "crude-pharmacy",
   "metadata": {},
   "outputs": [
    {
     "name": "stdout",
     "output_type": "stream",
     "text": [
      "5777561 5778552 5779799\n"
     ]
    }
   ],
   "source": [
    "medv = summary['median']\n",
    "minv = summary['minimum']['value']\n",
    "maxv = summary['maximum']['value']\n",
    "print (minv,medv,maxv)"
   ]
  },
  {
   "cell_type": "markdown",
   "id": "characteristic-lawrence",
   "metadata": {},
   "source": [
    "From the `percentiles` values in the summary dictionary we can generate more values for the box and whisker plot. Where `lopcp` and `hipcp` are the low and high percentage values that we set in the URL (in this example, 10 and 75), `lopcv` and `hipcv` are the low and high percentage values, `first` and `last` are the first and last timestamp values from the summary dictionary. We can also print all of these variables and see that they match up with the `summary` information above. "
   ]
  },
  {
   "cell_type": "code",
   "execution_count": 20,
   "id": "compatible-bahrain",
   "metadata": {},
   "outputs": [
    {
     "name": "stdout",
     "output_type": "stream",
     "text": [
      "[{'perc': 10, 'value': 5777984}, {'perc': 75, 'value': 5778913}]\n",
      "10 75 5777984 5778913 2019-12-19T00:15:00Z 2021-10-08T00:00:00Z\n"
     ]
    }
   ],
   "source": [
    "pcs = summary['percentiles']\n",
    "\n",
    "lopcp = pcs[0].get('perc')\n",
    "hipcp = pcs[1].get('perc')\n",
    "\n",
    "lopcv = pcs[0].get('value')\n",
    "hipcv = pcs[1].get('value')\n",
    "\n",
    "first = summary['first']['ts']\n",
    "last = summary['last']['ts']\n",
    "\n",
    "print (pcs)\n",
    "print (lopcp,hipcp,lopcv,hipcv,first,last)"
   ]
  },
  {
   "cell_type": "markdown",
   "id": "offensive-fusion",
   "metadata": {},
   "source": [
    "We will now plot this using a box-and-whisker style by using our above parameters. "
   ]
  },
  {
   "cell_type": "code",
   "execution_count": 21,
   "id": "moral-situation",
   "metadata": {},
   "outputs": [
    {
     "data": {
      "text/plain": [
       "Text(0.5, 1.0, '2019-12-19T00:15:00Z - 2021-10-08T00:00:00Z')"
      ]
     },
     "execution_count": 21,
     "metadata": {},
     "output_type": "execute_result"
    },
    {
     "data": {
      "image/png": "[encoded data removed]",
      "text/plain": [
       "<Figure size 432x288 with 1 Axes>"
      ]
     },
     "metadata": {
      "needs_background": "light"
     },
     "output_type": "display_data"
    }
   ],
   "source": [
    "fig,ax = plt.subplots()\n",
    "#draw box from lowpcv to hipcv\n",
    "ax.bar(0, hipcv-lopcv, bottom=lopcv, color='#41b0f0', label='precentiles '+str(lopcp)+'-'+str(hipcp))\n",
    "# vertical line from minv to maxv\n",
    "ax.vlines(0, minv, maxv, color='black', label='min-max')\n",
    "#horizontal line at medv\n",
    "ax.hlines(medv, -0.4, 0.4, linestyles='dashed', colors='red', label='median')\n",
    "\n",
    "#make more like a box-and-whisker\n",
    "ax.set_xlim(-1,1)\n",
    "ax.ticklabel_format(useOffset=False, style='plain')\n",
    "plt.xticks([])\n",
    "\n",
    "plt.legend(loc='best')\n",
    "\n",
    "plt.suptitle('Data summary '+my_series['station']+'-'+my_series['name']+'-'+my_series['sensorCode']+'-'+my_series['type'])\n",
    "plt.title(first+' - '+last)"
   ]
  },
  {
   "cell_type": "markdown",
   "id": "pressing-alexandria",
   "metadata": {},
   "source": [
    "## &nbsp;6. Comparing query results from several stations\n",
    "\n",
    "We now make a query for several stations and extract the relevant data from each query, then use this data to demonstrate how to calculate the water level range for several sites over the time period queried. This is not completely comprehensive as we are restricting our query to a sensor code of `40`.\n",
    "\n",
    "We need to create a list of stations using a data summary query, and then loop through that list, making an API call for each, and accumulating the results.\n",
    "\n",
    "Our query is for the time period from `2021-09-01` to `2021-09-10`."
   ]
  },
  {
   "cell_type": "code",
   "execution_count": 22,
   "id": "velvet-folks",
   "metadata": {},
   "outputs": [],
   "source": [
    "#make a query to get a list of all possible stations to query\n",
    "url = 'https://tilde.geonet.org.nz/v1/dataSummary/dart'\n",
    "r = requests.get(url)\n",
    "summary = r.json()\n",
    "\n",
    "stations = summary['domain']['dart']['stations']\n",
    "stacodes = list(stations.keys())"
   ]
  },
  {
   "cell_type": "markdown",
   "id": "dental-price",
   "metadata": {},
   "source": [
    "The next sub-codes uses a python module to create the station list with corresponding height range. These are the inputs used in the subsequent plot."
   ]
  },
  {
   "cell_type": "code",
   "execution_count": 23,
   "id": "educated-render",
   "metadata": {},
   "outputs": [],
   "source": [
    "#make a dataframe for later use\n",
    "df = pd.DataFrame()\n",
    "\n",
    "#dates for query\n",
    "d1 = '2021-09-01'\n",
    "d2 = '2021-09-10'\n",
    "\n",
    "for code in stacodes:\n",
    "    url = source+'/v1/stats/dart/'+code+'/water-height/40/WTZ/'+d1+'/'+d2\n",
    "    r = requests.get(url)\n",
    "    summary = r.json()\n",
    "    \n",
    "    #if maximum and minimum have values, calculate range and append to dataframe\n",
    "    if ((summary['maximum'])and(summary['minimum'])):\n",
    "        range = summary['maximum']['value'] - summary['minimum']['value']\n",
    "        #make a dictionary of the extracted data\n",
    "        d = {'range':range, 'station':code}\n",
    "        #append this to the dataframe\n",
    "        df = df.append(d, ignore_index=True)\n",
    "\n",
    "#make station the dataframe index\n",
    "df.set_index('station', inplace=True)"
   ]
  },
  {
   "cell_type": "code",
   "execution_count": 24,
   "id": "legislative-college",
   "metadata": {},
   "outputs": [
    {
     "data": {
      "text/plain": [
       "Text(0.5, 1.0, '2021-09-01 - 2021-09-10')"
      ]
     },
     "execution_count": 24,
     "metadata": {},
     "output_type": "execute_result"
    },
    {
     "data": {
      "image/png": "[encoded data removed]",
      "text/plain": [
       "<Figure size 1080x360 with 1 Axes>"
      ]
     },
     "metadata": {
      "needs_background": "light"
     },
     "output_type": "display_data"
    }
   ],
   "source": [
    "fig,ax = plt.subplots(figsize=(15,5))\n",
    "#plot in metres, not mm\n",
    "ax.plot(df['range']/1000, color='#41b0f0', marker='o', linestyle='none')\n",
    "    \n",
    "ax.set_ylabel('Height range (m)')\n",
    "ax.set_xlabel('DART')\n",
    "\n",
    "plt.suptitle('Height Range at DART Buoys', fontsize=16)\n",
    "plt.title(d1+' - '+d2)"
   ]
  }
 ],
 "metadata": {
  "kernelspec": {
   "display_name": "Python 3",
   "language": "python",
   "name": "python3"
  },
  "language_info": {
   "codemirror_mode": {
    "name": "ipython",
    "version": 3
   },
   "file_extension": ".py",
   "mimetype": "text/x-python",
   "name": "python",
   "nbconvert_exporter": "python",
   "pygments_lexer": "ipython3",
   "version": "3.7.8"
  },
  "toc-autonumbering": false,
  "toc-showcode": false,
  "toc-showmarkdowntxt": false
 },
 "nbformat": 4,
 "nbformat_minor": 5
}
