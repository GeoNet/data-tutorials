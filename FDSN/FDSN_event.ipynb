{
 "cells": [
  {
   "cell_type": "markdown",
   "metadata": {},
   "source": [
    "# GeoNet FDSN webservice with Obspy - Event Service"
   ]
  },
  {
   "cell_type": "markdown",
   "metadata": {},
   "source": [
    "**Refer to README.md in the folder containing this notebook for discussion of general information about GeoNet's FDSN webservers.**\n",
    "\n",
    "In this tutorial we will look at geting seismic event data. The event service is only available for earthquake events.\n",
    "\n",
    "By the end of this notebooks you should be able to find earthquakes events, and for a specific event find information like preferred location, types of magnitudes, and phase picks."
   ]
  },
  {
   "cell_type": "markdown",
   "metadata": {},
   "source": [
    "### Getting Started - Import Modules"
   ]
  },
  {
   "cell_type": "code",
   "execution_count": 1,
   "metadata": {
    "tags": []
   },
   "outputs": [],
   "source": [
    "from obspy import UTCDateTime\n",
    "from obspy.clients.fdsn import Client as FDSN_Client\n",
    "from obspy import read_inventory"
   ]
  },
  {
   "cell_type": "markdown",
   "metadata": {},
   "source": [
    "### Define GeoNet FDSN client"
   ]
  },
  {
   "cell_type": "code",
   "execution_count": 2,
   "metadata": {
    "tags": []
   },
   "outputs": [],
   "source": [
    "client = FDSN_Client(\"GEONET\")"
   ]
  },
  {
   "cell_type": "markdown",
   "metadata": {},
   "source": [
    "## Accessing Earthquake Information\n",
    "Use the **event** service to access earthquake parameters from the catalogue.\n",
    "\n",
    "This example requests the Kaikoura earthquake and aftershocks for 24 hours following the event, within a 0.5 degree radius of the epicenter. It then prints a list of the events."
   ]
  },
  {
   "cell_type": "code",
   "execution_count": 3,
   "metadata": {},
   "outputs": [
    {
     "name": "stdout",
     "output_type": "stream",
     "text": [
      "10 Event(s) in Catalog:\n",
      "2016-11-13T11:06:14.609261Z | -42.560, +173.094 | 5.63 M  | manual\n",
      "2016-11-13T14:04:23.670948Z | -42.598, +173.016 | 5.14 M  | manual\n",
      "2016-11-13T11:09:07.614197Z | -42.629, +172.950 | 5.30 M  | manual\n",
      "2016-11-13T11:02:56.346094Z | -42.693, +173.022 | 7.82 Mw(mB) | manual\n",
      "2016-11-13T12:25:55.365623Z | -42.670, +172.869 | 5.26 M  | manual\n",
      "2016-11-13T12:23:09.937467Z | -42.452, +173.150 | 5.18 M  | manual\n",
      "2016-11-13T11:08:14.955249Z | -42.503, +173.111 | 5.24 M  | manual\n",
      "2016-11-13T22:19:32.198315Z | -42.352, +173.090 | 5.18 M  | manual\n",
      "2016-11-14T00:34:23.359760Z | -42.465, +173.138 | 6.66 M  | manual\n",
      "2016-11-14T05:16:32.460259Z | -42.390, +173.391 | 5.16 M  | manual\n"
     ]
    }
   ],
   "source": [
    "starttime = \"2016-11-13 11:00:00.000\"\n",
    "endtime = \"2016-11-14 11:00:00.000\"\n",
    "cat = client.get_events(starttime=starttime, endtime=endtime,latitude=-42.693,longitude=173.022,maxradius=0.5,minmagnitude=5)\n",
    "print(cat)"
   ]
  },
  {
   "cell_type": "markdown",
   "metadata": {},
   "source": [
    "Single events can be requested using their PublicID, which is available from the GeoNet website. This example will demonstrate how to get additional information about the [Kaikoura Earthquake](http://www.geonet.org.nz/earthquake/2016p858000)."
   ]
  },
  {
   "cell_type": "code",
   "execution_count": 4,
   "metadata": {},
   "outputs": [
    {
     "name": "stdout",
     "output_type": "stream",
     "text": [
      "1 Event(s) in Catalog:\n",
      "2016-11-13T11:02:56.346094Z | -42.693, +173.022 | 7.82 Mw(mB) | manual\n"
     ]
    }
   ],
   "source": [
    "cat = client.get_events(eventid=\"2016p858000\")\n",
    "print(cat)"
   ]
  },
  {
   "cell_type": "code",
   "execution_count": 5,
   "metadata": {},
   "outputs": [
    {
     "name": "stdout",
     "output_type": "stream",
     "text": [
      "Event:\t2016-11-13T11:02:56.346094Z | -42.693, +173.022 | 7.82 Mw(mB) | manual\n",
      "\n",
      "\t            resource_id: ResourceIdentifier(id=\"smi:nz.org.geonet/2016p858000\")\n",
      "\t             event_type: 'earthquake'\n",
      "\t          creation_info: CreationInfo(agency_id='WEL(GNS_Primary)', author='scevent@akeqp01.geonet.org.nz', creation_time=UTCDateTime(2016, 11, 13, 11, 3, 27, 886738))\n",
      "\t    preferred_origin_id: ResourceIdentifier(id=\"smi:nz.org.geonet/Origin#20161116052725.210418.52361\")\n",
      "\t preferred_magnitude_id: ResourceIdentifier(id=\"smi:nz.org.geonet/Magnitude#20161116052734.469407.55057\")\n",
      "\t                   ---------\n",
      "\t     event_descriptions: 1 Elements\n",
      "\t               comments: 1 Elements\n",
      "\t                  picks: 189 Elements\n",
      "\t             amplitudes: 200 Elements\n",
      "\t                origins: 1 Elements\n",
      "\t             magnitudes: 5 Elements\n",
      "\t     station_magnitudes: 200 Elements\n"
     ]
    }
   ],
   "source": [
    "ev = cat[0]\n",
    "print(ev)"
   ]
  },
  {
   "cell_type": "markdown",
   "metadata": {},
   "source": [
    "Print out a summary of the information for the preferred origin."
   ]
  },
  {
   "cell_type": "code",
   "execution_count": 6,
   "metadata": {},
   "outputs": [
    {
     "name": "stdout",
     "output_type": "stream",
     "text": [
      "Origin\n",
      "\t        resource_id: ResourceIdentifier(id=\"smi:nz.org.geonet/Origin#20161116052725.210418.52361\")\n",
      "\t               time: UTCDateTime(2016, 11, 13, 11, 2, 56, 346094) [confidence_level=89.99999762, uncertainty=0.3114605068]\n",
      "\t          longitude: 173.0221405 [confidence_level=89.99999762, uncertainty=3.42338418]\n",
      "\t           latitude: -42.6925354 [confidence_level=89.99999762, uncertainty=2.342521173]\n",
      "\t              depth: 15114.45332 [confidence_level=89.99999762, uncertainty=3593.426501]\n",
      "\t          method_id: ResourceIdentifier(id=\"smi:nz.org.geonet/LOCSAT\")\n",
      "\t     earth_model_id: ResourceIdentifier(id=\"smi:nz.org.geonet/iasp91\")\n",
      "\t            quality: OriginQuality(associated_phase_count=189, used_phase_count=94, associated_station_count=186, used_station_count=93, depth_phase_count=0, standard_error=1.822964596, azimuthal_gap=54.98503113, minimum_distance=0.2205573916, maximum_distance=7.640860558, median_distance=5.064006805)\n",
      "\t origin_uncertainty: OriginUncertainty(horizontal_uncertainty=4.148127853, min_horizontal_uncertainty=2.295905102, max_horizontal_uncertainty=4.900735327, azimuth_max_horizontal_uncertainty=117.76848, confidence_ellipsoid=ConfidenceEllipsoid(semi_major_axis_length=5806.280674, semi_minor_axis_length=2176.32321, semi_intermediate_axis_length=5580.753463, major_axis_plunge=39.01032404, major_axis_azimuth=104.0362728, major_axis_rotation=162.7341686), preferred_description='confidence ellipsoid')\n",
      "\t    evaluation_mode: 'manual'\n",
      "\t  evaluation_status: 'confirmed'\n",
      "\t      creation_info: CreationInfo(agency_id='WEL(GNS_Primary)', author='annak@akeqx01.geonet.org.nz', creation_time=UTCDateTime(2016, 11, 16, 5, 27, 25, 210520))\n",
      "\t               ---------\n",
      "\t           arrivals: 189 Elements\n"
     ]
    }
   ],
   "source": [
    "origin = ev.origins[0]\n",
    "print(origin)"
   ]
  },
  {
   "cell_type": "markdown",
   "metadata": {},
   "source": [
    "List all available magnitudes and their associated uncertainties. This event had a magnitude for five magnitude types."
   ]
  },
  {
   "cell_type": "code",
   "execution_count": 7,
   "metadata": {},
   "outputs": [
    {
     "name": "stdout",
     "output_type": "stream",
     "text": [
      "MLv = 7.363463 +/- 0.249774\n",
      "ML = 7.763918 +/- 0.342303\n",
      "mB = 7.692600 +/- 0.190699\n",
      "Mw(mB) = 7.820380 +/- 0.400000 - Preferred magnitude\n",
      "M = 7.762542\n"
     ]
    }
   ],
   "source": [
    "for m in range(len(ev.magnitudes)):\n",
    "    if 'uncertainty' in ev.magnitudes[m].mag_errors and ev.magnitudes[m].mag_errors['uncertainty'] != None and ev.magnitudes[m].resource_id == ev.preferred_magnitude_id:\n",
    "        print('%s = %f +/- %f - Preferred magnitude' % (ev.magnitudes[m].magnitude_type, ev.magnitudes[m].mag, ev.magnitudes[m].mag_errors['uncertainty']))\n",
    "    elif 'uncertainty' in ev.magnitudes[m].mag_errors and ev.magnitudes[m].mag_errors['uncertainty'] != None:\n",
    "        print('%s = %f +/- %f' % (ev.magnitudes[m].magnitude_type, ev.magnitudes[m].mag, ev.magnitudes[m].mag_errors['uncertainty']))\n",
    "    else:\n",
    "        print('%s = %f' % (ev.magnitudes[m].magnitude_type, ev.magnitudes[m].mag))"
   ]
  },
  {
   "cell_type": "markdown",
   "metadata": {},
   "source": [
    "List all arrivals used to locate the earthquake."
   ]
  },
  {
   "cell_type": "code",
   "execution_count": 8,
   "metadata": {},
   "outputs": [
    {
     "name": "stdout",
     "output_type": "stream",
     "text": [
      "Arrival\n",
      "\t   resource_id: ResourceIdentifier(id=\"smi:nz.org.geonet/20161113.110307.63-AIC-NZ.LTZ.10.HHZ#Origin#20161116052725.210418.52361\")\n",
      "\t       pick_id: ResourceIdentifier(id=\"smi:nz.org.geonet/20161113.110307.63-AIC-NZ.LTZ.10.HHZ\")\n",
      "\t         phase: 'P'\n",
      "\t       azimuth: 260.5674491\n",
      "\t      distance: 0.5588204424\n",
      "\t time_residual: 0.253331\n",
      "\t   time_weight: 1.0\n",
      "Pick\n",
      "\t     resource_id: ResourceIdentifier(id=\"smi:nz.org.geonet/20161113.110307.63-AIC-NZ.LTZ.10.HHZ\")\n",
      "\t            time: UTCDateTime(2016, 11, 13, 11, 3, 7, 638393)\n",
      "\t     waveform_id: WaveformStreamID(network_code='NZ', station_code='LTZ', channel_code='HHZ', location_code='10')\n",
      "\t       filter_id: ResourceIdentifier(id=\"smi:nz.org.geonet/BW(4,2.5,15)\")\n",
      "\t       method_id: ResourceIdentifier(id=\"smi:nz.org.geonet/AIC\")\n",
      "\t      phase_hint: 'P'\n",
      "\t evaluation_mode: 'automatic'\n",
      "\t   creation_info: CreationInfo(agency_id='WEL(GNS_Primary)', author='scautopick@akeqp01.geonet.org.nz', creation_time=UTCDateTime(2016, 11, 13, 11, 3, 10, 430324))\n"
     ]
    }
   ],
   "source": [
    "print(origin.arrivals[0])\n",
    "print(ev.picks[0])"
   ]
  },
  {
   "cell_type": "code",
   "execution_count": 9,
   "metadata": {
    "tags": []
   },
   "outputs": [
    {
     "name": "stdout",
     "output_type": "stream",
     "text": [
      "2016-11-13T11:03:07.638393Z LTZ 0.5588204424 P 0.253331\n",
      "2016-11-13T11:03:09.408392Z AMCZ 0.5548961874 P 2.125621\n",
      "2016-11-13T11:03:13.023198Z THZ 0.9340822023 P -1.184325\n",
      "2016-11-13T11:03:14.813361Z OXZ 0.9584892308 P 0.159378\n",
      "2016-11-13T11:03:15.678398Z MQZ 1.048513991 P -0.480021\n",
      "2016-11-13T11:03:16.208382Z OKCZ 1.031074393 P 0.351306\n",
      "2016-11-13T11:03:17.693129Z INZ 1.159989466 P -0.353515\n",
      "2016-11-13T11:03:18.048388Z BSWZ 1.164270388 P -0.017894\n",
      "2016-11-13T11:04:02.968388Z ARHZ 4.555322735 P -1.750663\n",
      "2016-11-13T11:04:03.353127Z NMHZ 4.593566012 P -1.880129\n",
      "2016-11-13T11:04:04.038394Z WATZ 4.48255132 P 0.374367\n",
      "2016-11-13T11:04:04.048392Z MRHZ 4.636222848 P -1.75075\n",
      "2016-11-13T11:04:06.433130Z WHZ 4.839242842 P -2.237686\n",
      "2016-11-13T11:04:06.538392Z SYZ 4.733693963 P -0.632041\n",
      "2016-11-13T11:04:06.608390Z MTHZ 4.806288451 P -1.541351\n",
      "2016-11-13T11:04:06.678390Z RAHZ 4.869376797 P -2.348056\n",
      "2016-11-13T11:04:06.698402Z WHHZ 4.816871884 P -1.616553\n",
      "2016-11-13T11:04:07.038388Z ALRZ 4.837754935 P -1.519531\n",
      "2016-11-13T11:04:07.118392Z WHTZ 4.60018565 P 1.832881\n",
      "2016-11-13T11:04:07.368392Z TLZ 4.763372525 P -0.138923\n",
      "2016-11-13T11:04:09.843152Z DCZ 5.043634112 P -1.67152\n",
      "2016-11-13T11:04:10.078388Z GRRZ 4.935687007 P 0.187887\n",
      "2016-11-13T11:04:10.138393Z MUGZ 5.085235628 P -1.830306\n",
      "2016-11-13T11:04:10.193053Z RTZ 5.062340218 P -1.471911\n",
      "2016-11-13T11:04:10.468391Z ARAZ 4.694428876 P 3.884372\n",
      "2016-11-13T11:04:10.468397Z KNZ 5.08285016 P -1.514004\n",
      "2016-11-13T11:04:10.508390Z MHGZ 5.11244782 P -1.892735\n",
      "2016-11-13T11:04:10.758392Z HRRZ 4.964305637 P 0.468579\n",
      "2016-11-13T11:04:11.288391Z HSRZ 5.018998521 P 0.250539\n",
      "2016-11-13T11:04:11.368391Z POIZ 4.659697051 P 5.263987\n",
      "2016-11-13T11:04:11.378391Z RRRZ 5.098106214 P -0.755212\n",
      "2016-11-13T11:04:11.658391Z THQ2 4.677982505 P 5.297726\n",
      "2016-11-13T11:04:13.378391Z RAGZ 5.359544995 P -2.380605\n",
      "2016-11-13T11:04:13.528386Z UTU 5.119709141 P 1.112\n",
      "2016-11-13T11:04:13.568399Z URZ 5.413912676 P -2.920318\n",
      "2016-11-13T11:04:13.808393Z TARZ 5.184344555 P 0.493152\n",
      "2016-11-13T11:04:14.138394Z NGRZ 5.184129761 P 0.839169\n",
      "2016-11-13T11:04:14.708396Z OMRZ 5.24683766 P 0.542219\n",
      "2016-11-13T11:04:14.778393Z KARZ 5.277128608 P 0.202127\n",
      "2016-11-13T11:04:14.918399Z TOZ 5.309985204 P -0.08235\n",
      "2016-11-13T11:04:15.488395Z KMRZ 5.333403637 P 0.152048\n",
      "2016-11-13T11:04:15.738394Z APZ 5.466244266 P -1.526483\n",
      "2016-11-13T11:04:15.738388Z HLRZ 5.111302223 P 3.430811\n",
      "2016-11-13T11:04:16.308393Z EDRZ 5.387954622 P 0.192506\n",
      "2016-11-13T11:04:16.838394Z OPRZ 5.545902566 P -1.434131\n",
      "2016-11-13T11:04:17.598391Z TGRZ 5.54465192 P -0.645315\n",
      "2016-11-13T11:04:18.778393Z MARZ 5.467896548 P 1.569812\n",
      "2016-11-13T11:04:18.998381Z PYZ 5.704340173 P -1.592519\n",
      "2016-11-13T11:04:19.338391Z LIRZ 5.342608051 P 3.858984\n",
      "2016-11-13T11:04:19.868394Z MKRZ 5.254246147 P 5.596707\n",
      "2016-11-13T11:04:20.058388Z CNGZ 5.761368662 P -1.246882\n",
      "2016-11-13T11:04:20.187619Z TWGZ 5.882888541 P -2.769235\n",
      "2016-11-13T11:04:20.328390Z WHRZ 5.698334151 P -0.050931\n",
      "2016-11-13T11:04:20.828392Z RUGZ 5.909145714 P -2.472276\n",
      "2016-11-13T11:04:22.287396Z MKAZ 5.823787929 P 0.251993\n",
      "2016-11-13T11:04:22.298393Z AWAZ 5.764202962 P 1.091145\n",
      "2016-11-13T11:04:23.208392Z PUZ 6.101134188 P -2.751831\n",
      "2016-11-13T11:04:23.518402Z HAZ 6.127859238 P -2.782843\n",
      "2016-11-13T11:04:23.979997Z PKGZ 6.176714947 P -3.005581\n",
      "2016-11-13T11:04:24.228392Z MYRZ 5.946517804 P 0.478096\n",
      "2016-11-13T11:04:24.238391Z ETAZ 5.922248823 P 0.858694\n",
      "2016-11-13T11:04:24.618393Z WTAZ 5.881755408 P 1.800809\n",
      "2016-11-13T11:04:25.618389Z EPAZ 5.965247577 P 1.65306\n",
      "2016-11-13T11:04:26.188395Z RVAZ 6.042053902 P 1.173253\n",
      "2016-11-13T11:04:26.233129Z WIZ 6.068155267 P 0.777875\n",
      "2016-11-13T11:04:26.688393Z HBAZ 5.987734956 P 2.41506\n",
      "2016-11-13T11:04:26.788394Z MBAZ 6.096397302 P 1.02223\n",
      "2016-11-13T11:04:27.958393Z KUZ 6.29820074 P -0.594019\n",
      "2016-11-13T11:04:28.928392Z ABAZ 6.24927077 P 1.068295\n",
      "2016-11-13T11:04:29.728393Z MXZ 6.527414021 P -2.070386\n",
      "2016-11-13T11:04:34.018388Z GRZ 6.710236166 P -0.172106\n",
      "2016-11-13T11:04:38.958393Z WCZ 6.830733982 P 3.138666\n",
      "2016-11-13T11:04:46.418385Z CTZ 7.617394075 P -0.603462\n",
      "2016-11-13T11:04:46.508399Z OUZ 7.486108874 P 1.718945\n",
      "2016-11-13T11:03:32.682688Z MQZ 1.048513991 S 2.063296\n",
      "2016-11-13T11:03:00.419152Z HSES 0.2203543117 P -0.890264\n",
      "2016-11-13T11:03:03.661544Z CECS 0.2215131366 P 2.330498\n",
      "2016-11-13T11:03:04.626728Z GVZ 0.274985135 P 2.411037\n",
      "2016-11-13T11:03:05.188344Z WAKC 0.3566833863 P 1.525498\n",
      "2016-11-13T11:03:06.155570Z KHZ 0.4705592521 P 0.417539\n",
      "2016-11-13T11:03:07.700013Z MOLS 0.6289876698 P -0.968559\n",
      "2016-11-13T11:03:09.696868Z SJFS 0.716382775 P -0.649927\n",
      "2016-11-13T11:03:09.930874Z ASHS 0.6601385157 P 0.672006\n",
      "2016-11-13T11:03:11.693722Z KPOC 0.7323739701 P 1.077948\n",
      "2016-11-13T11:03:12.660948Z SMHS 0.7599150871 P 1.509141\n",
      "2016-11-13T11:03:12.052532Z OHSS 0.7971165011 P 0.215487\n",
      "2016-11-13T11:03:12.801353Z NNBS 0.8330405857 P 0.314693\n",
      "2016-11-13T11:03:12.785751Z MPSS 0.8531910465 P -0.046148\n",
      "2016-11-13T11:03:13.004158Z DALS 0.8581281208 P 0.089051\n",
      "2016-11-13T11:03:12.988558Z SACS 0.8664775651 P -0.070406\n",
      "2016-11-13T11:03:14.096188Z RDCS 1.029032804 P -1.772476\n",
      "2016-11-13T11:03:14.751405Z HUNS 0.9259477939 P 0.680762\n",
      "2016-11-13T11:03:13.563322Z STAS 0.8669197273 P 0.497581\n",
      "2016-11-13T11:03:13.525456Z HHSS 0.9199735504 P -0.445274\n"
     ]
    }
   ],
   "source": [
    "for p in range(len(ev.picks)):\n",
    "    for a in range(len(origin.arrivals)):\n",
    "        if ev.picks[p].resource_id == origin.arrivals[a].pick_id:\n",
    "            if origin.arrivals[a].time_weight > 0:\n",
    "                print(ev.picks[p].time, ev.picks[p].waveform_id['station_code'], origin.arrivals[a].distance, origin.arrivals[a].phase, origin.arrivals[a].time_residual)"
   ]
  }
 ],
 "metadata": {
  "kernelspec": {
   "display_name": "Python 3 (ipykernel)",
   "language": "python",
   "name": "python3"
  },
  "language_info": {
   "codemirror_mode": {
    "name": "ipython",
    "version": 3
   },
   "file_extension": ".py",
   "mimetype": "text/x-python",
   "name": "python",
   "nbconvert_exporter": "python",
   "pygments_lexer": "ipython3",
   "version": "3.10.8"
  }
 },
 "nbformat": 4,
 "nbformat_minor": 4
}
