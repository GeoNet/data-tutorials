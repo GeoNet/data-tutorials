{
 "cells": [
  {
   "cell_type": "markdown",
   "metadata": {},
   "source": [
    "# GeoNet FDSN webservice with Obspy - Station Service"
   ]
  },
  {
   "cell_type": "markdown",
   "metadata": {},
   "source": [
    "In this tutorial we will look at what stations are in a set area."
   ]
  },
  {
   "cell_type": "markdown",
   "metadata": {},
   "source": [
    "### Getting Started - Import Modules"
   ]
  },
  {
   "cell_type": "code",
   "execution_count": 1,
   "metadata": {
    "tags": []
   },
   "outputs": [],
   "source": [
    "from obspy import UTCDateTime\n",
    "from obspy.clients.fdsn import Client as FDSN_Client\n",
    "from obspy import read_inventory"
   ]
  },
  {
   "cell_type": "markdown",
   "metadata": {},
   "source": [
    "### Define GeoNet FDSN client"
   ]
  },
  {
   "cell_type": "code",
   "execution_count": 2,
   "metadata": {
    "tags": []
   },
   "outputs": [],
   "source": [
    "client = FDSN_Client(\"GEONET\")"
   ]
  },
  {
   "cell_type": "markdown",
   "metadata": {},
   "source": [
    "## Accessing Station Metadata\n",
    "Use the **station** service to access station metadata from GeoNet stations. \n",
    "\n",
    "This example gets all stations that are operating at the time of the Kaikoura earthquake and that are located within a 0.5 degrees radius of the epicentre. It lists the station codes. "
   ]
  },
  {
   "cell_type": "code",
   "execution_count": 3,
   "metadata": {},
   "outputs": [
    {
     "name": "stdout",
     "output_type": "stream",
     "text": [
      "Inventory created at 2023-04-27T21:11:27.000000Z\n",
      "\tCreated by: Delta\n",
      "\t\t    \n",
      "\tSending institution: GeoNet (WEL(GNS_Test))\n",
      "\tContains:\n",
      "\t\tNetworks (1):\n",
      "\t\t\tNZ\n",
      "\t\tStations (14):\n",
      "\t\t\tNZ.CECS (Cheviot Emergency Centre)\n",
      "\t\t\tNZ.CULC (Culverden Airlie Farm)\n",
      "\t\t\tNZ.GVZ (Greta Valley)\n",
      "\t\t\tNZ.HSES (Hanmer Springs Emergency Centre)\n",
      "\t\t\tNZ.KHZ (Kahutara)\n",
      "\t\t\tNZ.LSRC (Lake Sumner Road)\n",
      "\t\t\tNZ.MS10 (Guide River)\n",
      "\t\t\tNZ.MS11 (Opera Range)\n",
      "\t\t\tNZ.MS12 (Leslie Hills)\n",
      "\t\t\tNZ.MS15 (Parnassus)\n",
      "\t\t\tNZ.SCAC (Scargill)\n",
      "\t\t\tNZ.WAKC (Waikari)\n",
      "\t\t\tNZ.WIGC (Waiau Gorge)\n",
      "\t\t\tNZ.WTMC (Te Mara Farm Waiau)\n",
      "\t\tChannels (0):\n",
      "\n"
     ]
    }
   ],
   "source": [
    "inventory = client.get_stations(latitude=-42.693,longitude=173.022,maxradius=0.5, starttime = \"2016-11-13 11:05:00.000\",endtime = \"2016-11-14 11:00:00.000\")\n",
    "print(inventory)"
   ]
  },
  {
   "cell_type": "markdown",
   "metadata": {},
   "source": [
    "The following examples dive into retrieving different information from the inventory object. This object is based on FDSN stationXML and can therefore provide much the same information.\n",
    "\n",
    "To get all available information into the inventory you will want to request data down to the response level. The default requests information just to a station level. For more information, see the [obspy inventory class](http://docs.obspy.org/packages/obspy.core.inventory.html#module-obspy.core.inventory). \n",
    "\n",
    "This example gets data from a station, KUZ, and prints a summary of the inventory contents."
   ]
  },
  {
   "cell_type": "code",
   "execution_count": 4,
   "metadata": {},
   "outputs": [
    {
     "name": "stdout",
     "output_type": "stream",
     "text": [
      "Inventory created at 2023-04-27T21:11:27.000000Z\n",
      "\tCreated by: Delta\n",
      "\t\t    \n",
      "\tSending institution: GeoNet (WEL(GNS_Test))\n",
      "\tContains:\n",
      "\t\tNetworks (1):\n",
      "\t\t\tNZ\n",
      "\t\tStations (1):\n",
      "\t\t\tNZ.KUZ (Kuaotunu)\n",
      "\t\tChannels (12):\n",
      "\t\t\tNZ.KUZ.10.HHZ, NZ.KUZ.10.HHN, NZ.KUZ.10.HHE, NZ.KUZ.10.LHZ, \n",
      "\t\t\tNZ.KUZ.10.LHN, NZ.KUZ.10.LHE, NZ.KUZ.20.BNZ, NZ.KUZ.20.BNN, \n",
      "\t\t\tNZ.KUZ.20.BNE, NZ.KUZ.20.HNZ, NZ.KUZ.20.HNN, NZ.KUZ.20.HNE\n"
     ]
    }
   ],
   "source": [
    "inventory = client.get_stations(station=\"KUZ\",level=\"response\",\n",
    "                                starttime = \"2016-11-13 11:05:00.000\",endtime = \"2016-11-14 11:00:00.000\")\n",
    "print(inventory)"
   ]
  },
  {
   "cell_type": "markdown",
   "metadata": {},
   "source": [
    "Now, we can look at more information, such as specifics about the station. Such as the time it opened and location. "
   ]
  },
  {
   "cell_type": "code",
   "execution_count": 5,
   "metadata": {},
   "outputs": [
    {
     "name": "stdout",
     "output_type": "stream",
     "text": [
      "number of channels:  12\n",
      "Station KUZ (Kuaotunu)\n",
      "\tStation Code: KUZ\n",
      "\tChannel Count: 12/30 (Selected/Total)\n",
      "\t1990-10-11T00:00:00.000000Z - \n",
      "\tAccess: open \n",
      "\tLatitude: -36.7452, Longitude: 175.7209, Elevation: 76.0 m\n",
      "\tAvailable Channels:\n",
      "\t  .20.HN[ZNE]   200.0 Hz  2004-02-05 to 2021-07-03\n",
      "\t  .10.HH[ZNE]   100.0 Hz  2004-02-05 to 2021-07-03\n",
      "\t  .20.BN[ZNE]    50.0 Hz  2004-02-05 to 2020-06-16\n",
      "\t  .10.LH[ZNE]     1.0 Hz  2004-02-05 to 2021-07-03\n",
      "\n"
     ]
    }
   ],
   "source": [
    "network = inventory[0]\n",
    "station = network[0] # equivalent to inventory[0][0]\n",
    "num_channels = len(station)\n",
    "print ('number of channels: ', num_channels)\n",
    "print(station)"
   ]
  },
  {
   "cell_type": "markdown",
   "metadata": {},
   "source": [
    "We can drill down even futher into a particular channel and look at the time it was operating for, whether it was continously recording, the sample rate and some basic sensor information."
   ]
  },
  {
   "cell_type": "code",
   "execution_count": 6,
   "metadata": {},
   "outputs": [
    {
     "name": "stdout",
     "output_type": "stream",
     "text": [
      "Channel 'HHE', Location '10' \n",
      "\tTime range: 2004-02-05T00:00:00.000000Z - 2021-07-03T07:07:00.000000Z\n",
      "\tLatitude: -36.7452, Longitude: 175.7209, Elevation: 76.0 m, Local Depth: 0.0 m\n",
      "\tAzimuth: 90.00 degrees from north, clockwise\n",
      "\tDip: 0.00 degrees down from horizontal\n",
      "\tChannel types: CONTINUOUS, GEOPHYSICAL\n",
      "\tSampling Rate: 100.00 Hz\n",
      "\tSensor (Description): Broadband Seismometer (CMG-3ESP)\n",
      "\tResponse information available\n"
     ]
    }
   ],
   "source": [
    "channel = station[0] # equivalent to inventory[0][0][0]\n",
    "print(channel)"
   ]
  },
  {
   "cell_type": "markdown",
   "metadata": {},
   "source": [
    "This channel states that there is response information available, so we can look at a summary of the response and plot it. "
   ]
  },
  {
   "cell_type": "code",
   "execution_count": 7,
   "metadata": {},
   "outputs": [
    {
     "name": "stdout",
     "output_type": "stream",
     "text": [
      "Channel Response\n",
      "\tFrom m/s () to count ()\n",
      "\tOverall Sensitivity: 8.38861e+08 defined at 1.000 Hz\n",
      "\t3 stages:\n",
      "\t\tStage 1: PolesZerosResponseStage from m/s to V, gain: 2000\n",
      "\t\tStage 2: CoefficientsTypeResponseStage from V to count, gain: 419430\n",
      "\t\tStage 3: FIRResponseStage from count to count, gain: 1\n"
     ]
    },
    {
     "data": {
      "image/png": "[encoded data removed]",
      "text/plain": [
       "<Figure size 432x288 with 2 Axes>"
      ]
     },
     "metadata": {
      "needs_background": "light"
     },
     "output_type": "display_data"
    },
    {
     "data": {
      "image/png": "[encoded data removed]",
      "text/plain": [
       "<Figure size 432x288 with 2 Axes>"
      ]
     },
     "execution_count": 7,
     "metadata": {},
     "output_type": "execute_result"
    }
   ],
   "source": [
    "resp = channel.response\n",
    "print(resp)\n",
    "resp.plot(0.001,output=\"VEL\",label='KUZ HHZ')"
   ]
  }
 ],
 "metadata": {
  "kernelspec": {
   "display_name": "Python 3 (ipykernel)",
   "language": "python",
   "name": "python3"
  },
  "language_info": {
   "codemirror_mode": {
    "name": "ipython",
    "version": 3
   },
   "file_extension": ".py",
   "mimetype": "text/x-python",
   "name": "python",
   "nbconvert_exporter": "python",
   "pygments_lexer": "ipython3",
   "version": "3.10.8"
  }
 },
 "nbformat": 4,
 "nbformat_minor": 4
}
