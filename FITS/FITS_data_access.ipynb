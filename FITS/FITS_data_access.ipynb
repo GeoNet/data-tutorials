{
 "cells": [
  {
   "cell_type": "markdown",
   "metadata": {},
   "source": [
    "# FITS "
   ]
  },
  {
   "cell_type": "markdown",
   "metadata": {},
   "source": [
    "In this tutorial we demostrate how to retrieve data from FITS and also how to find sites and data collection methods."
   ]
  },
  {
   "cell_type": "markdown",
   "metadata": {},
   "source": [
    "## Set Up "
   ]
  },
  {
   "cell_type": "markdown",
   "metadata": {},
   "source": [
    "###### Import packages"
   ]
  },
  {
   "cell_type": "code",
   "execution_count": 1,
   "metadata": {},
   "outputs": [],
   "source": [
    "import json # package to read json code\n",
    "import requests # package to get data from an API\n",
    "import pandas as pd # package for data frames\n",
    "import datetime # package to deal with time\n",
    "import matplotlib.pyplot as plt #package to do plotting"
   ]
  },
  {
   "cell_type": "markdown",
   "metadata": {
    "tags": []
   },
   "source": [
    "## Basic Functionality - Get Observation Data"
   ]
  },
  {
   "cell_type": "markdown",
   "metadata": {},
   "source": [
    "Set URL"
   ]
  },
  {
   "cell_type": "code",
   "execution_count": 2,
   "metadata": {},
   "outputs": [],
   "source": [
    "base_url = 'https://fits.geonet.org.nz/'\n",
    "endpoint = 'observation'"
   ]
  },
  {
   "cell_type": "markdown",
   "metadata": {},
   "source": [
    "Set query parameters\n",
    "\n",
    "We need to set\n",
    "- siteID, where data are collected\n",
    "- typeID, type of data collected\n",
    "\n",
    "We can optionally set\n",
    "- methodID, how data were collected. This potentially allows you to distinguish data with different collection methods.\n",
    "- days, the last n days of data. This is counted back from today. "
   ]
  },
  {
   "cell_type": "markdown",
   "metadata": {},
   "source": [
    "### Volcano data example\n",
    "\n",
    "Retrieve temperature data collected at the outlet of Ruapehu's crater lake. This site collects data automatically so there are quite a lot of observations. So we'll only get data from the last 100 days."
   ]
  },
  {
   "cell_type": "code",
   "execution_count": 3,
   "metadata": {},
   "outputs": [],
   "source": [
    "siteID = 'RU001' #outlet of Ruapehu's crater lake\n",
    "typeID = 't' #temperature\n",
    "days = '100' #last 100 days of data"
   ]
  },
  {
   "cell_type": "code",
   "execution_count": 4,
   "metadata": {},
   "outputs": [
    {
     "name": "stdout",
     "output_type": "stream",
     "text": [
      "https://fits.geonet.org.nz/observation?typeID=t&siteID=RU001&days=100\n"
     ]
    }
   ],
   "source": [
    "url = base_url + endpoint+'?typeID=' + typeID + '&siteID=' + siteID + '&days=' + days\n",
    "print (url)"
   ]
  },
  {
   "cell_type": "markdown",
   "metadata": {},
   "source": [
    "Use the url specifying the data request in pandas read_csv function. Tell pandas to interpret columns that look like dates as dates, and set the index to the date-time column"
   ]
  },
  {
   "cell_type": "code",
   "execution_count": 5,
   "metadata": {},
   "outputs": [],
   "source": [
    "df = pd.read_csv(url, parse_dates=True, index_col='date-time')"
   ]
  },
  {
   "cell_type": "markdown",
   "metadata": {},
   "source": [
    "Head the dataframe to check the first 5 rows"
   ]
  },
  {
   "cell_type": "code",
   "execution_count": 6,
   "metadata": {},
   "outputs": [
    {
     "data": {
      "text/html": [
       "<div>\n",
       "<style scoped>\n",
       "    .dataframe tbody tr th:only-of-type {\n",
       "        vertical-align: middle;\n",
       "    }\n",
       "\n",
       "    .dataframe tbody tr th {\n",
       "        vertical-align: top;\n",
       "    }\n",
       "\n",
       "    .dataframe thead th {\n",
       "        text-align: right;\n",
       "    }\n",
       "</style>\n",
       "<table border=\"1\" class=\"dataframe\">\n",
       "  <thead>\n",
       "    <tr style=\"text-align: right;\">\n",
       "      <th></th>\n",
       "      <th>t (C)</th>\n",
       "      <th>error (C)</th>\n",
       "    </tr>\n",
       "    <tr>\n",
       "      <th>date-time</th>\n",
       "      <th></th>\n",
       "      <th></th>\n",
       "    </tr>\n",
       "  </thead>\n",
       "  <tbody>\n",
       "    <tr>\n",
       "      <th>2023-01-18 04:45:00+00:00</th>\n",
       "      <td>33.73</td>\n",
       "      <td>0.0</td>\n",
       "    </tr>\n",
       "    <tr>\n",
       "      <th>2023-01-18 05:00:00+00:00</th>\n",
       "      <td>33.46</td>\n",
       "      <td>0.0</td>\n",
       "    </tr>\n",
       "    <tr>\n",
       "      <th>2023-01-18 05:15:00+00:00</th>\n",
       "      <td>33.53</td>\n",
       "      <td>0.0</td>\n",
       "    </tr>\n",
       "    <tr>\n",
       "      <th>2023-01-18 06:15:00+00:00</th>\n",
       "      <td>32.84</td>\n",
       "      <td>0.0</td>\n",
       "    </tr>\n",
       "    <tr>\n",
       "      <th>2023-01-18 06:45:00+00:00</th>\n",
       "      <td>32.71</td>\n",
       "      <td>0.0</td>\n",
       "    </tr>\n",
       "  </tbody>\n",
       "</table>\n",
       "</div>"
      ],
      "text/plain": [
       "                            t (C)   error (C)\n",
       "date-time                                    \n",
       "2023-01-18 04:45:00+00:00   33.73         0.0\n",
       "2023-01-18 05:00:00+00:00   33.46         0.0\n",
       "2023-01-18 05:15:00+00:00   33.53         0.0\n",
       "2023-01-18 06:15:00+00:00   32.84         0.0\n",
       "2023-01-18 06:45:00+00:00   32.71         0.0"
      ]
     },
     "execution_count": 6,
     "metadata": {},
     "output_type": "execute_result"
    }
   ],
   "source": [
    "df.head()"
   ]
  },
  {
   "cell_type": "markdown",
   "metadata": {},
   "source": [
    "Make a basic plot directly using the pandas plot function"
   ]
  },
  {
   "cell_type": "code",
   "execution_count": 7,
   "metadata": {},
   "outputs": [
    {
     "data": {
      "text/plain": [
       "<Axes: xlabel='date-time'>"
      ]
     },
     "execution_count": 7,
     "metadata": {},
     "output_type": "execute_result"
    },
    {
     "data": {
      "image/png": "[encoded data removed]",
      "text/plain": [
       "<Figure size 432x288 with 1 Axes>"
      ]
     },
     "metadata": {
      "needs_background": "light"
     },
     "output_type": "display_data"
    }
   ],
   "source": [
    "df[' t (C)'].plot()"
   ]
  },
  {
   "cell_type": "markdown",
   "metadata": {},
   "source": [
    "#### Using methodID\n",
    "\n",
    "Most data from the site is collected automatically and the methodID is logic.\n",
    "A small amount of data are collected manually and the methodID is thermcoup\n"
   ]
  },
  {
   "cell_type": "code",
   "execution_count": 8,
   "metadata": {},
   "outputs": [],
   "source": [
    "methodIDa = 'logic'\n",
    "methodIDm = 'thermcoup'"
   ]
  },
  {
   "cell_type": "code",
   "execution_count": 9,
   "metadata": {},
   "outputs": [
    {
     "name": "stdout",
     "output_type": "stream",
     "text": [
      "https://fits.geonet.org.nz/observation?typeID=t&siteID=RU001&days=100&methodID=logic\n"
     ]
    }
   ],
   "source": [
    "url = base_url + endpoint+'?typeID=' + typeID + '&siteID=' + siteID + '&days=' + days + '&methodID=' + methodIDa\n",
    "print (url)"
   ]
  },
  {
   "cell_type": "code",
   "execution_count": 10,
   "metadata": {},
   "outputs": [],
   "source": [
    "dfa = pd.read_csv(url, parse_dates=True, index_col='date-time')"
   ]
  },
  {
   "cell_type": "code",
   "execution_count": 11,
   "metadata": {},
   "outputs": [
    {
     "data": {
      "text/html": [
       "<div>\n",
       "<style scoped>\n",
       "    .dataframe tbody tr th:only-of-type {\n",
       "        vertical-align: middle;\n",
       "    }\n",
       "\n",
       "    .dataframe tbody tr th {\n",
       "        vertical-align: top;\n",
       "    }\n",
       "\n",
       "    .dataframe thead th {\n",
       "        text-align: right;\n",
       "    }\n",
       "</style>\n",
       "<table border=\"1\" class=\"dataframe\">\n",
       "  <thead>\n",
       "    <tr style=\"text-align: right;\">\n",
       "      <th></th>\n",
       "      <th>t (C)</th>\n",
       "      <th>error (C)</th>\n",
       "    </tr>\n",
       "    <tr>\n",
       "      <th>date-time</th>\n",
       "      <th></th>\n",
       "      <th></th>\n",
       "    </tr>\n",
       "  </thead>\n",
       "  <tbody>\n",
       "    <tr>\n",
       "      <th>2023-01-18 04:45:00+00:00</th>\n",
       "      <td>33.73</td>\n",
       "      <td>0</td>\n",
       "    </tr>\n",
       "    <tr>\n",
       "      <th>2023-01-18 05:00:00+00:00</th>\n",
       "      <td>33.46</td>\n",
       "      <td>0</td>\n",
       "    </tr>\n",
       "    <tr>\n",
       "      <th>2023-01-18 05:15:00+00:00</th>\n",
       "      <td>33.53</td>\n",
       "      <td>0</td>\n",
       "    </tr>\n",
       "    <tr>\n",
       "      <th>2023-01-18 06:15:00+00:00</th>\n",
       "      <td>32.84</td>\n",
       "      <td>0</td>\n",
       "    </tr>\n",
       "    <tr>\n",
       "      <th>2023-01-18 06:45:00+00:00</th>\n",
       "      <td>32.71</td>\n",
       "      <td>0</td>\n",
       "    </tr>\n",
       "  </tbody>\n",
       "</table>\n",
       "</div>"
      ],
      "text/plain": [
       "                            t (C)   error (C)\n",
       "date-time                                    \n",
       "2023-01-18 04:45:00+00:00   33.73           0\n",
       "2023-01-18 05:00:00+00:00   33.46           0\n",
       "2023-01-18 05:15:00+00:00   33.53           0\n",
       "2023-01-18 06:15:00+00:00   32.84           0\n",
       "2023-01-18 06:45:00+00:00   32.71           0"
      ]
     },
     "execution_count": 11,
     "metadata": {},
     "output_type": "execute_result"
    }
   ],
   "source": [
    "dfa.head()"
   ]
  },
  {
   "cell_type": "code",
   "execution_count": 12,
   "metadata": {},
   "outputs": [
    {
     "name": "stdout",
     "output_type": "stream",
     "text": [
      "https://fits.geonet.org.nz/observation?typeID=t&siteID=RU001&days=100&methodID=thermcoup\n"
     ]
    }
   ],
   "source": [
    "url = base_url + endpoint+'?typeID=' + typeID + '&siteID=' + siteID + '&days=' + days + '&methodID=' + methodIDm\n",
    "print (url)"
   ]
  },
  {
   "cell_type": "code",
   "execution_count": 13,
   "metadata": {},
   "outputs": [],
   "source": [
    "dfm = pd.read_csv(url, parse_dates=True, index_col='date-time')"
   ]
  },
  {
   "cell_type": "code",
   "execution_count": 14,
   "metadata": {},
   "outputs": [
    {
     "data": {
      "text/html": [
       "<div>\n",
       "<style scoped>\n",
       "    .dataframe tbody tr th:only-of-type {\n",
       "        vertical-align: middle;\n",
       "    }\n",
       "\n",
       "    .dataframe tbody tr th {\n",
       "        vertical-align: top;\n",
       "    }\n",
       "\n",
       "    .dataframe thead th {\n",
       "        text-align: right;\n",
       "    }\n",
       "</style>\n",
       "<table border=\"1\" class=\"dataframe\">\n",
       "  <thead>\n",
       "    <tr style=\"text-align: right;\">\n",
       "      <th></th>\n",
       "      <th>t (C)</th>\n",
       "      <th>error (C)</th>\n",
       "    </tr>\n",
       "    <tr>\n",
       "      <th>date-time</th>\n",
       "      <th></th>\n",
       "      <th></th>\n",
       "    </tr>\n",
       "  </thead>\n",
       "  <tbody>\n",
       "    <tr>\n",
       "      <th>2023-01-26 00:00:00+00:00</th>\n",
       "      <td>30.8</td>\n",
       "      <td>2.2</td>\n",
       "    </tr>\n",
       "    <tr>\n",
       "      <th>2023-03-15 00:00:00+00:00</th>\n",
       "      <td>25.9</td>\n",
       "      <td>2.2</td>\n",
       "    </tr>\n",
       "  </tbody>\n",
       "</table>\n",
       "</div>"
      ],
      "text/plain": [
       "                            t (C)   error (C)\n",
       "date-time                                    \n",
       "2023-01-26 00:00:00+00:00    30.8         2.2\n",
       "2023-03-15 00:00:00+00:00    25.9         2.2"
      ]
     },
     "execution_count": 14,
     "metadata": {},
     "output_type": "execute_result"
    }
   ],
   "source": [
    "dfm.head()"
   ]
  },
  {
   "cell_type": "markdown",
   "metadata": {},
   "source": [
    "Plot automatically collected data as a line, and manually collected as symbols. This allows us to compare data\n",
    "collected by both methods."
   ]
  },
  {
   "cell_type": "code",
   "execution_count": 15,
   "metadata": {},
   "outputs": [
    {
     "data": {
      "text/plain": [
       "<Axes: xlabel='date-time'>"
      ]
     },
     "execution_count": 15,
     "metadata": {},
     "output_type": "execute_result"
    },
    {
     "data": {
      "image/png": "[encoded data removed]",
      "text/plain": [
       "<Figure size 432x288 with 1 Axes>"
      ]
     },
     "metadata": {
      "needs_background": "light"
     },
     "output_type": "display_data"
    }
   ],
   "source": [
    "fig,ax = plt.subplots(1,1)\n",
    "dfa[' t (C)'].plot(ax=ax)\n",
    "dfm[' t (C)'].plot(ax=ax, marker='o', linestyle='none')"
   ]
  },
  {
   "cell_type": "markdown",
   "metadata": {
    "tags": []
   },
   "source": [
    "### GNSS data example\n",
    "\n",
    "Retrieve daily GNSS positions from Makorori (MAKO), a site near Gisborne. You'll notice that these data have non-zero errors that were estimated when the daily positions were calculated."
   ]
  },
  {
   "cell_type": "code",
   "execution_count": 16,
   "metadata": {},
   "outputs": [],
   "source": [
    "siteID = 'MAKO' #Makorori\n",
    "typeID = 'e' #east component of deformation"
   ]
  },
  {
   "cell_type": "code",
   "execution_count": 17,
   "metadata": {},
   "outputs": [
    {
     "name": "stdout",
     "output_type": "stream",
     "text": [
      "https://fits.geonet.org.nz/observation?typeID=e&siteID=MAKO\n"
     ]
    }
   ],
   "source": [
    "url = base_url + endpoint+'?typeID=' + typeID + '&siteID=' + siteID\n",
    "print (url)"
   ]
  },
  {
   "cell_type": "markdown",
   "metadata": {},
   "source": [
    "Use the url specifying the data request in pandas read_csv function. Tell pandas to interpret columns that look like dates as dates, ans set the index to the date-time column"
   ]
  },
  {
   "cell_type": "code",
   "execution_count": 18,
   "metadata": {},
   "outputs": [],
   "source": [
    "df = pd.read_csv(url, parse_dates=True, index_col='date-time')"
   ]
  },
  {
   "cell_type": "markdown",
   "metadata": {},
   "source": [
    "Head the dataframe to check the first 5 rows"
   ]
  },
  {
   "cell_type": "code",
   "execution_count": 19,
   "metadata": {},
   "outputs": [
    {
     "data": {
      "text/html": [
       "<div>\n",
       "<style scoped>\n",
       "    .dataframe tbody tr th:only-of-type {\n",
       "        vertical-align: middle;\n",
       "    }\n",
       "\n",
       "    .dataframe tbody tr th {\n",
       "        vertical-align: top;\n",
       "    }\n",
       "\n",
       "    .dataframe thead th {\n",
       "        text-align: right;\n",
       "    }\n",
       "</style>\n",
       "<table border=\"1\" class=\"dataframe\">\n",
       "  <thead>\n",
       "    <tr style=\"text-align: right;\">\n",
       "      <th></th>\n",
       "      <th>e (mm)</th>\n",
       "      <th>error (mm)</th>\n",
       "    </tr>\n",
       "    <tr>\n",
       "      <th>date-time</th>\n",
       "      <th></th>\n",
       "      <th></th>\n",
       "    </tr>\n",
       "  </thead>\n",
       "  <tbody>\n",
       "    <tr>\n",
       "      <th>2010-11-10 11:59:00+00:00</th>\n",
       "      <td>20.66</td>\n",
       "      <td>1.54</td>\n",
       "    </tr>\n",
       "    <tr>\n",
       "      <th>2010-11-11 11:59:00+00:00</th>\n",
       "      <td>19.65</td>\n",
       "      <td>1.77</td>\n",
       "    </tr>\n",
       "    <tr>\n",
       "      <th>2010-11-12 11:59:00+00:00</th>\n",
       "      <td>20.54</td>\n",
       "      <td>1.80</td>\n",
       "    </tr>\n",
       "    <tr>\n",
       "      <th>2010-11-13 11:59:00+00:00</th>\n",
       "      <td>19.17</td>\n",
       "      <td>1.60</td>\n",
       "    </tr>\n",
       "    <tr>\n",
       "      <th>2010-11-14 11:59:00+00:00</th>\n",
       "      <td>19.59</td>\n",
       "      <td>2.25</td>\n",
       "    </tr>\n",
       "  </tbody>\n",
       "</table>\n",
       "</div>"
      ],
      "text/plain": [
       "                            e (mm)   error (mm)\n",
       "date-time                                      \n",
       "2010-11-10 11:59:00+00:00    20.66         1.54\n",
       "2010-11-11 11:59:00+00:00    19.65         1.77\n",
       "2010-11-12 11:59:00+00:00    20.54         1.80\n",
       "2010-11-13 11:59:00+00:00    19.17         1.60\n",
       "2010-11-14 11:59:00+00:00    19.59         2.25"
      ]
     },
     "execution_count": 19,
     "metadata": {},
     "output_type": "execute_result"
    }
   ],
   "source": [
    "df.head()"
   ]
  },
  {
   "cell_type": "markdown",
   "metadata": {},
   "source": [
    "Make a basic plot directly using the pandas plot function"
   ]
  },
  {
   "cell_type": "code",
   "execution_count": 20,
   "metadata": {},
   "outputs": [
    {
     "data": {
      "text/plain": [
       "<Axes: xlabel='date-time'>"
      ]
     },
     "execution_count": 20,
     "metadata": {},
     "output_type": "execute_result"
    },
    {
     "data": {
      "image/png": "[encoded data removed]",
      "text/plain": [
       "<Figure size 432x288 with 1 Axes>"
      ]
     },
     "metadata": {
      "needs_background": "light"
     },
     "output_type": "display_data"
    }
   ],
   "source": [
    "df[' e (mm)'].plot()"
   ]
  },
  {
   "cell_type": "markdown",
   "metadata": {
    "tags": []
   },
   "source": [
    "## Additional Functionality - Find Sites"
   ]
  },
  {
   "cell_type": "markdown",
   "metadata": {},
   "source": [
    "You can use the FITS API to find sites in a particular area. https://fits.geonet.org.nz/api-docs/endpoint/site We use a ploygon around Ruapehu."
   ]
  },
  {
   "cell_type": "code",
   "execution_count": 21,
   "metadata": {},
   "outputs": [],
   "source": [
    "base_url = 'https://fits.geonet.org.nz/'\n",
    "endpoint = 'site'\n",
    "url = base_url + endpoint"
   ]
  },
  {
   "cell_type": "code",
   "execution_count": 22,
   "metadata": {},
   "outputs": [],
   "source": [
    "poly = 'POLYGON((175.665 -39.381,175.665 -39.181,175.465 -39.181,175.465 -39.381,175.665 -39.381))'\n",
    "parameters ={'within':poly}"
   ]
  },
  {
   "cell_type": "markdown",
   "metadata": {},
   "source": [
    "We use `requests.get` to get the data using the URL and the polygon parameters"
   ]
  },
  {
   "cell_type": "code",
   "execution_count": 23,
   "metadata": {},
   "outputs": [
    {
     "name": "stdout",
     "output_type": "stream",
     "text": [
      "<Response [200]>\n"
     ]
    }
   ],
   "source": [
    "sites = requests.get(url, params=parameters)\n",
    "print (sites) # a 200 response is okay\n",
    "\n",
    "data = sites.json()['features'] # we want the features information"
   ]
  },
  {
   "cell_type": "markdown",
   "metadata": {
    "jp-MarkdownHeadingCollapsed": true,
    "tags": []
   },
   "source": [
    "Create a dataframe to store the site information"
   ]
  },
  {
   "cell_type": "code",
   "execution_count": 24,
   "metadata": {},
   "outputs": [],
   "source": [
    "ruapehu = pd.DataFrame() #empty dataframe"
   ]
  },
  {
   "cell_type": "markdown",
   "metadata": {},
   "source": [
    "We put this data into a dataframe"
   ]
  },
  {
   "cell_type": "code",
   "execution_count": 25,
   "metadata": {},
   "outputs": [],
   "source": [
    "for i, val in enumerate(data):\n",
    "    geometry = val['geometry']\n",
    "    lon = geometry['coordinates'][0]\n",
    "    lat = geometry['coordinates'][1]\n",
    "    properties = val['properties']\n",
    "    siteID = properties['siteID']\n",
    "    height = properties['height']\n",
    "    name = properties['name']\n",
    "    #dictionary containing the various data\n",
    "    dic = {'siteID': siteID, 'lon': lon, 'lat': lat, 'height': height, 'name': name}\n",
    "    #make a temprary dataframe from the dictionary\n",
    "    temp = pd.DataFrame(dic, index=[i])\n",
    "    #concatenate with dataframe containing site information\n",
    "    ruapehu = pd.concat([ruapehu, temp])"
   ]
  },
  {
   "cell_type": "code",
   "execution_count": 26,
   "metadata": {},
   "outputs": [
    {
     "data": {
      "text/html": [
       "<div>\n",
       "<style scoped>\n",
       "    .dataframe tbody tr th:only-of-type {\n",
       "        vertical-align: middle;\n",
       "    }\n",
       "\n",
       "    .dataframe tbody tr th {\n",
       "        vertical-align: top;\n",
       "    }\n",
       "\n",
       "    .dataframe thead th {\n",
       "        text-align: right;\n",
       "    }\n",
       "</style>\n",
       "<table border=\"1\" class=\"dataframe\">\n",
       "  <thead>\n",
       "    <tr style=\"text-align: right;\">\n",
       "      <th></th>\n",
       "      <th>siteID</th>\n",
       "      <th>lon</th>\n",
       "      <th>lat</th>\n",
       "      <th>height</th>\n",
       "      <th>name</th>\n",
       "    </tr>\n",
       "  </thead>\n",
       "  <tbody>\n",
       "    <tr>\n",
       "      <th>0</th>\n",
       "      <td>RU002</td>\n",
       "      <td>175.564369</td>\n",
       "      <td>-39.281281</td>\n",
       "      <td>2529.000</td>\n",
       "      <td>Ruapehu Crater Lake, Whole Lake</td>\n",
       "    </tr>\n",
       "    <tr>\n",
       "      <th>1</th>\n",
       "      <td>RUD02</td>\n",
       "      <td>175.556380</td>\n",
       "      <td>-39.237150</td>\n",
       "      <td>1663.000</td>\n",
       "      <td>Iwikau Village</td>\n",
       "    </tr>\n",
       "    <tr>\n",
       "      <th>2</th>\n",
       "      <td>RU010</td>\n",
       "      <td>175.542240</td>\n",
       "      <td>-39.199839</td>\n",
       "      <td>1161.000</td>\n",
       "      <td>Chateau Observatory</td>\n",
       "    </tr>\n",
       "    <tr>\n",
       "      <th>3</th>\n",
       "      <td>RU020</td>\n",
       "      <td>175.527965</td>\n",
       "      <td>-39.224927</td>\n",
       "      <td>1280.000</td>\n",
       "      <td>Ruapehu, Silica Rapids</td>\n",
       "    </tr>\n",
       "    <tr>\n",
       "      <th>4</th>\n",
       "      <td>TO051</td>\n",
       "      <td>175.604190</td>\n",
       "      <td>-39.200689</td>\n",
       "      <td>1230.000</td>\n",
       "      <td>Tongariro, Lower Tama Lake</td>\n",
       "    </tr>\n",
       "    <tr>\n",
       "      <th>5</th>\n",
       "      <td>RU001A</td>\n",
       "      <td>175.565400</td>\n",
       "      <td>-39.283500</td>\n",
       "      <td>2529.000</td>\n",
       "      <td>Ruapehu Crater Lake Outlet</td>\n",
       "    </tr>\n",
       "    <tr>\n",
       "      <th>6</th>\n",
       "      <td>VGTR</td>\n",
       "      <td>175.548312</td>\n",
       "      <td>-39.298416</td>\n",
       "      <td>2085.060</td>\n",
       "      <td>Turoa</td>\n",
       "    </tr>\n",
       "    <tr>\n",
       "      <th>7</th>\n",
       "      <td>RU004</td>\n",
       "      <td>175.564900</td>\n",
       "      <td>-39.279800</td>\n",
       "      <td>2529.000</td>\n",
       "      <td>Ruapehu Crater Lake North Vent</td>\n",
       "    </tr>\n",
       "    <tr>\n",
       "      <th>8</th>\n",
       "      <td>RU001B</td>\n",
       "      <td>175.565400</td>\n",
       "      <td>-39.283500</td>\n",
       "      <td>2529.000</td>\n",
       "      <td>Ruapehu Crater Lake Outlet</td>\n",
       "    </tr>\n",
       "    <tr>\n",
       "      <th>9</th>\n",
       "      <td>RUD01</td>\n",
       "      <td>175.608700</td>\n",
       "      <td>-39.277500</td>\n",
       "      <td>1748.000</td>\n",
       "      <td>Tukino Skifield</td>\n",
       "    </tr>\n",
       "    <tr>\n",
       "      <th>10</th>\n",
       "      <td>RU000</td>\n",
       "      <td>175.564369</td>\n",
       "      <td>-39.281281</td>\n",
       "      <td>2529.000</td>\n",
       "      <td>Ruapehu Volcano</td>\n",
       "    </tr>\n",
       "    <tr>\n",
       "      <th>11</th>\n",
       "      <td>RU001</td>\n",
       "      <td>175.565400</td>\n",
       "      <td>-39.283500</td>\n",
       "      <td>2529.000</td>\n",
       "      <td>Ruapehu Crater Lake Outlet</td>\n",
       "    </tr>\n",
       "    <tr>\n",
       "      <th>12</th>\n",
       "      <td>VGTS</td>\n",
       "      <td>175.608943</td>\n",
       "      <td>-39.277260</td>\n",
       "      <td>1766.600</td>\n",
       "      <td>Tukino Ski Field</td>\n",
       "    </tr>\n",
       "    <tr>\n",
       "      <th>13</th>\n",
       "      <td>VGWN</td>\n",
       "      <td>175.597857</td>\n",
       "      <td>-39.326928</td>\n",
       "      <td>1564.718</td>\n",
       "      <td>Wahianoa</td>\n",
       "    </tr>\n",
       "    <tr>\n",
       "      <th>14</th>\n",
       "      <td>RU003</td>\n",
       "      <td>175.565000</td>\n",
       "      <td>-39.281600</td>\n",
       "      <td>2529.000</td>\n",
       "      <td>Ruapehu Crater Lake Central Vent</td>\n",
       "    </tr>\n",
       "    <tr>\n",
       "      <th>15</th>\n",
       "      <td>VGWH</td>\n",
       "      <td>175.588984</td>\n",
       "      <td>-39.282405</td>\n",
       "      <td>2088.156</td>\n",
       "      <td>Whangaehu Hut</td>\n",
       "    </tr>\n",
       "    <tr>\n",
       "      <th>16</th>\n",
       "      <td>VGDR</td>\n",
       "      <td>175.563412</td>\n",
       "      <td>-39.275275</td>\n",
       "      <td>2691.957</td>\n",
       "      <td>Dome</td>\n",
       "    </tr>\n",
       "    <tr>\n",
       "      <th>17</th>\n",
       "      <td>VGFW</td>\n",
       "      <td>175.552500</td>\n",
       "      <td>-39.255000</td>\n",
       "      <td>2049.505</td>\n",
       "      <td>Far West</td>\n",
       "    </tr>\n",
       "    <tr>\n",
       "      <th>18</th>\n",
       "      <td>VGOB</td>\n",
       "      <td>175.542240</td>\n",
       "      <td>-39.199839</td>\n",
       "      <td>1161.260</td>\n",
       "      <td>Chateau Observatory</td>\n",
       "    </tr>\n",
       "  </tbody>\n",
       "</table>\n",
       "</div>"
      ],
      "text/plain": [
       "    siteID         lon        lat    height                              name\n",
       "0    RU002  175.564369 -39.281281  2529.000   Ruapehu Crater Lake, Whole Lake\n",
       "1    RUD02  175.556380 -39.237150  1663.000                    Iwikau Village\n",
       "2    RU010  175.542240 -39.199839  1161.000               Chateau Observatory\n",
       "3    RU020  175.527965 -39.224927  1280.000            Ruapehu, Silica Rapids\n",
       "4    TO051  175.604190 -39.200689  1230.000        Tongariro, Lower Tama Lake\n",
       "5   RU001A  175.565400 -39.283500  2529.000        Ruapehu Crater Lake Outlet\n",
       "6     VGTR  175.548312 -39.298416  2085.060                             Turoa\n",
       "7    RU004  175.564900 -39.279800  2529.000    Ruapehu Crater Lake North Vent\n",
       "8   RU001B  175.565400 -39.283500  2529.000        Ruapehu Crater Lake Outlet\n",
       "9    RUD01  175.608700 -39.277500  1748.000                   Tukino Skifield\n",
       "10   RU000  175.564369 -39.281281  2529.000                   Ruapehu Volcano\n",
       "11   RU001  175.565400 -39.283500  2529.000        Ruapehu Crater Lake Outlet\n",
       "12    VGTS  175.608943 -39.277260  1766.600                  Tukino Ski Field\n",
       "13    VGWN  175.597857 -39.326928  1564.718                          Wahianoa\n",
       "14   RU003  175.565000 -39.281600  2529.000  Ruapehu Crater Lake Central Vent\n",
       "15    VGWH  175.588984 -39.282405  2088.156                     Whangaehu Hut\n",
       "16    VGDR  175.563412 -39.275275  2691.957                              Dome\n",
       "17    VGFW  175.552500 -39.255000  2049.505                          Far West\n",
       "18    VGOB  175.542240 -39.199839  1161.260               Chateau Observatory"
      ]
     },
     "execution_count": 26,
     "metadata": {},
     "output_type": "execute_result"
    }
   ],
   "source": [
    "ruapehu"
   ]
  },
  {
   "cell_type": "markdown",
   "metadata": {
    "tags": []
   },
   "source": [
    "## Additional Functionality - Find Data Collection Methods"
   ]
  },
  {
   "cell_type": "markdown",
   "metadata": {},
   "source": [
    "You can use the FITS API to find data collection methods for a particular data type. https://fits.geonet.org.nz/api-docs/endpoint/method We use it to find the methods for temperature data."
   ]
  },
  {
   "cell_type": "code",
   "execution_count": 27,
   "metadata": {},
   "outputs": [],
   "source": [
    "base_url = 'https://fits.geonet.org.nz/'\n",
    "endpoint = 'method'\n",
    "url = base_url + endpoint"
   ]
  },
  {
   "cell_type": "code",
   "execution_count": 28,
   "metadata": {},
   "outputs": [],
   "source": [
    "#Set query parameters\n",
    "parameters ={\"typeID\": 't'}\n",
    "\n",
    "#Get data\n",
    "request = requests.get(url, params=parameters)\n",
    "\n",
    "#Unpack data\n",
    "data = request.json()['method']"
   ]
  },
  {
   "cell_type": "code",
   "execution_count": 29,
   "metadata": {},
   "outputs": [],
   "source": [
    "t_methods = pd.DataFrame()\n",
    "    \n",
    "#add data to the data frame\n",
    "for i, val in enumerate(data):\n",
    "    methodID = val['methodID']\n",
    "    name = val['name']\n",
    "    description = val['description']\n",
    "    reference = val['reference']\n",
    "    #append these to t_methods\n",
    "    dic = {'name': name, 'methodID': methodID, 'description': description, 'reference':reference}\n",
    "    #make a temprary dataframe from the dictionary\n",
    "    temp = pd.DataFrame(dic, index=[i])\n",
    "    #concatenate with dataframe containing method information\n",
    "    t_methods = pd.concat([t_methods, temp])"
   ]
  },
  {
   "cell_type": "code",
   "execution_count": 30,
   "metadata": {},
   "outputs": [
    {
     "data": {
      "text/html": [
       "<div>\n",
       "<style scoped>\n",
       "    .dataframe tbody tr th:only-of-type {\n",
       "        vertical-align: middle;\n",
       "    }\n",
       "\n",
       "    .dataframe tbody tr th {\n",
       "        vertical-align: top;\n",
       "    }\n",
       "\n",
       "    .dataframe thead th {\n",
       "        text-align: right;\n",
       "    }\n",
       "</style>\n",
       "<table border=\"1\" class=\"dataframe\">\n",
       "  <thead>\n",
       "    <tr style=\"text-align: right;\">\n",
       "      <th></th>\n",
       "      <th>name</th>\n",
       "      <th>methodID</th>\n",
       "      <th>description</th>\n",
       "      <th>reference</th>\n",
       "    </tr>\n",
       "  </thead>\n",
       "  <tbody>\n",
       "    <tr>\n",
       "      <th>0</th>\n",
       "      <td>thermometer</td>\n",
       "      <td>therm</td>\n",
       "      <td>mercury thermometer</td>\n",
       "      <td>http://en.wikipedia.org/wiki/Thermometer</td>\n",
       "    </tr>\n",
       "    <tr>\n",
       "      <th>1</th>\n",
       "      <td>thermocouple</td>\n",
       "      <td>thermcoup</td>\n",
       "      <td>thermocouple thermometer</td>\n",
       "      <td>http://en.wikipedia.org/wiki/Thermocouple</td>\n",
       "    </tr>\n",
       "    <tr>\n",
       "      <th>2</th>\n",
       "      <td>therminfrared</td>\n",
       "      <td>therminfra</td>\n",
       "      <td>infrared thermometer</td>\n",
       "      <td>http://en.wikipedia.org/wiki/Infrared_thermometer</td>\n",
       "    </tr>\n",
       "    <tr>\n",
       "      <th>3</th>\n",
       "      <td>thermflir</td>\n",
       "      <td>flir</td>\n",
       "      <td>FLIR camera</td>\n",
       "      <td>http://en.wikipedia.org/wiki/Forward_looking_i...</td>\n",
       "    </tr>\n",
       "    <tr>\n",
       "      <th>4</th>\n",
       "      <td>weather station</td>\n",
       "      <td>weathersta</td>\n",
       "      <td>An instrument recording different types of atm...</td>\n",
       "      <td>https://en.wikipedia.org.nz/wiki/Weather_station</td>\n",
       "    </tr>\n",
       "    <tr>\n",
       "      <th>5</th>\n",
       "      <td>integrated circuit and data logger</td>\n",
       "      <td>logic</td>\n",
       "      <td>an integrated circuit temperature sensor, ofte...</td>\n",
       "      <td>http://www.ti.com/product/LM35</td>\n",
       "    </tr>\n",
       "    <tr>\n",
       "      <th>6</th>\n",
       "      <td>thermocouple and data logger</td>\n",
       "      <td>logthermcoup</td>\n",
       "      <td>a thermocouple, recorded by a data logger</td>\n",
       "      <td>https://en.wikipedia.org/wiki/Thermocouple</td>\n",
       "    </tr>\n",
       "    <tr>\n",
       "      <th>7</th>\n",
       "      <td>platinum resistance thermometer and data logger</td>\n",
       "      <td>logprt</td>\n",
       "      <td>a platinum resistance thermometer, recorded by...</td>\n",
       "      <td>https://en.wikipedia.org/wiki/Resistance_therm...</td>\n",
       "    </tr>\n",
       "    <tr>\n",
       "      <th>8</th>\n",
       "      <td>satellite thermal imagery</td>\n",
       "      <td>sattherm</td>\n",
       "      <td>processed thermal image from a satellite</td>\n",
       "      <td>https://en.wikipedia.org/wiki/Satellite_imagery</td>\n",
       "    </tr>\n",
       "  </tbody>\n",
       "</table>\n",
       "</div>"
      ],
      "text/plain": [
       "                                              name      methodID  \\\n",
       "0                                      thermometer         therm   \n",
       "1                                     thermocouple     thermcoup   \n",
       "2                                    therminfrared    therminfra   \n",
       "3                                        thermflir          flir   \n",
       "4                                  weather station    weathersta   \n",
       "5               integrated circuit and data logger         logic   \n",
       "6                     thermocouple and data logger  logthermcoup   \n",
       "7  platinum resistance thermometer and data logger        logprt   \n",
       "8                        satellite thermal imagery      sattherm   \n",
       "\n",
       "                                         description  \\\n",
       "0                                mercury thermometer   \n",
       "1                           thermocouple thermometer   \n",
       "2                               infrared thermometer   \n",
       "3                                        FLIR camera   \n",
       "4  An instrument recording different types of atm...   \n",
       "5  an integrated circuit temperature sensor, ofte...   \n",
       "6          a thermocouple, recorded by a data logger   \n",
       "7  a platinum resistance thermometer, recorded by...   \n",
       "8           processed thermal image from a satellite   \n",
       "\n",
       "                                           reference  \n",
       "0           http://en.wikipedia.org/wiki/Thermometer  \n",
       "1          http://en.wikipedia.org/wiki/Thermocouple  \n",
       "2  http://en.wikipedia.org/wiki/Infrared_thermometer  \n",
       "3  http://en.wikipedia.org/wiki/Forward_looking_i...  \n",
       "4   https://en.wikipedia.org.nz/wiki/Weather_station  \n",
       "5                     http://www.ti.com/product/LM35  \n",
       "6         https://en.wikipedia.org/wiki/Thermocouple  \n",
       "7  https://en.wikipedia.org/wiki/Resistance_therm...  \n",
       "8    https://en.wikipedia.org/wiki/Satellite_imagery  "
      ]
     },
     "execution_count": 30,
     "metadata": {},
     "output_type": "execute_result"
    }
   ],
   "source": [
    "t_methods"
   ]
  }
 ],
 "metadata": {
  "kernelspec": {
   "display_name": "Python 3 (ipykernel)",
   "language": "python",
   "name": "python3"
  },
  "language_info": {
   "codemirror_mode": {
    "name": "ipython",
    "version": 3
   },
   "file_extension": ".py",
   "mimetype": "text/x-python",
   "name": "python",
   "nbconvert_exporter": "python",
   "pygments_lexer": "ipython3",
   "version": "3.10.8"
  }
 },
 "nbformat": 4,
 "nbformat_minor": 4
}
