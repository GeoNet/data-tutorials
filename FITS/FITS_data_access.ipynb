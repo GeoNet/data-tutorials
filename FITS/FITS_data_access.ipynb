{
 "cells": [
  {
   "cell_type": "markdown",
   "metadata": {},
   "source": [
    "# FITS "
   ]
  },
  {
   "cell_type": "markdown",
   "metadata": {},
   "source": [
    "In this tutorial we demostrate how to retrieve data from FITS and also how to find sites and data collection methods."
   ]
  },
  {
   "cell_type": "markdown",
   "metadata": {},
   "source": [
    "## Set Up "
   ]
  },
  {
   "cell_type": "markdown",
   "metadata": {},
   "source": [
    "###### Import packages"
   ]
  },
  {
   "cell_type": "code",
   "execution_count": 46,
   "metadata": {},
   "outputs": [],
   "source": [
    "import json # package to read json code\n",
    "import requests # package to get data from an API\n",
    "import pandas as pd # package for data frames\n",
    "import datetime # package to deal with time\n",
    "import matplotlib.pyplot as plt #package to do plotting"
   ]
  },
  {
   "cell_type": "markdown",
   "metadata": {
    "tags": []
   },
   "source": [
    "## Basic Functionality - Get Observation Data"
   ]
  },
  {
   "cell_type": "markdown",
   "metadata": {},
   "source": [
    "Set URL"
   ]
  },
  {
   "cell_type": "code",
   "execution_count": 47,
   "metadata": {},
   "outputs": [],
   "source": [
    "base_url = 'https://fits.geonet.org.nz/'\n",
    "endpoint = 'observation'"
   ]
  },
  {
   "cell_type": "markdown",
   "metadata": {},
   "source": [
    "Set query parameters\n",
    "\n",
    "We need to set\n",
    "- siteID, where data are collected\n",
    "- typeID, type of data collected\n",
    "\n",
    "We can optionally set\n",
    "- methodID, how data were collected. This potentially allows you to distinguish data with different collection methods.\n",
    "- days, the last n days of data. This is counted back from today. "
   ]
  },
  {
   "cell_type": "markdown",
   "metadata": {},
   "source": [
    "### Volcano data example\n",
    "\n",
    "Retrieve temperature data collected at the outlet of Ruapehu's crater lake. This site collects data automatically so there are quite a lot of observations. So we'll only get data from the last 100 days."
   ]
  },
  {
   "cell_type": "code",
   "execution_count": 48,
   "metadata": {},
   "outputs": [],
   "source": [
    "siteID = 'RU001' #outlet of Ruapehu's crater lake\n",
    "typeID = 't' #temperature\n",
    "days = '100' #last 100 days of data"
   ]
  },
  {
   "cell_type": "code",
   "execution_count": 49,
   "metadata": {},
   "outputs": [
    {
     "name": "stdout",
     "output_type": "stream",
     "text": [
      "https://fits.geonet.org.nz/observation?typeID=t&siteID=RU001&days=100\n"
     ]
    }
   ],
   "source": [
    "url = base_url + endpoint+'?typeID=' + typeID + '&siteID=' + siteID + '&days=' + days\n",
    "print (url)"
   ]
  },
  {
   "cell_type": "markdown",
   "metadata": {},
   "source": [
    "Use the url specifying the data request in pandas read_csv function. Tell pandas to interpret columns that look like dates as dates, and set the index to the date-time column"
   ]
  },
  {
   "cell_type": "code",
   "execution_count": 50,
   "metadata": {},
   "outputs": [],
   "source": [
    "df = pd.read_csv(url, parse_dates=True, index_col='date-time')"
   ]
  },
  {
   "cell_type": "markdown",
   "metadata": {},
   "source": [
    "Head the dataframe to check the first 5 rows"
   ]
  },
  {
   "cell_type": "code",
   "execution_count": 51,
   "metadata": {},
   "outputs": [
    {
     "data": {
      "text/html": [
       "<div>\n",
       "<style scoped>\n",
       "    .dataframe tbody tr th:only-of-type {\n",
       "        vertical-align: middle;\n",
       "    }\n",
       "\n",
       "    .dataframe tbody tr th {\n",
       "        vertical-align: top;\n",
       "    }\n",
       "\n",
       "    .dataframe thead th {\n",
       "        text-align: right;\n",
       "    }\n",
       "</style>\n",
       "<table border=\"1\" class=\"dataframe\">\n",
       "  <thead>\n",
       "    <tr style=\"text-align: right;\">\n",
       "      <th></th>\n",
       "      <th>t (C)</th>\n",
       "      <th>error (C)</th>\n",
       "    </tr>\n",
       "    <tr>\n",
       "      <th>date-time</th>\n",
       "      <th></th>\n",
       "      <th></th>\n",
       "    </tr>\n",
       "  </thead>\n",
       "  <tbody>\n",
       "    <tr>\n",
       "      <th>2024-01-03 05:00:00+00:00</th>\n",
       "      <td>26.70</td>\n",
       "      <td>0.0</td>\n",
       "    </tr>\n",
       "    <tr>\n",
       "      <th>2024-01-03 05:15:00+00:00</th>\n",
       "      <td>26.22</td>\n",
       "      <td>0.0</td>\n",
       "    </tr>\n",
       "    <tr>\n",
       "      <th>2024-01-03 05:45:00+00:00</th>\n",
       "      <td>25.61</td>\n",
       "      <td>0.0</td>\n",
       "    </tr>\n",
       "    <tr>\n",
       "      <th>2024-01-03 06:45:00+00:00</th>\n",
       "      <td>25.81</td>\n",
       "      <td>0.0</td>\n",
       "    </tr>\n",
       "    <tr>\n",
       "      <th>2024-01-03 07:00:00+00:00</th>\n",
       "      <td>25.88</td>\n",
       "      <td>0.0</td>\n",
       "    </tr>\n",
       "  </tbody>\n",
       "</table>\n",
       "</div>"
      ],
      "text/plain": [
       "                           t (C)  error (C)\n",
       "date-time                                  \n",
       "2024-01-03 05:00:00+00:00  26.70        0.0\n",
       "2024-01-03 05:15:00+00:00  26.22        0.0\n",
       "2024-01-03 05:45:00+00:00  25.61        0.0\n",
       "2024-01-03 06:45:00+00:00  25.81        0.0\n",
       "2024-01-03 07:00:00+00:00  25.88        0.0"
      ]
     },
     "execution_count": 51,
     "metadata": {},
     "output_type": "execute_result"
    }
   ],
   "source": [
    "df.head()"
   ]
  },
  {
   "cell_type": "markdown",
   "metadata": {},
   "source": [
    "Make a basic plot directly using the pandas plot function"
   ]
  },
  {
   "cell_type": "code",
   "execution_count": 52,
   "metadata": {},
   "outputs": [
    {
     "data": {
      "text/plain": [
       "<Axes: xlabel='date-time'>"
      ]
     },
     "execution_count": 52,
     "metadata": {},
     "output_type": "execute_result"
    },
    {
     "data": {
      "image/png": "[encoded data removed]",
      "text/plain": [
       "<Figure size 640x480 with 1 Axes>"
      ]
     },
     "metadata": {},
     "output_type": "display_data"
    }
   ],
   "source": [
    "df[' t (C)'].plot()"
   ]
  },
  {
   "cell_type": "markdown",
   "metadata": {
    "tags": []
   },
   "source": [
    "### GNSS data example\n",
    "\n",
    "Retrieve daily GNSS positions from Makorori (MAKO), a site near Gisborne. You'll notice that these data have non-zero errors that were estimated when the daily positions were calculated. In this case we will retrieve all the data, so the days=xxx option is not required."
   ]
  },
  {
   "cell_type": "code",
   "execution_count": 53,
   "metadata": {},
   "outputs": [],
   "source": [
    "siteID = 'MAKO' #Makorori\n",
    "typeID = 'e' #east component of deformation"
   ]
  },
  {
   "cell_type": "code",
   "execution_count": 54,
   "metadata": {},
   "outputs": [
    {
     "name": "stdout",
     "output_type": "stream",
     "text": [
      "https://fits.geonet.org.nz/observation?typeID=e&siteID=MAKO\n"
     ]
    }
   ],
   "source": [
    "url = base_url + endpoint+'?typeID=' + typeID + '&siteID=' + siteID\n",
    "print (url)"
   ]
  },
  {
   "cell_type": "markdown",
   "metadata": {},
   "source": [
    "Use the url specifying the data request in pandas read_csv function. Tell pandas to interpret columns that look like dates as dates, ans set the index to the date-time column"
   ]
  },
  {
   "cell_type": "code",
   "execution_count": 55,
   "metadata": {},
   "outputs": [],
   "source": [
    "df = pd.read_csv(url, parse_dates=True, index_col='date-time')"
   ]
  },
  {
   "cell_type": "markdown",
   "metadata": {},
   "source": [
    "Head the dataframe to check the first 5 rows"
   ]
  },
  {
   "cell_type": "code",
   "execution_count": 56,
   "metadata": {},
   "outputs": [
    {
     "data": {
      "text/html": [
       "<div>\n",
       "<style scoped>\n",
       "    .dataframe tbody tr th:only-of-type {\n",
       "        vertical-align: middle;\n",
       "    }\n",
       "\n",
       "    .dataframe tbody tr th {\n",
       "        vertical-align: top;\n",
       "    }\n",
       "\n",
       "    .dataframe thead th {\n",
       "        text-align: right;\n",
       "    }\n",
       "</style>\n",
       "<table border=\"1\" class=\"dataframe\">\n",
       "  <thead>\n",
       "    <tr style=\"text-align: right;\">\n",
       "      <th></th>\n",
       "      <th>e (mm)</th>\n",
       "      <th>error (mm)</th>\n",
       "    </tr>\n",
       "    <tr>\n",
       "      <th>date-time</th>\n",
       "      <th></th>\n",
       "      <th></th>\n",
       "    </tr>\n",
       "  </thead>\n",
       "  <tbody>\n",
       "    <tr>\n",
       "      <th>2010-11-10 11:59:00+00:00</th>\n",
       "      <td>22.66</td>\n",
       "      <td>1.54</td>\n",
       "    </tr>\n",
       "    <tr>\n",
       "      <th>2010-11-11 11:59:00+00:00</th>\n",
       "      <td>21.65</td>\n",
       "      <td>1.77</td>\n",
       "    </tr>\n",
       "    <tr>\n",
       "      <th>2010-11-12 11:59:00+00:00</th>\n",
       "      <td>22.54</td>\n",
       "      <td>1.80</td>\n",
       "    </tr>\n",
       "    <tr>\n",
       "      <th>2010-11-13 11:59:00+00:00</th>\n",
       "      <td>21.17</td>\n",
       "      <td>1.60</td>\n",
       "    </tr>\n",
       "    <tr>\n",
       "      <th>2010-11-14 11:59:00+00:00</th>\n",
       "      <td>21.59</td>\n",
       "      <td>2.25</td>\n",
       "    </tr>\n",
       "  </tbody>\n",
       "</table>\n",
       "</div>"
      ],
      "text/plain": [
       "                           e (mm)  error (mm)\n",
       "date-time                                    \n",
       "2010-11-10 11:59:00+00:00   22.66        1.54\n",
       "2010-11-11 11:59:00+00:00   21.65        1.77\n",
       "2010-11-12 11:59:00+00:00   22.54        1.80\n",
       "2010-11-13 11:59:00+00:00   21.17        1.60\n",
       "2010-11-14 11:59:00+00:00   21.59        2.25"
      ]
     },
     "execution_count": 56,
     "metadata": {},
     "output_type": "execute_result"
    }
   ],
   "source": [
    "df.head()"
   ]
  },
  {
   "cell_type": "markdown",
   "metadata": {},
   "source": [
    "Make a basic plot directly using the pandas plot function"
   ]
  },
  {
   "cell_type": "code",
   "execution_count": 57,
   "metadata": {},
   "outputs": [
    {
     "data": {
      "text/plain": [
       "<Axes: xlabel='date-time'>"
      ]
     },
     "execution_count": 57,
     "metadata": {},
     "output_type": "execute_result"
    },
    {
     "data": {
      "image/png": "[encoded data removed]",
      "text/plain": [
       "<Figure size 640x480 with 1 Axes>"
      ]
     },
     "metadata": {},
     "output_type": "display_data"
    }
   ],
   "source": [
    "df[' e (mm)'].plot()"
   ]
  },
  {
   "cell_type": "markdown",
   "metadata": {
    "tags": []
   },
   "source": [
    "## Additional Functionality - Find Sites"
   ]
  },
  {
   "cell_type": "markdown",
   "metadata": {},
   "source": [
    "You can use the FITS API to find sites in a particular area. https://fits.geonet.org.nz/api-docs/endpoint/site We use a polygon around Tair&#259;whiti (East Cape). The kind of data present in FITS is not returned, but in this case all sites provide GNSS daily position solutions."
   ]
  },
  {
   "cell_type": "code",
   "execution_count": 58,
   "metadata": {},
   "outputs": [],
   "source": [
    "base_url = 'https://fits.geonet.org.nz/'\n",
    "endpoint = 'site'\n",
    "url = base_url + endpoint"
   ]
  },
  {
   "cell_type": "code",
   "execution_count": 59,
   "metadata": {},
   "outputs": [],
   "source": [
    "poly = 'POLYGON((177.3 -38.2, 177.8 -37.4, 178.7 -37.6, 178.4 -38.8, 177.3 -38.2))'\n",
    "parameters ={'within':poly}"
   ]
  },
  {
   "cell_type": "markdown",
   "metadata": {},
   "source": [
    "We use `requests.get` to get the data using the URL and the polygon parameters"
   ]
  },
  {
   "cell_type": "code",
   "execution_count": 60,
   "metadata": {},
   "outputs": [
    {
     "name": "stdout",
     "output_type": "stream",
     "text": [
      "<Response [200]>\n"
     ]
    }
   ],
   "source": [
    "sites = requests.get(url, params=parameters)\n",
    "print (sites) # a 200 response is okay\n",
    "\n",
    "data = sites.json()['features'] # we want the features information"
   ]
  },
  {
   "cell_type": "markdown",
   "metadata": {
    "jp-MarkdownHeadingCollapsed": true,
    "tags": []
   },
   "source": [
    "Create a dataframe to store the site information"
   ]
  },
  {
   "cell_type": "code",
   "execution_count": 61,
   "metadata": {},
   "outputs": [],
   "source": [
    "eastcape = pd.DataFrame() #empty dataframe"
   ]
  },
  {
   "cell_type": "markdown",
   "metadata": {},
   "source": [
    "We put this data into a dataframe"
   ]
  },
  {
   "cell_type": "code",
   "execution_count": 62,
   "metadata": {},
   "outputs": [],
   "source": [
    "for i, val in enumerate(data):\n",
    "    geometry = val['geometry']\n",
    "    lon = geometry['coordinates'][0]\n",
    "    lat = geometry['coordinates'][1]\n",
    "    properties = val['properties']\n",
    "    siteID = properties['siteID']\n",
    "    height = properties['height']\n",
    "    name = properties['name']\n",
    "    #dictionary containing the various data\n",
    "    dic = {'siteID': siteID, 'lon': lon, 'lat': lat, 'height': height, 'name': name}\n",
    "    #make a temporary dataframe from the dictionary\n",
    "    temp = pd.DataFrame(dic, index=[i])\n",
    "    #concatenate with dataframe containing site information\n",
    "    eastcape = pd.concat([eastcape, temp])"
   ]
  },
  {
   "cell_type": "code",
   "execution_count": 63,
   "metadata": {},
   "outputs": [
    {
     "data": {
      "text/html": [
       "<div>\n",
       "<style scoped>\n",
       "    .dataframe tbody tr th:only-of-type {\n",
       "        vertical-align: middle;\n",
       "    }\n",
       "\n",
       "    .dataframe tbody tr th {\n",
       "        vertical-align: top;\n",
       "    }\n",
       "\n",
       "    .dataframe thead th {\n",
       "        text-align: right;\n",
       "    }\n",
       "</style>\n",
       "<table border=\"1\" class=\"dataframe\">\n",
       "  <thead>\n",
       "    <tr style=\"text-align: right;\">\n",
       "      <th></th>\n",
       "      <th>siteID</th>\n",
       "      <th>lon</th>\n",
       "      <th>lat</th>\n",
       "      <th>height</th>\n",
       "      <th>name</th>\n",
       "    </tr>\n",
       "  </thead>\n",
       "  <tbody>\n",
       "    <tr>\n",
       "      <th>0</th>\n",
       "      <td>PAKI</td>\n",
       "      <td>178.082600</td>\n",
       "      <td>-37.893980</td>\n",
       "      <td>828.0000</td>\n",
       "      <td>Pakihiroa</td>\n",
       "    </tr>\n",
       "    <tr>\n",
       "      <th>1</th>\n",
       "      <td>HIKB</td>\n",
       "      <td>178.303353</td>\n",
       "      <td>-37.561041</td>\n",
       "      <td>107.2888</td>\n",
       "      <td>Hicks Bay</td>\n",
       "    </tr>\n",
       "    <tr>\n",
       "      <th>2</th>\n",
       "      <td>PUKE</td>\n",
       "      <td>178.257360</td>\n",
       "      <td>-38.071415</td>\n",
       "      <td>468.0750</td>\n",
       "      <td>Puketiti</td>\n",
       "    </tr>\n",
       "    <tr>\n",
       "      <th>3</th>\n",
       "      <td>TAUW</td>\n",
       "      <td>178.005877</td>\n",
       "      <td>-38.162425</td>\n",
       "      <td>713.4560</td>\n",
       "      <td>Tauwhareparae</td>\n",
       "    </tr>\n",
       "    <tr>\n",
       "      <th>4</th>\n",
       "      <td>CNST</td>\n",
       "      <td>178.211144</td>\n",
       "      <td>-38.487966</td>\n",
       "      <td>242.6788</td>\n",
       "      <td>Carnagh Station</td>\n",
       "    </tr>\n",
       "    <tr>\n",
       "      <th>5</th>\n",
       "      <td>MAKO</td>\n",
       "      <td>178.129135</td>\n",
       "      <td>-38.643795</td>\n",
       "      <td>255.0300</td>\n",
       "      <td>Makorori</td>\n",
       "    </tr>\n",
       "    <tr>\n",
       "      <th>6</th>\n",
       "      <td>WMAT</td>\n",
       "      <td>178.408700</td>\n",
       "      <td>-37.825000</td>\n",
       "      <td>356.0000</td>\n",
       "      <td>Waiomatatini</td>\n",
       "    </tr>\n",
       "    <tr>\n",
       "      <th>7</th>\n",
       "      <td>TKAR</td>\n",
       "      <td>177.811440</td>\n",
       "      <td>-38.437470</td>\n",
       "      <td>287.0000</td>\n",
       "      <td>Te Karaka</td>\n",
       "    </tr>\n",
       "    <tr>\n",
       "      <th>8</th>\n",
       "      <td>AHTI</td>\n",
       "      <td>178.046003</td>\n",
       "      <td>-38.411448</td>\n",
       "      <td>563.2210</td>\n",
       "      <td>Ahititi</td>\n",
       "    </tr>\n",
       "    <tr>\n",
       "      <th>9</th>\n",
       "      <td>ANAU</td>\n",
       "      <td>178.291223</td>\n",
       "      <td>-38.268213</td>\n",
       "      <td>229.3040</td>\n",
       "      <td>Anaura Bay</td>\n",
       "    </tr>\n",
       "    <tr>\n",
       "      <th>10</th>\n",
       "      <td>RAUM</td>\n",
       "      <td>177.677525</td>\n",
       "      <td>-37.965003</td>\n",
       "      <td>1140.9760</td>\n",
       "      <td>Raukumara Range</td>\n",
       "    </tr>\n",
       "  </tbody>\n",
       "</table>\n",
       "</div>"
      ],
      "text/plain": [
       "   siteID         lon        lat     height             name\n",
       "0    PAKI  178.082600 -37.893980   828.0000        Pakihiroa\n",
       "1    HIKB  178.303353 -37.561041   107.2888        Hicks Bay\n",
       "2    PUKE  178.257360 -38.071415   468.0750         Puketiti\n",
       "3    TAUW  178.005877 -38.162425   713.4560    Tauwhareparae\n",
       "4    CNST  178.211144 -38.487966   242.6788  Carnagh Station\n",
       "5    MAKO  178.129135 -38.643795   255.0300         Makorori\n",
       "6    WMAT  178.408700 -37.825000   356.0000     Waiomatatini\n",
       "7    TKAR  177.811440 -38.437470   287.0000        Te Karaka\n",
       "8    AHTI  178.046003 -38.411448   563.2210          Ahititi\n",
       "9    ANAU  178.291223 -38.268213   229.3040       Anaura Bay\n",
       "10   RAUM  177.677525 -37.965003  1140.9760  Raukumara Range"
      ]
     },
     "execution_count": 63,
     "metadata": {},
     "output_type": "execute_result"
    }
   ],
   "source": [
    "eastcape"
   ]
  },
  {
   "cell_type": "markdown",
   "metadata": {
    "tags": []
   },
   "source": [
    "## Additional Functionality - Find Data Collection Methods"
   ]
  },
  {
   "cell_type": "markdown",
   "metadata": {},
   "source": [
    "You can use the FITS API to find data collection methods for a particular data type. https://fits.geonet.org.nz/api-docs/endpoint/method We use it to find the methods for GNSS daily solution data. We set data type to 'e', but 'n' and 'u' would give the same results."
   ]
  },
  {
   "cell_type": "code",
   "execution_count": 68,
   "metadata": {},
   "outputs": [],
   "source": [
    "base_url = 'https://fits.geonet.org.nz/'\n",
    "endpoint = 'method'\n",
    "url = base_url + endpoint"
   ]
  },
  {
   "cell_type": "code",
   "execution_count": 69,
   "metadata": {},
   "outputs": [],
   "source": [
    "#Set query parameters\n",
    "parameters ={\"typeID\": 'e'}\n",
    "\n",
    "#Get data\n",
    "request = requests.get(url, params=parameters)\n",
    "\n",
    "#Unpack data\n",
    "data = request.json()['method']"
   ]
  },
  {
   "cell_type": "code",
   "execution_count": 70,
   "metadata": {},
   "outputs": [],
   "source": [
    "e_methods = pd.DataFrame()\n",
    "    \n",
    "#add data to the data frame\n",
    "for i, val in enumerate(data):\n",
    "    methodID = val['methodID']\n",
    "    name = val['name']\n",
    "    description = val['description']\n",
    "    reference = val['reference']\n",
    "    #append these to t_methods\n",
    "    dic = {'name': name, 'methodID': methodID, 'description': description, 'reference':reference}\n",
    "    #make a temporary dataframe from the dictionary\n",
    "    temp = pd.DataFrame(dic, index=[i])\n",
    "    #concatenate with dataframe containing method information\n",
    "    e_methods = pd.concat([e_methods, temp])"
   ]
  },
  {
   "cell_type": "code",
   "execution_count": 71,
   "metadata": {},
   "outputs": [
    {
     "data": {
      "text/html": [
       "<div>\n",
       "<style scoped>\n",
       "    .dataframe tbody tr th:only-of-type {\n",
       "        vertical-align: middle;\n",
       "    }\n",
       "\n",
       "    .dataframe tbody tr th {\n",
       "        vertical-align: top;\n",
       "    }\n",
       "\n",
       "    .dataframe thead th {\n",
       "        text-align: right;\n",
       "    }\n",
       "</style>\n",
       "<table border=\"1\" class=\"dataframe\">\n",
       "  <thead>\n",
       "    <tr style=\"text-align: right;\">\n",
       "      <th></th>\n",
       "      <th>name</th>\n",
       "      <th>methodID</th>\n",
       "      <th>description</th>\n",
       "      <th>reference</th>\n",
       "    </tr>\n",
       "  </thead>\n",
       "  <tbody>\n",
       "    <tr>\n",
       "      <th>0</th>\n",
       "      <td>Bernese v5.0</td>\n",
       "      <td>bernese5</td>\n",
       "      <td>Bernese v5.0 GNS processing software</td>\n",
       "      <td>http://info.geonet.org.nz/x/XoIW</td>\n",
       "    </tr>\n",
       "    <tr>\n",
       "      <th>1</th>\n",
       "      <td>Gamit/GlobK</td>\n",
       "      <td>gamit</td>\n",
       "      <td>Gamit/GlobK GNSS processing software</td>\n",
       "      <td>http://www-gpsg.mit.edu/~simon/gtgk/</td>\n",
       "    </tr>\n",
       "  </tbody>\n",
       "</table>\n",
       "</div>"
      ],
      "text/plain": [
       "           name  methodID                           description  \\\n",
       "0  Bernese v5.0  bernese5  Bernese v5.0 GNS processing software   \n",
       "1   Gamit/GlobK     gamit  Gamit/GlobK GNSS processing software   \n",
       "\n",
       "                              reference  \n",
       "0      http://info.geonet.org.nz/x/XoIW  \n",
       "1  http://www-gpsg.mit.edu/~simon/gtgk/  "
      ]
     },
     "execution_count": 71,
     "metadata": {},
     "output_type": "execute_result"
    }
   ],
   "source": [
    "e_methods"
   ]
  }
 ],
 "metadata": {
  "kernelspec": {
   "display_name": "tutorial",
   "language": "python",
   "name": "tutorial"
  },
  "language_info": {
   "codemirror_mode": {
    "name": "ipython",
    "version": 3
   },
   "file_extension": ".py",
   "mimetype": "text/x-python",
   "name": "python",
   "nbconvert_exporter": "python",
   "pygments_lexer": "ipython3",
   "version": "3.10.14"
  }
 },
 "nbformat": 4,
 "nbformat_minor": 4
}
