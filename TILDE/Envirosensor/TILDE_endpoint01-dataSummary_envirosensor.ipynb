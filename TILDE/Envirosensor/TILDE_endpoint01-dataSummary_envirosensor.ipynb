{
 "cells": [
  {
   "cell_type": "markdown",
   "id": "presidential-physics",
   "metadata": {},
   "source": [
    "# Exploring Data Summary from TILDE, Application to envirosensor data"
   ]
  },
  {
   "cell_type": "markdown",
   "id": "lyric-snowboard",
   "metadata": {},
   "source": [
    "## &nbsp;Table of contents\n",
    "### 1. Introduction\n",
    "### 2. Building the Basic TILDE Query\n",
    "### 3. Building a TILDE Query with a specific domain\n",
    "### 4. Find station locations and display on a map\n",
    "### 5. Station data and data range graphs"
   ]
  },
  {
   "cell_type": "markdown",
   "id": "olive-latin",
   "metadata": {},
   "source": [
    "## &nbsp;1. Introduction"
   ]
  },
  {
   "cell_type": "markdown",
   "id": "powered-directory",
   "metadata": {},
   "source": [
    "In this tutorial we will be learning how to use Python to query the TILDE API `Data Summary` endpoint. To highlight different functionalities and the data available we will be using the envirosensor (Environmental Sensor) dataset. This dataset is derived from GeoNet's Low Rate Data Collection Platform (LRDCP). TILDE is the API (Application Programmatic Interface) to access envirosensor data. You do not need to know anything about APIs to use this tutorial. If you would like more info see https://tilde.geonet.org.nz/v2/api-docs/.\n",
    "\n",
    "This tutorial assumes you have basic knowledge of Python."
   ]
  },
  {
   "cell_type": "markdown",
   "id": "suspected-capacity",
   "metadata": {},
   "source": [
    "###### About GeoNet envirosensor data and the Low Rate Data Collection Platform"
   ]
  },
  {
   "cell_type": "markdown",
   "id": "imposed-geography",
   "metadata": {},
   "source": [
    "GeoNet currently has 6 environmental stations at various locations across Mt Ngauruhoe, Mt Tongariro, Waimangu Volcanic Valley and Rotoma Soda Springs to measure various factors related to volcano/thermal indicators. These include measuring; air temperature, fumarole temperature, lake height, lake temperature, overflow temperature, spring height and spring temperature. Most of these sites measure 2-3 of these factors. Different aspects can also be selected if there are more than one measure at a site, for example there is a south-vent and an east-vent aspect for fumarole temperature at one of the Tongariro sites (TO006). The envirosensors are part of the Low Rate Data Collection Platform (LRDCP). TILDE provides access to minimum, the maximum and the snapshot data. \n",
    "\n",
    "A web page providing more information on the LRDCP is in planning/preparation."
   ]
  },
  {
   "cell_type": "markdown",
   "id": "simplified-ridge",
   "metadata": {},
   "source": [
    "## &nbsp;2. Building the Basic TILDE Query"
   ]
  },
  {
   "cell_type": "markdown",
   "id": "reflected-parker",
   "metadata": {},
   "source": [
    "###### Import required modules and set the source URL"
   ]
  },
  {
   "cell_type": "code",
   "execution_count": 1,
   "id": "piano-geography",
   "metadata": {},
   "outputs": [],
   "source": [
    "import requests\n",
    "import json\n",
    "import pandas as pd\n",
    "import numpy as np\n",
    "import matplotlib.pyplot as plt\n",
    "from matplotlib.transforms import offset_copy\n",
    "import cartopy.crs as ccrs\n",
    "import cartopy.io.img_tiles as cimgt\n",
    "from cartopy.io.img_tiles import OSM"
   ]
  },
  {
   "cell_type": "code",
   "execution_count": 2,
   "id": "classical-joyce",
   "metadata": {},
   "outputs": [],
   "source": [
    "source = 'https://tilde.geonet.org.nz'"
   ]
  },
  {
   "cell_type": "markdown",
   "id": "allied-dublin",
   "metadata": {},
   "source": [
    "### A basic query with no parameters applied\n",
    "\n",
    "This query returns information on the different data domains held in TILDE. The query uses the 'dataSummary' endpoint as `https://tilde.geonet.org.nz/v2/dataSummary/`."
   ]
  },
  {
   "cell_type": "markdown",
   "id": "plain-toner",
   "metadata": {},
   "source": [
    "######  Set the URL of a basic data summary query"
   ]
  },
  {
   "cell_type": "code",
   "execution_count": 3,
   "id": "failing-joint",
   "metadata": {},
   "outputs": [],
   "source": [
    "url = source+'/v2/dataSummary/'"
   ]
  },
  {
   "cell_type": "code",
   "execution_count": 4,
   "id": "hybrid-airfare",
   "metadata": {},
   "outputs": [
    {
     "name": "stdout",
     "output_type": "stream",
     "text": [
      "<Response [200]>\n"
     ]
    }
   ],
   "source": [
    "r = requests.get(url)\n",
    "print (r)"
   ]
  },
  {
   "cell_type": "markdown",
   "id": "noticed-kernel",
   "metadata": {},
   "source": [
    "We use `requests.get` to retrieve the data from the URL. The response status code says whether we were successful in getting the data requested and why not if we were unsuccessful:\n",
    "<ul>\n",
    "<li>200 -- everything went okay, and the result has been returned (if any)\n",
    "<li>301 -- the server is redirecting you to a different endpoint. This can happen when a company switches domain names, or an endpoint name is changed.\n",
    "<li>400 -- the server thinks you made a bad request. This can happen when you don't send along the right data, among other things.\n",
    "<li>404 -- the resource you tried to access wasn't found on the server.\n",
    "</ul>"
   ]
  },
  {
   "cell_type": "markdown",
   "id": "local-reason",
   "metadata": {},
   "source": [
    "###### Store the response as a nested dictionary and see the output"
   ]
  },
  {
   "cell_type": "markdown",
   "id": "soviet-partner",
   "metadata": {},
   "source": [
    "A nested dictionary in python is a dictionary within a dictionary. It's a collection of dictionaries into one single directory. <br>\n",
    "In TILDE, each data domain has different entries which sit within that specific domain name. For example, DART data sit within the _dart_ domain, and the envirosensor data sit within the _envirosensor_ domain. By creating a nested dictionary we can specify the domain and then split it by domain name. "
   ]
  },
  {
   "cell_type": "code",
   "execution_count": 5,
   "id": "digital-second",
   "metadata": {},
   "outputs": [
    {
     "data": {
      "text/plain": [
       "dict"
      ]
     },
     "execution_count": 5,
     "metadata": {},
     "output_type": "execute_result"
    }
   ],
   "source": [
    "summary = r.json()\n",
    "type(summary)"
   ]
  },
  {
   "cell_type": "code",
   "execution_count": 6,
   "id": "organized-inclusion",
   "metadata": {},
   "outputs": [
    {
     "data": {
      "text/plain": [
       "{'domains': {'dart': {'domain_name': 'dart',\n",
       "   'description': 'Deep-ocean Assessment and Reporting of Tsunami',\n",
       "   'recordCount': 1424825,\n",
       "   'seriesCount': 64,\n",
       "   'stationCount': 12,\n",
       "   'earliestRecord': '2019-12-13T02:15:00Z',\n",
       "   'latestRecord': '2022-04-27T12:00:00Z'},\n",
       "  'envirosensor': {'domain_name': 'envirosensor',\n",
       "   'description': 'Environmental Sensors',\n",
       "   'recordCount': 361118,\n",
       "   'seriesCount': 54,\n",
       "   'stationCount': 6,\n",
       "   'earliestRecord': '2022-02-24T04:00:00Z',\n",
       "   'latestRecord': '2022-04-27T15:50:00Z'}}}"
      ]
     },
     "execution_count": 6,
     "metadata": {},
     "output_type": "execute_result"
    }
   ],
   "source": [
    "summary"
   ]
  },
  {
   "cell_type": "markdown",
   "id": "accessible-increase",
   "metadata": {},
   "source": [
    "######  Specifying the domains from the summary"
   ]
  },
  {
   "cell_type": "markdown",
   "id": "21b9fa58",
   "metadata": {},
   "source": [
    "Currently only the DART and envirosensor domains exist in TILDE. As more domains become available more details will be shown here. "
   ]
  },
  {
   "cell_type": "code",
   "execution_count": 7,
   "id": "vertical-needle",
   "metadata": {},
   "outputs": [
    {
     "data": {
      "text/plain": [
       "{'dart': {'domain_name': 'dart',\n",
       "  'description': 'Deep-ocean Assessment and Reporting of Tsunami',\n",
       "  'recordCount': 1424825,\n",
       "  'seriesCount': 64,\n",
       "  'stationCount': 12,\n",
       "  'earliestRecord': '2019-12-13T02:15:00Z',\n",
       "  'latestRecord': '2022-04-27T12:00:00Z'},\n",
       " 'envirosensor': {'domain_name': 'envirosensor',\n",
       "  'description': 'Environmental Sensors',\n",
       "  'recordCount': 361118,\n",
       "  'seriesCount': 54,\n",
       "  'stationCount': 6,\n",
       "  'earliestRecord': '2022-02-24T04:00:00Z',\n",
       "  'latestRecord': '2022-04-27T15:50:00Z'}}"
      ]
     },
     "execution_count": 7,
     "metadata": {},
     "output_type": "execute_result"
    }
   ],
   "source": [
    "domains = summary['domains']\n",
    "domains"
   ]
  },
  {
   "cell_type": "markdown",
   "id": "exotic-natural",
   "metadata": {},
   "source": [
    "**Access Method 1 - Use the items method to access each entry**\n",
    "<br>\n",
    "To have actual information about the domain you can print out the key-value pairs as shown below. In this case we print out various item names that have been returned for the _dart_ and _envirosensor_ domain in the response above. We are printing out each item line by line, with the domain name being at the top. "
   ]
  },
  {
   "cell_type": "code",
   "execution_count": 8,
   "id": "pointed-musical",
   "metadata": {},
   "outputs": [
    {
     "name": "stdout",
     "output_type": "stream",
     "text": [
      "For Domain =  dart\n",
      "\tDomain name = dart\n",
      "\tDescription = Deep-ocean Assessment and Reporting of Tsunami\n",
      "\tRecord count = 1424825\n",
      "\tSeries count = 64\n",
      "\tStation count = 12\n",
      "\tEarliest record = 2019-12-13T02:15:00Z\n",
      "\tLatest record = 2022-04-27T12:00:00Z\n",
      "For Domain =  envirosensor\n",
      "\tDomain name = envirosensor\n",
      "\tDescription = Environmental Sensors\n",
      "\tRecord count = 361118\n",
      "\tSeries count = 54\n",
      "\tStation count = 6\n",
      "\tEarliest record = 2022-02-24T04:00:00Z\n",
      "\tLatest record = 2022-04-27T15:50:00Z\n"
     ]
    }
   ],
   "source": [
    "#iterate over key,value pairs and print the results\n",
    "for domain,detail in domains.items():\n",
    "    print ('For Domain = ', domain)     \n",
    "    print ('\\tDomain name =', detail.get('domain_name'))\n",
    "    print ('\\tDescription =', detail.get('description'))\n",
    "    print ('\\tRecord count =', detail.get('recordCount'))\n",
    "    print ('\\tSeries count =', detail.get('seriesCount'))\n",
    "    print ('\\tStation count =', detail.get('stationCount'))\n",
    "    print ('\\tEarliest record =', detail.get('earliestRecord'))\n",
    "    print ('\\tLatest record =', detail.get('latestRecord'))"
   ]
  },
  {
   "cell_type": "markdown",
   "id": "editorial-merchandise",
   "metadata": {},
   "source": [
    "**Access Method 2 - Summary info in table format**\n",
    "<br>\n",
    "Pandas dataframes can be quite useful because they enable the user to visualize information in a table instead of line-by-line as shown above. The dataframe calls for the values in the 'domains' variable that we set above and then the 'orient' (orientation) is specified to be the 'index' because we are using the highest level key as the index, and subsidiary keys as columns. As we have two domains, they each have a row in the table, adding more domains would create more rows."
   ]
  },
  {
   "cell_type": "code",
   "execution_count": 9,
   "id": "informative-inventory",
   "metadata": {},
   "outputs": [
    {
     "data": {
      "text/html": [
       "<div>\n",
       "<style scoped>\n",
       "    .dataframe tbody tr th:only-of-type {\n",
       "        vertical-align: middle;\n",
       "    }\n",
       "\n",
       "    .dataframe tbody tr th {\n",
       "        vertical-align: top;\n",
       "    }\n",
       "\n",
       "    .dataframe thead th {\n",
       "        text-align: right;\n",
       "    }\n",
       "</style>\n",
       "<table border=\"1\" class=\"dataframe\">\n",
       "  <thead>\n",
       "    <tr style=\"text-align: right;\">\n",
       "      <th></th>\n",
       "      <th>domain_name</th>\n",
       "      <th>description</th>\n",
       "      <th>recordCount</th>\n",
       "      <th>seriesCount</th>\n",
       "      <th>stationCount</th>\n",
       "      <th>earliestRecord</th>\n",
       "      <th>latestRecord</th>\n",
       "    </tr>\n",
       "  </thead>\n",
       "  <tbody>\n",
       "    <tr>\n",
       "      <th>dart</th>\n",
       "      <td>dart</td>\n",
       "      <td>Deep-ocean Assessment and Reporting of Tsunami</td>\n",
       "      <td>1424825</td>\n",
       "      <td>64</td>\n",
       "      <td>12</td>\n",
       "      <td>2019-12-13T02:15:00Z</td>\n",
       "      <td>2022-04-27T12:00:00Z</td>\n",
       "    </tr>\n",
       "    <tr>\n",
       "      <th>envirosensor</th>\n",
       "      <td>envirosensor</td>\n",
       "      <td>Environmental Sensors</td>\n",
       "      <td>361118</td>\n",
       "      <td>54</td>\n",
       "      <td>6</td>\n",
       "      <td>2022-02-24T04:00:00Z</td>\n",
       "      <td>2022-04-27T15:50:00Z</td>\n",
       "    </tr>\n",
       "  </tbody>\n",
       "</table>\n",
       "</div>"
      ],
      "text/plain": [
       "               domain_name                                     description  \\\n",
       "dart                  dart  Deep-ocean Assessment and Reporting of Tsunami   \n",
       "envirosensor  envirosensor                           Environmental Sensors   \n",
       "\n",
       "              recordCount  seriesCount  stationCount        earliestRecord  \\\n",
       "dart              1424825           64            12  2019-12-13T02:15:00Z   \n",
       "envirosensor       361118           54             6  2022-02-24T04:00:00Z   \n",
       "\n",
       "                      latestRecord  \n",
       "dart          2022-04-27T12:00:00Z  \n",
       "envirosensor  2022-04-27T15:50:00Z  "
      ]
     },
     "execution_count": 9,
     "metadata": {},
     "output_type": "execute_result"
    }
   ],
   "source": [
    "df = pd.DataFrame.from_dict(data=domains, orient='index')\n",
    "df"
   ]
  },
  {
   "cell_type": "markdown",
   "id": "organizational-bracket",
   "metadata": {},
   "source": [
    "## &nbsp;3. Building a TILDE Query with a specific domain, and seeing what data that domain contains\n",
    "\n",
    "This query returns information about the specific data domains provided. <br> \n",
    "The query is `https://tilde.geonet.org.nz/v2/dataSummary/[domain]`. For this example we will continue to use the envirosensor domain."
   ]
  },
  {
   "cell_type": "markdown",
   "id": "coordinate-feature",
   "metadata": {
    "tags": []
   },
   "source": [
    "######  Exploring summary for the envirosensor domain\n",
    "<br>\n",
    "Following the same steps as above but specifying 'envirosensor' domain after 'dataSummary'. This produces a long list of all the details of the 'envirosensor' data."
   ]
  },
  {
   "cell_type": "code",
   "execution_count": 10,
   "id": "robust-sense",
   "metadata": {},
   "outputs": [],
   "source": [
    "mydomain = 'envirosensor'\n",
    "url = 'https://tilde.geonet.org.nz/v2/dataSummary/'+mydomain\n",
    "r = requests.get(url)\n",
    "summary = r.json()"
   ]
  },
  {
   "cell_type": "markdown",
   "id": "occupied-balloon",
   "metadata": {},
   "source": [
    "Each station in the envirosensor domain provides several data series, and virtually no two stations are alike. This makes for a long, complex data summary. And the JSON format doesn't make it easy to read. It will be very useful if we can list each of the stations and exactly what data streams are in each records in a table-like format. We'll make a pandas dataframe for this.\n",
    "\n",
    "We do this with a function and then call it with the output going to a dataframe."
   ]
  },
  {
   "cell_type": "code",
   "execution_count": 11,
   "id": "detected-english",
   "metadata": {},
   "outputs": [],
   "source": [
    "def station_data(summary, domain):\n",
    "    #dataframe for results\n",
    "    df = pd.DataFrame()\n",
    "    \n",
    "    #select just station part of dictionary\n",
    "    stations = summary['domain'][domain]['stations']\n",
    "\n",
    "    #get list of stations\n",
    "    # print ('##Station locations##')\n",
    "    stationlist = []\n",
    "    for key,val in stations.items():\n",
    "        stationlist.append(key)\n",
    "        # print (key, val['station_name'], val['latitude'], val['longitude'])\n",
    "\n",
    "    #with each station, get the location information, and the sensor_codes part of the dictionary\n",
    "    # print('\\n')\n",
    "    # print ('##Station details##')\n",
    "    for sta in stationlist:\n",
    "        # print ('##'+sta+'##')\n",
    "        latitude = stations[sta].get('latitude')\n",
    "        longitude = stations[sta].get('longitude')\n",
    "        sensorcodes = stations[sta]['sensor_codes']\n",
    "        # print (sensorcodes)\n",
    "\n",
    "        codelist = []\n",
    "        for key,val in sensorcodes.items():\n",
    "            codelist.append(key)\n",
    "            # print ('sensor code = ', val['sensor_code'])\n",
    "            \n",
    "        #get the names part\n",
    "        for code in codelist:\n",
    "            # print ('code=',code)\n",
    "            names = sensorcodes[code]['names']\n",
    "\n",
    "            namelist = []\n",
    "            for key,val in names.items():\n",
    "                namelist.append(key)\n",
    "                # print (sta, code, val['measure_name'])\n",
    "\n",
    "            #get the methods part    \n",
    "            for name in namelist:\n",
    "                # print ('name='+name)\n",
    "                methods = names[name]['methods']\n",
    "\n",
    "                methodlist = []\n",
    "                for key,val in methods.items():\n",
    "                    methodlist.append(key)\n",
    "                    \n",
    "                #get the aspects part    \n",
    "                for method in methodlist:\n",
    "                    # print ('method=', method)\n",
    "                    aspects  = methods[method]['aspects']\n",
    "\n",
    "                    aspectlist = []\n",
    "                    for key,val in aspects.items():\n",
    "                        aspectlist.append(key)\n",
    "                        # print (sta, code, name, method, val['aspect'])\n",
    "                        \n",
    "                        #get the record data\n",
    "                        for aspect in aspectlist:\n",
    "                                # print ('aspect=', aspect)\n",
    "                                records = aspects[aspect]\n",
    "                                recordcount = records.get('recordCount')\n",
    "                                earliestrecord = records.get('earliestRecord')\n",
    "                                latestrecord = records.get('latestRecord')\n",
    "                                # print (recordcount, earliestrecord, latestrecord)\n",
    "                                            \n",
    "                                d = {'station':sta, 'latitude':latitude, 'longitude':longitude, 'sensor_code':code, 'data_name':name, 'data_method':method, 'aspect':aspect, 'record_count':recordcount, 'earliestrecord':earliestrecord, 'latestrecord':latestrecord}\n",
    "                                df = df.append(d, ignore_index=True)\n",
    "\n",
    "    df['earliestrecord'] = pd.to_datetime(df['earliestrecord'])\n",
    "    df['latestrecord'] = pd.to_datetime(df['latestrecord'])\n",
    "    return(df)"
   ]
  },
  {
   "cell_type": "code",
   "execution_count": 12,
   "id": "complete-africa",
   "metadata": {},
   "outputs": [
    {
     "data": {
      "text/html": [
       "<div>\n",
       "<style scoped>\n",
       "    .dataframe tbody tr th:only-of-type {\n",
       "        vertical-align: middle;\n",
       "    }\n",
       "\n",
       "    .dataframe tbody tr th {\n",
       "        vertical-align: top;\n",
       "    }\n",
       "\n",
       "    .dataframe thead th {\n",
       "        text-align: right;\n",
       "    }\n",
       "</style>\n",
       "<table border=\"1\" class=\"dataframe\">\n",
       "  <thead>\n",
       "    <tr style=\"text-align: right;\">\n",
       "      <th></th>\n",
       "      <th>station</th>\n",
       "      <th>latitude</th>\n",
       "      <th>longitude</th>\n",
       "      <th>sensor_code</th>\n",
       "      <th>data_name</th>\n",
       "      <th>data_method</th>\n",
       "      <th>aspect</th>\n",
       "      <th>record_count</th>\n",
       "      <th>earliestrecord</th>\n",
       "      <th>latestrecord</th>\n",
       "    </tr>\n",
       "  </thead>\n",
       "  <tbody>\n",
       "    <tr>\n",
       "      <th>0</th>\n",
       "      <td>NA002</td>\n",
       "      <td>-39.1564</td>\n",
       "      <td>175.6347</td>\n",
       "      <td>01</td>\n",
       "      <td>air-temperature</td>\n",
       "      <td>max</td>\n",
       "      <td>nil</td>\n",
       "      <td>8682.0</td>\n",
       "      <td>2022-02-24 04:00:00+00:00</td>\n",
       "      <td>2022-04-27 15:50:00+00:00</td>\n",
       "    </tr>\n",
       "    <tr>\n",
       "      <th>1</th>\n",
       "      <td>NA002</td>\n",
       "      <td>-39.1564</td>\n",
       "      <td>175.6347</td>\n",
       "      <td>01</td>\n",
       "      <td>air-temperature</td>\n",
       "      <td>min</td>\n",
       "      <td>nil</td>\n",
       "      <td>8682.0</td>\n",
       "      <td>2022-02-24 04:00:00+00:00</td>\n",
       "      <td>2022-04-27 15:50:00+00:00</td>\n",
       "    </tr>\n",
       "    <tr>\n",
       "      <th>2</th>\n",
       "      <td>NA002</td>\n",
       "      <td>-39.1564</td>\n",
       "      <td>175.6347</td>\n",
       "      <td>01</td>\n",
       "      <td>air-temperature</td>\n",
       "      <td>snapshot</td>\n",
       "      <td>nil</td>\n",
       "      <td>8682.0</td>\n",
       "      <td>2022-02-24 04:00:00+00:00</td>\n",
       "      <td>2022-04-27 15:50:00+00:00</td>\n",
       "    </tr>\n",
       "    <tr>\n",
       "      <th>3</th>\n",
       "      <td>NA002</td>\n",
       "      <td>-39.1564</td>\n",
       "      <td>175.6347</td>\n",
       "      <td>02</td>\n",
       "      <td>fumarole-temperature</td>\n",
       "      <td>max</td>\n",
       "      <td>nil</td>\n",
       "      <td>8682.0</td>\n",
       "      <td>2022-02-24 04:00:00+00:00</td>\n",
       "      <td>2022-04-27 15:50:00+00:00</td>\n",
       "    </tr>\n",
       "    <tr>\n",
       "      <th>4</th>\n",
       "      <td>NA002</td>\n",
       "      <td>-39.1564</td>\n",
       "      <td>175.6347</td>\n",
       "      <td>02</td>\n",
       "      <td>fumarole-temperature</td>\n",
       "      <td>min</td>\n",
       "      <td>nil</td>\n",
       "      <td>8682.0</td>\n",
       "      <td>2022-02-24 04:00:00+00:00</td>\n",
       "      <td>2022-04-27 15:50:00+00:00</td>\n",
       "    </tr>\n",
       "    <tr>\n",
       "      <th>5</th>\n",
       "      <td>NA002</td>\n",
       "      <td>-39.1564</td>\n",
       "      <td>175.6347</td>\n",
       "      <td>02</td>\n",
       "      <td>fumarole-temperature</td>\n",
       "      <td>snapshot</td>\n",
       "      <td>nil</td>\n",
       "      <td>8682.0</td>\n",
       "      <td>2022-02-24 04:00:00+00:00</td>\n",
       "      <td>2022-04-27 15:50:00+00:00</td>\n",
       "    </tr>\n",
       "    <tr>\n",
       "      <th>6</th>\n",
       "      <td>NA002</td>\n",
       "      <td>-39.1564</td>\n",
       "      <td>175.6347</td>\n",
       "      <td>03</td>\n",
       "      <td>fumarole-temperature</td>\n",
       "      <td>max</td>\n",
       "      <td>nil</td>\n",
       "      <td>8682.0</td>\n",
       "      <td>2022-02-24 04:00:00+00:00</td>\n",
       "      <td>2022-04-27 15:50:00+00:00</td>\n",
       "    </tr>\n",
       "    <tr>\n",
       "      <th>7</th>\n",
       "      <td>NA002</td>\n",
       "      <td>-39.1564</td>\n",
       "      <td>175.6347</td>\n",
       "      <td>03</td>\n",
       "      <td>fumarole-temperature</td>\n",
       "      <td>min</td>\n",
       "      <td>nil</td>\n",
       "      <td>8682.0</td>\n",
       "      <td>2022-02-24 04:00:00+00:00</td>\n",
       "      <td>2022-04-27 15:50:00+00:00</td>\n",
       "    </tr>\n",
       "    <tr>\n",
       "      <th>8</th>\n",
       "      <td>NA002</td>\n",
       "      <td>-39.1564</td>\n",
       "      <td>175.6347</td>\n",
       "      <td>03</td>\n",
       "      <td>fumarole-temperature</td>\n",
       "      <td>snapshot</td>\n",
       "      <td>nil</td>\n",
       "      <td>8682.0</td>\n",
       "      <td>2022-02-24 04:00:00+00:00</td>\n",
       "      <td>2022-04-27 15:50:00+00:00</td>\n",
       "    </tr>\n",
       "    <tr>\n",
       "      <th>9</th>\n",
       "      <td>OT001</td>\n",
       "      <td>-38.2819</td>\n",
       "      <td>176.3997</td>\n",
       "      <td>01</td>\n",
       "      <td>lake-temperature</td>\n",
       "      <td>max</td>\n",
       "      <td>nil</td>\n",
       "      <td>6565.0</td>\n",
       "      <td>2022-02-24 04:00:00+00:00</td>\n",
       "      <td>2022-04-27 15:40:00+00:00</td>\n",
       "    </tr>\n",
       "    <tr>\n",
       "      <th>10</th>\n",
       "      <td>OT001</td>\n",
       "      <td>-38.2819</td>\n",
       "      <td>176.3997</td>\n",
       "      <td>01</td>\n",
       "      <td>lake-temperature</td>\n",
       "      <td>min</td>\n",
       "      <td>nil</td>\n",
       "      <td>6565.0</td>\n",
       "      <td>2022-02-24 04:00:00+00:00</td>\n",
       "      <td>2022-04-27 15:40:00+00:00</td>\n",
       "    </tr>\n",
       "    <tr>\n",
       "      <th>11</th>\n",
       "      <td>OT001</td>\n",
       "      <td>-38.2819</td>\n",
       "      <td>176.3997</td>\n",
       "      <td>01</td>\n",
       "      <td>lake-temperature</td>\n",
       "      <td>snapshot</td>\n",
       "      <td>nil</td>\n",
       "      <td>6565.0</td>\n",
       "      <td>2022-02-24 04:00:00+00:00</td>\n",
       "      <td>2022-04-27 15:40:00+00:00</td>\n",
       "    </tr>\n",
       "    <tr>\n",
       "      <th>12</th>\n",
       "      <td>OT001</td>\n",
       "      <td>-38.2819</td>\n",
       "      <td>176.3997</td>\n",
       "      <td>02</td>\n",
       "      <td>overflow-temperature</td>\n",
       "      <td>max</td>\n",
       "      <td>nil</td>\n",
       "      <td>6565.0</td>\n",
       "      <td>2022-02-24 04:00:00+00:00</td>\n",
       "      <td>2022-04-27 15:40:00+00:00</td>\n",
       "    </tr>\n",
       "    <tr>\n",
       "      <th>13</th>\n",
       "      <td>OT001</td>\n",
       "      <td>-38.2819</td>\n",
       "      <td>176.3997</td>\n",
       "      <td>02</td>\n",
       "      <td>overflow-temperature</td>\n",
       "      <td>min</td>\n",
       "      <td>nil</td>\n",
       "      <td>6565.0</td>\n",
       "      <td>2022-02-24 04:00:00+00:00</td>\n",
       "      <td>2022-04-27 15:40:00+00:00</td>\n",
       "    </tr>\n",
       "    <tr>\n",
       "      <th>14</th>\n",
       "      <td>OT001</td>\n",
       "      <td>-38.2819</td>\n",
       "      <td>176.3997</td>\n",
       "      <td>02</td>\n",
       "      <td>overflow-temperature</td>\n",
       "      <td>snapshot</td>\n",
       "      <td>nil</td>\n",
       "      <td>6565.0</td>\n",
       "      <td>2022-02-24 04:00:00+00:00</td>\n",
       "      <td>2022-04-27 15:40:00+00:00</td>\n",
       "    </tr>\n",
       "    <tr>\n",
       "      <th>15</th>\n",
       "      <td>OT001</td>\n",
       "      <td>-38.2819</td>\n",
       "      <td>176.3997</td>\n",
       "      <td>03</td>\n",
       "      <td>lake-height</td>\n",
       "      <td>max</td>\n",
       "      <td>nil</td>\n",
       "      <td>6550.0</td>\n",
       "      <td>2022-02-24 04:00:00+00:00</td>\n",
       "      <td>2022-04-27 15:40:00+00:00</td>\n",
       "    </tr>\n",
       "    <tr>\n",
       "      <th>16</th>\n",
       "      <td>OT001</td>\n",
       "      <td>-38.2819</td>\n",
       "      <td>176.3997</td>\n",
       "      <td>03</td>\n",
       "      <td>lake-height</td>\n",
       "      <td>min</td>\n",
       "      <td>nil</td>\n",
       "      <td>6550.0</td>\n",
       "      <td>2022-02-24 04:00:00+00:00</td>\n",
       "      <td>2022-04-27 15:40:00+00:00</td>\n",
       "    </tr>\n",
       "    <tr>\n",
       "      <th>17</th>\n",
       "      <td>OT001</td>\n",
       "      <td>-38.2819</td>\n",
       "      <td>176.3997</td>\n",
       "      <td>03</td>\n",
       "      <td>lake-height</td>\n",
       "      <td>snapshot</td>\n",
       "      <td>nil</td>\n",
       "      <td>6564.0</td>\n",
       "      <td>2022-02-24 04:00:00+00:00</td>\n",
       "      <td>2022-04-27 15:40:00+00:00</td>\n",
       "    </tr>\n",
       "    <tr>\n",
       "      <th>18</th>\n",
       "      <td>OT001</td>\n",
       "      <td>-38.2819</td>\n",
       "      <td>176.3997</td>\n",
       "      <td>04</td>\n",
       "      <td>overflow-height</td>\n",
       "      <td>max</td>\n",
       "      <td>nil</td>\n",
       "      <td>830.0</td>\n",
       "      <td>2022-04-05 00:20:00+00:00</td>\n",
       "      <td>2022-04-27 15:40:00+00:00</td>\n",
       "    </tr>\n",
       "    <tr>\n",
       "      <th>19</th>\n",
       "      <td>OT001</td>\n",
       "      <td>-38.2819</td>\n",
       "      <td>176.3997</td>\n",
       "      <td>04</td>\n",
       "      <td>overflow-height</td>\n",
       "      <td>min</td>\n",
       "      <td>nil</td>\n",
       "      <td>830.0</td>\n",
       "      <td>2022-04-05 00:20:00+00:00</td>\n",
       "      <td>2022-04-27 15:40:00+00:00</td>\n",
       "    </tr>\n",
       "  </tbody>\n",
       "</table>\n",
       "</div>"
      ],
      "text/plain": [
       "   station  latitude  longitude sensor_code             data_name data_method  \\\n",
       "0    NA002  -39.1564   175.6347          01       air-temperature         max   \n",
       "1    NA002  -39.1564   175.6347          01       air-temperature         min   \n",
       "2    NA002  -39.1564   175.6347          01       air-temperature    snapshot   \n",
       "3    NA002  -39.1564   175.6347          02  fumarole-temperature         max   \n",
       "4    NA002  -39.1564   175.6347          02  fumarole-temperature         min   \n",
       "5    NA002  -39.1564   175.6347          02  fumarole-temperature    snapshot   \n",
       "6    NA002  -39.1564   175.6347          03  fumarole-temperature         max   \n",
       "7    NA002  -39.1564   175.6347          03  fumarole-temperature         min   \n",
       "8    NA002  -39.1564   175.6347          03  fumarole-temperature    snapshot   \n",
       "9    OT001  -38.2819   176.3997          01      lake-temperature         max   \n",
       "10   OT001  -38.2819   176.3997          01      lake-temperature         min   \n",
       "11   OT001  -38.2819   176.3997          01      lake-temperature    snapshot   \n",
       "12   OT001  -38.2819   176.3997          02  overflow-temperature         max   \n",
       "13   OT001  -38.2819   176.3997          02  overflow-temperature         min   \n",
       "14   OT001  -38.2819   176.3997          02  overflow-temperature    snapshot   \n",
       "15   OT001  -38.2819   176.3997          03           lake-height         max   \n",
       "16   OT001  -38.2819   176.3997          03           lake-height         min   \n",
       "17   OT001  -38.2819   176.3997          03           lake-height    snapshot   \n",
       "18   OT001  -38.2819   176.3997          04       overflow-height         max   \n",
       "19   OT001  -38.2819   176.3997          04       overflow-height         min   \n",
       "\n",
       "   aspect  record_count            earliestrecord              latestrecord  \n",
       "0     nil        8682.0 2022-02-24 04:00:00+00:00 2022-04-27 15:50:00+00:00  \n",
       "1     nil        8682.0 2022-02-24 04:00:00+00:00 2022-04-27 15:50:00+00:00  \n",
       "2     nil        8682.0 2022-02-24 04:00:00+00:00 2022-04-27 15:50:00+00:00  \n",
       "3     nil        8682.0 2022-02-24 04:00:00+00:00 2022-04-27 15:50:00+00:00  \n",
       "4     nil        8682.0 2022-02-24 04:00:00+00:00 2022-04-27 15:50:00+00:00  \n",
       "5     nil        8682.0 2022-02-24 04:00:00+00:00 2022-04-27 15:50:00+00:00  \n",
       "6     nil        8682.0 2022-02-24 04:00:00+00:00 2022-04-27 15:50:00+00:00  \n",
       "7     nil        8682.0 2022-02-24 04:00:00+00:00 2022-04-27 15:50:00+00:00  \n",
       "8     nil        8682.0 2022-02-24 04:00:00+00:00 2022-04-27 15:50:00+00:00  \n",
       "9     nil        6565.0 2022-02-24 04:00:00+00:00 2022-04-27 15:40:00+00:00  \n",
       "10    nil        6565.0 2022-02-24 04:00:00+00:00 2022-04-27 15:40:00+00:00  \n",
       "11    nil        6565.0 2022-02-24 04:00:00+00:00 2022-04-27 15:40:00+00:00  \n",
       "12    nil        6565.0 2022-02-24 04:00:00+00:00 2022-04-27 15:40:00+00:00  \n",
       "13    nil        6565.0 2022-02-24 04:00:00+00:00 2022-04-27 15:40:00+00:00  \n",
       "14    nil        6565.0 2022-02-24 04:00:00+00:00 2022-04-27 15:40:00+00:00  \n",
       "15    nil        6550.0 2022-02-24 04:00:00+00:00 2022-04-27 15:40:00+00:00  \n",
       "16    nil        6550.0 2022-02-24 04:00:00+00:00 2022-04-27 15:40:00+00:00  \n",
       "17    nil        6564.0 2022-02-24 04:00:00+00:00 2022-04-27 15:40:00+00:00  \n",
       "18    nil         830.0 2022-04-05 00:20:00+00:00 2022-04-27 15:40:00+00:00  \n",
       "19    nil         830.0 2022-04-05 00:20:00+00:00 2022-04-27 15:40:00+00:00  "
      ]
     },
     "execution_count": 12,
     "metadata": {},
     "output_type": "execute_result"
    }
   ],
   "source": [
    "#call function to get main station data, supply the domain name\n",
    "station_data = station_data(summary, mydomain)\n",
    "station_data.head(20)"
   ]
  },
  {
   "cell_type": "markdown",
   "id": "wireless-result",
   "metadata": {},
   "source": [
    "## &nbsp;4. Find station locations and display on a map"
   ]
  },
  {
   "cell_type": "markdown",
   "id": "narrative-motion",
   "metadata": {},
   "source": [
    "**Access Method 1 - Using the specific key for station metadata**\n",
    "<br>\n",
    "Using the summary file we can access the envirosensor station locations"
   ]
  },
  {
   "cell_type": "code",
   "execution_count": 13,
   "id": "sized-physics",
   "metadata": {},
   "outputs": [],
   "source": [
    "mydomain='envirosensor'\n",
    "stations = summary['domain'][mydomain]['stations']"
   ]
  },
  {
   "cell_type": "markdown",
   "id": "certain-porter",
   "metadata": {},
   "source": [
    "Using stations.items we can specify what variables we are after, e.g. station_name, latitude, longitude and then print these. The key used is also the station_name. "
   ]
  },
  {
   "cell_type": "code",
   "execution_count": 14,
   "id": "imperial-proposal",
   "metadata": {},
   "outputs": [
    {
     "name": "stdout",
     "output_type": "stream",
     "text": [
      "NA002 NA002 -39.1564 175.6347\n",
      "OT001 OT001 -38.2819 176.3997\n",
      "OT013 OT013 -38.0385 176.5495\n",
      "TO003 TO003 -39.1097 175.6721\n",
      "TO006 TO006 -39.1092 175.6682\n",
      "TO015 TO015 -39.1062 175.6699\n"
     ]
    }
   ],
   "source": [
    "for key,val in stations.items():\n",
    "    print (key, val['station_name'], val['latitude'], val['longitude'])"
   ]
  },
  {
   "cell_type": "markdown",
   "id": "fifth-diana",
   "metadata": {},
   "source": [
    "**Access Method 2 - Direct to a Pandas dataframe**\n",
    "<br>\n",
    "For easier reading we can make this information into a pandas dataframe where we are only focusing on station_name, latitude, and longitude. Which we can specify using `columns=[]`. So the station becomes the dataframe index and the other keys the column names. "
   ]
  },
  {
   "cell_type": "code",
   "execution_count": 15,
   "id": "protected-legislation",
   "metadata": {},
   "outputs": [
    {
     "data": {
      "text/html": [
       "<div>\n",
       "<style scoped>\n",
       "    .dataframe tbody tr th:only-of-type {\n",
       "        vertical-align: middle;\n",
       "    }\n",
       "\n",
       "    .dataframe tbody tr th {\n",
       "        vertical-align: top;\n",
       "    }\n",
       "\n",
       "    .dataframe thead th {\n",
       "        text-align: right;\n",
       "    }\n",
       "</style>\n",
       "<table border=\"1\" class=\"dataframe\">\n",
       "  <thead>\n",
       "    <tr style=\"text-align: right;\">\n",
       "      <th></th>\n",
       "      <th>station_name</th>\n",
       "      <th>latitude</th>\n",
       "      <th>longitude</th>\n",
       "    </tr>\n",
       "  </thead>\n",
       "  <tbody>\n",
       "    <tr>\n",
       "      <th>NA002</th>\n",
       "      <td>NA002</td>\n",
       "      <td>-39.1564</td>\n",
       "      <td>175.6347</td>\n",
       "    </tr>\n",
       "    <tr>\n",
       "      <th>OT001</th>\n",
       "      <td>OT001</td>\n",
       "      <td>-38.2819</td>\n",
       "      <td>176.3997</td>\n",
       "    </tr>\n",
       "    <tr>\n",
       "      <th>OT013</th>\n",
       "      <td>OT013</td>\n",
       "      <td>-38.0385</td>\n",
       "      <td>176.5495</td>\n",
       "    </tr>\n",
       "    <tr>\n",
       "      <th>TO003</th>\n",
       "      <td>TO003</td>\n",
       "      <td>-39.1097</td>\n",
       "      <td>175.6721</td>\n",
       "    </tr>\n",
       "    <tr>\n",
       "      <th>TO006</th>\n",
       "      <td>TO006</td>\n",
       "      <td>-39.1092</td>\n",
       "      <td>175.6682</td>\n",
       "    </tr>\n",
       "    <tr>\n",
       "      <th>TO015</th>\n",
       "      <td>TO015</td>\n",
       "      <td>-39.1062</td>\n",
       "      <td>175.6699</td>\n",
       "    </tr>\n",
       "  </tbody>\n",
       "</table>\n",
       "</div>"
      ],
      "text/plain": [
       "      station_name  latitude  longitude\n",
       "NA002        NA002  -39.1564   175.6347\n",
       "OT001        OT001  -38.2819   176.3997\n",
       "OT013        OT013  -38.0385   176.5495\n",
       "TO003        TO003  -39.1097   175.6721\n",
       "TO006        TO006  -39.1092   175.6682\n",
       "TO015        TO015  -39.1062   175.6699"
      ]
     },
     "execution_count": 15,
     "metadata": {},
     "output_type": "execute_result"
    }
   ],
   "source": [
    "df = pd.DataFrame.from_dict(data=stations, orient='index', columns=['station_name', 'latitude', 'longitude'])\n",
    "df"
   ]
  },
  {
   "cell_type": "markdown",
   "id": "french-nicaragua",
   "metadata": {},
   "source": [
    "**Map the positions, using the dataframe as the data source**\n",
    "<br>\n",
    "Using cartopy https://scitools.org.uk/cartopy/docs/latest/index.html and matplotlib we can then generate a map of the stations using the values (station_name, latitude and longitude) from the pandas dataframe `df` that we generated in the step above. Using the station_name variable we can also plot the names next to the stations using `ax.text`. \n",
    "<br>\n",
    "Our stations providing envirosensor data are clustered in groups so we'll focus our map on just one of those groups, showing stations starting with the TO prefix. We'll also use Open Street Map map tiles to get a map background that gives some context."
   ]
  },
  {
   "cell_type": "code",
   "execution_count": 16,
   "id": "interested-architecture",
   "metadata": {},
   "outputs": [
    {
     "data": {
      "text/html": [
       "<div>\n",
       "<style scoped>\n",
       "    .dataframe tbody tr th:only-of-type {\n",
       "        vertical-align: middle;\n",
       "    }\n",
       "\n",
       "    .dataframe tbody tr th {\n",
       "        vertical-align: top;\n",
       "    }\n",
       "\n",
       "    .dataframe thead th {\n",
       "        text-align: right;\n",
       "    }\n",
       "</style>\n",
       "<table border=\"1\" class=\"dataframe\">\n",
       "  <thead>\n",
       "    <tr style=\"text-align: right;\">\n",
       "      <th></th>\n",
       "      <th>station_name</th>\n",
       "      <th>latitude</th>\n",
       "      <th>longitude</th>\n",
       "    </tr>\n",
       "  </thead>\n",
       "  <tbody>\n",
       "    <tr>\n",
       "      <th>TO003</th>\n",
       "      <td>TO003</td>\n",
       "      <td>-39.1097</td>\n",
       "      <td>175.6721</td>\n",
       "    </tr>\n",
       "    <tr>\n",
       "      <th>TO006</th>\n",
       "      <td>TO006</td>\n",
       "      <td>-39.1092</td>\n",
       "      <td>175.6682</td>\n",
       "    </tr>\n",
       "    <tr>\n",
       "      <th>TO015</th>\n",
       "      <td>TO015</td>\n",
       "      <td>-39.1062</td>\n",
       "      <td>175.6699</td>\n",
       "    </tr>\n",
       "  </tbody>\n",
       "</table>\n",
       "</div>"
      ],
      "text/plain": [
       "      station_name  latitude  longitude\n",
       "TO003        TO003  -39.1097   175.6721\n",
       "TO006        TO006  -39.1092   175.6682\n",
       "TO015        TO015  -39.1062   175.6699"
      ]
     },
     "execution_count": 16,
     "metadata": {},
     "output_type": "execute_result"
    }
   ],
   "source": [
    "#Select the stations in our map area\n",
    "xmin = 175.66\n",
    "xmax = 175.68\n",
    "ymin = -39.12\n",
    "ymax = -39.10\n",
    "plotstations = df[(df['longitude']>=xmin) & (df['longitude']<=xmax) & (df['latitude']>=ymin) & (df['latitude']<=ymax)]\n",
    "plotstations"
   ]
  },
  {
   "cell_type": "code",
   "execution_count": 17,
   "id": "female-domain",
   "metadata": {},
   "outputs": [
    {
     "data": {
      "image/png": "[encoded data removed]",
      "text/plain": [
       "<Figure size 432x288 with 1 Axes>"
      ]
     },
     "metadata": {
      "needs_background": "light"
     },
     "output_type": "display_data"
    }
   ],
   "source": [
    "imagery = OSM()\n",
    "ax = plt.axes(projection=imagery.crs)\n",
    "ax.set_extent([xmin, xmax, ymin, ymax])\n",
    "#if you don't set the map extent, it will zoom to a suitable scale of it's choice\n",
    "ax.add_image(imagery, 16)\n",
    "\n",
    "xx = plotstations['longitude'].values\n",
    "yy = plotstations['latitude'].values\n",
    "names = plotstations['station_name'].values\n",
    "ax.plot(xx, yy, color='red', marker='o', linestyle='None', transform=ccrs.Geodetic())\n",
    "\n",
    "geodetic_transform = ccrs.Geodetic()._as_mpl_transform(ax)\n",
    "text_transform = offset_copy(geodetic_transform, units='dots', y=-10)\n",
    "\n",
    "for x, y, n in zip(xx, yy, names):\n",
    "    ax.text(x, y, n, fontsize=8, verticalalignment='center', horizontalalignment='center', transform=text_transform)\n",
    "             "
   ]
  },
  {
   "cell_type": "markdown",
   "id": "dated-february",
   "metadata": {},
   "source": [
    "## &nbsp;5. Station data and data plots"
   ]
  },
  {
   "cell_type": "markdown",
   "id": "hired-transparency",
   "metadata": {},
   "source": [
    "#### Use the dataframe of station record data (number, earliest, latest) created earlier, and visualize this in different ways\n",
    "The data frame we are using is called `station_data`, and was created in Section 3 `Building a TILDE Query with a specific domain, and seeing what data that domain contains`"
   ]
  },
  {
   "cell_type": "markdown",
   "id": "violent-signal",
   "metadata": {},
   "source": [
    "Use `station_data.head()` to see only the first few lines. If we used `station_data.tail()` we can see the last few lines. "
   ]
  },
  {
   "cell_type": "code",
   "execution_count": 18,
   "id": "continent-efficiency",
   "metadata": {},
   "outputs": [
    {
     "data": {
      "text/html": [
       "<div>\n",
       "<style scoped>\n",
       "    .dataframe tbody tr th:only-of-type {\n",
       "        vertical-align: middle;\n",
       "    }\n",
       "\n",
       "    .dataframe tbody tr th {\n",
       "        vertical-align: top;\n",
       "    }\n",
       "\n",
       "    .dataframe thead th {\n",
       "        text-align: right;\n",
       "    }\n",
       "</style>\n",
       "<table border=\"1\" class=\"dataframe\">\n",
       "  <thead>\n",
       "    <tr style=\"text-align: right;\">\n",
       "      <th></th>\n",
       "      <th>station</th>\n",
       "      <th>latitude</th>\n",
       "      <th>longitude</th>\n",
       "      <th>sensor_code</th>\n",
       "      <th>data_name</th>\n",
       "      <th>data_method</th>\n",
       "      <th>aspect</th>\n",
       "      <th>record_count</th>\n",
       "      <th>earliestrecord</th>\n",
       "      <th>latestrecord</th>\n",
       "    </tr>\n",
       "  </thead>\n",
       "  <tbody>\n",
       "    <tr>\n",
       "      <th>0</th>\n",
       "      <td>NA002</td>\n",
       "      <td>-39.1564</td>\n",
       "      <td>175.6347</td>\n",
       "      <td>01</td>\n",
       "      <td>air-temperature</td>\n",
       "      <td>max</td>\n",
       "      <td>nil</td>\n",
       "      <td>8682.0</td>\n",
       "      <td>2022-02-24 04:00:00+00:00</td>\n",
       "      <td>2022-04-27 15:50:00+00:00</td>\n",
       "    </tr>\n",
       "    <tr>\n",
       "      <th>1</th>\n",
       "      <td>NA002</td>\n",
       "      <td>-39.1564</td>\n",
       "      <td>175.6347</td>\n",
       "      <td>01</td>\n",
       "      <td>air-temperature</td>\n",
       "      <td>min</td>\n",
       "      <td>nil</td>\n",
       "      <td>8682.0</td>\n",
       "      <td>2022-02-24 04:00:00+00:00</td>\n",
       "      <td>2022-04-27 15:50:00+00:00</td>\n",
       "    </tr>\n",
       "    <tr>\n",
       "      <th>2</th>\n",
       "      <td>NA002</td>\n",
       "      <td>-39.1564</td>\n",
       "      <td>175.6347</td>\n",
       "      <td>01</td>\n",
       "      <td>air-temperature</td>\n",
       "      <td>snapshot</td>\n",
       "      <td>nil</td>\n",
       "      <td>8682.0</td>\n",
       "      <td>2022-02-24 04:00:00+00:00</td>\n",
       "      <td>2022-04-27 15:50:00+00:00</td>\n",
       "    </tr>\n",
       "    <tr>\n",
       "      <th>3</th>\n",
       "      <td>NA002</td>\n",
       "      <td>-39.1564</td>\n",
       "      <td>175.6347</td>\n",
       "      <td>02</td>\n",
       "      <td>fumarole-temperature</td>\n",
       "      <td>max</td>\n",
       "      <td>nil</td>\n",
       "      <td>8682.0</td>\n",
       "      <td>2022-02-24 04:00:00+00:00</td>\n",
       "      <td>2022-04-27 15:50:00+00:00</td>\n",
       "    </tr>\n",
       "    <tr>\n",
       "      <th>4</th>\n",
       "      <td>NA002</td>\n",
       "      <td>-39.1564</td>\n",
       "      <td>175.6347</td>\n",
       "      <td>02</td>\n",
       "      <td>fumarole-temperature</td>\n",
       "      <td>min</td>\n",
       "      <td>nil</td>\n",
       "      <td>8682.0</td>\n",
       "      <td>2022-02-24 04:00:00+00:00</td>\n",
       "      <td>2022-04-27 15:50:00+00:00</td>\n",
       "    </tr>\n",
       "  </tbody>\n",
       "</table>\n",
       "</div>"
      ],
      "text/plain": [
       "  station  latitude  longitude sensor_code             data_name data_method  \\\n",
       "0   NA002  -39.1564   175.6347          01       air-temperature         max   \n",
       "1   NA002  -39.1564   175.6347          01       air-temperature         min   \n",
       "2   NA002  -39.1564   175.6347          01       air-temperature    snapshot   \n",
       "3   NA002  -39.1564   175.6347          02  fumarole-temperature         max   \n",
       "4   NA002  -39.1564   175.6347          02  fumarole-temperature         min   \n",
       "\n",
       "  aspect  record_count            earliestrecord              latestrecord  \n",
       "0    nil        8682.0 2022-02-24 04:00:00+00:00 2022-04-27 15:50:00+00:00  \n",
       "1    nil        8682.0 2022-02-24 04:00:00+00:00 2022-04-27 15:50:00+00:00  \n",
       "2    nil        8682.0 2022-02-24 04:00:00+00:00 2022-04-27 15:50:00+00:00  \n",
       "3    nil        8682.0 2022-02-24 04:00:00+00:00 2022-04-27 15:50:00+00:00  \n",
       "4    nil        8682.0 2022-02-24 04:00:00+00:00 2022-04-27 15:50:00+00:00  "
      ]
     },
     "execution_count": 18,
     "metadata": {},
     "output_type": "execute_result"
    }
   ],
   "source": [
    "station_data.head()"
   ]
  },
  {
   "cell_type": "markdown",
   "id": "portable-search",
   "metadata": {},
   "source": [
    "**Record count by station and sensor code**\n",
    "<br>\n",
    "By using `pd.pivot_table` we can transform the above table, so we can look at record_counts for each sensor_code at each station. The sensor_code is the number assigned to each physical sensor at a station. Not all stations have the same number of sensors, so at some stations the record_count will not be defined for some sensor_codes, and will be shown as `NaN`."
   ]
  },
  {
   "cell_type": "code",
   "execution_count": 19,
   "id": "satisfactory-capitol",
   "metadata": {},
   "outputs": [
    {
     "data": {
      "text/html": [
       "<div>\n",
       "<style scoped>\n",
       "    .dataframe tbody tr th:only-of-type {\n",
       "        vertical-align: middle;\n",
       "    }\n",
       "\n",
       "    .dataframe tbody tr th {\n",
       "        vertical-align: top;\n",
       "    }\n",
       "\n",
       "    .dataframe thead tr th {\n",
       "        text-align: left;\n",
       "    }\n",
       "\n",
       "    .dataframe thead tr:last-of-type th {\n",
       "        text-align: right;\n",
       "    }\n",
       "</style>\n",
       "<table border=\"1\" class=\"dataframe\">\n",
       "  <thead>\n",
       "    <tr>\n",
       "      <th></th>\n",
       "      <th colspan=\"4\" halign=\"left\">record_count</th>\n",
       "    </tr>\n",
       "    <tr>\n",
       "      <th>sensor_code</th>\n",
       "      <th>01</th>\n",
       "      <th>02</th>\n",
       "      <th>03</th>\n",
       "      <th>04</th>\n",
       "    </tr>\n",
       "    <tr>\n",
       "      <th>station</th>\n",
       "      <th></th>\n",
       "      <th></th>\n",
       "      <th></th>\n",
       "      <th></th>\n",
       "    </tr>\n",
       "  </thead>\n",
       "  <tbody>\n",
       "    <tr>\n",
       "      <th>NA002</th>\n",
       "      <td>8682.0</td>\n",
       "      <td>8682.0</td>\n",
       "      <td>8682.000000</td>\n",
       "      <td>NaN</td>\n",
       "    </tr>\n",
       "    <tr>\n",
       "      <th>OT001</th>\n",
       "      <td>6565.0</td>\n",
       "      <td>6565.0</td>\n",
       "      <td>6554.666667</td>\n",
       "      <td>830.0</td>\n",
       "    </tr>\n",
       "    <tr>\n",
       "      <th>OT013</th>\n",
       "      <td>9000.0</td>\n",
       "      <td>9000.0</td>\n",
       "      <td>NaN</td>\n",
       "      <td>NaN</td>\n",
       "    </tr>\n",
       "    <tr>\n",
       "      <th>TO003</th>\n",
       "      <td>8994.0</td>\n",
       "      <td>8994.0</td>\n",
       "      <td>8994.000000</td>\n",
       "      <td>8994.0</td>\n",
       "    </tr>\n",
       "    <tr>\n",
       "      <th>TO006</th>\n",
       "      <td>612.0</td>\n",
       "      <td>612.0</td>\n",
       "      <td>612.000000</td>\n",
       "      <td>NaN</td>\n",
       "    </tr>\n",
       "  </tbody>\n",
       "</table>\n",
       "</div>"
      ],
      "text/plain": [
       "            record_count                             \n",
       "sensor_code           01      02           03      04\n",
       "station                                              \n",
       "NA002             8682.0  8682.0  8682.000000     NaN\n",
       "OT001             6565.0  6565.0  6554.666667   830.0\n",
       "OT013             9000.0  9000.0          NaN     NaN\n",
       "TO003             8994.0  8994.0  8994.000000  8994.0\n",
       "TO006              612.0   612.0   612.000000     NaN"
      ]
     },
     "execution_count": 19,
     "metadata": {},
     "output_type": "execute_result"
    }
   ],
   "source": [
    "rc = pd.pivot_table(station_data, index='station', values=['record_count'], columns='sensor_code')\n",
    "rc.head()"
   ]
  },
  {
   "cell_type": "markdown",
   "id": "earned-winning",
   "metadata": {},
   "source": [
    "We can then plot this as a bar plot using `plot.bar`. This allows us to visualize the number of records for each station. We don't expect to see the same number of records for each station, but we should, largely, see the same number for each sensor_code, unless an extra sensor has been added after the station was installed."
   ]
  },
  {
   "cell_type": "code",
   "execution_count": 20,
   "id": "colored-advice",
   "metadata": {},
   "outputs": [
    {
     "data": {
      "image/png": "[encoded data removed]",
      "text/plain": [
       "<Figure size 720x360 with 1 Axes>"
      ]
     },
     "metadata": {
      "needs_background": "light"
     },
     "output_type": "display_data"
    }
   ],
   "source": [
    "ax = rc.plot.bar(figsize=(10,5))\n",
    "ax.set_ylabel('record count')\n",
    "ax.set_title('Record count by sensor_code')\n",
    "ax.legend(loc='lower left');"
   ]
  },
  {
   "cell_type": "markdown",
   "id": "israeli-devil",
   "metadata": {},
   "source": [
    "**Creating a data time-range plot, with stations split by sensor_code**"
   ]
  },
  {
   "cell_type": "markdown",
   "id": "turned-shannon",
   "metadata": {},
   "source": [
    "Our intention is to show graphically the available data, and to do that by station and sensor_code. Most stations collect data with more than one data_method, but these are all collected at the same time, so the number of `snapshot`, `min`, and `max` should always be the same. We'll therefore only display the data range for the `snapshot` data_method. So we first select only the records that have a`data_method` of `snapshot` and add then to a new dataframe called `snapshot`. <br>\n",
    "Creating a dataframe with a new column entry 'stasen' which combines the station and sensor_code columns, this will produce a column with values such as NA002_01, OT013_02, TO006_01,...etc that we will subsequently use as y-axis labels. This step will give you a copy warning which you can usualy safely ignore. We can then sort by this column using `snapshot.sort_values` and specifying the 'stasen' column which we just generated. To view the output of this, add `snapsorted` or `snapsorted.head()` to a new line in the code cell below and run."
   ]
  },
  {
   "cell_type": "code",
   "execution_count": 21,
   "id": "familiar-progressive",
   "metadata": {},
   "outputs": [
    {
     "name": "stderr",
     "output_type": "stream",
     "text": [
      "/home/mkortink/miniforge3/envs/GeoNet/lib/python3.7/site-packages/ipykernel_launcher.py:2: SettingWithCopyWarning: \n",
      "A value is trying to be set on a copy of a slice from a DataFrame.\n",
      "Try using .loc[row_indexer,col_indexer] = value instead\n",
      "\n",
      "See the caveats in the documentation: https://pandas.pydata.org/pandas-docs/stable/user_guide/indexing.html#returning-a-view-versus-a-copy\n",
      "  \n"
     ]
    }
   ],
   "source": [
    "snapshot = station_data[station_data['data_method']=='snapshot']\n",
    "snapshot['stasen'] = snapshot['station'] + '_' + snapshot['sensor_code']\n",
    "snapsorted = snapshot.sort_values('stasen')"
   ]
  },
  {
   "cell_type": "markdown",
   "id": "retired-parks",
   "metadata": {},
   "source": [
    "We now want to make a new column called 'pos' that will be the position on the y-axis to plot the data range line. `len(snapsorted)` gets the number of rows in the dataframe. Using `len(snapsorted) - np.arange(len(snapsorted))` we start with the total number of rows and then with each row our position reduces by 1. This allows us to have a position value for each row. "
   ]
  },
  {
   "cell_type": "code",
   "execution_count": 22,
   "id": "backed-appliance",
   "metadata": {},
   "outputs": [],
   "source": [
    "snapsorted['pos'] = len(snapsorted) - np.arange(len(snapsorted))"
   ]
  },
  {
   "cell_type": "markdown",
   "id": "handmade-complement",
   "metadata": {},
   "source": [
    "Now we can set up the labeling for station name vs yvalue. To set the variable 'station_list' we use the 'stadat' values from the dataframe, this way we will have entries for each station, sensor_code, data_method combination. The yvals are used to set the spacing between the yticks in the next plot. By using `range` which is `range([start], stop [,step])`. We can generate a list that starts at the number of station-sesnor_code pairs, stops at 0 and steps by -1."
   ]
  },
  {
   "cell_type": "code",
   "execution_count": 23,
   "id": "early-berlin",
   "metadata": {},
   "outputs": [],
   "source": [
    "station_list = snapsorted['stasen'].values\n",
    "yvals = range((len(snapsorted)),0,-1)"
   ]
  },
  {
   "cell_type": "markdown",
   "id": "irish-pakistan",
   "metadata": {},
   "source": [
    "Now we want to visualise this data."
   ]
  },
  {
   "cell_type": "code",
   "execution_count": 24,
   "id": "careful-bunch",
   "metadata": {},
   "outputs": [
    {
     "data": {
      "image/png": "[encoded data removed]",
      "text/plain": [
       "<Figure size 1080x1080 with 1 Axes>"
      ]
     },
     "metadata": {
      "needs_background": "light"
     },
     "output_type": "display_data"
    }
   ],
   "source": [
    "fig,ax = plt.subplots(figsize=(15,15))\n",
    "\n",
    "#setting different variables, x1=earliest record, x2=latest record, y=position and c=colours of lines.\n",
    "#when using ax.plot, we are going from the earliest to the latest record on the x-axis, and the y-axis is set by\n",
    "#position.\n",
    "for x1, x2, y in zip(snapsorted['earliestrecord'], snapsorted['latestrecord'], snapsorted['pos']):\n",
    "    ax.plot([x1, x2], [y, y], color='cornflowerblue')\n",
    "\n",
    "#label y-axis with station_type name\n",
    "ax.set_yticks(yvals)\n",
    "ax.set_yticklabels(station_list)\n",
    "\n",
    "ax.grid(axis='x')\n",
    "\n",
    "ax.set_title('Data Range', fontsize=16)\n",
    "ax.set_ylabel('station_sensor');"
   ]
  }
 ],
 "metadata": {
  "kernelspec": {
   "display_name": "Python 3 (ipykernel)",
   "language": "python",
   "name": "python3"
  },
  "language_info": {
   "codemirror_mode": {
    "name": "ipython",
    "version": 3
   },
   "file_extension": ".py",
   "mimetype": "text/x-python",
   "name": "python",
   "nbconvert_exporter": "python",
   "pygments_lexer": "ipython3",
   "version": "3.7.12"
  }
 },
 "nbformat": 4,
 "nbformat_minor": 5
}
