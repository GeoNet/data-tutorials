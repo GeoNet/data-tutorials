{
 "cells": [
  {
   "cell_type": "markdown",
   "id": "mighty-teacher",
   "metadata": {},
   "source": [
    "# Exploring Observation Data From TILDE, Application to envirosensor Data"
   ]
  },
  {
   "cell_type": "markdown",
   "id": "novel-annex",
   "metadata": {},
   "source": [
    "## &nbsp;Table of contents\n",
    "### 1. Introduction\n",
    "### 2. Building a Query for a specific sensor code/stream\n",
    "### 3. Building a Query without sensor code/stream\n",
    "### 4. Building a Query for the latest data\n",
    "### 5. Building a Query for aggregated data"
   ]
  },
  {
   "cell_type": "markdown",
   "id": "suitable-composer",
   "metadata": {},
   "source": [
    "## &nbsp;1. Introduction"
   ]
  },
  {
   "cell_type": "markdown",
   "id": "curious-breathing",
   "metadata": {},
   "source": [
    "In this tutorial we will be learning how to use Python to query the TILDE API Data Summary endpoint. To highlight different functionalities and the data available we will be using the envirosensor (Environmental Sensor) dataset. This dataset is derived from GeoNet's Low Rate Data Collection Platform (LRDCP). TILDE is the API (Application Programmatic Interface) to access envirosensor data. You do not need to know anything about APIs to use this tutorial. If you would like more info see https://tilde.geonet.org.nz/v2/api-docs/.\n",
    "\n",
    "This tutorial assumes you have basic knowledge of Python. In this tutorial we will be building different queries to show different streams and sensor codes for different time periods. We will also generate a plot of aggregated data with a daily mean and raw observations. "
   ]
  },
  {
   "cell_type": "markdown",
   "id": "abandoned-corps",
   "metadata": {},
   "source": [
    "###### About GeoNet envirosensor data and the Low Rate Data Collection Platform"
   ]
  },
  {
   "cell_type": "markdown",
   "id": "matched-denmark",
   "metadata": {},
   "source": [
    "GeoNet currently has 6 environmental stations at various locations across Mt Ngauruhoe, Mt Tongariro, Waimangu Volcanic Valley and Rotoma Soda Springs to measure various factors related to volcano/thermal indicators. These include measuring; air temperature, fumarole temperature, lake height, lake temperature, overflow temperature, spring height and spring temperature. Most of these sites measure 2-3 of these factors. Different aspects can also be selected if there are more than one measure at a site, for example there is a south-vent and an east-vent aspect for fumarole temperature at one of the Tongariro sites (TO006). The envirosensors are part of the Low Rate Data Collection Platform (LRDCP). TILDE provides access to minimum, the maximum and the snapshot data. \n",
    "\n",
    "A web page providing more information on the LRDCP is in preparation."
   ]
  },
  {
   "cell_type": "markdown",
   "id": "sorted-triangle",
   "metadata": {},
   "source": [
    "## &nbsp;2. Building a Query for a specific sensor code/stream"
   ]
  },
  {
   "cell_type": "markdown",
   "id": "proprietary-celebrity",
   "metadata": {},
   "source": [
    "###### Import required modules and set the source URL"
   ]
  },
  {
   "cell_type": "code",
   "execution_count": 1,
   "id": "noble-florence",
   "metadata": {},
   "outputs": [],
   "source": [
    "import requests\n",
    "import json\n",
    "import pandas as pd\n",
    "import matplotlib.pyplot as plt\n",
    "from io import StringIO"
   ]
  },
  {
   "cell_type": "code",
   "execution_count": 2,
   "id": "viral-navigation",
   "metadata": {},
   "outputs": [],
   "source": [
    "source = 'https://tilde.geonet.org.nz/v2'"
   ]
  },
  {
   "cell_type": "markdown",
   "id": "secret-jacob",
   "metadata": {},
   "source": [
    "### Request data for a specific sensor/stream with date range, and then returning a CSV file\n",
    "\n",
    "This query returns the observations of the specified data held in TILDE. <br>\n",
    "The endpoint we are going to use is `https://tilde.geonet.org.nz/v2/data/`.\n",
    "\n",
    "The minimum required parameters are:\n",
    "- domain = `envirosensor`\n",
    "- key = `NA002/fumarole-temperature/02/snapshot/-`, this is fumarole-temperature data collected as a 'snapshot' using sensor 02 at the station NA002, which is near the summit of Ngauruhoe volcano\n",
    "- startdate = '2022-03-01'\n",
    "- enddate = '2022-03-15'\n",
    "\n",
    "We will ask for data for 2022 March 1 to 15.\n",
    "\n",
    "We begin by setting the URL with these new parameters."
   ]
  },
  {
   "cell_type": "code",
   "execution_count": 3,
   "id": "distant-mortality",
   "metadata": {},
   "outputs": [],
   "source": [
    "url = source+'/data/envirosensor/OT001/lake-temperature/01/snapshot/-/2022-03-01/2022-03-15'"
   ]
  },
  {
   "cell_type": "markdown",
   "id": "danish-visibility",
   "metadata": {},
   "source": [
    "We will now query the URL and ask for a CSV format to be returned"
   ]
  },
  {
   "cell_type": "code",
   "execution_count": 4,
   "id": "variable-atlas",
   "metadata": {},
   "outputs": [
    {
     "name": "stdout",
     "output_type": "stream",
     "text": [
      "<Response [200]>\n"
     ]
    }
   ],
   "source": [
    "r = requests.get(url, headers={'Accept':'text/csv'})\n",
    "print (r)"
   ]
  },
  {
   "cell_type": "markdown",
   "id": "plain-award",
   "metadata": {},
   "source": [
    "We use `requests.get` to retrieve the data from the URL. The response status code says whether we were successful in getting the data requested and why not if we were unsuccessful:\n",
    "<ul>\n",
    "<li>200 -- everything went okay, and the result has been returned (if any)\n",
    "<li>301 -- the server is redirecting you to a different endpoint. This can happen when a company switches domain names, or an endpoint name is changed.\n",
    "<li>400 -- the server thinks you made a bad request. This can happen when you don't send along the right data, among other things.\n",
    "<li>404 -- the resource you tried to access wasn't found on the server.\n",
    "</ul>"
   ]
  },
  {
   "cell_type": "markdown",
   "id": "competent-charge",
   "metadata": {},
   "source": [
    "To work with the observation data we will use python's pandas module (https://pandas.pydata.org/). We will now store the response of our request in a pandas dataframe (`df`), using `pd.read_csv`. By using `parse_dates=['time']` we can convert the 'time' to a datetime and with `index_col` we can set the time as the index of the  dataframe. More information on `pd.read_csv` can be found here: https://pandas.pydata.org/pandas-docs/stable/reference/api/pandas.read_csv.html. We need to use the `StringIO` function with the text returned from our query. By printing the beginning of the result (`df.head()`) we can also see the result of this new index column."
   ]
  },
  {
   "cell_type": "code",
   "execution_count": 5,
   "id": "developing-territory",
   "metadata": {},
   "outputs": [
    {
     "data": {
      "text/html": [
       "<div>\n",
       "<style scoped>\n",
       "    .dataframe tbody tr th:only-of-type {\n",
       "        vertical-align: middle;\n",
       "    }\n",
       "\n",
       "    .dataframe tbody tr th {\n",
       "        vertical-align: top;\n",
       "    }\n",
       "\n",
       "    .dataframe thead th {\n",
       "        text-align: right;\n",
       "    }\n",
       "</style>\n",
       "<table border=\"1\" class=\"dataframe\">\n",
       "  <thead>\n",
       "    <tr style=\"text-align: right;\">\n",
       "      <th></th>\n",
       "      <th>domain</th>\n",
       "      <th>station</th>\n",
       "      <th>name</th>\n",
       "      <th>sensor_code</th>\n",
       "      <th>method</th>\n",
       "      <th>aspect</th>\n",
       "      <th>value</th>\n",
       "      <th>err</th>\n",
       "      <th>qc</th>\n",
       "    </tr>\n",
       "    <tr>\n",
       "      <th>time</th>\n",
       "      <th></th>\n",
       "      <th></th>\n",
       "      <th></th>\n",
       "      <th></th>\n",
       "      <th></th>\n",
       "      <th></th>\n",
       "      <th></th>\n",
       "      <th></th>\n",
       "      <th></th>\n",
       "    </tr>\n",
       "  </thead>\n",
       "  <tbody>\n",
       "    <tr>\n",
       "      <th>2022-03-01 00:00:00+00:00</th>\n",
       "      <td>envirosensor</td>\n",
       "      <td>OT001</td>\n",
       "      <td>lake-temperature</td>\n",
       "      <td>1</td>\n",
       "      <td>snapshot</td>\n",
       "      <td>nil</td>\n",
       "      <td>53.16</td>\n",
       "      <td>0.0</td>\n",
       "      <td>NaN</td>\n",
       "    </tr>\n",
       "    <tr>\n",
       "      <th>2022-03-01 00:10:00+00:00</th>\n",
       "      <td>envirosensor</td>\n",
       "      <td>OT001</td>\n",
       "      <td>lake-temperature</td>\n",
       "      <td>1</td>\n",
       "      <td>snapshot</td>\n",
       "      <td>nil</td>\n",
       "      <td>53.33</td>\n",
       "      <td>0.0</td>\n",
       "      <td>NaN</td>\n",
       "    </tr>\n",
       "    <tr>\n",
       "      <th>2022-03-01 00:20:00+00:00</th>\n",
       "      <td>envirosensor</td>\n",
       "      <td>OT001</td>\n",
       "      <td>lake-temperature</td>\n",
       "      <td>1</td>\n",
       "      <td>snapshot</td>\n",
       "      <td>nil</td>\n",
       "      <td>53.09</td>\n",
       "      <td>0.0</td>\n",
       "      <td>NaN</td>\n",
       "    </tr>\n",
       "    <tr>\n",
       "      <th>2022-03-01 00:30:00+00:00</th>\n",
       "      <td>envirosensor</td>\n",
       "      <td>OT001</td>\n",
       "      <td>lake-temperature</td>\n",
       "      <td>1</td>\n",
       "      <td>snapshot</td>\n",
       "      <td>nil</td>\n",
       "      <td>52.91</td>\n",
       "      <td>0.0</td>\n",
       "      <td>NaN</td>\n",
       "    </tr>\n",
       "    <tr>\n",
       "      <th>2022-03-01 00:40:00+00:00</th>\n",
       "      <td>envirosensor</td>\n",
       "      <td>OT001</td>\n",
       "      <td>lake-temperature</td>\n",
       "      <td>1</td>\n",
       "      <td>snapshot</td>\n",
       "      <td>nil</td>\n",
       "      <td>52.77</td>\n",
       "      <td>0.0</td>\n",
       "      <td>NaN</td>\n",
       "    </tr>\n",
       "  </tbody>\n",
       "</table>\n",
       "</div>"
      ],
      "text/plain": [
       "                                 domain station              name  \\\n",
       "time                                                                \n",
       "2022-03-01 00:00:00+00:00  envirosensor   OT001  lake-temperature   \n",
       "2022-03-01 00:10:00+00:00  envirosensor   OT001  lake-temperature   \n",
       "2022-03-01 00:20:00+00:00  envirosensor   OT001  lake-temperature   \n",
       "2022-03-01 00:30:00+00:00  envirosensor   OT001  lake-temperature   \n",
       "2022-03-01 00:40:00+00:00  envirosensor   OT001  lake-temperature   \n",
       "\n",
       "                           sensor_code    method aspect  value  err  qc  \n",
       "time                                                                     \n",
       "2022-03-01 00:00:00+00:00            1  snapshot    nil  53.16  0.0 NaN  \n",
       "2022-03-01 00:10:00+00:00            1  snapshot    nil  53.33  0.0 NaN  \n",
       "2022-03-01 00:20:00+00:00            1  snapshot    nil  53.09  0.0 NaN  \n",
       "2022-03-01 00:30:00+00:00            1  snapshot    nil  52.91  0.0 NaN  \n",
       "2022-03-01 00:40:00+00:00            1  snapshot    nil  52.77  0.0 NaN  "
      ]
     },
     "execution_count": 5,
     "metadata": {},
     "output_type": "execute_result"
    }
   ],
   "source": [
    "df = pd.read_csv(StringIO(r.text),parse_dates=['time'], index_col='time')\n",
    "df.head()"
   ]
  },
  {
   "cell_type": "markdown",
   "id": "certain-gospel",
   "metadata": {},
   "source": [
    "#### Data Summary\n",
    "By using `df.describe` we can summarise the returned data as this feature generates descriptive statistics from dataframes. From the result we can see how many values (and errors) there are, and all of the qc values are currently undefined. By default, we also to get to see the mean, standard deviation, minimum, maximum, and some percentile values."
   ]
  },
  {
   "cell_type": "code",
   "execution_count": 6,
   "id": "marked-cooperation",
   "metadata": {},
   "outputs": [
    {
     "data": {
      "text/html": [
       "<div>\n",
       "<style scoped>\n",
       "    .dataframe tbody tr th:only-of-type {\n",
       "        vertical-align: middle;\n",
       "    }\n",
       "\n",
       "    .dataframe tbody tr th {\n",
       "        vertical-align: top;\n",
       "    }\n",
       "\n",
       "    .dataframe thead th {\n",
       "        text-align: right;\n",
       "    }\n",
       "</style>\n",
       "<table border=\"1\" class=\"dataframe\">\n",
       "  <thead>\n",
       "    <tr style=\"text-align: right;\">\n",
       "      <th></th>\n",
       "      <th>sensor_code</th>\n",
       "      <th>value</th>\n",
       "      <th>err</th>\n",
       "      <th>qc</th>\n",
       "    </tr>\n",
       "  </thead>\n",
       "  <tbody>\n",
       "    <tr>\n",
       "      <th>count</th>\n",
       "      <td>2160.0</td>\n",
       "      <td>2160.000000</td>\n",
       "      <td>2160.0</td>\n",
       "      <td>0.0</td>\n",
       "    </tr>\n",
       "    <tr>\n",
       "      <th>mean</th>\n",
       "      <td>1.0</td>\n",
       "      <td>47.268782</td>\n",
       "      <td>0.0</td>\n",
       "      <td>NaN</td>\n",
       "    </tr>\n",
       "    <tr>\n",
       "      <th>std</th>\n",
       "      <td>0.0</td>\n",
       "      <td>2.106722</td>\n",
       "      <td>0.0</td>\n",
       "      <td>NaN</td>\n",
       "    </tr>\n",
       "    <tr>\n",
       "      <th>min</th>\n",
       "      <td>1.0</td>\n",
       "      <td>43.370000</td>\n",
       "      <td>0.0</td>\n",
       "      <td>NaN</td>\n",
       "    </tr>\n",
       "    <tr>\n",
       "      <th>25%</th>\n",
       "      <td>1.0</td>\n",
       "      <td>45.457500</td>\n",
       "      <td>0.0</td>\n",
       "      <td>NaN</td>\n",
       "    </tr>\n",
       "    <tr>\n",
       "      <th>50%</th>\n",
       "      <td>1.0</td>\n",
       "      <td>47.010000</td>\n",
       "      <td>0.0</td>\n",
       "      <td>NaN</td>\n",
       "    </tr>\n",
       "    <tr>\n",
       "      <th>75%</th>\n",
       "      <td>1.0</td>\n",
       "      <td>48.280000</td>\n",
       "      <td>0.0</td>\n",
       "      <td>NaN</td>\n",
       "    </tr>\n",
       "    <tr>\n",
       "      <th>max</th>\n",
       "      <td>1.0</td>\n",
       "      <td>53.720000</td>\n",
       "      <td>0.0</td>\n",
       "      <td>NaN</td>\n",
       "    </tr>\n",
       "  </tbody>\n",
       "</table>\n",
       "</div>"
      ],
      "text/plain": [
       "       sensor_code        value     err   qc\n",
       "count       2160.0  2160.000000  2160.0  0.0\n",
       "mean           1.0    47.268782     0.0  NaN\n",
       "std            0.0     2.106722     0.0  NaN\n",
       "min            1.0    43.370000     0.0  NaN\n",
       "25%            1.0    45.457500     0.0  NaN\n",
       "50%            1.0    47.010000     0.0  NaN\n",
       "75%            1.0    48.280000     0.0  NaN\n",
       "max            1.0    53.720000     0.0  NaN"
      ]
     },
     "execution_count": 6,
     "metadata": {},
     "output_type": "execute_result"
    }
   ],
   "source": [
    "df.describe()"
   ]
  },
  {
   "cell_type": "markdown",
   "id": "previous-warren",
   "metadata": {},
   "source": [
    "#### Basic Data Plot\n",
    "By using the `value` column from our dataframe we are able to plot the data against time. For this plot we will use dots and a line joining the data, so our sampling is obvious. You'll notice that the observations seems quite 'spiky'. This is because the values are measured to one decimal place, and the range of observed values (in this case fumarole-temperature) is quite small over the short period we are examining. "
   ]
  },
  {
   "cell_type": "code",
   "execution_count": 7,
   "id": "needed-attendance",
   "metadata": {},
   "outputs": [
    {
     "data": {
      "text/plain": [
       "<matplotlib.legend.Legend at 0x7f5aa0d36050>"
      ]
     },
     "execution_count": 7,
     "metadata": {},
     "output_type": "execute_result"
    },
    {
     "data": {
      "image/png": "[encoded data removed]",
      "text/plain": [
       "<Figure size 1080x360 with 1 Axes>"
      ]
     },
     "metadata": {
      "needs_background": "light"
     },
     "output_type": "display_data"
    }
   ],
   "source": [
    "fig,ax = plt.subplots(figsize=(15,5))\n",
    "df['value'].plot(ax=ax, color='cornflowerblue', label='line joining observations')\n",
    "df['value'].plot(ax=ax, color='firebrick', marker='.', linestyle='None', label='observed value')\n",
    "    \n",
    "plt.legend(loc='best')"
   ]
  },
  {
   "cell_type": "markdown",
   "id": "banner-nursing",
   "metadata": {
    "tags": []
   },
   "source": [
    "## &nbsp;3. Building a Query without sensor code/stream\n",
    "\n",
    "TILDE can also provide all of the available data for a date range without having to specify the sensor code and stream parameters.\n",
    "\n",
    "The minimum required parameters are:\n",
    "- domain = `envirosensor`\n",
    "- key = `NA002/fumarole-temperature/-/-/-`\n",
    "- startdate = '2022-03-01'\n",
    "- enddate = '2022-03-01'\n",
    "\n",
    "Using the above parameters will return data from all sensor codes (for NA002 there are sensor codes 02, 03 for these dates) and all data methods (max, min, snapshot). These will be returned in CSV format. \n",
    "The available location codes for each station are available in GeoNet's github repository (https://github.com/GeoNet/delta/blob/main/network/sites.csv). Sensor codes will be provided in the `Location` column (and for envirosensor those will be 01, 02, 03, etc for as many sensors as are installed). <br>\n",
    "\n",
    "We will begin by following similar steps to Section 2 and changing the URL with the new parameters, quering the URL and asking for the CSV format to be returned."
   ]
  },
  {
   "cell_type": "code",
   "execution_count": 8,
   "id": "accomplished-radical",
   "metadata": {},
   "outputs": [],
   "source": [
    "url = source+'/data/envirosensor/NA002/fumarole-temperature/-/-/-/2022-03-01/2022-03-01'\n",
    "\n",
    "r = requests.get(url, headers={'Accept':'text/csv'})\n",
    "\n",
    "df = pd.read_csv(StringIO(r.text),parse_dates=['time'], index_col='time')"
   ]
  },
  {
   "cell_type": "markdown",
   "id": "legislative-recovery",
   "metadata": {},
   "source": [
    "#####  Sorted by method not date\n",
    "By printing the top 2 rows of the dataframe (`df.head(2)`) and the bottom 2 rows (`df.tail(2)`), we can see that the data returned are sorted alphabetically by method (max/min/snapshot) and not by date. This is nothing we have done, it is just the way the API returns the data."
   ]
  },
  {
   "cell_type": "code",
   "execution_count": 9,
   "id": "black-network",
   "metadata": {},
   "outputs": [
    {
     "data": {
      "text/html": [
       "<div>\n",
       "<style scoped>\n",
       "    .dataframe tbody tr th:only-of-type {\n",
       "        vertical-align: middle;\n",
       "    }\n",
       "\n",
       "    .dataframe tbody tr th {\n",
       "        vertical-align: top;\n",
       "    }\n",
       "\n",
       "    .dataframe thead th {\n",
       "        text-align: right;\n",
       "    }\n",
       "</style>\n",
       "<table border=\"1\" class=\"dataframe\">\n",
       "  <thead>\n",
       "    <tr style=\"text-align: right;\">\n",
       "      <th></th>\n",
       "      <th>domain</th>\n",
       "      <th>station</th>\n",
       "      <th>name</th>\n",
       "      <th>sensor_code</th>\n",
       "      <th>method</th>\n",
       "      <th>aspect</th>\n",
       "      <th>value</th>\n",
       "      <th>err</th>\n",
       "      <th>qc</th>\n",
       "    </tr>\n",
       "    <tr>\n",
       "      <th>time</th>\n",
       "      <th></th>\n",
       "      <th></th>\n",
       "      <th></th>\n",
       "      <th></th>\n",
       "      <th></th>\n",
       "      <th></th>\n",
       "      <th></th>\n",
       "      <th></th>\n",
       "      <th></th>\n",
       "    </tr>\n",
       "  </thead>\n",
       "  <tbody>\n",
       "    <tr>\n",
       "      <th>2022-03-01 00:00:00+00:00</th>\n",
       "      <td>envirosensor</td>\n",
       "      <td>NA002</td>\n",
       "      <td>fumarole-temperature</td>\n",
       "      <td>2</td>\n",
       "      <td>max</td>\n",
       "      <td>nil</td>\n",
       "      <td>82.1</td>\n",
       "      <td>0.0</td>\n",
       "      <td>NaN</td>\n",
       "    </tr>\n",
       "    <tr>\n",
       "      <th>2022-03-01 00:10:00+00:00</th>\n",
       "      <td>envirosensor</td>\n",
       "      <td>NA002</td>\n",
       "      <td>fumarole-temperature</td>\n",
       "      <td>2</td>\n",
       "      <td>max</td>\n",
       "      <td>nil</td>\n",
       "      <td>82.0</td>\n",
       "      <td>0.0</td>\n",
       "      <td>NaN</td>\n",
       "    </tr>\n",
       "  </tbody>\n",
       "</table>\n",
       "</div>"
      ],
      "text/plain": [
       "                                 domain station                  name  \\\n",
       "time                                                                    \n",
       "2022-03-01 00:00:00+00:00  envirosensor   NA002  fumarole-temperature   \n",
       "2022-03-01 00:10:00+00:00  envirosensor   NA002  fumarole-temperature   \n",
       "\n",
       "                           sensor_code method aspect  value  err  qc  \n",
       "time                                                                  \n",
       "2022-03-01 00:00:00+00:00            2    max    nil   82.1  0.0 NaN  \n",
       "2022-03-01 00:10:00+00:00            2    max    nil   82.0  0.0 NaN  "
      ]
     },
     "execution_count": 9,
     "metadata": {},
     "output_type": "execute_result"
    }
   ],
   "source": [
    "df.head(2)"
   ]
  },
  {
   "cell_type": "code",
   "execution_count": 10,
   "id": "focused-milwaukee",
   "metadata": {},
   "outputs": [
    {
     "data": {
      "text/html": [
       "<div>\n",
       "<style scoped>\n",
       "    .dataframe tbody tr th:only-of-type {\n",
       "        vertical-align: middle;\n",
       "    }\n",
       "\n",
       "    .dataframe tbody tr th {\n",
       "        vertical-align: top;\n",
       "    }\n",
       "\n",
       "    .dataframe thead th {\n",
       "        text-align: right;\n",
       "    }\n",
       "</style>\n",
       "<table border=\"1\" class=\"dataframe\">\n",
       "  <thead>\n",
       "    <tr style=\"text-align: right;\">\n",
       "      <th></th>\n",
       "      <th>domain</th>\n",
       "      <th>station</th>\n",
       "      <th>name</th>\n",
       "      <th>sensor_code</th>\n",
       "      <th>method</th>\n",
       "      <th>aspect</th>\n",
       "      <th>value</th>\n",
       "      <th>err</th>\n",
       "      <th>qc</th>\n",
       "    </tr>\n",
       "    <tr>\n",
       "      <th>time</th>\n",
       "      <th></th>\n",
       "      <th></th>\n",
       "      <th></th>\n",
       "      <th></th>\n",
       "      <th></th>\n",
       "      <th></th>\n",
       "      <th></th>\n",
       "      <th></th>\n",
       "      <th></th>\n",
       "    </tr>\n",
       "  </thead>\n",
       "  <tbody>\n",
       "    <tr>\n",
       "      <th>2022-03-01 23:40:00+00:00</th>\n",
       "      <td>envirosensor</td>\n",
       "      <td>NA002</td>\n",
       "      <td>fumarole-temperature</td>\n",
       "      <td>3</td>\n",
       "      <td>snapshot</td>\n",
       "      <td>nil</td>\n",
       "      <td>82.5</td>\n",
       "      <td>0.0</td>\n",
       "      <td>NaN</td>\n",
       "    </tr>\n",
       "    <tr>\n",
       "      <th>2022-03-01 23:50:00+00:00</th>\n",
       "      <td>envirosensor</td>\n",
       "      <td>NA002</td>\n",
       "      <td>fumarole-temperature</td>\n",
       "      <td>3</td>\n",
       "      <td>snapshot</td>\n",
       "      <td>nil</td>\n",
       "      <td>82.6</td>\n",
       "      <td>0.0</td>\n",
       "      <td>NaN</td>\n",
       "    </tr>\n",
       "  </tbody>\n",
       "</table>\n",
       "</div>"
      ],
      "text/plain": [
       "                                 domain station                  name  \\\n",
       "time                                                                    \n",
       "2022-03-01 23:40:00+00:00  envirosensor   NA002  fumarole-temperature   \n",
       "2022-03-01 23:50:00+00:00  envirosensor   NA002  fumarole-temperature   \n",
       "\n",
       "                           sensor_code    method aspect  value  err  qc  \n",
       "time                                                                     \n",
       "2022-03-01 23:40:00+00:00            3  snapshot    nil   82.5  0.0 NaN  \n",
       "2022-03-01 23:50:00+00:00            3  snapshot    nil   82.6  0.0 NaN  "
      ]
     },
     "execution_count": 10,
     "metadata": {},
     "output_type": "execute_result"
    }
   ],
   "source": [
    "df.tail(2)"
   ]
  },
  {
   "cell_type": "markdown",
   "id": "exciting-share",
   "metadata": {
    "tags": []
   },
   "source": [
    "#### Select one sensor and separate max, min, and snapshot data into different dataframes \n",
    "Chose just one of the sensors, 02, and separate data into three distinct dataframes using the `method` column so we can then separate out the max, min, and snapshot values."
   ]
  },
  {
   "cell_type": "code",
   "execution_count": 11,
   "id": "through-violation",
   "metadata": {},
   "outputs": [],
   "source": [
    "dfmax = df[(df['method']=='max') & (df['sensor_code']==2)]\n",
    "dfmin = df[(df['method']=='min') & (df['sensor_code']==2)]\n",
    "dfsnap = df[(df['method']=='snapshot') & (df['sensor_code']==2)]"
   ]
  },
  {
   "cell_type": "markdown",
   "id": "banner-slide",
   "metadata": {},
   "source": [
    "#### Basic visualization\n",
    "\n",
    "As the three datatypes (max, min, and snapshot) have now been separated, we can plot them with different colours. Under normal circumstances, the `snapshot` data will most likely be the only stream used, but `min` and `max` give a useful measure of variability of the observation, if that is imprtant to you."
   ]
  },
  {
   "cell_type": "code",
   "execution_count": 12,
   "id": "placed-hopkins",
   "metadata": {},
   "outputs": [
    {
     "data": {
      "text/plain": [
       "<matplotlib.legend.Legend at 0x7f5a98b66090>"
      ]
     },
     "execution_count": 12,
     "metadata": {},
     "output_type": "execute_result"
    },
    {
     "data": {
      "image/png": "[encoded data removed]",
      "text/plain": [
       "<Figure size 1080x360 with 1 Axes>"
      ]
     },
     "metadata": {
      "needs_background": "light"
     },
     "output_type": "display_data"
    }
   ],
   "source": [
    "fig,ax = plt.subplots(figsize=(15,5))\n",
    "ax.plot(dfsnap['value'], color='black', label='snapshot (10 mins)')\n",
    "ax.plot(dfmin['value'], color='cornflowerblue', label='10 minute minimum')\n",
    "ax.plot(dfmax['value'], color='firebrick', label='10 minute maximum')\n",
    "    \n",
    "ax.set_ylabel('temperature degC')\n",
    "ax.set_xlabel('time')\n",
    "\n",
    "plt.legend(loc='best')"
   ]
  },
  {
   "cell_type": "markdown",
   "id": "verbal-shooting",
   "metadata": {},
   "source": [
    "## &nbsp;4. Building a Query for the latest data\n",
    "\n",
    "This query returns the observations of the specified data held in TILDE. The query is `https://tilde.geonet.org.nz/v2/data/`.\n",
    "\n",
    "The minimum required parameters are:\n",
    "- domain = `envirosensor`\n",
    "- key = `NA002/fumarole-temperature/02/snapshot/-`,\n",
    "- startdate = 'latest'\n",
    "- enddate = '7d'\n",
    "\n",
    "We will begin by following similar steps that we have followed previously by, changing the URL with the new parameters, quering the URL and asking for the CSV format to be returned. This request will return data in a CSV format for the last 7 days."
   ]
  },
  {
   "cell_type": "code",
   "execution_count": 13,
   "id": "silent-frame",
   "metadata": {},
   "outputs": [],
   "source": [
    "url = source+'/data/envirosensor/NA002/fumarole-temperature/02/snapshot/-/latest/7d'\n",
    "\n",
    "r = requests.get(url, headers={'Accept':'text/csv'})\n",
    "\n",
    "df = pd.read_csv(StringIO(r.text),parse_dates=['time'], index_col='time')"
   ]
  },
  {
   "cell_type": "markdown",
   "id": "human-sister",
   "metadata": {},
   "source": [
    "We can see in the tail of the dataframe that we have the `latest` or most recent data."
   ]
  },
  {
   "cell_type": "code",
   "execution_count": 14,
   "id": "congressional-arrow",
   "metadata": {},
   "outputs": [
    {
     "data": {
      "text/html": [
       "<div>\n",
       "<style scoped>\n",
       "    .dataframe tbody tr th:only-of-type {\n",
       "        vertical-align: middle;\n",
       "    }\n",
       "\n",
       "    .dataframe tbody tr th {\n",
       "        vertical-align: top;\n",
       "    }\n",
       "\n",
       "    .dataframe thead th {\n",
       "        text-align: right;\n",
       "    }\n",
       "</style>\n",
       "<table border=\"1\" class=\"dataframe\">\n",
       "  <thead>\n",
       "    <tr style=\"text-align: right;\">\n",
       "      <th></th>\n",
       "      <th>domain</th>\n",
       "      <th>station</th>\n",
       "      <th>name</th>\n",
       "      <th>sensor_code</th>\n",
       "      <th>method</th>\n",
       "      <th>aspect</th>\n",
       "      <th>value</th>\n",
       "      <th>err</th>\n",
       "      <th>qc</th>\n",
       "    </tr>\n",
       "    <tr>\n",
       "      <th>time</th>\n",
       "      <th></th>\n",
       "      <th></th>\n",
       "      <th></th>\n",
       "      <th></th>\n",
       "      <th></th>\n",
       "      <th></th>\n",
       "      <th></th>\n",
       "      <th></th>\n",
       "      <th></th>\n",
       "    </tr>\n",
       "  </thead>\n",
       "  <tbody>\n",
       "    <tr>\n",
       "      <th>2022-04-27 22:10:00+00:00</th>\n",
       "      <td>envirosensor</td>\n",
       "      <td>NA002</td>\n",
       "      <td>fumarole-temperature</td>\n",
       "      <td>2</td>\n",
       "      <td>snapshot</td>\n",
       "      <td>nil</td>\n",
       "      <td>81.6</td>\n",
       "      <td>0.0</td>\n",
       "      <td>NaN</td>\n",
       "    </tr>\n",
       "    <tr>\n",
       "      <th>2022-04-27 22:20:00+00:00</th>\n",
       "      <td>envirosensor</td>\n",
       "      <td>NA002</td>\n",
       "      <td>fumarole-temperature</td>\n",
       "      <td>2</td>\n",
       "      <td>snapshot</td>\n",
       "      <td>nil</td>\n",
       "      <td>81.5</td>\n",
       "      <td>0.0</td>\n",
       "      <td>NaN</td>\n",
       "    </tr>\n",
       "    <tr>\n",
       "      <th>2022-04-27 22:30:00+00:00</th>\n",
       "      <td>envirosensor</td>\n",
       "      <td>NA002</td>\n",
       "      <td>fumarole-temperature</td>\n",
       "      <td>2</td>\n",
       "      <td>snapshot</td>\n",
       "      <td>nil</td>\n",
       "      <td>81.5</td>\n",
       "      <td>0.0</td>\n",
       "      <td>NaN</td>\n",
       "    </tr>\n",
       "    <tr>\n",
       "      <th>2022-04-27 22:40:00+00:00</th>\n",
       "      <td>envirosensor</td>\n",
       "      <td>NA002</td>\n",
       "      <td>fumarole-temperature</td>\n",
       "      <td>2</td>\n",
       "      <td>snapshot</td>\n",
       "      <td>nil</td>\n",
       "      <td>81.5</td>\n",
       "      <td>0.0</td>\n",
       "      <td>NaN</td>\n",
       "    </tr>\n",
       "    <tr>\n",
       "      <th>2022-04-27 22:50:00+00:00</th>\n",
       "      <td>envirosensor</td>\n",
       "      <td>NA002</td>\n",
       "      <td>fumarole-temperature</td>\n",
       "      <td>2</td>\n",
       "      <td>snapshot</td>\n",
       "      <td>nil</td>\n",
       "      <td>81.6</td>\n",
       "      <td>0.0</td>\n",
       "      <td>NaN</td>\n",
       "    </tr>\n",
       "  </tbody>\n",
       "</table>\n",
       "</div>"
      ],
      "text/plain": [
       "                                 domain station                  name  \\\n",
       "time                                                                    \n",
       "2022-04-27 22:10:00+00:00  envirosensor   NA002  fumarole-temperature   \n",
       "2022-04-27 22:20:00+00:00  envirosensor   NA002  fumarole-temperature   \n",
       "2022-04-27 22:30:00+00:00  envirosensor   NA002  fumarole-temperature   \n",
       "2022-04-27 22:40:00+00:00  envirosensor   NA002  fumarole-temperature   \n",
       "2022-04-27 22:50:00+00:00  envirosensor   NA002  fumarole-temperature   \n",
       "\n",
       "                           sensor_code    method aspect  value  err  qc  \n",
       "time                                                                     \n",
       "2022-04-27 22:10:00+00:00            2  snapshot    nil   81.6  0.0 NaN  \n",
       "2022-04-27 22:20:00+00:00            2  snapshot    nil   81.5  0.0 NaN  \n",
       "2022-04-27 22:30:00+00:00            2  snapshot    nil   81.5  0.0 NaN  \n",
       "2022-04-27 22:40:00+00:00            2  snapshot    nil   81.5  0.0 NaN  \n",
       "2022-04-27 22:50:00+00:00            2  snapshot    nil   81.6  0.0 NaN  "
      ]
     },
     "execution_count": 14,
     "metadata": {},
     "output_type": "execute_result"
    }
   ],
   "source": [
    "df.tail()"
   ]
  },
  {
   "cell_type": "markdown",
   "id": "favorite-cutting",
   "metadata": {
    "tags": []
   },
   "source": [
    "#### Data volume\n",
    "<br>\n",
    "By using `len(df.index)` we can easily generate a row count of the dataframe. This could be useful to see how many values we received in a certain period of time for a station. This is likely to be quite predictable, but may vary from what we expect if we haven't been able to retrieve some data from the station. In this case, for the last 7 days we should expect 7 * 144 = 1008 observations. Site NA002 uses the cell phone netwrok for communications, and the cellular signal at the site, at the summitt of Ngauruhoe, isn't always completely reliable, so 1008 observations is not always achieved."
   ]
  },
  {
   "cell_type": "code",
   "execution_count": 15,
   "id": "divided-split",
   "metadata": {},
   "outputs": [
    {
     "data": {
      "text/plain": [
       "994"
      ]
     },
     "execution_count": 15,
     "metadata": {},
     "output_type": "execute_result"
    }
   ],
   "source": [
    "len(df.index)"
   ]
  },
  {
   "cell_type": "markdown",
   "id": "adolescent-charter",
   "metadata": {},
   "source": [
    "## &nbsp;5. Building a query for aggregated data\n",
    "<br>\n",
    "When requesting a large amount of data over a long time period, the query can be optimized for quick visualisation using the optional `aggregationPeriod`and `aggregationFunction` parameters. We will use our initial query example above, with a 15 day range (2022-03-01 to 2022-03-15) and use an aggregation period of 1 day to return a daily mean of the values each day. Notice that, due to the aggregation, our dataframe's index column has time values 00:00:00."
   ]
  },
  {
   "cell_type": "code",
   "execution_count": 16,
   "id": "supreme-bouquet",
   "metadata": {},
   "outputs": [
    {
     "data": {
      "text/html": [
       "<div>\n",
       "<style scoped>\n",
       "    .dataframe tbody tr th:only-of-type {\n",
       "        vertical-align: middle;\n",
       "    }\n",
       "\n",
       "    .dataframe tbody tr th {\n",
       "        vertical-align: top;\n",
       "    }\n",
       "\n",
       "    .dataframe thead th {\n",
       "        text-align: right;\n",
       "    }\n",
       "</style>\n",
       "<table border=\"1\" class=\"dataframe\">\n",
       "  <thead>\n",
       "    <tr style=\"text-align: right;\">\n",
       "      <th></th>\n",
       "      <th>domain</th>\n",
       "      <th>station</th>\n",
       "      <th>name</th>\n",
       "      <th>sensor_code</th>\n",
       "      <th>method</th>\n",
       "      <th>aspect</th>\n",
       "      <th>value</th>\n",
       "      <th>err</th>\n",
       "      <th>qc</th>\n",
       "    </tr>\n",
       "    <tr>\n",
       "      <th>time</th>\n",
       "      <th></th>\n",
       "      <th></th>\n",
       "      <th></th>\n",
       "      <th></th>\n",
       "      <th></th>\n",
       "      <th></th>\n",
       "      <th></th>\n",
       "      <th></th>\n",
       "      <th></th>\n",
       "    </tr>\n",
       "  </thead>\n",
       "  <tbody>\n",
       "    <tr>\n",
       "      <th>2022-03-11 00:00:00+00:00</th>\n",
       "      <td>envirosensor</td>\n",
       "      <td>NA002</td>\n",
       "      <td>fumarole-temperature</td>\n",
       "      <td>2</td>\n",
       "      <td>snapshot</td>\n",
       "      <td>nil</td>\n",
       "      <td>81.997222</td>\n",
       "      <td>0.0</td>\n",
       "      <td>NaN</td>\n",
       "    </tr>\n",
       "    <tr>\n",
       "      <th>2022-03-12 00:00:00+00:00</th>\n",
       "      <td>envirosensor</td>\n",
       "      <td>NA002</td>\n",
       "      <td>fumarole-temperature</td>\n",
       "      <td>2</td>\n",
       "      <td>snapshot</td>\n",
       "      <td>nil</td>\n",
       "      <td>82.394444</td>\n",
       "      <td>0.0</td>\n",
       "      <td>NaN</td>\n",
       "    </tr>\n",
       "    <tr>\n",
       "      <th>2022-03-13 00:00:00+00:00</th>\n",
       "      <td>envirosensor</td>\n",
       "      <td>NA002</td>\n",
       "      <td>fumarole-temperature</td>\n",
       "      <td>2</td>\n",
       "      <td>snapshot</td>\n",
       "      <td>nil</td>\n",
       "      <td>82.186806</td>\n",
       "      <td>0.0</td>\n",
       "      <td>NaN</td>\n",
       "    </tr>\n",
       "    <tr>\n",
       "      <th>2022-03-14 00:00:00+00:00</th>\n",
       "      <td>envirosensor</td>\n",
       "      <td>NA002</td>\n",
       "      <td>fumarole-temperature</td>\n",
       "      <td>2</td>\n",
       "      <td>snapshot</td>\n",
       "      <td>nil</td>\n",
       "      <td>82.326389</td>\n",
       "      <td>0.0</td>\n",
       "      <td>NaN</td>\n",
       "    </tr>\n",
       "    <tr>\n",
       "      <th>2022-03-15 00:00:00+00:00</th>\n",
       "      <td>envirosensor</td>\n",
       "      <td>NA002</td>\n",
       "      <td>fumarole-temperature</td>\n",
       "      <td>2</td>\n",
       "      <td>snapshot</td>\n",
       "      <td>nil</td>\n",
       "      <td>82.284167</td>\n",
       "      <td>0.0</td>\n",
       "      <td>NaN</td>\n",
       "    </tr>\n",
       "  </tbody>\n",
       "</table>\n",
       "</div>"
      ],
      "text/plain": [
       "                                 domain station                  name  \\\n",
       "time                                                                    \n",
       "2022-03-11 00:00:00+00:00  envirosensor   NA002  fumarole-temperature   \n",
       "2022-03-12 00:00:00+00:00  envirosensor   NA002  fumarole-temperature   \n",
       "2022-03-13 00:00:00+00:00  envirosensor   NA002  fumarole-temperature   \n",
       "2022-03-14 00:00:00+00:00  envirosensor   NA002  fumarole-temperature   \n",
       "2022-03-15 00:00:00+00:00  envirosensor   NA002  fumarole-temperature   \n",
       "\n",
       "                           sensor_code    method aspect      value  err  qc  \n",
       "time                                                                         \n",
       "2022-03-11 00:00:00+00:00            2  snapshot    nil  81.997222  0.0 NaN  \n",
       "2022-03-12 00:00:00+00:00            2  snapshot    nil  82.394444  0.0 NaN  \n",
       "2022-03-13 00:00:00+00:00            2  snapshot    nil  82.186806  0.0 NaN  \n",
       "2022-03-14 00:00:00+00:00            2  snapshot    nil  82.326389  0.0 NaN  \n",
       "2022-03-15 00:00:00+00:00            2  snapshot    nil  82.284167  0.0 NaN  "
      ]
     },
     "execution_count": 16,
     "metadata": {},
     "output_type": "execute_result"
    }
   ],
   "source": [
    "url = source+'/data/envirosensor/NA002/fumarole-temperature/02/snapshot/-/2022-03-01/2022-03-15?aggregationPeriod=1d&aggregationFunction=mean'\n",
    "\n",
    "r = requests.get(url, headers={'Accept':'text/csv'})\n",
    "dfmean = pd.read_csv(StringIO(r.text),parse_dates=['time'], index_col='time')\n",
    "dfmean.tail(5)"
   ]
  },
  {
   "cell_type": "code",
   "execution_count": 17,
   "id": "019aaaa0-7195-4986-9d03-9c16f12161a3",
   "metadata": {},
   "outputs": [],
   "source": [
    "url = source+'/data/envirosensor/NA002/fumarole-temperature/02/snapshot/-/2022-03-01/2022-03-15'\n",
    "\n",
    "r = requests.get(url, headers={'Accept':'text/csv'})\n",
    "dfraw = pd.read_csv(StringIO(r.text),parse_dates=['time'], index_col='time')"
   ]
  },
  {
   "cell_type": "markdown",
   "id": "e63bb1f0-c7c3-49f6-89e3-538ccb90d80a",
   "metadata": {},
   "source": [
    "#### Visualize the data\n",
    "<br>\n",
    "We'll show the daily mean observaton together with the raw observations. That way we can see the effect of aggregation. Remember, the time of the mean for each days is 00:00:00, so it plots at the start of each day."
   ]
  },
  {
   "cell_type": "code",
   "execution_count": 18,
   "id": "greater-launch",
   "metadata": {},
   "outputs": [
    {
     "data": {
      "text/plain": [
       "<matplotlib.legend.Legend at 0x7f5a98af6090>"
      ]
     },
     "execution_count": 18,
     "metadata": {},
     "output_type": "execute_result"
    },
    {
     "data": {
      "image/png": "[encoded data removed]",
      "text/plain": [
       "<Figure size 1080x360 with 1 Axes>"
      ]
     },
     "metadata": {
      "needs_background": "light"
     },
     "output_type": "display_data"
    }
   ],
   "source": [
    "fig,ax = plt.subplots(figsize=(15,5))\n",
    "dfraw['value'].plot(ax=ax, color='cornflowerblue', label='raw observations')\n",
    "dfmean['value'].plot(ax=ax, color='firebrick', marker='o', label='daily mean')\n",
    "  \n",
    "ax.set_ylabel('temperature degC')\n",
    "\n",
    "plt.legend(loc='best')"
   ]
  }
 ],
 "metadata": {
  "kernelspec": {
   "display_name": "Python 3 (ipykernel)",
   "language": "python",
   "name": "python3"
  },
  "language_info": {
   "codemirror_mode": {
    "name": "ipython",
    "version": 3
   },
   "file_extension": ".py",
   "mimetype": "text/x-python",
   "name": "python",
   "nbconvert_exporter": "python",
   "pygments_lexer": "ipython3",
   "version": "3.7.12"
  }
 },
 "nbformat": 4,
 "nbformat_minor": 5
}
