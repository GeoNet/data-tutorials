{
 "cells": [
  {
   "cell_type": "markdown",
   "metadata": {},
   "source": [
    "# <center> Using R to Trim and find Equipment Changes for GNSS Data"
   ]
  },
  {
   "cell_type": "markdown",
   "metadata": {},
   "source": [
    "In this notebook we will learn how to get data on equipment changes for GNSS(Global Navigation Satellite System) stations.\n",
    "In this tutorial we will graph equipment changes. <img src=\"equipment_changes.png\">"
   ]
  },
  {
   "cell_type": "markdown",
   "metadata": {},
   "source": [
    "## &nbsp; Table of contents"
   ]
  },
  {
   "cell_type": "markdown",
   "metadata": {},
   "source": [
    "### 1. Introduction\n",
    "### 2. Get time series data for GNSS station\n",
    "### 3. Trim GNSS data\n",
    "### 4. Get equipment change data \n",
    "### 5. Look at equipment changes for a station"
   ]
  },
  {
   "cell_type": "markdown",
   "metadata": {},
   "source": [
    "## &nbsp; 1. Introduction"
   ]
  },
  {
   "cell_type": "markdown",
   "metadata": {},
   "source": [
    "In this tutorial we will be learning how to use R to access GNSS (commonly referred to at GPS) data from the multiple continuous GNSS sites, in an area, in the GeoNet and PositioNZ networks. GeoNet has a API (Application Programming Interface) to access its GNSS data. You do not need to know anything about APIs to use this tutorial, but if you would like more info see https://fits.geonet.org.nz/api-docs/."
   ]
  },
  {
   "cell_type": "markdown",
   "metadata": {},
   "source": [
    "Sometimes equipment changes will affect the data from the GNSS sites. Its important to see if the observed movement of the station is due to the ground movement or an equipment change "
   ]
  },
  {
   "cell_type": "markdown",
   "metadata": {},
   "source": [
    "R is a language made for statisticians by statisticians. It is an open source language which anyone can make a package for. This means that R has a lot of useful functions for all kinds of research."
   ]
  },
  {
   "cell_type": "markdown",
   "metadata": {},
   "source": [
    "This tutorial assumes that you have basic knowledge of the language R, but basic knowledge of any programming language should be sufficient to follow this tutorial."
   ]
  },
  {
   "cell_type": "markdown",
   "metadata": {},
   "source": [
    "All data will be saved into R as a data frame which is much like, what would be called, a dictionary in other languages, but with a few more restrictions to the data structure. To understand more about data frames go to https://www.rdocumentation.org/packages/base/versions/3.5.1/topics/data.frame"
   ]
  },
  {
   "cell_type": "markdown",
   "metadata": {},
   "source": [
    "###### About Geonet GNSS data"
   ]
  },
  {
   "cell_type": "markdown",
   "metadata": {},
   "source": [
    "GeoNet uses GNSS technology to work out the precise positions of over 190 stations in and around NZ everyday. These positions are used to generate a displacement timeseries for each station so we can observe how much and how quickly each station moves. <br>\n",
    "This data has 3 components:\n",
    "<ul>\n",
    "    <li> The displacement in the east west direction where east is a positive displacement. This has a typeID of \"e\"\n",
    "    <li> The displacement in the north south direction where north is a positive displacement. This has a typeID of \"n\"\n",
    "    <li> The displacement in the up down direction where up is a positive displacement. This has a typeID of \"u\"</ul>\n",
    "For more on data types go to http://fits.geonet.org.nz/type (for best formatting use firefox)"
   ]
  },
  {
   "cell_type": "markdown",
   "metadata": {},
   "source": [
    " ## &nbsp; 2. Get time series data for GNSS station"
   ]
  },
  {
   "cell_type": "markdown",
   "metadata": {},
   "source": [
    "###### Call libraries"
   ]
  },
  {
   "cell_type": "code",
   "execution_count": 1,
   "metadata": {},
   "outputs": [],
   "source": [
    "library(httr)"
   ]
  },
  {
   "cell_type": "markdown",
   "metadata": {},
   "source": [
    "###### Set siteID"
   ]
  },
  {
   "cell_type": "code",
   "execution_count": 2,
   "metadata": {},
   "outputs": [],
   "source": [
    "siteID <- \"RDLV\""
   ]
  },
  {
   "cell_type": "markdown",
   "metadata": {},
   "source": [
    "To Find these 4 letter site ID of a GNSS site you want the data for, you can use https://www.geonet.org.nz/data/network/sensor/search and search for GNSS antenna. "
   ]
  },
  {
   "cell_type": "markdown",
   "metadata": {},
   "source": [
    "###### Make a function that will take a siteID and return a data frame with east, north and up data from that site."
   ]
  },
  {
   "cell_type": "code",
   "execution_count": 3,
   "metadata": {},
   "outputs": [],
   "source": [
    "get_gnss<- function(site){\n",
    "    # This function takes a site ID as a string\n",
    "    # and returns a dataframe with all the observation data for that site\n",
    "    # For more on how this function works go to notebook link\n",
    "    \n",
    "    #Set up\n",
    "    base_url <- \"http://fits.geonet.org.nz/\"\n",
    "    endpoint <- \"observation\"\n",
    "    \n",
    "    #Get East Data\n",
    "    type <- \"e\"\n",
    "    full_url <- paste(base_url,endpoint,\"?typeID=\",type,\"&siteID=\",site, sep=\"\")\n",
    "    east <- GET(full_url)\n",
    "    \n",
    "    #Get North Data\n",
    "    type <- \"n\"\n",
    "    full_url <- paste(base_url,endpoint,\"?typeID=\",type,\"&siteID=\",site, sep=\"\")\n",
    "    north <- GET(full_url)\n",
    "    \n",
    "    #Get Up Data\n",
    "    type <- \"u\"\n",
    "    full_url <- paste(base_url,endpoint,\"?typeID=\",type,\"&siteID=\",site, sep=\"\")\n",
    "    up <- GET(full_url)\n",
    "    \n",
    "    #Unpack data into data frames\n",
    "    df_e <- content(east, encoding =\"UTF-8\")\n",
    "    df_n <- content(north, encoding =\"UTF-8\")\n",
    "    df_u <- content(up, encoding =\"UTF-8\")\n",
    "    \n",
    "    # Make into one data frame\n",
    "    new_df <- data.frame(\n",
    "    df_e$'date-time', \n",
    "    df_e$'e (mm)', \n",
    "    df_n$'n (mm)',\n",
    "    df_u$'u (mm)')\n",
    "    colnames(new_df) = c(\"date-time\", \"e (mm)\", 'n (mm)','u (mm)')\n",
    "    \n",
    "    # Return data frame\n",
    "    return(new_df)\n",
    "}"
   ]
  },
  {
   "cell_type": "markdown",
   "metadata": {},
   "source": [
    "This function takes a siteID are retunes a dataframe that has all the the displacement data from that GNSS site. e.g <img src=\"eg.png\">\n",
    "For more on the code in this function go to the notebook Introduction_to_GNSS_data_using_FITS_in_R https://github.com/GeoNet/data-tutorials/blob/master/GNSS_Data/R/Introduction_to_GNSS_data_using_FITS_in_R.ipynb."
   ]
  },
  {
   "cell_type": "markdown",
   "metadata": {},
   "source": [
    "###### Run above function on the site"
   ]
  },
  {
   "cell_type": "code",
   "execution_count": 4,
   "metadata": {},
   "outputs": [
    {
     "name": "stderr",
     "output_type": "stream",
     "text": [
      "Parsed with column specification:\n",
      "cols(\n",
      "  `date-time` = col_datetime(format = \"\"),\n",
      "  `e (mm)` = col_double(),\n",
      "  `error (mm)` = col_double()\n",
      ")\n",
      "Parsed with column specification:\n",
      "cols(\n",
      "  `date-time` = col_datetime(format = \"\"),\n",
      "  `n (mm)` = col_double(),\n",
      "  `error (mm)` = col_double()\n",
      ")\n",
      "Parsed with column specification:\n",
      "cols(\n",
      "  `date-time` = col_datetime(format = \"\"),\n",
      "  `u (mm)` = col_double(),\n",
      "  `error (mm)` = col_double()\n",
      ")\n"
     ]
    }
   ],
   "source": [
    "site<- get_gnss(siteID)"
   ]
  },
  {
   "cell_type": "markdown",
   "metadata": {},
   "source": [
    "This runs the above function the the siteID to get the time series data for this station. "
   ]
  },
  {
   "cell_type": "markdown",
   "metadata": {},
   "source": [
    "###### Plot data for this site"
   ]
  },
  {
   "cell_type": "code",
   "execution_count": 28,
   "metadata": {},
   "outputs": [
    {
     "data": {
      "image/png": "[encoded data removed]",
      "text/plain": [
       "Plot with title \"Relative east displacement for RDLV\""
      ]
     },
     "metadata": {},
     "output_type": "display_data"
    }
   ],
   "source": [
    "plot(site$'date-time', site$'e (mm)',main= paste(\"Relative east displacement for\", siteID), xlab = \"Date\", ylab = \"Displacement (mm)\", pch = 16,cex=0.45)"
   ]
  },
  {
   "cell_type": "markdown",
   "metadata": {},
   "source": [
    "The data `site$'date-time'` is the data time data in the east displacement data frame. This is set to be on the x axis. ` site$'e (mm)'` is the displacement data from the east data frame. This is set to be on the y axis. ` main= paste(\"Relative east displacement for\", siteID)` gives the graph its title. ` xlab = \"Date\", ylab = \"Displacement (mm)\"` give the graph its x and y axis titles. `pch  = 16` says that each data point will be put on the graph as a circle filled in point. To save this plot right click on it in this notebook."
   ]
  },
  {
   "cell_type": "markdown",
   "metadata": {},
   "source": [
    "## &nbsp; 3. Trim GNSS data"
   ]
  },
  {
   "cell_type": "markdown",
   "metadata": {},
   "source": [
    "We can see for this graph there are 2 points of interest. One in late 2016 and another in early 2018. We want to trim the data to just look at this time. "
   ]
  },
  {
   "cell_type": "markdown",
   "metadata": {},
   "source": [
    "###### Set time to look at "
   ]
  },
  {
   "cell_type": "code",
   "execution_count": 11,
   "metadata": {},
   "outputs": [],
   "source": [
    "start<- as.POSIXct(\"2016-01-01\")\n",
    "end<- as.POSIXct(\"2019-01-01\")"
   ]
  },
  {
   "cell_type": "markdown",
   "metadata": {},
   "source": [
    "The above code sets the start date to be the 1st day in 2016 and the end date to be the 1st day in 2019"
   ]
  },
  {
   "cell_type": "markdown",
   "metadata": {},
   "source": [
    "###### Get start and end dates datapoints"
   ]
  },
  {
   "cell_type": "code",
   "execution_count": 12,
   "metadata": {},
   "outputs": [],
   "source": [
    "point_s<- grep(start,site$'date-time')\n",
    "point_e<- grep(end,site$'date-time')"
   ]
  },
  {
   "cell_type": "markdown",
   "metadata": {},
   "source": [
    "`grep(strat,site$'date-time')` returns the row number where the start time as set above is the same as the date-time value in in the data frame."
   ]
  },
  {
   "cell_type": "markdown",
   "metadata": {},
   "source": [
    "###### Trim data"
   ]
  },
  {
   "cell_type": "code",
   "execution_count": 13,
   "metadata": {},
   "outputs": [],
   "source": [
    "site_trimmed <- site[point_s:point_e,]"
   ]
  },
  {
   "cell_type": "markdown",
   "metadata": {},
   "source": [
    "Use the two row numbers found above to trim the data. `site[point_s:point_e,]` gets from row number `point_s`(inclusive) to row number `point_e`(inclusive) from the data frame named site. "
   ]
  },
  {
   "cell_type": "markdown",
   "metadata": {},
   "source": [
    "###### Plot trimmed data"
   ]
  },
  {
   "cell_type": "code",
   "execution_count": 15,
   "metadata": {},
   "outputs": [
    {
     "data": {
      "image/png": "[encoded data removed]",
      "text/plain": [
       "Plot with title \"Relative east displacement for RDLV\""
      ]
     },
     "metadata": {},
     "output_type": "display_data"
    }
   ],
   "source": [
    "plot(site_trimmed$'date-time', site_trimmed$'e (mm)',main= paste(\"Relative east displacement for\", siteID), xlab = \"Date\", ylab = \"Displacement (mm)\", pch = 16, cex=0.5)"
   ]
  },
  {
   "cell_type": "markdown",
   "metadata": {},
   "source": [
    "Done the same as the graph above "
   ]
  },
  {
   "cell_type": "markdown",
   "metadata": {},
   "source": [
    " ## &nbsp; 4. Get equipment change data "
   ]
  },
  {
   "cell_type": "markdown",
   "metadata": {},
   "source": [
    "The deployment information of GeoNet's equipment is at https://github.com/GeoNet/delta/tree/master/install "
   ]
  },
  {
   "cell_type": "markdown",
   "metadata": {},
   "source": [
    "###### Get deployment information data from delta"
   ]
  },
  {
   "cell_type": "code",
   "execution_count": 16,
   "metadata": {},
   "outputs": [],
   "source": [
    "antenna<- GET(\"https://raw.githubusercontent.com/GeoNet/delta/master/install/antennas.csv\")"
   ]
  },
  {
   "cell_type": "markdown",
   "metadata": {},
   "source": [
    "https://github.com/GeoNet/delta/tree/master/install/antennas.csv has all the deployment information for GNSS antennas. `raw.githubusercontent.com` is this data without the nice webpage formatting. This is easier for a computer to read. "
   ]
  },
  {
   "cell_type": "markdown",
   "metadata": {},
   "source": [
    "###### Make data into a data frame"
   ]
  },
  {
   "cell_type": "code",
   "execution_count": 17,
   "metadata": {},
   "outputs": [],
   "source": [
    "equipment<- read.csv(text = content(antenna))"
   ]
  },
  {
   "cell_type": "markdown",
   "metadata": {},
   "source": [
    "The data at the above page is saved as a csv file. This line unpacks this csv file into a r data frame. "
   ]
  },
  {
   "cell_type": "markdown",
   "metadata": {},
   "source": [
    "###### Make dates formated correctly"
   ]
  },
  {
   "cell_type": "code",
   "execution_count": 18,
   "metadata": {},
   "outputs": [],
   "source": [
    "equipment$End.Date<- as.POSIXct(equipment$End.Date)\n",
    "equipment$Start.Date<- as.POSIXct(equipment$Start.Date)"
   ]
  },
  {
   "cell_type": "markdown",
   "metadata": {},
   "source": [
    "The date-time data in the data frame is a string so the above code reformates it into something the computer can see as data-time data."
   ]
  },
  {
   "cell_type": "markdown",
   "metadata": {},
   "source": [
    "## &nbsp; 5. Look at equipment changes for a station"
   ]
  },
  {
   "cell_type": "markdown",
   "metadata": {},
   "source": [
    "We have the equipment changes for all the stations, but we only want to look at the equiment changes for one station."
   ]
  },
  {
   "cell_type": "markdown",
   "metadata": {},
   "source": [
    "###### Find the equipment changes for only one station"
   ]
  },
  {
   "cell_type": "code",
   "execution_count": 19,
   "metadata": {},
   "outputs": [],
   "source": [
    "points<- grep(siteID,equipment$Mark)"
   ]
  },
  {
   "cell_type": "markdown",
   "metadata": {},
   "source": [
    "`grep(siteID,equipment$Mark)` returns the row/s number where siteID (set at the start of this notebook) is the same as the mark in the equipment changes data frame."
   ]
  },
  {
   "cell_type": "markdown",
   "metadata": {},
   "source": [
    "###### Make a list of equiment change dates"
   ]
  },
  {
   "cell_type": "code",
   "execution_count": 20,
   "metadata": {},
   "outputs": [],
   "source": [
    "change_dates <- list()\n",
    "for (i in 1:length(points)){\n",
    "    if (equipment[points,]$End.Date[i] < as.POSIXct(Sys.time())){\n",
    "        change_dates[[i]]<- equipment[points,]$End.Date[i]\n",
    "    }\n",
    "}"
   ]
  },
  {
   "cell_type": "markdown",
   "metadata": {},
   "source": [
    "The above code makes a list of dates when equiment was replaced. It uses a `for` loop to look at the points we found above. If the `End.Date` of the equipment data is a past date (not a place holder) then it adds this date to the list `change_dates`."
   ]
  },
  {
   "cell_type": "markdown",
   "metadata": {},
   "source": [
    "###### Print the list of datas"
   ]
  },
  {
   "cell_type": "code",
   "execution_count": 21,
   "metadata": {},
   "outputs": [
    {
     "data": {
      "text/plain": [
       "[[1]]\n",
       "[1] \"2018-05-14 NZST\"\n"
      ]
     },
     "metadata": {},
     "output_type": "display_data"
    }
   ],
   "source": [
    "change_dates"
   ]
  },
  {
   "cell_type": "markdown",
   "metadata": {},
   "source": [
    "In this case, we can see the equiment was replaced on 14/05/2018"
   ]
  },
  {
   "cell_type": "markdown",
   "metadata": {},
   "source": [
    "###### Plot these dates onto the time series graphs"
   ]
  },
  {
   "cell_type": "code",
   "execution_count": 23,
   "metadata": {},
   "outputs": [
    {
     "data": {
      "image/png": "[encoded data removed]",
      "text/plain": [
       "Plot with title \"Relative east displacement for RDLV with equipment changes\""
      ]
     },
     "metadata": {},
     "output_type": "display_data"
    }
   ],
   "source": [
    "plot(site_trimmed$'date-time', site_trimmed$'e (mm)',main= paste(\"Relative east displacement for\", siteID,\"with equipment changes\"), xlab = \"Date\", ylab = \"Displacement (mm)\", pch = 16, cex=0.5)\n",
    "abline(v=change_dates, col=\"red\", lty=2, lwd=2)"
   ]
  },
  {
   "cell_type": "markdown",
   "metadata": {},
   "source": [
    "Here we replicate the last plot but use `abline` to add lines at the dates when there are equiment changes. `v=change_dates` makes verial lines at the points when the equiment changes,`lty=2`makes the line dashed and `lwd=2`changes the weigh of the line."
   ]
  },
  {
   "cell_type": "markdown",
   "metadata": {},
   "source": [
    "Looking at the graph now we can tell it is most likey that the point of interest around 2018 is due to an equipment failure prior to that equipment being replaced."
   ]
  },
  {
   "cell_type": "markdown",
   "metadata": {},
   "source": [
    "## Useful links"
   ]
  },
  {
   "cell_type": "markdown",
   "metadata": {},
   "source": [
    "<ul>\n",
    "    <li>This notebook uses the language R https://www.r-project.org/\n",
    "    <li>This notebook uses the library httr https://cran.r-project.org/web/packages/httr/vignettes/quickstart.html\n",
    "    <li>To understand more about data frames go to https://www.rdocumentation.org/packages/base/versions/3.5.1/topics/data.frame\n",
    "    <li>To understand the `get_gnss` function go to https://github.com/GeoNet/data-tutorials/blob/master/GNSS_Data/R/Introduction_to_GNSS_data_using_FITS_in_R.ipynb.\n",
    "    <li>More tutorials on GNSS data can be found at https://github.com/GeoNet/data-tutorials/blob/master/GNSS_Data\n",
    "    <li>For more on data types in FITS go to http://fits.geonet.org.nz/type (for best formatting use firefox)\n",
    "    <li>For more on FITS go to https://fits.geonet.org.nz/api-docs/ \n",
    "    <li>To Find these 4 letter site IDs you can use https://www.geonet.org.nz/data/network/sensor/search and search for GNSS antenna    \n",
    "</ul>"
   ]
  }
 ],
 "metadata": {
  "kernelspec": {
   "display_name": "R",
   "language": "R",
   "name": "ir"
  },
  "language_info": {
   "codemirror_mode": "r",
   "file_extension": ".r",
   "mimetype": "text/x-r-source",
   "name": "R",
   "pygments_lexer": "r",
   "version": "3.5.1"
  }
 },
 "nbformat": 4,
 "nbformat_minor": 2
}
