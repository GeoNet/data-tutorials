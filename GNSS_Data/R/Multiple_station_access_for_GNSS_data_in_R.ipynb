{
 "cells": [
  {
   "cell_type": "markdown",
   "metadata": {},
   "source": [
    "# <center> Using the language R to access multiple GeoNet sites with GNSS data"
   ]
  },
  {
   "cell_type": "markdown",
   "metadata": {},
   "source": [
    "In this notebook we will make a map of GNSS(Global Navigation Satellite System) stations in an area, then retrieve the data from the station. By the end of this tutorial you will have maked a map of stations and graph the data from all these stations. <img src=\"map.png\"> <img src=\"plot.png\">"
   ]
  },
  {
   "cell_type": "markdown",
   "metadata": {},
   "source": [
    "## &nbsp; Table of contents"
   ]
  },
  {
   "cell_type": "markdown",
   "metadata": {},
   "source": [
    "### 1. Introduction\n",
    "### 2. Set Up \n",
    "### 3. Define Area of Interest\n",
    "### 4. Get Site Data\n",
    "### 5. Map Sites\n",
    "### 6. Get GNSS Data for All Sites in an Area\n",
    "### 7. Plot Data \n",
    "### 8. Save Data"
   ]
  },
  {
   "cell_type": "markdown",
   "metadata": {},
   "source": [
    "## &nbsp; 1. Introduction"
   ]
  },
  {
   "cell_type": "markdown",
   "metadata": {},
   "source": [
    "\n",
    "In this tutorial we will be learning how to use R to access GNSS (commonly referred to at GPS) data from the multiple continuous GNSS sites, in a selected area, in the GeoNet and PositioNZ networks. GeoNet has a API (Application Programming Interface) to access its GNSS data. You do not need to know anything about APIs to use this tutorial but if you would like more info see https://fits.geonet.org.nz/api-docs/."
   ]
  },
  {
   "cell_type": "markdown",
   "metadata": {},
   "source": [
    "R is a language made for statisticians by statisticians. It is an open source language which anyone can make a package for. This means that R has a lot of useful functions for all kinds of research."
   ]
  },
  {
   "cell_type": "markdown",
   "metadata": {},
   "source": [
    "This tutorial assumes that you have basic knowledge of the language R, but basic knowledge of any programming language should be sufficient to follow this tutorial."
   ]
  },
  {
   "cell_type": "markdown",
   "metadata": {},
   "source": [
    "All data will be saved into R as a data frame which is much like, what would be called, a dictionary in other languages, but with a few more restrictions to the data structure. To understand more about data frames go to https://www.rdocumentation.org/packages/base/versions/3.5.1/topics/data.frame"
   ]
  },
  {
   "cell_type": "markdown",
   "metadata": {},
   "source": [
    "We will also be using the packages geojsonR (https://cran.r-project.org/web/packages/geojsonR/geojsonR.pdf ) and maps (https://cran.r-project.org/web/packages/maps/maps.pdf )"
   ]
  },
  {
   "cell_type": "markdown",
   "metadata": {},
   "source": [
    "###### About Geonet GNSS data"
   ]
  },
  {
   "cell_type": "markdown",
   "metadata": {},
   "source": [
    "GeoNet uses GNSS technology to work out the precise positions of over 190 stations in and around NZ everyday. These positions are used to generate a displacement timeseries for each station so we can observe how much and how quickly each station moves. <br>\n",
    "This data has 3 components:\n",
    "<ul>\n",
    "    <li> The displacement in the east west direction where east is a positive displacement. This has a typeID of \"e\"\n",
    "    <li> The displacement in the north south direction where north is a positive displacement. This has a typeID of \"n\"\n",
    "    <li> The displacement in the up down direction where up is a positive displacement. This has a typeID of \"u\"</ul>\n",
    "For more on data types go to http://fits.geonet.org.nz/type (for best formatting use firefox) "
   ]
  },
  {
   "cell_type": "markdown",
   "metadata": {},
   "source": [
    "## &nbsp; 2. Set Up "
   ]
  },
  {
   "cell_type": "markdown",
   "metadata": {},
   "source": [
    "###### Install Packages"
   ]
  },
  {
   "cell_type": "code",
   "execution_count": null,
   "metadata": {},
   "outputs": [],
   "source": [
    "#install.packages(\"geojsonR\")\n",
    "#install.packages(\"maps\")\n",
    "#install.packages(\"mapdata\")"
   ]
  },
  {
   "cell_type": "markdown",
   "metadata": {},
   "source": [
    "If not using binder to run this code you will need run this ONCE in R to install `geojsonR` `maps` and `mapdata`"
   ]
  },
  {
   "cell_type": "markdown",
   "metadata": {},
   "source": [
    "###### Call libraries"
   ]
  },
  {
   "cell_type": "code",
   "execution_count": 2,
   "metadata": {},
   "outputs": [],
   "source": [
    "library(httr)\n",
    "library(geojsonR)\n",
    "library(maps)\n",
    "library(mapdata)"
   ]
  },
  {
   "cell_type": "markdown",
   "metadata": {},
   "source": [
    "The library `httr` (https://cran.r-project.org/web/packages/httr/vignettes/quickstart.html) is a base package of R and will not need to be imported. To find out more about `geojsonR` go to(https://cran.r-project.org/web/packages/geojsonR/geojsonR.pdf ) and to find more about `maps` go to (https://cran.r-project.org/web/packages/maps/maps.pdf ). `mapdata` is a library with more map data to find out more go to (https://cran.r-project.org/web/packages/mapdata/mapdata.pdf )"
   ]
  },
  {
   "cell_type": "markdown",
   "metadata": {},
   "source": [
    "###### Set URL"
   ]
  },
  {
   "cell_type": "code",
   "execution_count": 3,
   "metadata": {},
   "outputs": [],
   "source": [
    "base_url <- \"https://fits.geonet.org.nz/\"\n",
    "endpoint <- \"site\""
   ]
  },
  {
   "cell_type": "markdown",
   "metadata": {},
   "source": [
    "The base URL should be set as above, and the endpoint is set to site to get the site data. There are other endpoints which will return different information such as plot and observation. To learn more go to https://fits.geonet.org.nz/api-docs/."
   ]
  },
  {
   "cell_type": "markdown",
   "metadata": {},
   "source": [
    "###### Set data type"
   ]
  },
  {
   "cell_type": "code",
   "execution_count": 4,
   "metadata": {},
   "outputs": [],
   "source": [
    "type <- \"e\""
   ]
  },
  {
   "cell_type": "markdown",
   "metadata": {},
   "source": [
    "As we want to look for GNSS sites, we set type to one of the 3 data types for GNSS data: \"e\". ` type <- \"e\"` ,` type <- \"n\"` and `type <- \"u\"` will all give us the same sites, so either is acceptable."
   ]
  },
  {
   "cell_type": "markdown",
   "metadata": {},
   "source": [
    "## &nbsp; 3. Define an Area of Interest"
   ]
  },
  {
   "cell_type": "markdown",
   "metadata": {},
   "source": [
    "You can define you area of interest in the shape of any polygon. In this example we will be looking at a square as our polygon. "
   ]
  },
  {
   "cell_type": "markdown",
   "metadata": {},
   "source": [
    "###### To define the square we will set the centrepoint of the square first, then define its edges"
   ]
  },
  {
   "cell_type": "code",
   "execution_count": 5,
   "metadata": {},
   "outputs": [],
   "source": [
    "point_long <- 178\n",
    "point_lat <- -38.5\n",
    "box_size <- 1"
   ]
  },
  {
   "cell_type": "markdown",
   "metadata": {},
   "source": [
    "Define the longitude and latitude of the point of interest as well as how far out from that point you want to look (`box_size`) in. Here the north-east point of our box will be 177 long and -37.5 lat., i.e. one degree west and north of our centrepoint, respectively."
   ]
  },
  {
   "cell_type": "markdown",
   "metadata": {},
   "source": [
    "###### Set parameters for area of interest."
   ]
  },
  {
   "cell_type": "code",
   "execution_count": 6,
   "metadata": {},
   "outputs": [],
   "source": [
    "long_max<- point_long + box_size\n",
    "long_min<- point_long - box_size\n",
    "lat_max <- point_lat - box_size\n",
    "lat_min <- point_lat + box_size"
   ]
  },
  {
   "cell_type": "markdown",
   "metadata": {},
   "source": [
    "This set the 4 edge points of the box we will look for GNSS sites in."
   ]
  },
  {
   "cell_type": "markdown",
   "metadata": {},
   "source": [
    "###### Map the area in this box"
   ]
  },
  {
   "cell_type": "code",
   "execution_count": 7,
   "metadata": {},
   "outputs": [
    {
     "data": {
      "image/png": "[encoded data removed]",
      "text/plain": [
       "plot without title"
      ]
     },
     "metadata": {},
     "output_type": "display_data"
    }
   ],
   "source": [
    "map(\"nzHires\",xlim=c(long_min,long_max),ylim=c(lat_max,lat_min), fill=TRUE, col=\"lightgreen\")\n",
    "map.axes()"
   ]
  },
  {
   "cell_type": "markdown",
   "metadata": {},
   "source": [
    "This map shows all the area that will we will look for GNSS stations.  `xlim=c(long_min,long_max)` says that the x limits of the map will be the longitude limits. `ylim=c(lat_max,lat_min)` says that the y limits of the map will be the latitude limits. "
   ]
  },
  {
   "cell_type": "markdown",
   "metadata": {},
   "source": [
    "###### Make box"
   ]
  },
  {
   "cell_type": "code",
   "execution_count": 8,
   "metadata": {},
   "outputs": [],
   "source": [
    "ploy <- paste(long_max,\"+\",lat_max\n",
    "              ,\",\",long_max,\"+\",lat_min\n",
    "              ,\",\",long_min,\"+\",lat_min\n",
    "              ,\",\",long_min,\"+\",lat_max\n",
    "              ,\",\",long_max,\"+\",lat_max, sep=\"\")"
   ]
  },
  {
   "cell_type": "markdown",
   "metadata": {},
   "source": [
    "Here, we use the points worked out before to make a box that is formatted in the right way to put into our URL later"
   ]
  },
  {
   "cell_type": "markdown",
   "metadata": {},
   "source": [
    "## &nbsp; 4. Get Site Data"
   ]
  },
  {
   "cell_type": "markdown",
   "metadata": {},
   "source": [
    "###### Combine information to get full URL"
   ]
  },
  {
   "cell_type": "code",
   "execution_count": 9,
   "metadata": {},
   "outputs": [],
   "source": [
    "full_url <- paste(base_url,endpoint,\"?typeID=\",type,\"&within=POLYGON((\", ploy, \"))\", sep=\"\")"
   ]
  },
  {
   "cell_type": "markdown",
   "metadata": {},
   "source": [
    "Combine the information to make the full URL. sep=\"\" make sure there is no space between each piece of information. In this case you get the URL http://fits.geonet.org.nz/site?typeID=e&within=POLYGON((179.5+-39.5,179.5+-37.5,177.5+-37.5,177.5+-39.5,179.5+-39.5))"
   ]
  },
  {
   "cell_type": "markdown",
   "metadata": {},
   "source": [
    "###### Print URL"
   ]
  },
  {
   "cell_type": "code",
   "execution_count": 10,
   "metadata": {},
   "outputs": [
    {
     "data": {
      "text/html": [
       "'https://fits.geonet.org.nz/site?typeID=e&amp;within=POLYGON((179+-39.5,179+-37.5,177+-37.5,177+-39.5,179+-39.5))'"
      ],
      "text/latex": [
       "'https://fits.geonet.org.nz/site?typeID=e\\&within=POLYGON((179+-39.5,179+-37.5,177+-37.5,177+-39.5,179+-39.5))'"
      ],
      "text/markdown": [
       "'https://fits.geonet.org.nz/site?typeID=e&amp;within=POLYGON((179+-39.5,179+-37.5,177+-37.5,177+-39.5,179+-39.5))'"
      ],
      "text/plain": [
       "[1] \"https://fits.geonet.org.nz/site?typeID=e&within=POLYGON((179+-39.5,179+-37.5,177+-37.5,177+-39.5,179+-39.5))\""
      ]
     },
     "metadata": {},
     "output_type": "display_data"
    }
   ],
   "source": [
    "full_url"
   ]
  },
  {
   "cell_type": "markdown",
   "metadata": {},
   "source": [
    "You may use this to copy and past to open this page of data in your web browser or in different programming language"
   ]
  },
  {
   "cell_type": "markdown",
   "metadata": {},
   "source": [
    "###### Get sites"
   ]
  },
  {
   "cell_type": "code",
   "execution_count": 11,
   "metadata": {},
   "outputs": [],
   "source": [
    "allGNSSsites <- FROM_GeoJson(full_url)[[1]]"
   ]
  },
  {
   "cell_type": "markdown",
   "metadata": {},
   "source": [
    "Use `FROM_GeoJson` to get all the sites using the above URL. `[[1]]` is saying only look at the 1st row of data and is needed because all data is in the 1st row. `FROM_GeoJson` will also translate the data into a dataframe as the the data at the URL is in a format called JSON(JavaScript Object Notation) or more specifically GeoJSON(Geographical JavaScript Object Notation) http://geojson.org/"
   ]
  },
  {
   "cell_type": "markdown",
   "metadata": {},
   "source": [
    "###### See the number of sites"
   ]
  },
  {
   "cell_type": "code",
   "execution_count": 12,
   "metadata": {},
   "outputs": [
    {
     "data": {
      "text/html": [
       "'There are 28 sites in the the box of interest'"
      ],
      "text/latex": [
       "'There are 28 sites in the the box of interest'"
      ],
      "text/markdown": [
       "'There are 28 sites in the the box of interest'"
      ],
      "text/plain": [
       "[1] \"There are 28 sites in the the box of interest\""
      ]
     },
     "metadata": {},
     "output_type": "display_data"
    }
   ],
   "source": [
    "paste(\"There are\" , length(allGNSSsites), \"sites in the the box of interest\")"
   ]
  },
  {
   "cell_type": "markdown",
   "metadata": {},
   "source": [
    "We only want to know the site ID, name and longitude and latitude of each site so, make a new data frame will only this information in it."
   ]
  },
  {
   "cell_type": "markdown",
   "metadata": {},
   "source": [
    "###### Initialize this data frame"
   ]
  },
  {
   "cell_type": "code",
   "execution_count": 13,
   "metadata": {},
   "outputs": [],
   "source": [
    "sites <- data.frame(\"siteID\"= allGNSSsites[[1]]$properties$siteID,\n",
    "                \"longitude\" =allGNSSsites[[1]]$geometry$coordinate[1], \n",
    "                \"latitude\" =allGNSSsites[[1]]$geometry$coordinate[2],\n",
    "                \"name\"= allGNSSsites[[1]]$properties$name)"
   ]
  },
  {
   "cell_type": "markdown",
   "metadata": {},
   "source": [
    "Take the first `[[1]]` data point and extract the values for siteID, longitude and latitude. Then format this into a data frame"
   ]
  },
  {
   "cell_type": "markdown",
   "metadata": {},
   "source": [
    "###### Complete this data frame"
   ]
  },
  {
   "cell_type": "code",
   "execution_count": 14,
   "metadata": {},
   "outputs": [],
   "source": [
    "for (i in 2:length(allGNSSsites)){\n",
    "    temp <- data.frame(\"siteID\"=allGNSSsites[[i]]$properties$siteID, \n",
    "                      \"longitude\" =allGNSSsites[[i]]$geometry$coordinate[1], \n",
    "                      \"latitude\" =allGNSSsites[[i]]$geometry$coordinate[2],\n",
    "                      \"name\"= allGNSSsites[[i]]$properties$name)\n",
    "    sites <- rbind(sites, temp)\n",
    "}"
   ]
  },
  {
   "cell_type": "markdown",
   "metadata": {},
   "source": [
    "Do what was done for the first data point for each data point adding it to the data frame with `rbind`."
   ]
  },
  {
   "cell_type": "markdown",
   "metadata": {},
   "source": [
    "###### Print out this data frame"
   ]
  },
  {
   "cell_type": "code",
   "execution_count": 15,
   "metadata": {},
   "outputs": [
    {
     "data": {
      "text/html": [
       "<table>\n",
       "<thead><tr><th scope=col>siteID</th><th scope=col>longitude</th><th scope=col>latitude</th><th scope=col>name</th></tr></thead>\n",
       "<tbody>\n",
       "\t<tr><td>AHTI                     </td><td>178.0460                 </td><td>-38.41145                </td><td>Ahititi                  </td></tr>\n",
       "\t<tr><td>ANAU                     </td><td>178.2912                 </td><td>-38.26821                </td><td>Anaura Bay               </td></tr>\n",
       "\t<tr><td>CNST                     </td><td>178.2111                 </td><td>-38.48797                </td><td>Carnagh Station          </td></tr>\n",
       "\t<tr><td>FRTN                     </td><td>177.4099                 </td><td>-38.93930                </td><td>Frasertown               </td></tr>\n",
       "\t<tr><td>GISB                     </td><td>177.8860                 </td><td>-38.63534                </td><td>Gisborne                 </td></tr>\n",
       "\t<tr><td>HANA                     </td><td>177.5694                 </td><td>-38.68682                </td><td>Hangaroa                 </td></tr>\n",
       "\t<tr><td>HIKB                     </td><td>178.3034                 </td><td>-37.56104                </td><td>Hicks Bay                </td></tr>\n",
       "\t<tr><td>KOKO                     </td><td>177.6678                 </td><td>-39.01611                </td><td>Kokohu                   </td></tr>\n",
       "\t<tr><td>KUTA                     </td><td>177.0698                 </td><td>-39.17226                </td><td>Te Kuta                  </td></tr>\n",
       "\t<tr><td>MAHI                     </td><td>177.9070                 </td><td>-39.15256                </td><td>Mahia Peninsula          </td></tr>\n",
       "\t<tr><td>MAKO                     </td><td>178.1291                 </td><td>-38.64376                </td><td>Makorori                 </td></tr>\n",
       "\t<tr><td>MATW                     </td><td>177.5262                 </td><td>-38.33385                </td><td>Matawai                  </td></tr>\n",
       "\t<tr><td>OPTK                     </td><td>177.3076                 </td><td>-38.04652                </td><td>Opotiki                  </td></tr>\n",
       "\t<tr><td>PAKI                     </td><td>178.0826                 </td><td>-37.89398                </td><td>Pakihiroa                </td></tr>\n",
       "\t<tr><td>PARI                     </td><td>177.8833                 </td><td>-38.92257                </td><td>Paritu Road              </td></tr>\n",
       "\t<tr><td>PRTU                     </td><td>177.6979                 </td><td>-38.81419                </td><td>Paparatu                 </td></tr>\n",
       "\t<tr><td>PUKE                     </td><td>178.2574                 </td><td>-38.07141                </td><td>Puketiti                 </td></tr>\n",
       "\t<tr><td>RAHI                     </td><td>177.0861                 </td><td>-38.91618                </td><td>Arahi                    </td></tr>\n",
       "\t<tr><td>RAUM                     </td><td>177.6775                 </td><td>-37.96500                </td><td>Raukumara Range          </td></tr>\n",
       "\t<tr><td>RAWI                     </td><td>177.4154                 </td><td>-38.49556                </td><td>Rawiri                   </td></tr>\n",
       "\t<tr><td>RGWC                     </td><td>177.1925                 </td><td>-37.52434                </td><td>White Island Crater Floor</td></tr>\n",
       "\t<tr><td>RGWI                     </td><td>177.1778                 </td><td>-37.51808                </td><td>White Island Summit      </td></tr>\n",
       "\t<tr><td>SNST                     </td><td>177.3475                 </td><td>-38.77963                </td><td>Shannon Station          </td></tr>\n",
       "\t<tr><td>TAUW                     </td><td>178.0059                 </td><td>-38.16242                </td><td>Tauwhareparae            </td></tr>\n",
       "\t<tr><td>TKAR                     </td><td>177.8114                 </td><td>-38.43747                </td><td>Te Karaka                </td></tr>\n",
       "\t<tr><td>WAHU                     </td><td>177.2344                 </td><td>-39.07721                </td><td>Waihua                   </td></tr>\n",
       "\t<tr><td>WHKT                     </td><td>177.0139                 </td><td>-37.98169                </td><td>Whakatane                </td></tr>\n",
       "\t<tr><td>WMAT                     </td><td>178.4087                 </td><td>-37.82500                </td><td>Waiomatatini             </td></tr>\n",
       "</tbody>\n",
       "</table>\n"
      ],
      "text/latex": [
       "\\begin{tabular}{r|llll}\n",
       " siteID & longitude & latitude & name\\\\\n",
       "\\hline\n",
       "\t AHTI                      & 178.0460                  & -38.41145                 & Ahititi                  \\\\\n",
       "\t ANAU                      & 178.2912                  & -38.26821                 & Anaura Bay               \\\\\n",
       "\t CNST                      & 178.2111                  & -38.48797                 & Carnagh Station          \\\\\n",
       "\t FRTN                      & 177.4099                  & -38.93930                 & Frasertown               \\\\\n",
       "\t GISB                      & 177.8860                  & -38.63534                 & Gisborne                 \\\\\n",
       "\t HANA                      & 177.5694                  & -38.68682                 & Hangaroa                 \\\\\n",
       "\t HIKB                      & 178.3034                  & -37.56104                 & Hicks Bay                \\\\\n",
       "\t KOKO                      & 177.6678                  & -39.01611                 & Kokohu                   \\\\\n",
       "\t KUTA                      & 177.0698                  & -39.17226                 & Te Kuta                  \\\\\n",
       "\t MAHI                      & 177.9070                  & -39.15256                 & Mahia Peninsula          \\\\\n",
       "\t MAKO                      & 178.1291                  & -38.64376                 & Makorori                 \\\\\n",
       "\t MATW                      & 177.5262                  & -38.33385                 & Matawai                  \\\\\n",
       "\t OPTK                      & 177.3076                  & -38.04652                 & Opotiki                  \\\\\n",
       "\t PAKI                      & 178.0826                  & -37.89398                 & Pakihiroa                \\\\\n",
       "\t PARI                      & 177.8833                  & -38.92257                 & Paritu Road              \\\\\n",
       "\t PRTU                      & 177.6979                  & -38.81419                 & Paparatu                 \\\\\n",
       "\t PUKE                      & 178.2574                  & -38.07141                 & Puketiti                 \\\\\n",
       "\t RAHI                      & 177.0861                  & -38.91618                 & Arahi                    \\\\\n",
       "\t RAUM                      & 177.6775                  & -37.96500                 & Raukumara Range          \\\\\n",
       "\t RAWI                      & 177.4154                  & -38.49556                 & Rawiri                   \\\\\n",
       "\t RGWC                      & 177.1925                  & -37.52434                 & White Island Crater Floor\\\\\n",
       "\t RGWI                      & 177.1778                  & -37.51808                 & White Island Summit      \\\\\n",
       "\t SNST                      & 177.3475                  & -38.77963                 & Shannon Station          \\\\\n",
       "\t TAUW                      & 178.0059                  & -38.16242                 & Tauwhareparae            \\\\\n",
       "\t TKAR                      & 177.8114                  & -38.43747                 & Te Karaka                \\\\\n",
       "\t WAHU                      & 177.2344                  & -39.07721                 & Waihua                   \\\\\n",
       "\t WHKT                      & 177.0139                  & -37.98169                 & Whakatane                \\\\\n",
       "\t WMAT                      & 178.4087                  & -37.82500                 & Waiomatatini             \\\\\n",
       "\\end{tabular}\n"
      ],
      "text/markdown": [
       "\n",
       "siteID | longitude | latitude | name | \n",
       "|---|---|---|---|---|---|---|---|---|---|---|---|---|---|---|---|---|---|---|---|---|---|---|---|---|---|---|---|\n",
       "| AHTI                      | 178.0460                  | -38.41145                 | Ahititi                   | \n",
       "| ANAU                      | 178.2912                  | -38.26821                 | Anaura Bay                | \n",
       "| CNST                      | 178.2111                  | -38.48797                 | Carnagh Station           | \n",
       "| FRTN                      | 177.4099                  | -38.93930                 | Frasertown                | \n",
       "| GISB                      | 177.8860                  | -38.63534                 | Gisborne                  | \n",
       "| HANA                      | 177.5694                  | -38.68682                 | Hangaroa                  | \n",
       "| HIKB                      | 178.3034                  | -37.56104                 | Hicks Bay                 | \n",
       "| KOKO                      | 177.6678                  | -39.01611                 | Kokohu                    | \n",
       "| KUTA                      | 177.0698                  | -39.17226                 | Te Kuta                   | \n",
       "| MAHI                      | 177.9070                  | -39.15256                 | Mahia Peninsula           | \n",
       "| MAKO                      | 178.1291                  | -38.64376                 | Makorori                  | \n",
       "| MATW                      | 177.5262                  | -38.33385                 | Matawai                   | \n",
       "| OPTK                      | 177.3076                  | -38.04652                 | Opotiki                   | \n",
       "| PAKI                      | 178.0826                  | -37.89398                 | Pakihiroa                 | \n",
       "| PARI                      | 177.8833                  | -38.92257                 | Paritu Road               | \n",
       "| PRTU                      | 177.6979                  | -38.81419                 | Paparatu                  | \n",
       "| PUKE                      | 178.2574                  | -38.07141                 | Puketiti                  | \n",
       "| RAHI                      | 177.0861                  | -38.91618                 | Arahi                     | \n",
       "| RAUM                      | 177.6775                  | -37.96500                 | Raukumara Range           | \n",
       "| RAWI                      | 177.4154                  | -38.49556                 | Rawiri                    | \n",
       "| RGWC                      | 177.1925                  | -37.52434                 | White Island Crater Floor | \n",
       "| RGWI                      | 177.1778                  | -37.51808                 | White Island Summit       | \n",
       "| SNST                      | 177.3475                  | -38.77963                 | Shannon Station           | \n",
       "| TAUW                      | 178.0059                  | -38.16242                 | Tauwhareparae             | \n",
       "| TKAR                      | 177.8114                  | -38.43747                 | Te Karaka                 | \n",
       "| WAHU                      | 177.2344                  | -39.07721                 | Waihua                    | \n",
       "| WHKT                      | 177.0139                  | -37.98169                 | Whakatane                 | \n",
       "| WMAT                      | 178.4087                  | -37.82500                 | Waiomatatini              | \n",
       "\n",
       "\n"
      ],
      "text/plain": [
       "   siteID longitude latitude  name                     \n",
       "1  AHTI   178.0460  -38.41145 Ahititi                  \n",
       "2  ANAU   178.2912  -38.26821 Anaura Bay               \n",
       "3  CNST   178.2111  -38.48797 Carnagh Station          \n",
       "4  FRTN   177.4099  -38.93930 Frasertown               \n",
       "5  GISB   177.8860  -38.63534 Gisborne                 \n",
       "6  HANA   177.5694  -38.68682 Hangaroa                 \n",
       "7  HIKB   178.3034  -37.56104 Hicks Bay                \n",
       "8  KOKO   177.6678  -39.01611 Kokohu                   \n",
       "9  KUTA   177.0698  -39.17226 Te Kuta                  \n",
       "10 MAHI   177.9070  -39.15256 Mahia Peninsula          \n",
       "11 MAKO   178.1291  -38.64376 Makorori                 \n",
       "12 MATW   177.5262  -38.33385 Matawai                  \n",
       "13 OPTK   177.3076  -38.04652 Opotiki                  \n",
       "14 PAKI   178.0826  -37.89398 Pakihiroa                \n",
       "15 PARI   177.8833  -38.92257 Paritu Road              \n",
       "16 PRTU   177.6979  -38.81419 Paparatu                 \n",
       "17 PUKE   178.2574  -38.07141 Puketiti                 \n",
       "18 RAHI   177.0861  -38.91618 Arahi                    \n",
       "19 RAUM   177.6775  -37.96500 Raukumara Range          \n",
       "20 RAWI   177.4154  -38.49556 Rawiri                   \n",
       "21 RGWC   177.1925  -37.52434 White Island Crater Floor\n",
       "22 RGWI   177.1778  -37.51808 White Island Summit      \n",
       "23 SNST   177.3475  -38.77963 Shannon Station          \n",
       "24 TAUW   178.0059  -38.16242 Tauwhareparae            \n",
       "25 TKAR   177.8114  -38.43747 Te Karaka                \n",
       "26 WAHU   177.2344  -39.07721 Waihua                   \n",
       "27 WHKT   177.0139  -37.98169 Whakatane                \n",
       "28 WMAT   178.4087  -37.82500 Waiomatatini             "
      ]
     },
     "metadata": {},
     "output_type": "display_data"
    }
   ],
   "source": [
    "sites[]"
   ]
  },
  {
   "cell_type": "markdown",
   "metadata": {},
   "source": [
    "## &nbsp; 5. Map Sites"
   ]
  },
  {
   "cell_type": "markdown",
   "metadata": {},
   "source": [
    "###### Plot the map with x,y parameters"
   ]
  },
  {
   "cell_type": "code",
   "execution_count": 16,
   "metadata": {},
   "outputs": [
    {
     "data": {
      "image/png": "[encoded data removed]",
      "text/plain": [
       "plot without title"
      ]
     },
     "metadata": {},
     "output_type": "display_data"
    }
   ],
   "source": [
    "map(\"nzHires\",xlim=c(long_min,long_max),ylim=c(lat_max,lat_min), fill=TRUE, col=\"lightgreen\")\n",
    "points(sites$longitude, sites$latitude, pch=17, cex=1.3, col='red')\n",
    "labels <- paste(sites$siteID)\n",
    "text(sites$longitude, sites$latitude, labels=labels, cex=.9, pos=4)\n",
    "map.axes()"
   ]
  },
  {
   "cell_type": "markdown",
   "metadata": {},
   "source": [
    "The function `map` makes the base map. The function `points` makes a point for each site.\n",
    "    The point is given an x,y coordinate of its longitude and latitude.\n",
    "    The function`pch` say what shape will be plotted ,`pch=17` say the shape will be triangle with its centre on the point.\n",
    "    The function `cex` say the size of the shape will be.\n",
    "    The label is the siteID and `pos=4` says it will to the right of the point.\n",
    "If you right click on this plot in the notebook you can save it. \n",
    "For more about what you can do with maps go to http://www.geog.uoregon.edu/GeogR/ or run `library(help =\"maps\")`"
   ]
  },
  {
   "cell_type": "markdown",
   "metadata": {},
   "source": [
    "## &nbsp; 6. Get GNSS Data for All Sites in an Area"
   ]
  },
  {
   "cell_type": "markdown",
   "metadata": {},
   "source": [
    "###### Make a function that will take a siteID and return a data frame with east, north and up displacement data from that site."
   ]
  },
  {
   "cell_type": "code",
   "execution_count": 17,
   "metadata": {},
   "outputs": [],
   "source": [
    "get_gnss<- function(site){\n",
    "    # This function takes a site ID as a string\n",
    "    # and returns a dataframe with all the observation data for that site\n",
    "    \n",
    "    #Set up\n",
    "    base_url <- \"http://fits.geonet.org.nz/\"\n",
    "    endpoint <- \"observation\"\n",
    "    \n",
    "    #Get East Data\n",
    "    type <- \"e\"\n",
    "    full_url <- paste(base_url,endpoint,\"?typeID=\",type,\"&siteID=\",site, sep=\"\")\n",
    "    east <- GET(full_url)\n",
    "    \n",
    "    #Get North Data\n",
    "    type <- \"n\"\n",
    "    full_url <- paste(base_url,endpoint,\"?typeID=\",type,\"&siteID=\",site, sep=\"\")\n",
    "    north <- GET(full_url)\n",
    "    \n",
    "    #Get Up Data\n",
    "    type <- \"u\"\n",
    "    full_url <- paste(base_url,endpoint,\"?typeID=\",type,\"&siteID=\",site, sep=\"\")\n",
    "    up <- GET(full_url)\n",
    "    \n",
    "    #Unpack data into data frames\n",
    "    df_e <- content(east, encoding =\"UTF-8\")\n",
    "    df_n <- content(north, encoding =\"UTF-8\")\n",
    "    df_u <- content(up, encoding =\"UTF-8\")\n",
    "    \n",
    "    # Make into one data frame\n",
    "    new_df <- data.frame(\n",
    "    df_e$'date-time', \n",
    "    df_e$'e (mm)', \n",
    "    df_n$'n (mm)',\n",
    "    df_u$'u (mm)')\n",
    "    colnames(new_df) = c(\"date-time\", \"e (mm)\", 'n (mm)','u (mm)')\n",
    "    \n",
    "    # Return data frame\n",
    "    return(new_df)\n",
    "}"
   ]
  },
  {
   "cell_type": "markdown",
   "metadata": {},
   "source": [
    "This function takes a siteID are retunes a dataframe that has all the the displacement data from that GNSS site. e.g <img src=\"eg.png\">\n",
    "For more on the code in this function go to the notebook Introduction_to_GNSS_data_using_FITS_in_R https://github.com/GeoNet/data-tutorials/blob/master/GNSS_Data/R/Introduction_to_GNSS_data_using_FITS_in_R.ipynb."
   ]
  },
  {
   "cell_type": "markdown",
   "metadata": {},
   "source": [
    "###### Run above function on all sites in our dataframe"
   ]
  },
  {
   "cell_type": "code",
   "execution_count": 18,
   "metadata": {},
   "outputs": [
    {
     "name": "stderr",
     "output_type": "stream",
     "text": [
      "Parsed with column specification:\n",
      "cols(\n",
      "  `date-time` = col_datetime(format = \"\"),\n",
      "  `e (mm)` = col_double(),\n",
      "  `error (mm)` = col_double()\n",
      ")\n",
      "Parsed with column specification:\n",
      "cols(\n",
      "  `date-time` = col_datetime(format = \"\"),\n",
      "  `n (mm)` = col_double(),\n",
      "  `error (mm)` = col_double()\n",
      ")\n",
      "Parsed with column specification:\n",
      "cols(\n",
      "  `date-time` = col_datetime(format = \"\"),\n",
      "  `u (mm)` = col_double(),\n",
      "  `error (mm)` = col_double()\n",
      ")\n",
      "Parsed with column specification:\n",
      "cols(\n",
      "  `date-time` = col_datetime(format = \"\"),\n",
      "  `e (mm)` = col_double(),\n",
      "  `error (mm)` = col_double()\n",
      ")\n",
      "Parsed with column specification:\n",
      "cols(\n",
      "  `date-time` = col_datetime(format = \"\"),\n",
      "  `n (mm)` = col_double(),\n",
      "  `error (mm)` = col_double()\n",
      ")\n",
      "Parsed with column specification:\n",
      "cols(\n",
      "  `date-time` = col_datetime(format = \"\"),\n",
      "  `u (mm)` = col_double(),\n",
      "  `error (mm)` = col_double()\n",
      ")\n",
      "Parsed with column specification:\n",
      "cols(\n",
      "  `date-time` = col_datetime(format = \"\"),\n",
      "  `e (mm)` = col_double(),\n",
      "  `error (mm)` = col_double()\n",
      ")\n",
      "Parsed with column specification:\n",
      "cols(\n",
      "  `date-time` = col_datetime(format = \"\"),\n",
      "  `n (mm)` = col_double(),\n",
      "  `error (mm)` = col_double()\n",
      ")\n",
      "Parsed with column specification:\n",
      "cols(\n",
      "  `date-time` = col_datetime(format = \"\"),\n",
      "  `u (mm)` = col_double(),\n",
      "  `error (mm)` = col_double()\n",
      ")\n",
      "Parsed with column specification:\n",
      "cols(\n",
      "  `date-time` = col_datetime(format = \"\"),\n",
      "  `e (mm)` = col_double(),\n",
      "  `error (mm)` = col_double()\n",
      ")\n",
      "Parsed with column specification:\n",
      "cols(\n",
      "  `date-time` = col_datetime(format = \"\"),\n",
      "  `n (mm)` = col_double(),\n",
      "  `error (mm)` = col_double()\n",
      ")\n",
      "Parsed with column specification:\n",
      "cols(\n",
      "  `date-time` = col_datetime(format = \"\"),\n",
      "  `u (mm)` = col_double(),\n",
      "  `error (mm)` = col_double()\n",
      ")\n",
      "Parsed with column specification:\n",
      "cols(\n",
      "  `date-time` = col_datetime(format = \"\"),\n",
      "  `e (mm)` = col_double(),\n",
      "  `error (mm)` = col_double()\n",
      ")\n",
      "Parsed with column specification:\n",
      "cols(\n",
      "  `date-time` = col_datetime(format = \"\"),\n",
      "  `n (mm)` = col_double(),\n",
      "  `error (mm)` = col_double()\n",
      ")\n",
      "Parsed with column specification:\n",
      "cols(\n",
      "  `date-time` = col_datetime(format = \"\"),\n",
      "  `u (mm)` = col_double(),\n",
      "  `error (mm)` = col_double()\n",
      ")\n",
      "Parsed with column specification:\n",
      "cols(\n",
      "  `date-time` = col_datetime(format = \"\"),\n",
      "  `e (mm)` = col_double(),\n",
      "  `error (mm)` = col_double()\n",
      ")\n",
      "Parsed with column specification:\n",
      "cols(\n",
      "  `date-time` = col_datetime(format = \"\"),\n",
      "  `n (mm)` = col_double(),\n",
      "  `error (mm)` = col_double()\n",
      ")\n",
      "Parsed with column specification:\n",
      "cols(\n",
      "  `date-time` = col_datetime(format = \"\"),\n",
      "  `u (mm)` = col_double(),\n",
      "  `error (mm)` = col_double()\n",
      ")\n",
      "Parsed with column specification:\n",
      "cols(\n",
      "  `date-time` = col_datetime(format = \"\"),\n",
      "  `e (mm)` = col_double(),\n",
      "  `error (mm)` = col_double()\n",
      ")\n",
      "Parsed with column specification:\n",
      "cols(\n",
      "  `date-time` = col_datetime(format = \"\"),\n",
      "  `n (mm)` = col_double(),\n",
      "  `error (mm)` = col_double()\n",
      ")\n",
      "Parsed with column specification:\n",
      "cols(\n",
      "  `date-time` = col_datetime(format = \"\"),\n",
      "  `u (mm)` = col_double(),\n",
      "  `error (mm)` = col_double()\n",
      ")\n",
      "Parsed with column specification:\n",
      "cols(\n",
      "  `date-time` = col_datetime(format = \"\"),\n",
      "  `e (mm)` = col_double(),\n",
      "  `error (mm)` = col_double()\n",
      ")\n",
      "Parsed with column specification:\n",
      "cols(\n",
      "  `date-time` = col_datetime(format = \"\"),\n",
      "  `n (mm)` = col_double(),\n",
      "  `error (mm)` = col_double()\n",
      ")\n",
      "Parsed with column specification:\n",
      "cols(\n",
      "  `date-time` = col_datetime(format = \"\"),\n",
      "  `u (mm)` = col_double(),\n",
      "  `error (mm)` = col_double()\n",
      ")\n",
      "Parsed with column specification:\n",
      "cols(\n",
      "  `date-time` = col_datetime(format = \"\"),\n",
      "  `e (mm)` = col_double(),\n",
      "  `error (mm)` = col_double()\n",
      ")\n",
      "Parsed with column specification:\n",
      "cols(\n",
      "  `date-time` = col_datetime(format = \"\"),\n",
      "  `n (mm)` = col_double(),\n",
      "  `error (mm)` = col_double()\n",
      ")\n",
      "Parsed with column specification:\n",
      "cols(\n",
      "  `date-time` = col_datetime(format = \"\"),\n",
      "  `u (mm)` = col_double(),\n",
      "  `error (mm)` = col_double()\n",
      ")\n",
      "Parsed with column specification:\n",
      "cols(\n",
      "  `date-time` = col_datetime(format = \"\"),\n",
      "  `e (mm)` = col_double(),\n",
      "  `error (mm)` = col_double()\n",
      ")\n",
      "Parsed with column specification:\n",
      "cols(\n",
      "  `date-time` = col_datetime(format = \"\"),\n",
      "  `n (mm)` = col_double(),\n",
      "  `error (mm)` = col_double()\n",
      ")\n",
      "Parsed with column specification:\n",
      "cols(\n",
      "  `date-time` = col_datetime(format = \"\"),\n",
      "  `u (mm)` = col_double(),\n",
      "  `error (mm)` = col_double()\n",
      ")\n",
      "Parsed with column specification:\n",
      "cols(\n",
      "  `date-time` = col_datetime(format = \"\"),\n",
      "  `e (mm)` = col_double(),\n",
      "  `error (mm)` = col_double()\n",
      ")\n",
      "Parsed with column specification:\n",
      "cols(\n",
      "  `date-time` = col_datetime(format = \"\"),\n",
      "  `n (mm)` = col_double(),\n",
      "  `error (mm)` = col_double()\n",
      ")\n",
      "Parsed with column specification:\n",
      "cols(\n",
      "  `date-time` = col_datetime(format = \"\"),\n",
      "  `u (mm)` = col_double(),\n",
      "  `error (mm)` = col_double()\n",
      ")\n",
      "Parsed with column specification:\n",
      "cols(\n",
      "  `date-time` = col_datetime(format = \"\"),\n",
      "  `e (mm)` = col_double(),\n",
      "  `error (mm)` = col_double()\n",
      ")\n",
      "Parsed with column specification:\n",
      "cols(\n",
      "  `date-time` = col_datetime(format = \"\"),\n",
      "  `n (mm)` = col_double(),\n",
      "  `error (mm)` = col_double()\n",
      ")\n",
      "Parsed with column specification:\n",
      "cols(\n",
      "  `date-time` = col_datetime(format = \"\"),\n",
      "  `u (mm)` = col_double(),\n",
      "  `error (mm)` = col_double()\n",
      ")\n",
      "Parsed with column specification:\n",
      "cols(\n",
      "  `date-time` = col_datetime(format = \"\"),\n",
      "  `e (mm)` = col_double(),\n",
      "  `error (mm)` = col_double()\n",
      ")\n",
      "Parsed with column specification:\n",
      "cols(\n",
      "  `date-time` = col_datetime(format = \"\"),\n",
      "  `n (mm)` = col_double(),\n",
      "  `error (mm)` = col_double()\n",
      ")\n",
      "Parsed with column specification:\n",
      "cols(\n",
      "  `date-time` = col_datetime(format = \"\"),\n",
      "  `u (mm)` = col_double(),\n",
      "  `error (mm)` = col_double()\n",
      ")\n",
      "Parsed with column specification:\n",
      "cols(\n",
      "  `date-time` = col_datetime(format = \"\"),\n",
      "  `e (mm)` = col_double(),\n",
      "  `error (mm)` = col_double()\n",
      ")\n",
      "Parsed with column specification:\n",
      "cols(\n",
      "  `date-time` = col_datetime(format = \"\"),\n",
      "  `n (mm)` = col_double(),\n",
      "  `error (mm)` = col_double()\n",
      ")\n",
      "Parsed with column specification:\n",
      "cols(\n",
      "  `date-time` = col_datetime(format = \"\"),\n",
      "  `u (mm)` = col_double(),\n",
      "  `error (mm)` = col_double()\n",
      ")\n",
      "Parsed with column specification:\n",
      "cols(\n",
      "  `date-time` = col_datetime(format = \"\"),\n",
      "  `e (mm)` = col_double(),\n",
      "  `error (mm)` = col_double()\n",
      ")\n",
      "Parsed with column specification:\n",
      "cols(\n",
      "  `date-time` = col_datetime(format = \"\"),\n",
      "  `n (mm)` = col_double(),\n",
      "  `error (mm)` = col_double()\n",
      ")\n",
      "Parsed with column specification:\n",
      "cols(\n",
      "  `date-time` = col_datetime(format = \"\"),\n",
      "  `u (mm)` = col_double(),\n",
      "  `error (mm)` = col_double()\n",
      ")\n",
      "Parsed with column specification:\n",
      "cols(\n",
      "  `date-time` = col_datetime(format = \"\"),\n",
      "  `e (mm)` = col_double(),\n",
      "  `error (mm)` = col_double()\n",
      ")\n",
      "Parsed with column specification:\n",
      "cols(\n",
      "  `date-time` = col_datetime(format = \"\"),\n",
      "  `n (mm)` = col_double(),\n",
      "  `error (mm)` = col_double()\n",
      ")\n",
      "Parsed with column specification:\n",
      "cols(\n",
      "  `date-time` = col_datetime(format = \"\"),\n",
      "  `u (mm)` = col_double(),\n",
      "  `error (mm)` = col_double()\n",
      ")\n",
      "Parsed with column specification:\n",
      "cols(\n",
      "  `date-time` = col_datetime(format = \"\"),\n",
      "  `e (mm)` = col_double(),\n",
      "  `error (mm)` = col_double()\n",
      ")\n",
      "Parsed with column specification:\n",
      "cols(\n",
      "  `date-time` = col_datetime(format = \"\"),\n",
      "  `n (mm)` = col_double(),\n",
      "  `error (mm)` = col_double()\n",
      ")\n",
      "Parsed with column specification:\n",
      "cols(\n",
      "  `date-time` = col_datetime(format = \"\"),\n",
      "  `u (mm)` = col_double(),\n",
      "  `error (mm)` = col_double()\n",
      ")\n",
      "Parsed with column specification:\n",
      "cols(\n",
      "  `date-time` = col_datetime(format = \"\"),\n",
      "  `e (mm)` = col_double(),\n",
      "  `error (mm)` = col_double()\n",
      ")\n",
      "Parsed with column specification:\n",
      "cols(\n",
      "  `date-time` = col_datetime(format = \"\"),\n",
      "  `n (mm)` = col_double(),\n",
      "  `error (mm)` = col_double()\n",
      ")\n",
      "Parsed with column specification:\n",
      "cols(\n",
      "  `date-time` = col_datetime(format = \"\"),\n",
      "  `u (mm)` = col_double(),\n",
      "  `error (mm)` = col_double()\n",
      ")\n",
      "Parsed with column specification:\n",
      "cols(\n",
      "  `date-time` = col_datetime(format = \"\"),\n",
      "  `e (mm)` = col_double(),\n",
      "  `error (mm)` = col_double()\n",
      ")\n",
      "Parsed with column specification:\n",
      "cols(\n",
      "  `date-time` = col_datetime(format = \"\"),\n",
      "  `n (mm)` = col_double(),\n",
      "  `error (mm)` = col_double()\n",
      ")\n",
      "Parsed with column specification:\n",
      "cols(\n",
      "  `date-time` = col_datetime(format = \"\"),\n",
      "  `u (mm)` = col_double(),\n",
      "  `error (mm)` = col_double()\n",
      ")\n",
      "Parsed with column specification:\n",
      "cols(\n",
      "  `date-time` = col_datetime(format = \"\"),\n",
      "  `e (mm)` = col_double(),\n",
      "  `error (mm)` = col_double()\n",
      ")\n"
     ]
    },
    {
     "name": "stderr",
     "output_type": "stream",
     "text": [
      "Parsed with column specification:\n",
      "cols(\n",
      "  `date-time` = col_datetime(format = \"\"),\n",
      "  `n (mm)` = col_double(),\n",
      "  `error (mm)` = col_double()\n",
      ")\n",
      "Parsed with column specification:\n",
      "cols(\n",
      "  `date-time` = col_datetime(format = \"\"),\n",
      "  `u (mm)` = col_double(),\n",
      "  `error (mm)` = col_double()\n",
      ")\n",
      "Parsed with column specification:\n",
      "cols(\n",
      "  `date-time` = col_datetime(format = \"\"),\n",
      "  `e (mm)` = col_double(),\n",
      "  `error (mm)` = col_double()\n",
      ")\n",
      "Parsed with column specification:\n",
      "cols(\n",
      "  `date-time` = col_datetime(format = \"\"),\n",
      "  `n (mm)` = col_double(),\n",
      "  `error (mm)` = col_double()\n",
      ")\n",
      "Parsed with column specification:\n",
      "cols(\n",
      "  `date-time` = col_datetime(format = \"\"),\n",
      "  `u (mm)` = col_double(),\n",
      "  `error (mm)` = col_double()\n",
      ")\n",
      "Parsed with column specification:\n",
      "cols(\n",
      "  `date-time` = col_datetime(format = \"\"),\n",
      "  `e (mm)` = col_double(),\n",
      "  `error (mm)` = col_double()\n",
      ")\n",
      "Parsed with column specification:\n",
      "cols(\n",
      "  `date-time` = col_datetime(format = \"\"),\n",
      "  `n (mm)` = col_double(),\n",
      "  `error (mm)` = col_double()\n",
      ")\n",
      "Parsed with column specification:\n",
      "cols(\n",
      "  `date-time` = col_datetime(format = \"\"),\n",
      "  `u (mm)` = col_double(),\n",
      "  `error (mm)` = col_double()\n",
      ")\n",
      "Parsed with column specification:\n",
      "cols(\n",
      "  `date-time` = col_datetime(format = \"\"),\n",
      "  `e (mm)` = col_double(),\n",
      "  `error (mm)` = col_double()\n",
      ")\n",
      "Parsed with column specification:\n",
      "cols(\n",
      "  `date-time` = col_datetime(format = \"\"),\n",
      "  `n (mm)` = col_double(),\n",
      "  `error (mm)` = col_double()\n",
      ")\n",
      "Parsed with column specification:\n",
      "cols(\n",
      "  `date-time` = col_datetime(format = \"\"),\n",
      "  `u (mm)` = col_double(),\n",
      "  `error (mm)` = col_double()\n",
      ")\n",
      "Parsed with column specification:\n",
      "cols(\n",
      "  `date-time` = col_datetime(format = \"\"),\n",
      "  `e (mm)` = col_double(),\n",
      "  `error (mm)` = col_double()\n",
      ")\n",
      "Parsed with column specification:\n",
      "cols(\n",
      "  `date-time` = col_datetime(format = \"\"),\n",
      "  `n (mm)` = col_double(),\n",
      "  `error (mm)` = col_double()\n",
      ")\n",
      "Parsed with column specification:\n",
      "cols(\n",
      "  `date-time` = col_datetime(format = \"\"),\n",
      "  `u (mm)` = col_double(),\n",
      "  `error (mm)` = col_double()\n",
      ")\n",
      "Parsed with column specification:\n",
      "cols(\n",
      "  `date-time` = col_datetime(format = \"\"),\n",
      "  `e (mm)` = col_double(),\n",
      "  `error (mm)` = col_double()\n",
      ")\n",
      "Parsed with column specification:\n",
      "cols(\n",
      "  `date-time` = col_datetime(format = \"\"),\n",
      "  `n (mm)` = col_double(),\n",
      "  `error (mm)` = col_double()\n",
      ")\n",
      "Parsed with column specification:\n",
      "cols(\n",
      "  `date-time` = col_datetime(format = \"\"),\n",
      "  `u (mm)` = col_double(),\n",
      "  `error (mm)` = col_double()\n",
      ")\n",
      "Parsed with column specification:\n",
      "cols(\n",
      "  `date-time` = col_datetime(format = \"\"),\n",
      "  `e (mm)` = col_double(),\n",
      "  `error (mm)` = col_double()\n",
      ")\n",
      "Parsed with column specification:\n",
      "cols(\n",
      "  `date-time` = col_datetime(format = \"\"),\n",
      "  `n (mm)` = col_double(),\n",
      "  `error (mm)` = col_double()\n",
      ")\n",
      "Parsed with column specification:\n",
      "cols(\n",
      "  `date-time` = col_datetime(format = \"\"),\n",
      "  `u (mm)` = col_double(),\n",
      "  `error (mm)` = col_double()\n",
      ")\n",
      "Parsed with column specification:\n",
      "cols(\n",
      "  `date-time` = col_datetime(format = \"\"),\n",
      "  `e (mm)` = col_double(),\n",
      "  `error (mm)` = col_double()\n",
      ")\n",
      "Parsed with column specification:\n",
      "cols(\n",
      "  `date-time` = col_datetime(format = \"\"),\n",
      "  `n (mm)` = col_double(),\n",
      "  `error (mm)` = col_double()\n",
      ")\n",
      "Parsed with column specification:\n",
      "cols(\n",
      "  `date-time` = col_datetime(format = \"\"),\n",
      "  `u (mm)` = col_double(),\n",
      "  `error (mm)` = col_double()\n",
      ")\n",
      "Parsed with column specification:\n",
      "cols(\n",
      "  `date-time` = col_datetime(format = \"\"),\n",
      "  `e (mm)` = col_double(),\n",
      "  `error (mm)` = col_double()\n",
      ")\n",
      "Parsed with column specification:\n",
      "cols(\n",
      "  `date-time` = col_datetime(format = \"\"),\n",
      "  `n (mm)` = col_double(),\n",
      "  `error (mm)` = col_double()\n",
      ")\n",
      "Parsed with column specification:\n",
      "cols(\n",
      "  `date-time` = col_datetime(format = \"\"),\n",
      "  `u (mm)` = col_double(),\n",
      "  `error (mm)` = col_double()\n",
      ")\n"
     ]
    }
   ],
   "source": [
    "data <- list()\n",
    "for (i in 1:nrow(sites)){ #For each site\n",
    "    #run the above function on that site, adding the output to the list. \n",
    "    data[[levels(sites$siteID[1])[i]]]<-get_gnss(levels(sites$siteID[1])[i])\n",
    "    }"
   ]
  },
  {
   "cell_type": "markdown",
   "metadata": {},
   "source": [
    "`data <- list()` initialize a list to save each sites dataframe of data in. The list of sites is then looped over and have the above function run on them, whith the result being saved into the list data with the name of the site."
   ]
  },
  {
   "cell_type": "markdown",
   "metadata": {},
   "source": [
    "We now have the data for all sites on the map made in part 5. To call the data from the site use `data[[“siteID”]]` e.g. "
   ]
  },
  {
   "cell_type": "code",
   "execution_count": 23,
   "metadata": {},
   "outputs": [
    {
     "data": {
      "text/html": [
       "<table>\n",
       "<thead><tr><th scope=col>date-time</th><th scope=col>e (mm)</th><th scope=col>n (mm)</th><th scope=col>u (mm)</th></tr></thead>\n",
       "<tbody>\n",
       "\t<tr><td>2009-06-11 11:59:00</td><td> -9.03             </td><td>-90.27             </td><td>-5.92              </td></tr>\n",
       "\t<tr><td>2009-06-12 11:59:00</td><td>-12.75             </td><td>-92.38             </td><td>-5.43              </td></tr>\n",
       "\t<tr><td>2009-06-13 11:59:00</td><td> -9.90             </td><td>-90.22             </td><td>-5.93              </td></tr>\n",
       "\t<tr><td>2009-06-14 11:59:00</td><td>-10.62             </td><td>-90.52             </td><td>-3.33              </td></tr>\n",
       "\t<tr><td>2009-06-15 11:59:00</td><td>-10.09             </td><td>-92.13             </td><td>-1.20              </td></tr>\n",
       "\t<tr><td>2009-06-16 11:59:00</td><td>-10.85             </td><td>-90.05             </td><td>-4.32              </td></tr>\n",
       "</tbody>\n",
       "</table>\n"
      ],
      "text/latex": [
       "\\begin{tabular}{r|llll}\n",
       " date-time & e (mm) & n (mm) & u (mm)\\\\\n",
       "\\hline\n",
       "\t 2009-06-11 11:59:00 &  -9.03              & -90.27              & -5.92              \\\\\n",
       "\t 2009-06-12 11:59:00 & -12.75              & -92.38              & -5.43              \\\\\n",
       "\t 2009-06-13 11:59:00 &  -9.90              & -90.22              & -5.93              \\\\\n",
       "\t 2009-06-14 11:59:00 & -10.62              & -90.52              & -3.33              \\\\\n",
       "\t 2009-06-15 11:59:00 & -10.09              & -92.13              & -1.20              \\\\\n",
       "\t 2009-06-16 11:59:00 & -10.85              & -90.05              & -4.32              \\\\\n",
       "\\end{tabular}\n"
      ],
      "text/markdown": [
       "\n",
       "date-time | e (mm) | n (mm) | u (mm) | \n",
       "|---|---|---|---|---|---|\n",
       "| 2009-06-11 11:59:00 |  -9.03              | -90.27              | -5.92               | \n",
       "| 2009-06-12 11:59:00 | -12.75              | -92.38              | -5.43               | \n",
       "| 2009-06-13 11:59:00 |  -9.90              | -90.22              | -5.93               | \n",
       "| 2009-06-14 11:59:00 | -10.62              | -90.52              | -3.33               | \n",
       "| 2009-06-15 11:59:00 | -10.09              | -92.13              | -1.20               | \n",
       "| 2009-06-16 11:59:00 | -10.85              | -90.05              | -4.32               | \n",
       "\n",
       "\n"
      ],
      "text/plain": [
       "  date-time           e (mm) n (mm) u (mm)\n",
       "1 2009-06-11 11:59:00  -9.03 -90.27 -5.92 \n",
       "2 2009-06-12 11:59:00 -12.75 -92.38 -5.43 \n",
       "3 2009-06-13 11:59:00  -9.90 -90.22 -5.93 \n",
       "4 2009-06-14 11:59:00 -10.62 -90.52 -3.33 \n",
       "5 2009-06-15 11:59:00 -10.09 -92.13 -1.20 \n",
       "6 2009-06-16 11:59:00 -10.85 -90.05 -4.32 "
      ]
     },
     "metadata": {},
     "output_type": "display_data"
    }
   ],
   "source": [
    "head(data[[\"AHTI\"]])"
   ]
  },
  {
   "cell_type": "markdown",
   "metadata": {},
   "source": [
    "## &nbsp; 7. Plot Data"
   ]
  },
  {
   "cell_type": "markdown",
   "metadata": {},
   "source": [
    "###### Plot the east displacement data for the site CNST"
   ]
  },
  {
   "cell_type": "code",
   "execution_count": 20,
   "metadata": {},
   "outputs": [
    {
     "data": {
      "image/png": "[encoded data removed]",
      "text/plain": [
       "Plot with title \"Relative east displacement for Carnagh Station\""
      ]
     },
     "metadata": {},
     "output_type": "display_data"
    }
   ],
   "source": [
    "title <- paste(\"Relative east displacement for Carnagh Station\" )\n",
    "plot(data[[\"CNST\"]]$'date-time', data[[\"CNST\"]]$'e (mm)',main= title, xlab = \"Date\", ylab = \"Displacement (mm)\", pch = 16)"
   ]
  },
  {
   "cell_type": "markdown",
   "metadata": {},
   "source": [
    "`data[[\"CNST\"]]` say call the dataframe with name \"CNST\". We named each dataframe the same as it siteID, so this calls the data from the site with the siteID of \"CNST\".<br>\n",
    "The data `data[[\"CNST\"]]$'date-time'` is the data time data in the east data frame. This is set to be on the x axis. ` data[[\"CNST\"]]$'e (mm)'` is the displacement data from the east data frame. This is set to be on the y axis. ` main= \"Relative east displacement for CNST\"` gives the graph its title. ` xlab = \"Date\", ylab = \"Displacement (mm)\"` give the graph its x and y axis titles. `pch  = 16` says that each data point will be put on the graph as a circle filled in point. To save this plot right click on it in this notebook"
   ]
  },
  {
   "cell_type": "markdown",
   "metadata": {},
   "source": [
    "## &nbsp; 8. Save Data"
   ]
  },
  {
   "cell_type": "code",
   "execution_count": 21,
   "metadata": {},
   "outputs": [],
   "source": [
    "for (i in 1:length(data)){\n",
    "    name <- paste(levels(sites$siteID[1])[i], \".csv\")\n",
    "    write.csv(data[[levels(sites$siteID[1])[i]]], name)\n",
    "}"
   ]
  },
  {
   "cell_type": "markdown",
   "metadata": {},
   "source": [
    "`levels(sites$siteID[1])` is the list of siteIDs so this `for` loop make a cvs file for each site. The csv will be named after the site ID. eg. The csv with the data from CNST with be named CNST.csv"
   ]
  },
  {
   "cell_type": "markdown",
   "metadata": {},
   "source": [
    "## Useful links"
   ]
  },
  {
   "cell_type": "markdown",
   "metadata": {},
   "source": [
    "<ul>\n",
    "    <li>This notebook uses the language R https://www.r-project.org/\n",
    "    <li>This notebook uses the library httr https://cran.r-project.org/web/packages/httr/vignettes/quickstart.html\n",
    "    <li>To understand more about data frames go to https://www.rdocumentation.org/packages/base/versions/3.5.1/topics/data.frame\n",
    "    <li>To understand the `get_gnss` function go to https://github.com/GeoNet/data-tutorials/blob/master/GNSS_Data/R/Introduction_to_GNSS_data_using_FITS_in_R.ipynb.\n",
    "    <li>To learn more about the packages geojsonR go to https://cran.r-project.org/web/packages/geojsonR/geojsonR.pdf  \n",
    "    <li>To understad more about maps in R go to https://cran.r-project.org/web/packages/maps/maps.pdf\n",
    "    <li>To learn more about what maps can be made in R go to http://www.geog.uoregon.edu/GeogR/ \n",
    "    <li>More tutorials on GNSS data can be found at https://github.com/GeoNet/data-tutorials/blob/master/GNSS_Data\n",
    "    <li>For more on data types in FITS go to http://fits.geonet.org.nz/type (for best formatting use firefox)\n",
    "    <li>For more on FITS go to https://fits.geonet.org.nz/api-docs/    \n",
    "</ul>"
   ]
  }
 ],
 "metadata": {
  "kernelspec": {
   "display_name": "R",
   "language": "R",
   "name": "ir"
  },
  "language_info": {
   "codemirror_mode": "r",
   "file_extension": ".r",
   "mimetype": "text/x-r-source",
   "name": "R",
   "pygments_lexer": "r",
   "version": "3.5.1"
  }
 },
 "nbformat": 4,
 "nbformat_minor": 2
}
