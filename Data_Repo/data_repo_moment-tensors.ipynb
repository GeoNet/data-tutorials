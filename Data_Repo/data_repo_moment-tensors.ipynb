{
 "cells": [
  {
   "cell_type": "markdown",
   "id": "amazing-gateway",
   "metadata": {},
   "source": [
    "# HOW TO RETRIEVE AND USE MOMENT TENSOR DATA"
   ]
  },
  {
   "cell_type": "markdown",
   "id": "4f633d89-f91b-4c03-9554-12b48bfa0c3b",
   "metadata": {},
   "source": [
    "The data are available through the [GeoNet GitHub data repository](https://github.com/GeoNet/data/tree/main/moment-tensor), and more information on the dataset can be found there."
   ]
  },
  {
   "cell_type": "markdown",
   "id": "dacab096-e283-478b-abf1-61935e8d931d",
   "metadata": {},
   "source": [
    "## &nbsp;Table of contents\n",
    "### 1. Basic requirements\n",
    "### 2. Data retrieval and basic mapping\n",
    "### 3. Compare moment magnitude with other magnitudes"
   ]
  },
  {
   "cell_type": "markdown",
   "id": "5a098d2a-e6a8-4744-92af-cefbfdb1fbd3",
   "metadata": {},
   "source": [
    "## &nbsp;1. Basic requirements"
   ]
  },
  {
   "cell_type": "markdown",
   "id": "clear-possession",
   "metadata": {},
   "source": [
    "### Import required Python modules/libraries"
   ]
  },
  {
   "cell_type": "code",
   "execution_count": 1,
   "id": "juvenile-vaccine",
   "metadata": {},
   "outputs": [],
   "source": [
    "#pandas for data analysis\n",
    "import pandas as pd\n",
    "\n",
    "#matplotlib for graphing\n",
    "import matplotlib.pyplot as plt\n",
    "\n",
    "#for datetime functionality\n",
    "import datetime as dt\n",
    "\n",
    "#for mapping\n",
    "import cartopy.crs as ccrs\n",
    "import cartopy.feature as cfeature\n",
    "\n",
    "#show moment-tensor solutions on map\n",
    "from obspy.imaging.beachball import beach\n",
    "\n",
    "#for a comparison magnitudes\n",
    "from obspy.clients.fdsn import Client as FDSN_Client"
   ]
  },
  {
   "cell_type": "markdown",
   "id": "c31737c1-1498-40d5-8b58-21664d9738ce",
   "metadata": {},
   "source": [
    "## &nbsp;2. Basic data retrieval and mapping\n",
    "\n",
    "We retrieve the complete file of solutions and then select one to display on a map. For further information on displaying moment-tensor mechanisms on a map, refer to the [example in Obspy](https://docs.obspy.org/tutorial/code_snippets/cartopy_plot_with_beachballs.html#cartopy-plot-of-a-local-area-with-beachballs)"
   ]
  },
  {
   "cell_type": "code",
   "execution_count": 2,
   "id": "8727438c-4da0-4762-ae19-dd74a5ade7a6",
   "metadata": {},
   "outputs": [],
   "source": [
    "url = 'https://raw.githubusercontent.com/GeoNet/data/refs/heads/main/moment-tensor/GeoNet_CMT_solutions.csv'\n",
    "mt = pd.read_csv(url)"
   ]
  },
  {
   "cell_type": "code",
   "execution_count": 3,
   "id": "fa9ea5bc-ad42-4e90-95dc-311f7621115e",
   "metadata": {},
   "outputs": [
    {
     "data": {
      "text/html": [
       "<div>\n",
       "<style scoped>\n",
       "    .dataframe tbody tr th:only-of-type {\n",
       "        vertical-align: middle;\n",
       "    }\n",
       "\n",
       "    .dataframe tbody tr th {\n",
       "        vertical-align: top;\n",
       "    }\n",
       "\n",
       "    .dataframe thead th {\n",
       "        text-align: right;\n",
       "    }\n",
       "</style>\n",
       "<table border=\"1\" class=\"dataframe\">\n",
       "  <thead>\n",
       "    <tr style=\"text-align: right;\">\n",
       "      <th></th>\n",
       "      <th>PublicID</th>\n",
       "      <th>Date</th>\n",
       "      <th>Latitude</th>\n",
       "      <th>Longitude</th>\n",
       "      <th>strike1</th>\n",
       "      <th>dip1</th>\n",
       "      <th>rake1</th>\n",
       "      <th>strike2</th>\n",
       "      <th>dip2</th>\n",
       "      <th>rake2</th>\n",
       "      <th>...</th>\n",
       "      <th>Tva</th>\n",
       "      <th>Tpl</th>\n",
       "      <th>Taz</th>\n",
       "      <th>Nva</th>\n",
       "      <th>Npl</th>\n",
       "      <th>Naz</th>\n",
       "      <th>Pva</th>\n",
       "      <th>Ppl</th>\n",
       "      <th>Paz</th>\n",
       "      <th>Method</th>\n",
       "    </tr>\n",
       "  </thead>\n",
       "  <tbody>\n",
       "    <tr>\n",
       "      <th>3493</th>\n",
       "      <td>2025p278838</td>\n",
       "      <td>20250414040500</td>\n",
       "      <td>-40.1291</td>\n",
       "      <td>174.3710</td>\n",
       "      <td>243</td>\n",
       "      <td>85</td>\n",
       "      <td>-130</td>\n",
       "      <td>147</td>\n",
       "      <td>41</td>\n",
       "      <td>-8</td>\n",
       "      <td>...</td>\n",
       "      <td>177.21</td>\n",
       "      <td>28</td>\n",
       "      <td>4</td>\n",
       "      <td>-21.29</td>\n",
       "      <td>40</td>\n",
       "      <td>248</td>\n",
       "      <td>-155.92</td>\n",
       "      <td>37</td>\n",
       "      <td>118</td>\n",
       "      <td>2</td>\n",
       "    </tr>\n",
       "    <tr>\n",
       "      <th>3494</th>\n",
       "      <td>2025p280546</td>\n",
       "      <td>20250414191500</td>\n",
       "      <td>-38.3621</td>\n",
       "      <td>177.8667</td>\n",
       "      <td>341</td>\n",
       "      <td>85</td>\n",
       "      <td>111</td>\n",
       "      <td>84</td>\n",
       "      <td>22</td>\n",
       "      <td>15</td>\n",
       "      <td>...</td>\n",
       "      <td>22.52</td>\n",
       "      <td>46</td>\n",
       "      <td>272</td>\n",
       "      <td>-5.90</td>\n",
       "      <td>21</td>\n",
       "      <td>158</td>\n",
       "      <td>-16.62</td>\n",
       "      <td>36</td>\n",
       "      <td>52</td>\n",
       "      <td>2</td>\n",
       "    </tr>\n",
       "    <tr>\n",
       "      <th>3495</th>\n",
       "      <td>2025p283258</td>\n",
       "      <td>20250415192000</td>\n",
       "      <td>-38.8993</td>\n",
       "      <td>178.1304</td>\n",
       "      <td>3</td>\n",
       "      <td>57</td>\n",
       "      <td>-134</td>\n",
       "      <td>244</td>\n",
       "      <td>53</td>\n",
       "      <td>-43</td>\n",
       "      <td>...</td>\n",
       "      <td>62.73</td>\n",
       "      <td>3</td>\n",
       "      <td>123</td>\n",
       "      <td>20.30</td>\n",
       "      <td>36</td>\n",
       "      <td>31</td>\n",
       "      <td>-83.03</td>\n",
       "      <td>54</td>\n",
       "      <td>216</td>\n",
       "      <td>2</td>\n",
       "    </tr>\n",
       "    <tr>\n",
       "      <th>3496</th>\n",
       "      <td>2025p291548</td>\n",
       "      <td>20250418205600</td>\n",
       "      <td>-39.2504</td>\n",
       "      <td>176.3593</td>\n",
       "      <td>138</td>\n",
       "      <td>80</td>\n",
       "      <td>13</td>\n",
       "      <td>46</td>\n",
       "      <td>77</td>\n",
       "      <td>170</td>\n",
       "      <td>...</td>\n",
       "      <td>150.02</td>\n",
       "      <td>16</td>\n",
       "      <td>2</td>\n",
       "      <td>0.30</td>\n",
       "      <td>74</td>\n",
       "      <td>174</td>\n",
       "      <td>-150.32</td>\n",
       "      <td>2</td>\n",
       "      <td>272</td>\n",
       "      <td>2</td>\n",
       "    </tr>\n",
       "    <tr>\n",
       "      <th>3497</th>\n",
       "      <td>2025p311033</td>\n",
       "      <td>20250426015800</td>\n",
       "      <td>-39.4428</td>\n",
       "      <td>177.0572</td>\n",
       "      <td>161</td>\n",
       "      <td>70</td>\n",
       "      <td>145</td>\n",
       "      <td>265</td>\n",
       "      <td>58</td>\n",
       "      <td>24</td>\n",
       "      <td>...</td>\n",
       "      <td>45.91</td>\n",
       "      <td>39</td>\n",
       "      <td>120</td>\n",
       "      <td>2.56</td>\n",
       "      <td>51</td>\n",
       "      <td>315</td>\n",
       "      <td>-48.47</td>\n",
       "      <td>7</td>\n",
       "      <td>215</td>\n",
       "      <td>2</td>\n",
       "    </tr>\n",
       "  </tbody>\n",
       "</table>\n",
       "<p>5 rows × 33 columns</p>\n",
       "</div>"
      ],
      "text/plain": [
       "         PublicID            Date  Latitude  Longitude  strike1  dip1  rake1  \\\n",
       "3493  2025p278838  20250414040500  -40.1291   174.3710      243    85   -130   \n",
       "3494  2025p280546  20250414191500  -38.3621   177.8667      341    85    111   \n",
       "3495  2025p283258  20250415192000  -38.8993   178.1304        3    57   -134   \n",
       "3496  2025p291548  20250418205600  -39.2504   176.3593      138    80     13   \n",
       "3497  2025p311033  20250426015800  -39.4428   177.0572      161    70    145   \n",
       "\n",
       "      strike2  dip2  rake2  ...     Tva  Tpl  Taz    Nva  Npl  Naz     Pva  \\\n",
       "3493      147    41     -8  ...  177.21   28    4 -21.29   40  248 -155.92   \n",
       "3494       84    22     15  ...   22.52   46  272  -5.90   21  158  -16.62   \n",
       "3495      244    53    -43  ...   62.73    3  123  20.30   36   31  -83.03   \n",
       "3496       46    77    170  ...  150.02   16    2   0.30   74  174 -150.32   \n",
       "3497      265    58     24  ...   45.91   39  120   2.56   51  315  -48.47   \n",
       "\n",
       "      Ppl  Paz  Method  \n",
       "3493   37  118       2  \n",
       "3494   36   52       2  \n",
       "3495   54  216       2  \n",
       "3496    2  272       2  \n",
       "3497    7  215       2  \n",
       "\n",
       "[5 rows x 33 columns]"
      ]
     },
     "execution_count": 3,
     "metadata": {},
     "output_type": "execute_result"
    }
   ],
   "source": [
    "mt.tail()"
   ]
  },
  {
   "cell_type": "code",
   "execution_count": 4,
   "id": "e7389a49-6dc4-4063-ad84-f0688502339d",
   "metadata": {},
   "outputs": [],
   "source": [
    "#retrieve the event with row number 3436, this occurred on 2024-12-17 and was located close to Cook Strait\n",
    "mtevent = mt.iloc[3436]"
   ]
  },
  {
   "cell_type": "code",
   "execution_count": 5,
   "id": "6f38d969-21c1-4465-80f8-7d97852e0bd7",
   "metadata": {},
   "outputs": [
    {
     "data": {
      "text/plain": [
       "<matplotlib.collections.PatchCollection at 0x71dbdf773a70>"
      ]
     },
     "execution_count": 5,
     "metadata": {},
     "output_type": "execute_result"
    },
    {
     "data": {
      "image/png": "[encoded data removed]",
      "text/plain": [
       "<Figure size 500x500 with 1 Axes>"
      ]
     },
     "metadata": {},
     "output_type": "display_data"
    }
   ],
   "source": [
    "fig = plt.figure(figsize=(5,5))\n",
    "\n",
    "#basemap\n",
    "ax = fig.add_subplot(1, 1, 1, projection=ccrs.PlateCarree())\n",
    "ax.set_extent([171, 177, -44, -39], crs=ccrs.PlateCarree())\n",
    "ax.add_feature(cfeature.LAND)\n",
    "ax.add_feature(cfeature.COASTLINE)\n",
    "\n",
    "#event location\n",
    "x = mtevent['Longitude']\n",
    "y = mtevent['Latitude']\n",
    "\n",
    "#event mechanism\n",
    "fm = [mtevent['strike1'], mtevent['dip1'],mtevent['rake1']]\n",
    "b = beach(fm, xy=(x,y), width=0.5, linewidth=1, zorder=10)\n",
    "ax.add_collection(b)"
   ]
  },
  {
   "cell_type": "markdown",
   "id": "30c593cf-b0c5-4615-aea0-04fa6ee2c1da",
   "metadata": {},
   "source": [
    "## &nbsp;3. Compare moment magnitude with other magnitudes\n",
    "\n",
    "We use the GeoNet FDSN webservice and follow steps in [this tutorial](https://github.com/GeoNet/data-tutorials/blob/main/FDSN/FDSN_specific-event.ipynb)"
   ]
  },
  {
   "cell_type": "code",
   "execution_count": 6,
   "id": "cc14dd3f-a743-4c2e-acd2-6bd36242e782",
   "metadata": {},
   "outputs": [],
   "source": [
    "#define GeoNet FDSN client\n",
    "client = FDSN_Client(\"GEONET\")"
   ]
  },
  {
   "cell_type": "code",
   "execution_count": 7,
   "id": "6ccc39b7-0e3f-4407-b438-87fdb04a5c21",
   "metadata": {},
   "outputs": [
    {
     "name": "stdout",
     "output_type": "stream",
     "text": [
      "Mw 4.9\n"
     ]
    }
   ],
   "source": [
    "#get moment tensor magnitude\n",
    "mtmag = mtevent['Mw']\n",
    "print ('Mw', mtmag)"
   ]
  },
  {
   "cell_type": "code",
   "execution_count": 8,
   "id": "92675c8a-7dd0-4626-a38b-58d20f89390a",
   "metadata": {},
   "outputs": [
    {
     "name": "stdout",
     "output_type": "stream",
     "text": [
      "ML 4.875473966928981\n",
      "MLv 5.120054333578334\n"
     ]
    }
   ],
   "source": [
    "#use Public ID to get the event from FDSN client\n",
    "pid = mtevent['PublicID']\n",
    "cat = client.get_events(eventid=pid)\n",
    "\n",
    "event = cat[0]\n",
    "magnitudes = event.magnitudes\n",
    "\n",
    "#can be more than one magnitude so get all\n",
    "for i in range(len(magnitudes)):\n",
    "    mtype = magnitudes[i].magnitude_type\n",
    "    mval = magnitudes[i].mag\n",
    "    print (mtype, mval)"
   ]
  }
 ],
 "metadata": {
  "kernelspec": {
   "display_name": "geonet-tutorial",
   "language": "python",
   "name": "geonet-tutorial"
  },
  "language_info": {
   "codemirror_mode": {
    "name": "ipython",
    "version": 3
   },
   "file_extension": ".py",
   "mimetype": "text/x-python",
   "name": "python",
   "nbconvert_exporter": "python",
   "pygments_lexer": "ipython3",
   "version": "3.12.9"
  }
 },
 "nbformat": 4,
 "nbformat_minor": 5
}
