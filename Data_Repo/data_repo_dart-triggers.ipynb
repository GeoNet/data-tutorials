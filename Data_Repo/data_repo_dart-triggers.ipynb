{
 "cells": [
  {
   "cell_type": "markdown",
   "id": "amazing-gateway",
   "metadata": {},
   "source": [
    "# HOW TO RETRIEVE AND USE DART TRIGGER DATA"
   ]
  },
  {
   "cell_type": "markdown",
   "id": "4f633d89-f91b-4c03-9554-12b48bfa0c3b",
   "metadata": {},
   "source": [
    "The data are available through the [GeoNet GitHub data repository](https://github.com/GeoNet/data/tree/main/dart-triggers), and more information on the dataset can be found there."
   ]
  },
  {
   "cell_type": "markdown",
   "id": "dacab096-e283-478b-abf1-61935e8d931d",
   "metadata": {},
   "source": [
    "## &nbsp;Table of contents\n",
    "### 1. Basic requirements\n",
    "### 2. Data retrieval and basic graphing"
   ]
  },
  {
   "cell_type": "markdown",
   "id": "5a098d2a-e6a8-4744-92af-cefbfdb1fbd3",
   "metadata": {},
   "source": [
    "## &nbsp;1. Basic requirements"
   ]
  },
  {
   "cell_type": "markdown",
   "id": "clear-possession",
   "metadata": {},
   "source": [
    "### Import required Python modules/libraries"
   ]
  },
  {
   "cell_type": "code",
   "execution_count": 8,
   "id": "juvenile-vaccine",
   "metadata": {},
   "outputs": [],
   "source": [
    "#pandas for data analysis\n",
    "import pandas as pd\n",
    "\n",
    "#matplotlib for graphing\n",
    "import matplotlib.pyplot as plt\n",
    "import matplotlib.transforms as transforms\n",
    "\n",
    "#for datetime functionality\n",
    "import datetime as dt\n",
    "\n",
    "#for tilde data\n",
    "import requests\n",
    "from io import StringIO\n",
    "\n",
    "import warnings\n",
    "warnings.simplefilter(action='ignore')"
   ]
  },
  {
   "cell_type": "markdown",
   "id": "c31737c1-1498-40d5-8b58-21664d9738ce",
   "metadata": {},
   "source": [
    "## &nbsp;2. Basic data retrieval and graphing\n",
    "\n",
    "We will retrieve the trigger file, select one trigger, get the corresponding data from [Tilde](https://tilde.geonet.org.nz/), and combine the two in a simple graph."
   ]
  },
  {
   "cell_type": "code",
   "execution_count": 9,
   "id": "f073ce3e-6f72-48b3-8c40-46d6fa0985a7",
   "metadata": {},
   "outputs": [],
   "source": [
    "url = 'https://raw.githubusercontent.com/GeoNet/data/refs/heads/main/dart-triggers/DART_trigger_catalogue.csv'\n",
    "trg = pd.read_csv(url, parse_dates=['Time triggered (UTC)'])"
   ]
  },
  {
   "cell_type": "code",
   "execution_count": 10,
   "id": "1ced0635-a6c4-42af-8613-9ec52557f3b6",
   "metadata": {},
   "outputs": [
    {
     "data": {
      "text/html": [
       "<div>\n",
       "<style scoped>\n",
       "    .dataframe tbody tr th:only-of-type {\n",
       "        vertical-align: middle;\n",
       "    }\n",
       "\n",
       "    .dataframe tbody tr th {\n",
       "        vertical-align: top;\n",
       "    }\n",
       "\n",
       "    .dataframe thead th {\n",
       "        text-align: right;\n",
       "    }\n",
       "</style>\n",
       "<table border=\"1\" class=\"dataframe\">\n",
       "  <thead>\n",
       "    <tr style=\"text-align: right;\">\n",
       "      <th></th>\n",
       "      <th>Category</th>\n",
       "      <th>Station</th>\n",
       "      <th>Time triggered (UTC)</th>\n",
       "    </tr>\n",
       "  </thead>\n",
       "  <tbody>\n",
       "    <tr>\n",
       "      <th>187</th>\n",
       "      <td>U</td>\n",
       "      <td>NZA</td>\n",
       "      <td>2022-11-01 02:19:30+00:00</td>\n",
       "    </tr>\n",
       "    <tr>\n",
       "      <th>188</th>\n",
       "      <td>U</td>\n",
       "      <td>NZA</td>\n",
       "      <td>2022-11-28 03:11:00+00:00</td>\n",
       "    </tr>\n",
       "    <tr>\n",
       "      <th>189</th>\n",
       "      <td>U</td>\n",
       "      <td>NZA</td>\n",
       "      <td>2022-11-30 20:24:45+00:00</td>\n",
       "    </tr>\n",
       "    <tr>\n",
       "      <th>190</th>\n",
       "      <td>U</td>\n",
       "      <td>NZA</td>\n",
       "      <td>2023-02-25 04:15:00+00:00</td>\n",
       "    </tr>\n",
       "    <tr>\n",
       "      <th>191</th>\n",
       "      <td>U</td>\n",
       "      <td>NZA</td>\n",
       "      <td>2023-02-25 20:32:45+00:00</td>\n",
       "    </tr>\n",
       "  </tbody>\n",
       "</table>\n",
       "</div>"
      ],
      "text/plain": [
       "    Category Station      Time triggered (UTC)\n",
       "187        U     NZA 2022-11-01 02:19:30+00:00\n",
       "188        U     NZA 2022-11-28 03:11:00+00:00\n",
       "189        U     NZA 2022-11-30 20:24:45+00:00\n",
       "190        U     NZA 2023-02-25 04:15:00+00:00\n",
       "191        U     NZA 2023-02-25 20:32:45+00:00"
      ]
     },
     "execution_count": 10,
     "metadata": {},
     "output_type": "execute_result"
    }
   ],
   "source": [
    "trg.tail()"
   ]
  },
  {
   "cell_type": "markdown",
   "id": "558c1ea6-8e28-428c-a76e-a707efec96ea",
   "metadata": {},
   "source": [
    "Get the trigger(s) for station `NZA` on `2023-04-15`"
   ]
  },
  {
   "cell_type": "code",
   "execution_count": 11,
   "id": "868ee311-9b60-4235-a599-f6bb9390cce8",
   "metadata": {},
   "outputs": [
    {
     "data": {
      "text/html": [
       "<div>\n",
       "<style scoped>\n",
       "    .dataframe tbody tr th:only-of-type {\n",
       "        vertical-align: middle;\n",
       "    }\n",
       "\n",
       "    .dataframe tbody tr th {\n",
       "        vertical-align: top;\n",
       "    }\n",
       "\n",
       "    .dataframe thead th {\n",
       "        text-align: right;\n",
       "    }\n",
       "</style>\n",
       "<table border=\"1\" class=\"dataframe\">\n",
       "  <thead>\n",
       "    <tr style=\"text-align: right;\">\n",
       "      <th></th>\n",
       "      <th>Category</th>\n",
       "      <th>Station</th>\n",
       "      <th>Time triggered (UTC)</th>\n",
       "    </tr>\n",
       "  </thead>\n",
       "  <tbody>\n",
       "    <tr>\n",
       "      <th>6</th>\n",
       "      <td>SP</td>\n",
       "      <td>NZA</td>\n",
       "      <td>2023-04-15 15:39:45+00:00</td>\n",
       "    </tr>\n",
       "  </tbody>\n",
       "</table>\n",
       "</div>"
      ],
      "text/plain": [
       "  Category Station      Time triggered (UTC)\n",
       "6       SP     NZA 2023-04-15 15:39:45+00:00"
      ]
     },
     "execution_count": 11,
     "metadata": {},
     "output_type": "execute_result"
    }
   ],
   "source": [
    "trigger = trg[(trg['Station']=='NZA')&(trg['Time triggered (UTC)'].between('2023-04-15', '2023-04-16'))]\n",
    "trigger"
   ]
  },
  {
   "cell_type": "markdown",
   "id": "db38980e-8ec2-44df-beab-728f2985c9f6",
   "metadata": {},
   "source": [
    "Get corresponding detided DART data from Tilde. Refer to [Tilde data tutorials](https://github.com/GeoNet/data-tutorials/tree/main/Tilde) for more detailed information on acquiring and using data from the Tilde API, including DART data."
   ]
  },
  {
   "cell_type": "code",
   "execution_count": 12,
   "id": "41826b20-6c23-4820-aa15-3dd2dd431d3f",
   "metadata": {},
   "outputs": [
    {
     "data": {
      "text/html": [
       "<div>\n",
       "<style scoped>\n",
       "    .dataframe tbody tr th:only-of-type {\n",
       "        vertical-align: middle;\n",
       "    }\n",
       "\n",
       "    .dataframe tbody tr th {\n",
       "        vertical-align: top;\n",
       "    }\n",
       "\n",
       "    .dataframe thead th {\n",
       "        text-align: right;\n",
       "    }\n",
       "</style>\n",
       "<table border=\"1\" class=\"dataframe\">\n",
       "  <thead>\n",
       "    <tr style=\"text-align: right;\">\n",
       "      <th></th>\n",
       "      <th>domain</th>\n",
       "      <th>station</th>\n",
       "      <th>name</th>\n",
       "      <th>sensorCode</th>\n",
       "      <th>method</th>\n",
       "      <th>aspect</th>\n",
       "      <th>value</th>\n",
       "      <th>valueUnit</th>\n",
       "      <th>error</th>\n",
       "      <th>errorUnit</th>\n",
       "      <th>qualityControl</th>\n",
       "    </tr>\n",
       "    <tr>\n",
       "      <th>timestamp</th>\n",
       "      <th></th>\n",
       "      <th></th>\n",
       "      <th></th>\n",
       "      <th></th>\n",
       "      <th></th>\n",
       "      <th></th>\n",
       "      <th></th>\n",
       "      <th></th>\n",
       "      <th></th>\n",
       "      <th></th>\n",
       "      <th></th>\n",
       "    </tr>\n",
       "  </thead>\n",
       "  <tbody>\n",
       "    <tr>\n",
       "      <th>2023-04-15 15:09:45+00:00</th>\n",
       "      <td>dart</td>\n",
       "      <td>NZA</td>\n",
       "      <td>water-height-detided</td>\n",
       "      <td>41</td>\n",
       "      <td>15s</td>\n",
       "      <td>nil</td>\n",
       "      <td>0.0957</td>\n",
       "      <td>m</td>\n",
       "      <td>0.0</td>\n",
       "      <td>m</td>\n",
       "      <td>NaN</td>\n",
       "    </tr>\n",
       "    <tr>\n",
       "      <th>2023-04-15 15:10:00+00:00</th>\n",
       "      <td>dart</td>\n",
       "      <td>NZA</td>\n",
       "      <td>water-height-detided</td>\n",
       "      <td>41</td>\n",
       "      <td>15s</td>\n",
       "      <td>nil</td>\n",
       "      <td>0.0937</td>\n",
       "      <td>m</td>\n",
       "      <td>0.0</td>\n",
       "      <td>m</td>\n",
       "      <td>NaN</td>\n",
       "    </tr>\n",
       "    <tr>\n",
       "      <th>2023-04-15 15:10:15+00:00</th>\n",
       "      <td>dart</td>\n",
       "      <td>NZA</td>\n",
       "      <td>water-height-detided</td>\n",
       "      <td>41</td>\n",
       "      <td>15s</td>\n",
       "      <td>nil</td>\n",
       "      <td>0.0938</td>\n",
       "      <td>m</td>\n",
       "      <td>0.0</td>\n",
       "      <td>m</td>\n",
       "      <td>NaN</td>\n",
       "    </tr>\n",
       "    <tr>\n",
       "      <th>2023-04-15 15:10:30+00:00</th>\n",
       "      <td>dart</td>\n",
       "      <td>NZA</td>\n",
       "      <td>water-height-detided</td>\n",
       "      <td>41</td>\n",
       "      <td>15s</td>\n",
       "      <td>nil</td>\n",
       "      <td>0.0948</td>\n",
       "      <td>m</td>\n",
       "      <td>0.0</td>\n",
       "      <td>m</td>\n",
       "      <td>NaN</td>\n",
       "    </tr>\n",
       "    <tr>\n",
       "      <th>2023-04-15 15:10:45+00:00</th>\n",
       "      <td>dart</td>\n",
       "      <td>NZA</td>\n",
       "      <td>water-height-detided</td>\n",
       "      <td>41</td>\n",
       "      <td>15s</td>\n",
       "      <td>nil</td>\n",
       "      <td>0.0959</td>\n",
       "      <td>m</td>\n",
       "      <td>0.0</td>\n",
       "      <td>m</td>\n",
       "      <td>NaN</td>\n",
       "    </tr>\n",
       "  </tbody>\n",
       "</table>\n",
       "</div>"
      ],
      "text/plain": [
       "                          domain station                  name  sensorCode  \\\n",
       "timestamp                                                                    \n",
       "2023-04-15 15:09:45+00:00   dart     NZA  water-height-detided          41   \n",
       "2023-04-15 15:10:00+00:00   dart     NZA  water-height-detided          41   \n",
       "2023-04-15 15:10:15+00:00   dart     NZA  water-height-detided          41   \n",
       "2023-04-15 15:10:30+00:00   dart     NZA  water-height-detided          41   \n",
       "2023-04-15 15:10:45+00:00   dart     NZA  water-height-detided          41   \n",
       "\n",
       "                          method aspect   value valueUnit  error errorUnit  \\\n",
       "timestamp                                                                    \n",
       "2023-04-15 15:09:45+00:00    15s    nil  0.0957         m    0.0         m   \n",
       "2023-04-15 15:10:00+00:00    15s    nil  0.0937         m    0.0         m   \n",
       "2023-04-15 15:10:15+00:00    15s    nil  0.0938         m    0.0         m   \n",
       "2023-04-15 15:10:30+00:00    15s    nil  0.0948         m    0.0         m   \n",
       "2023-04-15 15:10:45+00:00    15s    nil  0.0959         m    0.0         m   \n",
       "\n",
       "                           qualityControl  \n",
       "timestamp                                  \n",
       "2023-04-15 15:09:45+00:00             NaN  \n",
       "2023-04-15 15:10:00+00:00             NaN  \n",
       "2023-04-15 15:10:15+00:00             NaN  \n",
       "2023-04-15 15:10:30+00:00             NaN  \n",
       "2023-04-15 15:10:45+00:00             NaN  "
      ]
     },
     "execution_count": 12,
     "metadata": {},
     "output_type": "execute_result"
    }
   ],
   "source": [
    "url = 'https://tilde.geonet.org.nz/v4/data/dart/NZA/water-height-detided/41/15s/-/2023-04-15/2023-04-15'\n",
    "\n",
    "r = requests.get(url, headers={'Accept':'text/csv'})\n",
    "\n",
    "df = pd.read_csv(StringIO(r.text),parse_dates=['timestamp'], date_format='ISO8601', index_col='timestamp')\n",
    "df.head()"
   ]
  },
  {
   "cell_type": "code",
   "execution_count": 13,
   "id": "26f9b443-d508-4d6d-a711-3c6d06fa12a3",
   "metadata": {},
   "outputs": [
    {
     "data": {
      "text/plain": [
       "[<matplotlib.lines.Line2D at 0x7cabebf8a9f0>]"
      ]
     },
     "execution_count": 13,
     "metadata": {},
     "output_type": "execute_result"
    },
    {
     "data": {
      "image/png": "[encoded data removed]",
      "text/plain": [
       "<Figure size 1500x500 with 1 Axes>"
      ]
     },
     "metadata": {},
     "output_type": "display_data"
    }
   ],
   "source": [
    "fig,ax = plt.subplots(figsize=(15,5))\n",
    "\n",
    "#show trigger as dashed line, and label with the trigger category\n",
    "ax.axvline(trigger['Time triggered (UTC)'], linestyle='--', color='grey')\n",
    "#x coord is data, y coord is axis\n",
    "trans = transforms.blended_transform_factory(ax.transData, ax.transAxes)\n",
    "ax.text(trigger['Time triggered (UTC)'], 0.95, 'SP ', ha='right', transform=trans)\n",
    "\n",
    "ax.plot(df['value'], color='#41b0f0')\n",
    "ax.plot(df['value'], color='blue', marker='.', linestyle='None')"
   ]
  }
 ],
 "metadata": {
  "kernelspec": {
   "display_name": "geonet-tutorial",
   "language": "python",
   "name": "geonet-tutorial"
  },
  "language_info": {
   "codemirror_mode": {
    "name": "ipython",
    "version": 3
   },
   "file_extension": ".py",
   "mimetype": "text/x-python",
   "name": "python",
   "nbconvert_exporter": "python",
   "pygments_lexer": "ipython3",
   "version": "3.12.9"
  }
 },
 "nbformat": 4,
 "nbformat_minor": 5
}
