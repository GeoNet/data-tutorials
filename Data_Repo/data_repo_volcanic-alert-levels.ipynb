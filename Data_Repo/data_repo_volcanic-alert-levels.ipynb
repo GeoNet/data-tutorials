{
 "cells": [
  {
   "cell_type": "markdown",
   "id": "amazing-gateway",
   "metadata": {},
   "source": [
    "# HOW TO RETRIEVE AND USE VOLCANO ALERT LEVEL (VAL) DATA"
   ]
  },
  {
   "cell_type": "markdown",
   "id": "4f633d89-f91b-4c03-9554-12b48bfa0c3b",
   "metadata": {},
   "source": [
    "The data are available through the [GeoNet GitHub data repository](https://github.com/GeoNet/data/tree/main/volcanic-alert-levels), and more information on the dataset can be found there."
   ]
  },
  {
   "cell_type": "markdown",
   "id": "dacab096-e283-478b-abf1-61935e8d931d",
   "metadata": {},
   "source": [
    "## &nbsp;Table of contents\n",
    "### 1. Basic requirements\n",
    "### 2. Data retrieval and basic graphing\n",
    "### &nbsp;1. Basic Data Plot Using UTC\n",
    "### &nbsp;2. Potential Use for Response Actions Using Local Time"
   ]
  },
  {
   "cell_type": "markdown",
   "id": "5a098d2a-e6a8-4744-92af-cefbfdb1fbd3",
   "metadata": {},
   "source": [
    "## &nbsp;1. Basic requirements"
   ]
  },
  {
   "cell_type": "markdown",
   "id": "clear-possession",
   "metadata": {},
   "source": [
    "### Import required Python modules/libraries"
   ]
  },
  {
   "cell_type": "code",
   "execution_count": 1,
   "id": "juvenile-vaccine",
   "metadata": {},
   "outputs": [],
   "source": [
    "#pandas for data analysis\n",
    "import pandas as pd\n",
    "\n",
    "#matplotlib for graphing\n",
    "import matplotlib.pyplot as plt\n",
    "import matplotlib\n",
    "from matplotlib.dates import DateFormatter\n",
    "\n",
    "#for datetime functionality\n",
    "import datetime as dt\n",
    "from dateutil import tz \n",
    "\n",
    "import warnings\n",
    "warnings.simplefilter(action='ignore')"
   ]
  },
  {
   "cell_type": "markdown",
   "id": "c31737c1-1498-40d5-8b58-21664d9738ce",
   "metadata": {},
   "source": [
    "## &nbsp;2. Basic data retrieval and graphing\n",
    "\n",
    "We will work with data from Whakaari White Island as there have been several recent changes and this provides material to better show how to use the data.\n",
    "\n",
    "The dates and times of changes in VAL is provided in UTC to support easy integration with other GeoNet data sets which also use UTC.\n",
    "Stakeholder groups that may be more interested in response actions to VAL changes are more likely to work in local time; the dates and times of VAL changes are also provided in NZST or NZDT to support those users."
   ]
  },
  {
   "cell_type": "code",
   "execution_count": 2,
   "id": "8e1d0fd2-b509-46e7-8d86-bd211adbd8bc",
   "metadata": {},
   "outputs": [],
   "source": [
    "url = 'https://raw.githubusercontent.com/GeoNet/data/main/volcanic-alert-levels/'"
   ]
  },
  {
   "cell_type": "code",
   "execution_count": 3,
   "id": "486dbe82-269a-4679-bd50-ca2b8d6a9806",
   "metadata": {},
   "outputs": [],
   "source": [
    "valfile = url+'VAL_WhakaariWhiteIsland.csv'\n",
    "val = pd.read_csv(valfile)"
   ]
  },
  {
   "cell_type": "code",
   "execution_count": 4,
   "id": "fa9ea5bc-ad42-4e90-95dc-311f7621115e",
   "metadata": {},
   "outputs": [
    {
     "data": {
      "text/html": [
       "<div>\n",
       "<style scoped>\n",
       "    .dataframe tbody tr th:only-of-type {\n",
       "        vertical-align: middle;\n",
       "    }\n",
       "\n",
       "    .dataframe tbody tr th {\n",
       "        vertical-align: top;\n",
       "    }\n",
       "\n",
       "    .dataframe thead th {\n",
       "        text-align: right;\n",
       "    }\n",
       "</style>\n",
       "<table border=\"1\" class=\"dataframe\">\n",
       "  <thead>\n",
       "    <tr style=\"text-align: right;\">\n",
       "      <th></th>\n",
       "      <th>PeriodStart UTC</th>\n",
       "      <th>PeriodEnd UTC</th>\n",
       "      <th>VAL</th>\n",
       "      <th>VAL System Version</th>\n",
       "      <th>Description</th>\n",
       "      <th>PeriodStart LocalTime</th>\n",
       "      <th>PeriodEnd LocalTime</th>\n",
       "    </tr>\n",
       "  </thead>\n",
       "  <tbody>\n",
       "    <tr>\n",
       "      <th>38</th>\n",
       "      <td>2024-05-24T05:00:00Z</td>\n",
       "      <td>2024-05-24T23:44:59Z</td>\n",
       "      <td>2</td>\n",
       "      <td>3</td>\n",
       "      <td>Moderate to heightened volcanic unrest</td>\n",
       "      <td>2024-05-24 17:00:00 NZST</td>\n",
       "      <td>2024-05-25 11:44:59 NZST</td>\n",
       "    </tr>\n",
       "    <tr>\n",
       "      <th>39</th>\n",
       "      <td>2024-05-24T23:45:00Z</td>\n",
       "      <td>2024-05-29T02:59:59Z</td>\n",
       "      <td>3</td>\n",
       "      <td>3</td>\n",
       "      <td>Minor volcanic eruption</td>\n",
       "      <td>2024-05-25 11:45:00 NZST</td>\n",
       "      <td>2024-05-29 14:59:59 NZST</td>\n",
       "    </tr>\n",
       "    <tr>\n",
       "      <th>40</th>\n",
       "      <td>2024-05-29T03:00:00Z</td>\n",
       "      <td>2024-08-09T04:59:59Z</td>\n",
       "      <td>2</td>\n",
       "      <td>3</td>\n",
       "      <td>Moderate to heightened volcanic unrest</td>\n",
       "      <td>2024-05-29 15:00:00 NZST</td>\n",
       "      <td>2024-08-09 16:59:59 NZST</td>\n",
       "    </tr>\n",
       "    <tr>\n",
       "      <th>41</th>\n",
       "      <td>2024-08-09T05:00:00Z</td>\n",
       "      <td>2024-10-21T21:59:59Z</td>\n",
       "      <td>3</td>\n",
       "      <td>3</td>\n",
       "      <td>Minor volcanic eruption</td>\n",
       "      <td>2024-08-09T17:00:00 NZST</td>\n",
       "      <td>2024-10-22T10:59:59 NZDT</td>\n",
       "    </tr>\n",
       "    <tr>\n",
       "      <th>42</th>\n",
       "      <td>2024-10-21T22:00:00Z</td>\n",
       "      <td>9999-01-01T00:00:00Z</td>\n",
       "      <td>2</td>\n",
       "      <td>3</td>\n",
       "      <td>Moderate to heightened volcanic unrest</td>\n",
       "      <td>2024-10-22T11:00:00 NZDT</td>\n",
       "      <td>9999-01-01 00:00:00 NZST</td>\n",
       "    </tr>\n",
       "  </tbody>\n",
       "</table>\n",
       "</div>"
      ],
      "text/plain": [
       "         PeriodStart UTC         PeriodEnd UTC  VAL  VAL System Version  \\\n",
       "38  2024-05-24T05:00:00Z  2024-05-24T23:44:59Z    2                   3   \n",
       "39  2024-05-24T23:45:00Z  2024-05-29T02:59:59Z    3                   3   \n",
       "40  2024-05-29T03:00:00Z  2024-08-09T04:59:59Z    2                   3   \n",
       "41  2024-08-09T05:00:00Z  2024-10-21T21:59:59Z    3                   3   \n",
       "42  2024-10-21T22:00:00Z  9999-01-01T00:00:00Z    2                   3   \n",
       "\n",
       "                               Description     PeriodStart LocalTime  \\\n",
       "38  Moderate to heightened volcanic unrest  2024-05-24 17:00:00 NZST   \n",
       "39                 Minor volcanic eruption  2024-05-25 11:45:00 NZST   \n",
       "40  Moderate to heightened volcanic unrest  2024-05-29 15:00:00 NZST   \n",
       "41                 Minor volcanic eruption  2024-08-09T17:00:00 NZST   \n",
       "42  Moderate to heightened volcanic unrest  2024-10-22T11:00:00 NZDT   \n",
       "\n",
       "         PeriodEnd LocalTime  \n",
       "38  2024-05-25 11:44:59 NZST  \n",
       "39  2024-05-29 14:59:59 NZST  \n",
       "40  2024-08-09 16:59:59 NZST  \n",
       "41  2024-10-22T10:59:59 NZDT  \n",
       "42  9999-01-01 00:00:00 NZST  "
      ]
     },
     "execution_count": 4,
     "metadata": {},
     "output_type": "execute_result"
    }
   ],
   "source": [
    "val.tail()"
   ]
  },
  {
   "cell_type": "markdown",
   "id": "0fe1fce3-c6b4-4aec-9bfa-f6621a17e6c8",
   "metadata": {},
   "source": [
    "#### Make VAL period end time suitable for datetime\n",
    "\n",
    "The VAL data use `9999-01-01T00:00:00Z` as the end time of the current VAL, as is standard GeoNet practice. For the `LocalTime` data, `9999-01-01 00:00:00 NZST` is used, But neither of these can be converted to a python datetime value, so we replace them with the current date/time. This applies to both UTC and LocalTime so users can use either time base."
   ]
  },
  {
   "cell_type": "code",
   "execution_count": 5,
   "id": "eccbab7b-e2b4-4ee4-8f12-b9c5acdc55dc",
   "metadata": {},
   "outputs": [],
   "source": [
    "nowutc = dt.datetime.now(dt.timezone.utc).strftime('%Y-%m-%dT%H:%M:%SZ')\n",
    "nownzst = dt.datetime.now().strftime('%Y-%m-%d %H:%M:%S NZST')\n",
    "val.replace(['9999-01-01T00:00:00Z', '9999-01-01 00:00:00 NZST'], [nowutc, nownzst], inplace=True)\n",
    "val[['PeriodStart UTC','PeriodEnd UTC']] = val[['PeriodStart UTC','PeriodEnd UTC']].apply(lambda x: pd.to_datetime(x,format='ISO8601'))"
   ]
  },
  {
   "cell_type": "code",
   "execution_count": 6,
   "id": "f18047cf-8c22-4aea-8bbc-55c9a73c2702",
   "metadata": {},
   "outputs": [
    {
     "data": {
      "text/html": [
       "<div>\n",
       "<style scoped>\n",
       "    .dataframe tbody tr th:only-of-type {\n",
       "        vertical-align: middle;\n",
       "    }\n",
       "\n",
       "    .dataframe tbody tr th {\n",
       "        vertical-align: top;\n",
       "    }\n",
       "\n",
       "    .dataframe thead th {\n",
       "        text-align: right;\n",
       "    }\n",
       "</style>\n",
       "<table border=\"1\" class=\"dataframe\">\n",
       "  <thead>\n",
       "    <tr style=\"text-align: right;\">\n",
       "      <th></th>\n",
       "      <th>PeriodStart UTC</th>\n",
       "      <th>PeriodEnd UTC</th>\n",
       "      <th>VAL</th>\n",
       "      <th>VAL System Version</th>\n",
       "      <th>Description</th>\n",
       "      <th>PeriodStart LocalTime</th>\n",
       "      <th>PeriodEnd LocalTime</th>\n",
       "    </tr>\n",
       "  </thead>\n",
       "  <tbody>\n",
       "    <tr>\n",
       "      <th>38</th>\n",
       "      <td>2024-05-24 05:00:00+00:00</td>\n",
       "      <td>2024-05-24 23:44:59+00:00</td>\n",
       "      <td>2</td>\n",
       "      <td>3</td>\n",
       "      <td>Moderate to heightened volcanic unrest</td>\n",
       "      <td>2024-05-24 17:00:00 NZST</td>\n",
       "      <td>2024-05-25 11:44:59 NZST</td>\n",
       "    </tr>\n",
       "    <tr>\n",
       "      <th>39</th>\n",
       "      <td>2024-05-24 23:45:00+00:00</td>\n",
       "      <td>2024-05-29 02:59:59+00:00</td>\n",
       "      <td>3</td>\n",
       "      <td>3</td>\n",
       "      <td>Minor volcanic eruption</td>\n",
       "      <td>2024-05-25 11:45:00 NZST</td>\n",
       "      <td>2024-05-29 14:59:59 NZST</td>\n",
       "    </tr>\n",
       "    <tr>\n",
       "      <th>40</th>\n",
       "      <td>2024-05-29 03:00:00+00:00</td>\n",
       "      <td>2024-08-09 04:59:59+00:00</td>\n",
       "      <td>2</td>\n",
       "      <td>3</td>\n",
       "      <td>Moderate to heightened volcanic unrest</td>\n",
       "      <td>2024-05-29 15:00:00 NZST</td>\n",
       "      <td>2024-08-09 16:59:59 NZST</td>\n",
       "    </tr>\n",
       "    <tr>\n",
       "      <th>41</th>\n",
       "      <td>2024-08-09 05:00:00+00:00</td>\n",
       "      <td>2024-10-21 21:59:59+00:00</td>\n",
       "      <td>3</td>\n",
       "      <td>3</td>\n",
       "      <td>Minor volcanic eruption</td>\n",
       "      <td>2024-08-09T17:00:00 NZST</td>\n",
       "      <td>2024-10-22T10:59:59 NZDT</td>\n",
       "    </tr>\n",
       "    <tr>\n",
       "      <th>42</th>\n",
       "      <td>2024-10-21 22:00:00+00:00</td>\n",
       "      <td>2025-03-13 23:25:10+00:00</td>\n",
       "      <td>2</td>\n",
       "      <td>3</td>\n",
       "      <td>Moderate to heightened volcanic unrest</td>\n",
       "      <td>2024-10-22T11:00:00 NZDT</td>\n",
       "      <td>2025-03-14 12:25:10 NZST</td>\n",
       "    </tr>\n",
       "  </tbody>\n",
       "</table>\n",
       "</div>"
      ],
      "text/plain": [
       "             PeriodStart UTC             PeriodEnd UTC  VAL  \\\n",
       "38 2024-05-24 05:00:00+00:00 2024-05-24 23:44:59+00:00    2   \n",
       "39 2024-05-24 23:45:00+00:00 2024-05-29 02:59:59+00:00    3   \n",
       "40 2024-05-29 03:00:00+00:00 2024-08-09 04:59:59+00:00    2   \n",
       "41 2024-08-09 05:00:00+00:00 2024-10-21 21:59:59+00:00    3   \n",
       "42 2024-10-21 22:00:00+00:00 2025-03-13 23:25:10+00:00    2   \n",
       "\n",
       "    VAL System Version                             Description  \\\n",
       "38                   3  Moderate to heightened volcanic unrest   \n",
       "39                   3                 Minor volcanic eruption   \n",
       "40                   3  Moderate to heightened volcanic unrest   \n",
       "41                   3                 Minor volcanic eruption   \n",
       "42                   3  Moderate to heightened volcanic unrest   \n",
       "\n",
       "       PeriodStart LocalTime       PeriodEnd LocalTime  \n",
       "38  2024-05-24 17:00:00 NZST  2024-05-25 11:44:59 NZST  \n",
       "39  2024-05-25 11:45:00 NZST  2024-05-29 14:59:59 NZST  \n",
       "40  2024-05-29 15:00:00 NZST  2024-08-09 16:59:59 NZST  \n",
       "41  2024-08-09T17:00:00 NZST  2024-10-22T10:59:59 NZDT  \n",
       "42  2024-10-22T11:00:00 NZDT  2025-03-14 12:25:10 NZST  "
      ]
     },
     "execution_count": 6,
     "metadata": {},
     "output_type": "execute_result"
    }
   ],
   "source": [
    "val.tail()"
   ]
  },
  {
   "cell_type": "markdown",
   "id": "2ae3638e-4a45-4c32-af2c-b88a3ac727f0",
   "metadata": {},
   "source": [
    "#### Select VAL data for 2024 onwards\n",
    "\n",
    "Select on VAL data where end data is after 2024-01-01."
   ]
  },
  {
   "cell_type": "code",
   "execution_count": 7,
   "id": "f25508f1-a9c7-47a2-aa63-67197207b8ce",
   "metadata": {},
   "outputs": [],
   "source": [
    "start = dt.datetime(2024,1,1).replace(tzinfo=dt.timezone.utc)\n",
    "val24 = val[val['PeriodEnd UTC']>start]"
   ]
  },
  {
   "cell_type": "code",
   "execution_count": 8,
   "id": "68b37006-c3e9-4805-9cab-cd8ddc4a8db1",
   "metadata": {},
   "outputs": [
    {
     "data": {
      "text/html": [
       "<div>\n",
       "<style scoped>\n",
       "    .dataframe tbody tr th:only-of-type {\n",
       "        vertical-align: middle;\n",
       "    }\n",
       "\n",
       "    .dataframe tbody tr th {\n",
       "        vertical-align: top;\n",
       "    }\n",
       "\n",
       "    .dataframe thead th {\n",
       "        text-align: right;\n",
       "    }\n",
       "</style>\n",
       "<table border=\"1\" class=\"dataframe\">\n",
       "  <thead>\n",
       "    <tr style=\"text-align: right;\">\n",
       "      <th></th>\n",
       "      <th>PeriodStart UTC</th>\n",
       "      <th>PeriodEnd UTC</th>\n",
       "      <th>VAL</th>\n",
       "      <th>VAL System Version</th>\n",
       "      <th>Description</th>\n",
       "      <th>PeriodStart LocalTime</th>\n",
       "      <th>PeriodEnd LocalTime</th>\n",
       "    </tr>\n",
       "  </thead>\n",
       "  <tbody>\n",
       "    <tr>\n",
       "      <th>36</th>\n",
       "      <td>2022-09-07 02:00:00+00:00</td>\n",
       "      <td>2024-05-23 22:44:59+00:00</td>\n",
       "      <td>2</td>\n",
       "      <td>3</td>\n",
       "      <td>Moderate to heightened volcanic unrest</td>\n",
       "      <td>2022-09-07 14:00:00 NZST</td>\n",
       "      <td>2024-05-24 10:44:59 NZST</td>\n",
       "    </tr>\n",
       "    <tr>\n",
       "      <th>37</th>\n",
       "      <td>2024-05-23 22:45:00+00:00</td>\n",
       "      <td>2024-05-24 04:59:59+00:00</td>\n",
       "      <td>3</td>\n",
       "      <td>3</td>\n",
       "      <td>Minor volcanic eruption</td>\n",
       "      <td>2024-05-24 10:45:00 NZST</td>\n",
       "      <td>2024-05-24 16:59:59 NZST</td>\n",
       "    </tr>\n",
       "    <tr>\n",
       "      <th>38</th>\n",
       "      <td>2024-05-24 05:00:00+00:00</td>\n",
       "      <td>2024-05-24 23:44:59+00:00</td>\n",
       "      <td>2</td>\n",
       "      <td>3</td>\n",
       "      <td>Moderate to heightened volcanic unrest</td>\n",
       "      <td>2024-05-24 17:00:00 NZST</td>\n",
       "      <td>2024-05-25 11:44:59 NZST</td>\n",
       "    </tr>\n",
       "    <tr>\n",
       "      <th>39</th>\n",
       "      <td>2024-05-24 23:45:00+00:00</td>\n",
       "      <td>2024-05-29 02:59:59+00:00</td>\n",
       "      <td>3</td>\n",
       "      <td>3</td>\n",
       "      <td>Minor volcanic eruption</td>\n",
       "      <td>2024-05-25 11:45:00 NZST</td>\n",
       "      <td>2024-05-29 14:59:59 NZST</td>\n",
       "    </tr>\n",
       "    <tr>\n",
       "      <th>40</th>\n",
       "      <td>2024-05-29 03:00:00+00:00</td>\n",
       "      <td>2024-08-09 04:59:59+00:00</td>\n",
       "      <td>2</td>\n",
       "      <td>3</td>\n",
       "      <td>Moderate to heightened volcanic unrest</td>\n",
       "      <td>2024-05-29 15:00:00 NZST</td>\n",
       "      <td>2024-08-09 16:59:59 NZST</td>\n",
       "    </tr>\n",
       "    <tr>\n",
       "      <th>41</th>\n",
       "      <td>2024-08-09 05:00:00+00:00</td>\n",
       "      <td>2024-10-21 21:59:59+00:00</td>\n",
       "      <td>3</td>\n",
       "      <td>3</td>\n",
       "      <td>Minor volcanic eruption</td>\n",
       "      <td>2024-08-09T17:00:00 NZST</td>\n",
       "      <td>2024-10-22T10:59:59 NZDT</td>\n",
       "    </tr>\n",
       "    <tr>\n",
       "      <th>42</th>\n",
       "      <td>2024-10-21 22:00:00+00:00</td>\n",
       "      <td>2025-03-13 23:25:10+00:00</td>\n",
       "      <td>2</td>\n",
       "      <td>3</td>\n",
       "      <td>Moderate to heightened volcanic unrest</td>\n",
       "      <td>2024-10-22T11:00:00 NZDT</td>\n",
       "      <td>2025-03-14 12:25:10 NZST</td>\n",
       "    </tr>\n",
       "  </tbody>\n",
       "</table>\n",
       "</div>"
      ],
      "text/plain": [
       "             PeriodStart UTC             PeriodEnd UTC  VAL  \\\n",
       "36 2022-09-07 02:00:00+00:00 2024-05-23 22:44:59+00:00    2   \n",
       "37 2024-05-23 22:45:00+00:00 2024-05-24 04:59:59+00:00    3   \n",
       "38 2024-05-24 05:00:00+00:00 2024-05-24 23:44:59+00:00    2   \n",
       "39 2024-05-24 23:45:00+00:00 2024-05-29 02:59:59+00:00    3   \n",
       "40 2024-05-29 03:00:00+00:00 2024-08-09 04:59:59+00:00    2   \n",
       "41 2024-08-09 05:00:00+00:00 2024-10-21 21:59:59+00:00    3   \n",
       "42 2024-10-21 22:00:00+00:00 2025-03-13 23:25:10+00:00    2   \n",
       "\n",
       "    VAL System Version                             Description  \\\n",
       "36                   3  Moderate to heightened volcanic unrest   \n",
       "37                   3                 Minor volcanic eruption   \n",
       "38                   3  Moderate to heightened volcanic unrest   \n",
       "39                   3                 Minor volcanic eruption   \n",
       "40                   3  Moderate to heightened volcanic unrest   \n",
       "41                   3                 Minor volcanic eruption   \n",
       "42                   3  Moderate to heightened volcanic unrest   \n",
       "\n",
       "       PeriodStart LocalTime       PeriodEnd LocalTime  \n",
       "36  2022-09-07 14:00:00 NZST  2024-05-24 10:44:59 NZST  \n",
       "37  2024-05-24 10:45:00 NZST  2024-05-24 16:59:59 NZST  \n",
       "38  2024-05-24 17:00:00 NZST  2024-05-25 11:44:59 NZST  \n",
       "39  2024-05-25 11:45:00 NZST  2024-05-29 14:59:59 NZST  \n",
       "40  2024-05-29 15:00:00 NZST  2024-08-09 16:59:59 NZST  \n",
       "41  2024-08-09T17:00:00 NZST  2024-10-22T10:59:59 NZDT  \n",
       "42  2024-10-22T11:00:00 NZDT  2025-03-14 12:25:10 NZST  "
      ]
     },
     "execution_count": 8,
     "metadata": {},
     "output_type": "execute_result"
    }
   ],
   "source": [
    "val24"
   ]
  },
  {
   "cell_type": "markdown",
   "id": "e50c805e-2232-4602-a559-dd9d5c73a0bc",
   "metadata": {},
   "source": [
    "### &nbsp;1. Basic Data Plot Using UTC \n",
    "The data are plotted as a \"steps\". As VAL values are assigned to a time interval interval, we have to plot `PeriodStart UTC` and `PeriodEnd UTC` to get the complete data, but with different steps. You can find an example of plotting these data as a line graph in a [data blog on the VAL dataset](https://www.geonet.org.nz/news/3fN5Mbo0RFkS8Bm0CmYcSl).\n",
    "\n",
    "As VAL varies from 0 to 5, we fix the y-axis to that range. VAL 0-2 are levels of volcanic unrest,and 3-5 levels of eruptive activity. For clarity, we mark that boundary of the graph."
   ]
  },
  {
   "cell_type": "code",
   "execution_count": 9,
   "id": "26f9b443-d508-4d6d-a711-3c6d06fa12a3",
   "metadata": {},
   "outputs": [
    {
     "data": {
      "text/plain": [
       "Text(0, 0.5, 'VAL')"
      ]
     },
     "execution_count": 9,
     "metadata": {},
     "output_type": "execute_result"
    },
    {
     "data": {
      "image/png": "[encoded data removed]",
      "text/plain": [
       "<Figure size 1500x500 with 1 Axes>"
      ]
     },
     "metadata": {},
     "output_type": "display_data"
    }
   ],
   "source": [
    "fig,ax = plt.subplots(1,1,figsize=(15,5))\n",
    "\n",
    "#mark transition between unrest and eruptive activity in VAL schema\n",
    "ax.axhline(2.5, linestyle='--', color='red', alpha=0.5)\n",
    "ax.text(0.02, 0.48, 'unrest', fontsize=12, color='grey', va='top', transform=ax.transAxes)\n",
    "ax.text(0.02, 0.52, 'eruptive activity', fontsize=12, color='grey', va='bottom', transform=ax.transAxes)\n",
    "\n",
    "ax.step(val24['PeriodStart UTC'],val24['VAL'], where='post', color='lightblue')\n",
    "ax.step(val24['PeriodEnd UTC'],val24['VAL'], where='pre', color='lightblue')\n",
    "ax.set_xlim(left=start)\n",
    "ax.set_ylim(0,5)\n",
    "ax.set_yticks(list(range(0,6)))\n",
    "ax.set_ylabel('VAL')\n"
   ]
  },
  {
   "cell_type": "markdown",
   "id": "f792bd61-8892-4668-8233-b2e1aa30703c",
   "metadata": {},
   "source": [
    "### &nbsp;2. Potential Use for Response Actions Using Local Time \n",
    "We consider a very short period of data in May 2024 when VAL changed three times in a few days.\n",
    "\n",
    "Select relevant rows from the `val24` dataframe using the index value and convert LocalTime columns to a datetime variable.\n",
    "\n",
    "Add some \"dummy response\" data to the graph."
   ]
  },
  {
   "cell_type": "code",
   "execution_count": 10,
   "id": "9706d6d8-daf5-4d7b-b4c8-0511cfc95e7a",
   "metadata": {},
   "outputs": [
    {
     "data": {
      "text/html": [
       "<div>\n",
       "<style scoped>\n",
       "    .dataframe tbody tr th:only-of-type {\n",
       "        vertical-align: middle;\n",
       "    }\n",
       "\n",
       "    .dataframe tbody tr th {\n",
       "        vertical-align: top;\n",
       "    }\n",
       "\n",
       "    .dataframe thead th {\n",
       "        text-align: right;\n",
       "    }\n",
       "</style>\n",
       "<table border=\"1\" class=\"dataframe\">\n",
       "  <thead>\n",
       "    <tr style=\"text-align: right;\">\n",
       "      <th></th>\n",
       "      <th>VAL</th>\n",
       "      <th>Description</th>\n",
       "      <th>PeriodStart LocalTime</th>\n",
       "      <th>PeriodEnd LocalTime</th>\n",
       "    </tr>\n",
       "  </thead>\n",
       "  <tbody>\n",
       "    <tr>\n",
       "      <th>37</th>\n",
       "      <td>3</td>\n",
       "      <td>Minor volcanic eruption</td>\n",
       "      <td>2024-05-24 10:45:00 NZST</td>\n",
       "      <td>2024-05-24 16:59:59 NZST</td>\n",
       "    </tr>\n",
       "    <tr>\n",
       "      <th>38</th>\n",
       "      <td>2</td>\n",
       "      <td>Moderate to heightened volcanic unrest</td>\n",
       "      <td>2024-05-24 17:00:00 NZST</td>\n",
       "      <td>2024-05-25 11:44:59 NZST</td>\n",
       "    </tr>\n",
       "    <tr>\n",
       "      <th>39</th>\n",
       "      <td>3</td>\n",
       "      <td>Minor volcanic eruption</td>\n",
       "      <td>2024-05-25 11:45:00 NZST</td>\n",
       "      <td>2024-05-29 14:59:59 NZST</td>\n",
       "    </tr>\n",
       "    <tr>\n",
       "      <th>40</th>\n",
       "      <td>2</td>\n",
       "      <td>Moderate to heightened volcanic unrest</td>\n",
       "      <td>2024-05-29 15:00:00 NZST</td>\n",
       "      <td>2024-08-09 16:59:59 NZST</td>\n",
       "    </tr>\n",
       "  </tbody>\n",
       "</table>\n",
       "</div>"
      ],
      "text/plain": [
       "    VAL                             Description     PeriodStart LocalTime  \\\n",
       "37    3                 Minor volcanic eruption  2024-05-24 10:45:00 NZST   \n",
       "38    2  Moderate to heightened volcanic unrest  2024-05-24 17:00:00 NZST   \n",
       "39    3                 Minor volcanic eruption  2024-05-25 11:45:00 NZST   \n",
       "40    2  Moderate to heightened volcanic unrest  2024-05-29 15:00:00 NZST   \n",
       "\n",
       "         PeriodEnd LocalTime  \n",
       "37  2024-05-24 16:59:59 NZST  \n",
       "38  2024-05-25 11:44:59 NZST  \n",
       "39  2024-05-29 14:59:59 NZST  \n",
       "40  2024-08-09 16:59:59 NZST  "
      ]
     },
     "execution_count": 10,
     "metadata": {},
     "output_type": "execute_result"
    }
   ],
   "source": [
    "may24 = val24.loc[37:40]\n",
    "may24.drop(columns=['PeriodStart UTC', 'PeriodEnd UTC', 'VAL System Version'], inplace=True)\n",
    "may24"
   ]
  },
  {
   "cell_type": "code",
   "execution_count": 11,
   "id": "351fa08f-4c4c-4e84-bf65-995ec39cc34f",
   "metadata": {},
   "outputs": [],
   "source": [
    "may24['PeriodEnd LocalTime'] = may24['PeriodEnd LocalTime'].str.replace('NZST', '+1200')\n",
    "may24['PeriodEnd LocalTime'] = may24['PeriodEnd LocalTime'].str.replace('NZDT', '+1300')\n",
    "may24['PeriodStart LocalTime'] = may24['PeriodStart LocalTime'].str.replace('NZST', '+1200')\n",
    "may24['PeriodStart LocalTime'] = may24['PeriodStart LocalTime'].str.replace('NZDT', '+1300')\n",
    "\n",
    "may24[['PeriodStart LocalTime','PeriodEnd LocalTime']] = may24[['PeriodStart LocalTime','PeriodEnd LocalTime']].apply(lambda x: pd.to_datetime(x, format='%Y-%m-%d %H:%M:%S %z'))"
   ]
  },
  {
   "cell_type": "code",
   "execution_count": 12,
   "id": "692cb94f-5bb1-450a-987f-4a6a25041ebf",
   "metadata": {},
   "outputs": [],
   "source": [
    "#need to tell matplotlib to use our local time zone, otherwise it plots in UTC\n",
    "matplotlib.rcParams['timezone'] = 'Pacific/Auckland'"
   ]
  },
  {
   "cell_type": "code",
   "execution_count": 13,
   "id": "549e4e47-7bfd-4f33-9b09-2d8645c527c3",
   "metadata": {},
   "outputs": [],
   "source": [
    "#dummy response data\n",
    "NZ = tz.gettz('Pacific/Auckland')\n",
    "evac = dt.datetime(2024,5,24,12, tzinfo=NZ)\n",
    "evac_val = 3\n",
    "canc = dt.datetime(2024,5,29,18, tzinfo=NZ)\n",
    "canc_val = 2"
   ]
  },
  {
   "cell_type": "code",
   "execution_count": 14,
   "id": "222ac9d7-b914-46ad-bfa2-eeac532ddb7d",
   "metadata": {},
   "outputs": [
    {
     "data": {
      "text/plain": [
       "Text(2024-05-29 18:00:00+12:00, 1.75, 'evacuation\\ncancelled')"
      ]
     },
     "execution_count": 14,
     "metadata": {},
     "output_type": "execute_result"
    },
    {
     "data": {
      "image/png": "[encoded data removed]",
      "text/plain": [
       "<Figure size 1500x500 with 1 Axes>"
      ]
     },
     "metadata": {},
     "output_type": "display_data"
    }
   ],
   "source": [
    "fig,ax = plt.subplots(1,1,figsize=(15,5))\n",
    "\n",
    "#mark transition between unrest and eruptive activity in VAL schema\n",
    "ax.axhline(2.5, linestyle='--', color='red', alpha=0.5)\n",
    "ax.text(0.02, 0.48, 'unrest', fontsize=12, color='grey', va='top', transform=ax.transAxes)\n",
    "ax.text(0.02, 0.52, 'eruptive activity', fontsize=12, color='grey', va='bottom', transform=ax.transAxes)\n",
    "\n",
    "ax.step(may24['PeriodStart LocalTime'],may24['VAL'], where='post', color='lightblue')\n",
    "ax.step(may24['PeriodEnd LocalTime'],may24['VAL'], where='pre', color='lightblue')\n",
    "\n",
    "ax.set_xlim(left=dt.datetime(2024,5,23), right=dt.datetime(2024,5,30))\n",
    "ax.set_ylim(0,5)\n",
    "ax.set_yticks(list(range(0,6)))\n",
    "ax.set_ylabel('VAL')\n",
    "\n",
    "formatter = DateFormatter('%a-%d')\n",
    "ax.xaxis.set_major_formatter(formatter)\n",
    "\n",
    "#dummy response data\n",
    "ax.plot(evac, evac_val+0.15, marker='v', markersize=10, color='black')\n",
    "ax.text(evac, evac_val+0.25, 'evacuation\\ncommenced', fontsize=12, color='black', ha='center', va='bottom')\n",
    "\n",
    "ax.plot(canc, canc_val-0.15, marker='^', markersize=10, color='black')\n",
    "ax.text(canc, canc_val-0.25, 'evacuation\\ncancelled', fontsize=12, color='black', ha='center', va='top')"
   ]
  }
 ],
 "metadata": {
  "kernelspec": {
   "display_name": "geonet-tutorial",
   "language": "python",
   "name": "geonet-tutorial"
  },
  "language_info": {
   "codemirror_mode": {
    "name": "ipython",
    "version": 3
   },
   "file_extension": ".py",
   "mimetype": "text/x-python",
   "name": "python",
   "nbconvert_exporter": "python",
   "pygments_lexer": "ipython3",
   "version": "3.12.9"
  }
 },
 "nbformat": 4,
 "nbformat_minor": 5
}
