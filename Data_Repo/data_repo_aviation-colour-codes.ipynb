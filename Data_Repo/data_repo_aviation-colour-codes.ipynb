{
 "cells": [
  {
   "cell_type": "markdown",
   "metadata": {},
   "source": [
    "# HOW TO RETRIEVE AND USE AVIATION COLOUR CODE (ACC) DATA"
   ]
  },
  {
   "cell_type": "markdown",
   "metadata": {},
   "source": [
    "The data are available through the [GeoNet GitHub data repository](https://github.com/GeoNet/data/tree/main/main/aviation-colour-codes), and more information on the dataset can be found there."
   ]
  },
  {
   "cell_type": "markdown",
   "metadata": {},
   "source": [
    "## &nbsp;Table of contents\n",
    "### 1. Basic requirements\n",
    "### 2. Data retrieval and basic graphing"
   ]
  },
  {
   "cell_type": "markdown",
   "metadata": {},
   "source": [
    "## &nbsp;1. Basic requirements"
   ]
  },
  {
   "cell_type": "markdown",
   "metadata": {},
   "source": [
    "### Import required Python modules/libraries"
   ]
  },
  {
   "cell_type": "code",
   "execution_count": 1,
   "metadata": {},
   "outputs": [],
   "source": [
    "#pandas for data analysis\n",
    "import pandas as pd\n",
    "\n",
    "#matplotlib for graphing\n",
    "import matplotlib.pyplot as plt\n",
    "# import matplotlib\n",
    "# from matplotlib.dates import DateFormatter\n",
    "\n",
    "#for datetime functionality\n",
    "import datetime as dt\n",
    "# from dateutil import tz \n",
    "\n",
    "import warnings\n",
    "warnings.simplefilter(action='ignore')"
   ]
  },
  {
   "cell_type": "markdown",
   "metadata": {},
   "source": [
    "## &nbsp;2. Basic data retrieval and graphing\n",
    "\n",
    "We will work with data from Whakaari White Island as there have been several recent changes and this provides material to better show how to use the data.\n",
    "\n",
    "The dates and times of changes in VAL is provided in UTC which supports easy integration with other GeoNet data sets which also use UTC."
   ]
  },
  {
   "cell_type": "code",
   "execution_count": 2,
   "metadata": {},
   "outputs": [],
   "source": [
    "url = 'https://raw.githubusercontent.com/GeoNet/data/main/aviation-colour-codes/'"
   ]
  },
  {
   "cell_type": "code",
   "execution_count": 3,
   "metadata": {},
   "outputs": [],
   "source": [
    "volcano = 'WhakaariWhiteIsland'\n",
    "accfile = url+'ACC_'+volcano+'.csv'\n",
    "acc = pd.read_csv(accfile)"
   ]
  },
  {
   "cell_type": "code",
   "execution_count": 4,
   "metadata": {},
   "outputs": [
    {
     "data": {
      "text/html": [
       "<div>\n",
       "<style scoped>\n",
       "    .dataframe tbody tr th:only-of-type {\n",
       "        vertical-align: middle;\n",
       "    }\n",
       "\n",
       "    .dataframe tbody tr th {\n",
       "        vertical-align: top;\n",
       "    }\n",
       "\n",
       "    .dataframe thead th {\n",
       "        text-align: right;\n",
       "    }\n",
       "</style>\n",
       "<table border=\"1\" class=\"dataframe\">\n",
       "  <thead>\n",
       "    <tr style=\"text-align: right;\">\n",
       "      <th></th>\n",
       "      <th>PeriodStart UTC</th>\n",
       "      <th>PeriodEnd UTC</th>\n",
       "      <th>ACC</th>\n",
       "    </tr>\n",
       "  </thead>\n",
       "  <tbody>\n",
       "    <tr>\n",
       "      <th>46</th>\n",
       "      <td>2024-12-22T21:20:00Z</td>\n",
       "      <td>2025-01-12T22:29:59Z</td>\n",
       "      <td>Yellow</td>\n",
       "    </tr>\n",
       "    <tr>\n",
       "      <th>47</th>\n",
       "      <td>2025-01-12T22:30:00Z</td>\n",
       "      <td>2025-02-10T22:59:59Z</td>\n",
       "      <td>Orange</td>\n",
       "    </tr>\n",
       "    <tr>\n",
       "      <th>48</th>\n",
       "      <td>2025-02-10T23:00:00Z</td>\n",
       "      <td>2025-02-24T01:29:59Z</td>\n",
       "      <td>Yellow</td>\n",
       "    </tr>\n",
       "    <tr>\n",
       "      <th>49</th>\n",
       "      <td>2025-02-24T01:30:00Z</td>\n",
       "      <td>2025-06-09T03:59:59Z</td>\n",
       "      <td>Orange</td>\n",
       "    </tr>\n",
       "    <tr>\n",
       "      <th>50</th>\n",
       "      <td>2025-06-09T04:00:00Z</td>\n",
       "      <td>9999-01-01T00:00:00Z</td>\n",
       "      <td>Yellow</td>\n",
       "    </tr>\n",
       "  </tbody>\n",
       "</table>\n",
       "</div>"
      ],
      "text/plain": [
       "         PeriodStart UTC         PeriodEnd UTC     ACC\n",
       "46  2024-12-22T21:20:00Z  2025-01-12T22:29:59Z  Yellow\n",
       "47  2025-01-12T22:30:00Z  2025-02-10T22:59:59Z  Orange\n",
       "48  2025-02-10T23:00:00Z  2025-02-24T01:29:59Z  Yellow\n",
       "49  2025-02-24T01:30:00Z  2025-06-09T03:59:59Z  Orange\n",
       "50  2025-06-09T04:00:00Z  9999-01-01T00:00:00Z  Yellow"
      ]
     },
     "execution_count": 4,
     "metadata": {},
     "output_type": "execute_result"
    }
   ],
   "source": [
    "acc.tail()"
   ]
  },
  {
   "cell_type": "markdown",
   "metadata": {},
   "source": [
    "#### Make ACC period end time suitable for datetime\n",
    "\n",
    "The ACC data use `9999-01-01T00:00:00Z` as the end time of the current ACC, as is standard GeoNet practice. But this cannot be converted to a python datetime value, so we replace it with the current date/time."
   ]
  },
  {
   "cell_type": "code",
   "execution_count": 5,
   "metadata": {},
   "outputs": [],
   "source": [
    "nowutc = dt.datetime.now(dt.timezone.utc).strftime('%Y-%m-%dT%H:%M:%SZ')\n",
    "acc.replace('9999-01-01T00:00:00Z', nowutc, inplace=True)\n",
    "acc[['PeriodStart UTC','PeriodEnd UTC']] = acc[['PeriodStart UTC','PeriodEnd UTC']].apply(lambda x: pd.to_datetime(x,format='ISO8601'))"
   ]
  },
  {
   "cell_type": "code",
   "execution_count": 6,
   "metadata": {},
   "outputs": [
    {
     "data": {
      "text/html": [
       "<div>\n",
       "<style scoped>\n",
       "    .dataframe tbody tr th:only-of-type {\n",
       "        vertical-align: middle;\n",
       "    }\n",
       "\n",
       "    .dataframe tbody tr th {\n",
       "        vertical-align: top;\n",
       "    }\n",
       "\n",
       "    .dataframe thead th {\n",
       "        text-align: right;\n",
       "    }\n",
       "</style>\n",
       "<table border=\"1\" class=\"dataframe\">\n",
       "  <thead>\n",
       "    <tr style=\"text-align: right;\">\n",
       "      <th></th>\n",
       "      <th>PeriodStart UTC</th>\n",
       "      <th>PeriodEnd UTC</th>\n",
       "      <th>ACC</th>\n",
       "    </tr>\n",
       "  </thead>\n",
       "  <tbody>\n",
       "    <tr>\n",
       "      <th>46</th>\n",
       "      <td>2024-12-22 21:20:00+00:00</td>\n",
       "      <td>2025-01-12 22:29:59+00:00</td>\n",
       "      <td>Yellow</td>\n",
       "    </tr>\n",
       "    <tr>\n",
       "      <th>47</th>\n",
       "      <td>2025-01-12 22:30:00+00:00</td>\n",
       "      <td>2025-02-10 22:59:59+00:00</td>\n",
       "      <td>Orange</td>\n",
       "    </tr>\n",
       "    <tr>\n",
       "      <th>48</th>\n",
       "      <td>2025-02-10 23:00:00+00:00</td>\n",
       "      <td>2025-02-24 01:29:59+00:00</td>\n",
       "      <td>Yellow</td>\n",
       "    </tr>\n",
       "    <tr>\n",
       "      <th>49</th>\n",
       "      <td>2025-02-24 01:30:00+00:00</td>\n",
       "      <td>2025-06-09 03:59:59+00:00</td>\n",
       "      <td>Orange</td>\n",
       "    </tr>\n",
       "    <tr>\n",
       "      <th>50</th>\n",
       "      <td>2025-06-09 04:00:00+00:00</td>\n",
       "      <td>2025-06-22 23:04:59+00:00</td>\n",
       "      <td>Yellow</td>\n",
       "    </tr>\n",
       "  </tbody>\n",
       "</table>\n",
       "</div>"
      ],
      "text/plain": [
       "             PeriodStart UTC             PeriodEnd UTC     ACC\n",
       "46 2024-12-22 21:20:00+00:00 2025-01-12 22:29:59+00:00  Yellow\n",
       "47 2025-01-12 22:30:00+00:00 2025-02-10 22:59:59+00:00  Orange\n",
       "48 2025-02-10 23:00:00+00:00 2025-02-24 01:29:59+00:00  Yellow\n",
       "49 2025-02-24 01:30:00+00:00 2025-06-09 03:59:59+00:00  Orange\n",
       "50 2025-06-09 04:00:00+00:00 2025-06-22 23:04:59+00:00  Yellow"
      ]
     },
     "execution_count": 6,
     "metadata": {},
     "output_type": "execute_result"
    }
   ],
   "source": [
    "acc.tail()"
   ]
  },
  {
   "cell_type": "markdown",
   "metadata": {},
   "source": [
    "#### Map ACC to a number to make it easier to visualise"
   ]
  },
  {
   "cell_type": "code",
   "execution_count": 7,
   "metadata": {},
   "outputs": [],
   "source": [
    "nummap = {'Green':0, 'Yellow':1, 'Orange':2, 'Red':3}\n",
    "acc['ACCnum'] = acc['ACC'].map(nummap)"
   ]
  },
  {
   "cell_type": "code",
   "execution_count": 8,
   "metadata": {},
   "outputs": [
    {
     "data": {
      "text/html": [
       "<div>\n",
       "<style scoped>\n",
       "    .dataframe tbody tr th:only-of-type {\n",
       "        vertical-align: middle;\n",
       "    }\n",
       "\n",
       "    .dataframe tbody tr th {\n",
       "        vertical-align: top;\n",
       "    }\n",
       "\n",
       "    .dataframe thead th {\n",
       "        text-align: right;\n",
       "    }\n",
       "</style>\n",
       "<table border=\"1\" class=\"dataframe\">\n",
       "  <thead>\n",
       "    <tr style=\"text-align: right;\">\n",
       "      <th></th>\n",
       "      <th>PeriodStart UTC</th>\n",
       "      <th>PeriodEnd UTC</th>\n",
       "      <th>ACC</th>\n",
       "      <th>ACCnum</th>\n",
       "    </tr>\n",
       "  </thead>\n",
       "  <tbody>\n",
       "    <tr>\n",
       "      <th>0</th>\n",
       "      <td>2009-08-03 00:00:00+00:00</td>\n",
       "      <td>2012-08-02 03:14:59+00:00</td>\n",
       "      <td>Green</td>\n",
       "      <td>0</td>\n",
       "    </tr>\n",
       "    <tr>\n",
       "      <th>1</th>\n",
       "      <td>2012-08-02 03:15:00+00:00</td>\n",
       "      <td>2012-08-06 05:29:59+00:00</td>\n",
       "      <td>Yellow</td>\n",
       "      <td>1</td>\n",
       "    </tr>\n",
       "    <tr>\n",
       "      <th>2</th>\n",
       "      <td>2012-08-06 05:30:00+00:00</td>\n",
       "      <td>2012-08-13 01:59:59+00:00</td>\n",
       "      <td>Orange</td>\n",
       "      <td>2</td>\n",
       "    </tr>\n",
       "    <tr>\n",
       "      <th>3</th>\n",
       "      <td>2012-08-13 02:00:00+00:00</td>\n",
       "      <td>2012-12-12 00:29:59+00:00</td>\n",
       "      <td>Yellow</td>\n",
       "      <td>1</td>\n",
       "    </tr>\n",
       "    <tr>\n",
       "      <th>4</th>\n",
       "      <td>2012-12-12 00:30:00+00:00</td>\n",
       "      <td>2013-01-07 00:59:59+00:00</td>\n",
       "      <td>Orange</td>\n",
       "      <td>2</td>\n",
       "    </tr>\n",
       "  </tbody>\n",
       "</table>\n",
       "</div>"
      ],
      "text/plain": [
       "            PeriodStart UTC             PeriodEnd UTC     ACC  ACCnum\n",
       "0 2009-08-03 00:00:00+00:00 2012-08-02 03:14:59+00:00   Green       0\n",
       "1 2012-08-02 03:15:00+00:00 2012-08-06 05:29:59+00:00  Yellow       1\n",
       "2 2012-08-06 05:30:00+00:00 2012-08-13 01:59:59+00:00  Orange       2\n",
       "3 2012-08-13 02:00:00+00:00 2012-12-12 00:29:59+00:00  Yellow       1\n",
       "4 2012-12-12 00:30:00+00:00 2013-01-07 00:59:59+00:00  Orange       2"
      ]
     },
     "execution_count": 8,
     "metadata": {},
     "output_type": "execute_result"
    }
   ],
   "source": [
    "acc.head()"
   ]
  },
  {
   "cell_type": "markdown",
   "metadata": {},
   "source": [
    "#### Basic Data Plot Using\n",
    "The data are plotted as a \"steps\". As ACC values are assigned to a time interval, we have to plot `PeriodStart UTC` and `PeriodEnd UTC` to get the complete data, but with different steps. You can find an example of plotting these data as a line graph in a [data blog on the VAL dataset](https://www.geonet.org.nz/news/3fN5Mbo0RFkS8Bm0CmYcSl).\n",
    "\n",
    "As ACC varies from green to red, which we mapped to 0 - 3, we fix the y-axis to the range -0.5 - 3.5. We apply blocks of colour to the graph to illustrate the ACC so we do not have to label the values."
   ]
  },
  {
   "cell_type": "code",
   "execution_count": 9,
   "metadata": {},
   "outputs": [
    {
     "data": {
      "text/plain": [
       "Text(0, 1.1, 'ACC: WhakaariWhiteIsland')"
      ]
     },
     "execution_count": 9,
     "metadata": {},
     "output_type": "execute_result"
    },
    {
     "data": {
      "image/png": "[encoded data removed]",
      "text/plain": [
       "<Figure size 1000x500 with 1 Axes>"
      ]
     },
     "metadata": {},
     "output_type": "display_data"
    }
   ],
   "source": [
    "fig,ax = plt.subplots(1,1, figsize=(10,5))\n",
    "\n",
    "ax.tick_params(labelbottom=True, labeltop=True, labelleft=False, labelright=False,\n",
    "                     bottom=True, top=True, left=True, right=True)\n",
    "\n",
    "ax.set_ylim(-0.5,3.5)\n",
    "\n",
    "#colour acc valies\n",
    "alpha=0.5\n",
    "ax.axhspan(-0.5,0.5, color='green', alpha=alpha)\n",
    "ax.axhspan(0.5,1.5, color='yellow', alpha=alpha)\n",
    "ax.axhspan(1.5,2.5, color='orange', alpha=alpha)\n",
    "ax.axhspan(2.5,3.5, color='red', alpha=alpha)\n",
    "\n",
    "#x-grid\n",
    "ax.grid(axis='x', linestyle='--', color='black', alpha=0.2)\n",
    "\n",
    "ax.step(acc['PeriodStart UTC'],acc['ACCnum'], where='post', color='black')\n",
    "ax.step(acc['PeriodEnd UTC'],acc['ACCnum'], where='pre', color='black')\n",
    "\n",
    "ax.set_yticks([])\n",
    "ax.set_ylabel('ACC COLOUR', color='grey', loc='top')\n",
    "ax.text(0,1.1, 'ACC: '+volcano, fontsize=12, transform=ax.transAxes)"
   ]
  }
 ],
 "metadata": {
  "kernelspec": {
   "display_name": "general",
   "language": "python",
   "name": "general"
  },
  "language_info": {
   "codemirror_mode": {
    "name": "ipython",
    "version": 3
   },
   "file_extension": ".py",
   "mimetype": "text/x-python",
   "name": "python",
   "nbconvert_exporter": "python",
   "pygments_lexer": "ipython3",
   "version": "3.12.7"
  }
 },
 "nbformat": 4,
 "nbformat_minor": 4
}
