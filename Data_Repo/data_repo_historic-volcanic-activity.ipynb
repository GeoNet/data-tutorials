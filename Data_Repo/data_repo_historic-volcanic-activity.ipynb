{
 "cells": [
  {
   "cell_type": "markdown",
   "id": "amazing-gateway",
   "metadata": {},
   "source": [
    "# HOW TO RETRIEVE AND USE HISTORIC VOLCANIC ACTIVITY DATA"
   ]
  },
  {
   "cell_type": "markdown",
   "id": "4f633d89-f91b-4c03-9554-12b48bfa0c3b",
   "metadata": {},
   "source": [
    "The data are available through the [GeoNet GitHub data repository](https://github.com/GeoNet/data/tree/main/historic-volcanic-activity), and more information on the dataset can be found there."
   ]
  },
  {
   "cell_type": "markdown",
   "id": "dacab096-e283-478b-abf1-61935e8d931d",
   "metadata": {},
   "source": [
    "## &nbsp;Table of contents\n",
    "### 1. Basic requirements\n",
    "### 2. Data retrieval and basic graphing\n",
    "### &nbsp;1. Basic Timeseries Plot\n",
    "### &nbsp;2. Locations of Activity"
   ]
  },
  {
   "cell_type": "markdown",
   "id": "5a098d2a-e6a8-4744-92af-cefbfdb1fbd3",
   "metadata": {},
   "source": [
    "## &nbsp;1. Basic requirements"
   ]
  },
  {
   "cell_type": "markdown",
   "id": "clear-possession",
   "metadata": {},
   "source": [
    "### Import required Python modules/libraries"
   ]
  },
  {
   "cell_type": "code",
   "execution_count": 1,
   "id": "juvenile-vaccine",
   "metadata": {},
   "outputs": [],
   "source": [
    "#pandas for data analysis\n",
    "import pandas as pd\n",
    "\n",
    "#matplotlib for graphing\n",
    "import matplotlib.pyplot as plt\n",
    "import matplotlib\n",
    "\n",
    "#for datetime functionality\n",
    "import datetime as dt\n",
    "from dateutil import tz \n",
    "\n",
    "import warnings\n",
    "warnings.simplefilter(action='ignore')"
   ]
  },
  {
   "cell_type": "markdown",
   "id": "c31737c1-1498-40d5-8b58-21664d9738ce",
   "metadata": {},
   "source": [
    "## &nbsp;2. Basic data retrieval and graphing\n",
    "\n",
    "We will work with data from Ruapehu for a basic timeseries plot, and from Tongairo to show how you can analyse different eruption locations.\n",
    "\n",
    "The Tongairo dataset was used for a [GeoNet data blog](https://www.geonet.org.nz/news/2DMtHEzmma5EqfMWmMvhjy), and that [blog's notebook is also available](https://github.com/GeoNet/data-tutorials/tree/main/Data_Blog/blog_05_visualize_eruption_catalogue), and contains additional examples. Please note that notebooks used to for data blogs are not maintained so there is no guarantee code will run."
   ]
  },
  {
   "cell_type": "markdown",
   "id": "94bd7a38-69c7-447f-a988-afd4ba373a1f",
   "metadata": {},
   "source": [
    "### &nbsp;1. Basic Timeseries Plot\n",
    "\n",
    "Ruapehu activity is plotted as a vertical lines, with the height of the line according to the `Activity Scale`. We show a time period from 1960 to now."
   ]
  },
  {
   "cell_type": "code",
   "execution_count": 2,
   "id": "8e1d0fd2-b509-46e7-8d86-bd211adbd8bc",
   "metadata": {},
   "outputs": [],
   "source": [
    "url = 'https://raw.githubusercontent.com/GeoNet/data/refs/heads/main/historic-volcanic-activity/historic_eruptive_activity_ruapehu.csv'"
   ]
  },
  {
   "cell_type": "code",
   "execution_count": 3,
   "id": "486dbe82-269a-4679-bd50-ca2b8d6a9806",
   "metadata": {},
   "outputs": [],
   "source": [
    "hist = pd.read_csv(url, parse_dates=['Date LocalTime'], date_format='ISO8601')"
   ]
  },
  {
   "cell_type": "code",
   "execution_count": 4,
   "id": "fa9ea5bc-ad42-4e90-95dc-311f7621115e",
   "metadata": {},
   "outputs": [
    {
     "data": {
      "text/html": [
       "<div>\n",
       "<style scoped>\n",
       "    .dataframe tbody tr th:only-of-type {\n",
       "        vertical-align: middle;\n",
       "    }\n",
       "\n",
       "    .dataframe tbody tr th {\n",
       "        vertical-align: top;\n",
       "    }\n",
       "\n",
       "    .dataframe thead th {\n",
       "        text-align: right;\n",
       "    }\n",
       "</style>\n",
       "<table border=\"1\" class=\"dataframe\">\n",
       "  <thead>\n",
       "    <tr style=\"text-align: right;\">\n",
       "      <th></th>\n",
       "      <th>Date LocalTime</th>\n",
       "      <th>Date Comment</th>\n",
       "      <th>Activity Description</th>\n",
       "      <th>Activity Scale</th>\n",
       "      <th>Additional Details</th>\n",
       "      <th>References</th>\n",
       "    </tr>\n",
       "  </thead>\n",
       "  <tbody>\n",
       "    <tr>\n",
       "      <th>526</th>\n",
       "      <td>1997-11-01</td>\n",
       "      <td>NaN</td>\n",
       "      <td>Minor phreatic eruptions</td>\n",
       "      <td>1</td>\n",
       "      <td>Confined to basin</td>\n",
       "      <td>NaN</td>\n",
       "    </tr>\n",
       "    <tr>\n",
       "      <th>527</th>\n",
       "      <td>1998-11-08</td>\n",
       "      <td>NaN</td>\n",
       "      <td>Small phreatic eruptions</td>\n",
       "      <td>1</td>\n",
       "      <td>Confined to basin</td>\n",
       "      <td>NaN</td>\n",
       "    </tr>\n",
       "    <tr>\n",
       "      <th>528</th>\n",
       "      <td>2006-10-04</td>\n",
       "      <td>NaN</td>\n",
       "      <td>Minor hydrothermal eruption</td>\n",
       "      <td>2</td>\n",
       "      <td>Confined to basin</td>\n",
       "      <td>NaN</td>\n",
       "    </tr>\n",
       "    <tr>\n",
       "      <th>529</th>\n",
       "      <td>2007-09-25</td>\n",
       "      <td>NaN</td>\n",
       "      <td>Moderate hydrothermal eruptions with lahars do...</td>\n",
       "      <td>4</td>\n",
       "      <td>Confined to summit plateau and Whangaehu valle...</td>\n",
       "      <td>NaN</td>\n",
       "    </tr>\n",
       "    <tr>\n",
       "      <th>530</th>\n",
       "      <td>2009-07-13</td>\n",
       "      <td>NaN</td>\n",
       "      <td>Phreatic activity</td>\n",
       "      <td>2</td>\n",
       "      <td>Small snow slurry lahars in upper Whangaehu</td>\n",
       "      <td>NaN</td>\n",
       "    </tr>\n",
       "  </tbody>\n",
       "</table>\n",
       "</div>"
      ],
      "text/plain": [
       "    Date LocalTime Date Comment  \\\n",
       "526     1997-11-01          NaN   \n",
       "527     1998-11-08          NaN   \n",
       "528     2006-10-04          NaN   \n",
       "529     2007-09-25          NaN   \n",
       "530     2009-07-13          NaN   \n",
       "\n",
       "                                  Activity Description  Activity Scale  \\\n",
       "526                           Minor phreatic eruptions               1   \n",
       "527                           Small phreatic eruptions               1   \n",
       "528                        Minor hydrothermal eruption               2   \n",
       "529  Moderate hydrothermal eruptions with lahars do...               4   \n",
       "530                                  Phreatic activity               2   \n",
       "\n",
       "                                    Additional Details References  \n",
       "526                                  Confined to basin        NaN  \n",
       "527                                  Confined to basin        NaN  \n",
       "528                                  Confined to basin        NaN  \n",
       "529  Confined to summit plateau and Whangaehu valle...        NaN  \n",
       "530        Small snow slurry lahars in upper Whangaehu        NaN  "
      ]
     },
     "execution_count": 4,
     "metadata": {},
     "output_type": "execute_result"
    }
   ],
   "source": [
    "hist.tail()"
   ]
  },
  {
   "cell_type": "code",
   "execution_count": 5,
   "id": "26f9b443-d508-4d6d-a711-3c6d06fa12a3",
   "metadata": {},
   "outputs": [
    {
     "data": {
      "text/plain": [
       "Text(0, 0.5, 'Activity scale value')"
      ]
     },
     "execution_count": 5,
     "metadata": {},
     "output_type": "execute_result"
    },
    {
     "data": {
      "image/png": "[encoded data removed]",
      "text/plain": [
       "<Figure size 1500x500 with 1 Axes>"
      ]
     },
     "metadata": {},
     "output_type": "display_data"
    }
   ],
   "source": [
    "fig,ax = plt.subplots(1,1,figsize=(15,5), sharex=True)\n",
    "\n",
    "ax.set_xlim(left=dt.datetime(1960,1,1), right=dt.datetime.now())\n",
    "\n",
    "ax.vlines(hist['Date LocalTime'], ymin=0, ymax=hist['Activity Scale'], color='lightcoral')\n",
    "ax.set_ylim(0,5.5)\n",
    "ax.set_ylabel('Activity scale value')"
   ]
  },
  {
   "cell_type": "markdown",
   "id": "cf412236-33dc-4e0c-9763-b7e310604bd9",
   "metadata": {},
   "source": [
    "### &nbsp;2. Locations of activity\n",
    "\n",
    "We calculate and graph a histogram of locations of reported Tongariro activity."
   ]
  },
  {
   "cell_type": "code",
   "execution_count": 6,
   "id": "2d1b1506-5a6e-42c4-b3b4-37b1670513d1",
   "metadata": {},
   "outputs": [],
   "source": [
    "url = 'https://raw.githubusercontent.com/GeoNet/data/main/historic-volcanic-activity/historic_eruptive_activity_tongariro.csv'"
   ]
  },
  {
   "cell_type": "code",
   "execution_count": 7,
   "id": "9461ae55-84c5-498e-a3b8-90ae24e98223",
   "metadata": {},
   "outputs": [],
   "source": [
    "tong = pd.read_csv(url, index_col = 'Date LocalTime', parse_dates=True)\n",
    "#keep only rows with a valid index\n",
    "tong = tong.iloc[tong.index.notnull()]"
   ]
  },
  {
   "cell_type": "code",
   "execution_count": 8,
   "id": "b366fdcd-2f38-4324-8e67-5223066cbfc4",
   "metadata": {},
   "outputs": [
    {
     "data": {
      "text/html": [
       "<div>\n",
       "<style scoped>\n",
       "    .dataframe tbody tr th:only-of-type {\n",
       "        vertical-align: middle;\n",
       "    }\n",
       "\n",
       "    .dataframe tbody tr th {\n",
       "        vertical-align: top;\n",
       "    }\n",
       "\n",
       "    .dataframe thead th {\n",
       "        text-align: right;\n",
       "    }\n",
       "</style>\n",
       "<table border=\"1\" class=\"dataframe\">\n",
       "  <thead>\n",
       "    <tr style=\"text-align: right;\">\n",
       "      <th></th>\n",
       "      <th>Date Comment</th>\n",
       "      <th>Location</th>\n",
       "      <th>Activity Description</th>\n",
       "      <th>Certainty</th>\n",
       "      <th>References</th>\n",
       "    </tr>\n",
       "    <tr>\n",
       "      <th>Date LocalTime</th>\n",
       "      <th></th>\n",
       "      <th></th>\n",
       "      <th></th>\n",
       "      <th></th>\n",
       "      <th></th>\n",
       "    </tr>\n",
       "  </thead>\n",
       "  <tbody>\n",
       "    <tr>\n",
       "      <th>1846-05-15</th>\n",
       "      <td>May 1846</td>\n",
       "      <td>Ketetahi</td>\n",
       "      <td>An account of Ketetahi forming at the time of ...</td>\n",
       "      <td>Possible</td>\n",
       "      <td>Hawke's Bay Herald 7.4.1890</td>\n",
       "    </tr>\n",
       "    <tr>\n",
       "      <th>1848-10-15</th>\n",
       "      <td>Oct 1848</td>\n",
       "      <td>unknown</td>\n",
       "      <td>Observation of an ash cloud and suggestion it ...</td>\n",
       "      <td>Discounted</td>\n",
       "      <td>Wellington Independent 25.10.1848</td>\n",
       "    </tr>\n",
       "    <tr>\n",
       "      <th>1848-11-15</th>\n",
       "      <td>Nov 1848</td>\n",
       "      <td>Tongariro</td>\n",
       "      <td>Report of eruptive activity at Tongariro. Cons...</td>\n",
       "      <td>Discounted</td>\n",
       "      <td>New Zealander 15.11.1848</td>\n",
       "    </tr>\n",
       "    <tr>\n",
       "      <th>1854-07-01</th>\n",
       "      <td>1854</td>\n",
       "      <td>Red Crater or Te Maari</td>\n",
       "      <td>Assumed to be based on misreporting the date o...</td>\n",
       "      <td>NaN</td>\n",
       "      <td>Newspapers quoting Hochstetter lecture (see be...</td>\n",
       "    </tr>\n",
       "    <tr>\n",
       "      <th>1855-01-23</th>\n",
       "      <td>Jan 1855</td>\n",
       "      <td>Red Crater or Te Maari</td>\n",
       "      <td>Ash eruption at the time of the Wellington ear...</td>\n",
       "      <td>Possible</td>\n",
       "      <td>Hochstetter (1864; cited in Fleming 1959) Kerr...</td>\n",
       "    </tr>\n",
       "  </tbody>\n",
       "</table>\n",
       "</div>"
      ],
      "text/plain": [
       "               Date Comment                Location  \\\n",
       "Date LocalTime                                        \n",
       "1846-05-15         May 1846                Ketetahi   \n",
       "1848-10-15         Oct 1848                 unknown   \n",
       "1848-11-15         Nov 1848               Tongariro   \n",
       "1854-07-01             1854  Red Crater or Te Maari   \n",
       "1855-01-23         Jan 1855  Red Crater or Te Maari   \n",
       "\n",
       "                                             Activity Description   Certainty  \\\n",
       "Date LocalTime                                                                  \n",
       "1846-05-15      An account of Ketetahi forming at the time of ...    Possible   \n",
       "1848-10-15      Observation of an ash cloud and suggestion it ...  Discounted   \n",
       "1848-11-15      Report of eruptive activity at Tongariro. Cons...  Discounted   \n",
       "1854-07-01      Assumed to be based on misreporting the date o...         NaN   \n",
       "1855-01-23      Ash eruption at the time of the Wellington ear...    Possible   \n",
       "\n",
       "                                                       References  \n",
       "Date LocalTime                                                     \n",
       "1846-05-15                            Hawke's Bay Herald 7.4.1890  \n",
       "1848-10-15                      Wellington Independent 25.10.1848  \n",
       "1848-11-15                               New Zealander 15.11.1848  \n",
       "1854-07-01      Newspapers quoting Hochstetter lecture (see be...  \n",
       "1855-01-23      Hochstetter (1864; cited in Fleming 1959) Kerr...  "
      ]
     },
     "execution_count": 8,
     "metadata": {},
     "output_type": "execute_result"
    }
   ],
   "source": [
    "tong.head()"
   ]
  },
  {
   "cell_type": "markdown",
   "id": "4578e605-3a72-4474-842c-06afd8d04967",
   "metadata": {},
   "source": [
    "#### Number of occurrences of each activity location\n",
    "\n",
    "Additional examples are available in a [notebook](https://github.com/GeoNet/data-tutorials/blob/main/Data_Blog/blog_05_visualize_eruption_catalogue/visualize_eruption_catalogue.ipynb) used to prepare material for a data blog on [visualising historic volcanic activity at Tongariro](https://www.geonet.org.nz/news/2DMtHEzmma5EqfMWmMvhjy)."
   ]
  },
  {
   "cell_type": "code",
   "execution_count": 9,
   "id": "14b6e92b-284f-4e59-8da3-4b7dbe24569b",
   "metadata": {
    "tags": []
   },
   "outputs": [
    {
     "data": {
      "text/html": [
       "<div>\n",
       "<style scoped>\n",
       "    .dataframe tbody tr th:only-of-type {\n",
       "        vertical-align: middle;\n",
       "    }\n",
       "\n",
       "    .dataframe tbody tr th {\n",
       "        vertical-align: top;\n",
       "    }\n",
       "\n",
       "    .dataframe thead th {\n",
       "        text-align: right;\n",
       "    }\n",
       "</style>\n",
       "<table border=\"1\" class=\"dataframe\">\n",
       "  <thead>\n",
       "    <tr style=\"text-align: right;\">\n",
       "      <th></th>\n",
       "      <th>count</th>\n",
       "    </tr>\n",
       "  </thead>\n",
       "  <tbody>\n",
       "    <tr>\n",
       "      <th>Te Maari</th>\n",
       "      <td>55</td>\n",
       "    </tr>\n",
       "    <tr>\n",
       "      <th>Red Crater</th>\n",
       "      <td>27</td>\n",
       "    </tr>\n",
       "    <tr>\n",
       "      <th>Upper Te Maari</th>\n",
       "      <td>13</td>\n",
       "    </tr>\n",
       "    <tr>\n",
       "      <th>Ketetahi</th>\n",
       "      <td>8</td>\n",
       "    </tr>\n",
       "    <tr>\n",
       "      <th>Ngauruhoe</th>\n",
       "      <td>5</td>\n",
       "    </tr>\n",
       "    <tr>\n",
       "      <th>South Crater</th>\n",
       "      <td>4</td>\n",
       "    </tr>\n",
       "    <tr>\n",
       "      <th>Red Crater or Te Maari</th>\n",
       "      <td>2</td>\n",
       "    </tr>\n",
       "    <tr>\n",
       "      <th>(Upper?) Te Maari</th>\n",
       "      <td>2</td>\n",
       "    </tr>\n",
       "    <tr>\n",
       "      <th>Tongariro</th>\n",
       "      <td>1</td>\n",
       "    </tr>\n",
       "    <tr>\n",
       "      <th>Lower Te Maari</th>\n",
       "      <td>1</td>\n",
       "    </tr>\n",
       "    <tr>\n",
       "      <th>unknown</th>\n",
       "      <td>1</td>\n",
       "    </tr>\n",
       "  </tbody>\n",
       "</table>\n",
       "</div>"
      ],
      "text/plain": [
       "                        count\n",
       "Te Maari                   55\n",
       "Red Crater                 27\n",
       "Upper Te Maari             13\n",
       "Ketetahi                    8\n",
       "Ngauruhoe                   5\n",
       "South Crater                4\n",
       "Red Crater or Te Maari      2\n",
       "(Upper?) Te Maari           2\n",
       "Tongariro                   1\n",
       "Lower Te Maari              1\n",
       "unknown                     1"
      ]
     },
     "execution_count": 9,
     "metadata": {},
     "output_type": "execute_result"
    }
   ],
   "source": [
    "#count number of occurrences of each location\n",
    "location = pd.DataFrame(tong['Location'].value_counts())\n",
    "\n",
    "#move the row for `unknown` location to the end, as it looks tidier\n",
    "move = location.loc['unknown']\n",
    "location.drop('unknown', inplace=True)\n",
    "location = pd.concat([location, pd.DataFrame([move])])\n",
    "location"
   ]
  },
  {
   "cell_type": "code",
   "execution_count": 10,
   "id": "7621afca-0854-43a0-8256-134ab01bb9e9",
   "metadata": {},
   "outputs": [
    {
     "data": {
      "text/plain": [
       "Text(0, 0.5, 'Number of occurrences')"
      ]
     },
     "execution_count": 10,
     "metadata": {},
     "output_type": "execute_result"
    },
    {
     "data": {
      "image/png": "[encoded data removed]",
      "text/plain": [
       "<Figure size 2500x500 with 1 Axes>"
      ]
     },
     "metadata": {},
     "output_type": "display_data"
    }
   ],
   "source": [
    "fig,ax = plt.subplots(1,1, figsize=(25,5))\n",
    "ax.bar(location.index, location['count'], color='lightcoral')\n",
    "ax.set_ylabel('Number of occurrences')"
   ]
  }
 ],
 "metadata": {
  "kernelspec": {
   "display_name": "geonet-tutorial",
   "language": "python",
   "name": "geonet-tutorial"
  },
  "language_info": {
   "codemirror_mode": {
    "name": "ipython",
    "version": 3
   },
   "file_extension": ".py",
   "mimetype": "text/x-python",
   "name": "python",
   "nbconvert_exporter": "python",
   "pygments_lexer": "ipython3",
   "version": "3.12.9"
  }
 },
 "nbformat": 4,
 "nbformat_minor": 5
}
