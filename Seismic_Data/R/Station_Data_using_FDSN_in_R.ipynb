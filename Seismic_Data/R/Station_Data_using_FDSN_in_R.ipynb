{
 "cells": [
  {
   "cell_type": "markdown",
   "metadata": {},
   "source": [
    "# <center> Introduction on Using the language R to Access Station Data"
   ]
  },
  {
   "cell_type": "markdown",
   "metadata": {},
   "source": [
    "In this notebook we will look at the station active in a set time frame in a set area. By the end of this tutorial we have a station map like the one below <img src=\"station.png\" height=\"250\" width=\"250\"> "
   ]
  },
  {
   "cell_type": "markdown",
   "metadata": {},
   "source": [
    "## &nbsp; Table of contents"
   ]
  },
  {
   "cell_type": "markdown",
   "metadata": {},
   "source": [
    "### 1. Introduction\n",
    "### 2. Set Up\n",
    "### 3. Get Station data\n",
    "### 4. Visualising Station data"
   ]
  },
  {
   "cell_type": "markdown",
   "metadata": {},
   "source": [
    "## &nbsp; 1. Introduction"
   ]
  },
  {
   "cell_type": "markdown",
   "metadata": {},
   "source": [
    "In this tutorial we will be learning how to use the language R to be able to access station data."
   ]
  },
  {
   "cell_type": "markdown",
   "metadata": {},
   "source": [
    "R is a language made for statisticians by statisticians. It is an open source language which anyone can make a package for. This means that R has a lot of useful functions for all kinds of research."
   ]
  },
  {
   "cell_type": "markdown",
   "metadata": {},
   "source": [
    "This tutorial assumes that you have basic knowledge of the language R, but basic knowledge of any programming language should be sufficient to follow this tutorial.\n",
    "We will be using the packages IRISSeismic (https://CRAN.R-project.org/package=IRISSeismic) and maps (https://CRAN.R-project.org/package=maps ).<br>"
   ]
  },
  {
   "cell_type": "markdown",
   "metadata": {},
   "source": [
    "This tutorial will be using GeoNet's FDSN webservices. FDSN stands for Federation of Digital Seismograph Networks. Their specifications make sure there is a consistent way for people to access seismic data. \n",
    "IRIS(Incorporated Research Institutions for Seismology) also have a FDSN webservice which IRISSeismic was written for. As such some of the functions in IRISSeismic may not work on GeoNet's data."
   ]
  },
  {
   "cell_type": "markdown",
   "metadata": {},
   "source": [
    "All data will be save into R as a data frame which is much like, what would be called, a dictionary in other languages, but with a few more restrictions to the data structure. To understand more about data frames go to https://www.rdocumentation.org/packages/base/versions/3.5.1/topics/data.frame"
   ]
  },
  {
   "cell_type": "markdown",
   "metadata": {},
   "source": [
    "## &nbsp; 2. Set Up"
   ]
  },
  {
   "cell_type": "markdown",
   "metadata": {},
   "source": [
    "###### Install the IRISSeismic and maps packages"
   ]
  },
  {
   "cell_type": "code",
   "execution_count": null,
   "metadata": {},
   "outputs": [],
   "source": [
    "install.packages(\"IRISSeismic\")\n",
    "install.packages(\"maps\")"
   ]
  },
  {
   "cell_type": "code",
   "execution_count": 2,
   "metadata": {},
   "outputs": [],
   "source": [
    "#library(help = \"IRISSeismic\")"
   ]
  },
  {
   "cell_type": "markdown",
   "metadata": {},
   "source": [
    "Note this code might take some time to run but you only need to run this ONCE. \n",
    "IRISSemismic has many functions that may be useful. To see a list of them all with description run `library(help = \"IRISSeismic\")`"
   ]
  },
  {
   "cell_type": "markdown",
   "metadata": {},
   "source": [
    "###### Import the library and set your URLs to the same as below"
   ]
  },
  {
   "cell_type": "code",
   "execution_count": 3,
   "metadata": {},
   "outputs": [],
   "source": [
    "library(IRISSeismic)\n",
    "library(maps)\n",
    "#Near real time\n",
    "nrt <- new('IrisClient', site = 'https://service-nrt.geonet.org.nz')\n",
    "#Archive\n",
    "acr <- new('IrisClient', site = 'https://service.geonet.org.nz')"
   ]
  },
  {
   "cell_type": "markdown",
   "metadata": {},
   "source": [
    "GeoNet has two FDSN services <br>\n",
    "For waveform data\n",
    "an archive service holds verified data starting 7 days after collection, \n",
    "and a near real-time service holds data that could be incomplete from the last 8 days<br>\n",
    "For the event and station data there is no distinction between these services "
   ]
  },
  {
   "cell_type": "markdown",
   "metadata": {},
   "source": [
    "###### Set the start and end time of the data you want to select"
   ]
  },
  {
   "cell_type": "code",
   "execution_count": 4,
   "metadata": {},
   "outputs": [],
   "source": [
    "starttime <- as.POSIXct(\"2010-10-01\",tz=\"GMT\")\n",
    "endtime <- as.POSIXct(\"2011-02-23\",tz=\"GMT\")"
   ]
  },
  {
   "cell_type": "markdown",
   "metadata": {},
   "source": [
    "Note that time must be in UTC (Universal Time Coordinated) which is 13 or 12 hours behind nzt (New Zealand Time) (depending on daylight savings time).\n",
    "Also Note that GMT or Greenwich mean time is the same time as UTC.\n",
    "    There are online converters if needed.\n",
    "    You can add to the time in number of seconds eg. `stattime + 60` would be the time 2016-11-13 00:01:00.000<br>"
   ]
  },
  {
   "cell_type": "markdown",
   "metadata": {},
   "source": [
    "###### Set longitude and latitude you want to look at"
   ]
  },
  {
   "cell_type": "code",
   "execution_count": 5,
   "metadata": {},
   "outputs": [],
   "source": [
    "lat <- -43.5321\n",
    "lon <- 172.6362"
   ]
  },
  {
   "cell_type": "markdown",
   "metadata": {},
   "source": [
    "In this case we are looking at the Christchurch"
   ]
  },
  {
   "cell_type": "markdown",
   "metadata": {},
   "source": [
    "## &nbsp; 3. Get Station data"
   ]
  },
  {
   "cell_type": "markdown",
   "metadata": {},
   "source": [
    "Station data is an inventory of metadata from the stations \n",
    "The `getStation` function with return a R `data.frame` with columns `network` `station` `latitude` `longitude` `elevation` `sitename` `starttime` `endtime`. Where `startime` is the date of the stations installation and `endtime` is the date of that the station stopped running. Note if `endtime` is NA then the station is still running."
   ]
  },
  {
   "cell_type": "code",
   "execution_count": 6,
   "metadata": {},
   "outputs": [],
   "source": [
    "station<- getStation(acr,\"NZ\", \"*\",\"*\", \"?H?\",starttime ,endtime, latitude= lat, longitude= lon ,maxradius = 1)"
   ]
  },
  {
   "cell_type": "markdown",
   "metadata": {},
   "source": [
    "The parameters needed are service, network, station, location, channel, starttime, and endtime.\n",
    "     The `*` is a wildcard character that says that value can be anything\n",
    "    Optional parameters are `latitude` `longitude` `maxradius` and `minradius`.\n",
    "    Here `latitude` and `longitude` are the latitude and longitude of the event. "
   ]
  },
  {
   "cell_type": "markdown",
   "metadata": {},
   "source": [
    "The channel code is in the fomat `\"?H?\"` This means we are looking for only weak motion sensor. See https://www.geonet.org.nz/data/supplementary/channels for more information."
   ]
  },
  {
   "cell_type": "markdown",
   "metadata": {},
   "source": [
    "## &nbsp; 4. Visualising Station data"
   ]
  },
  {
   "cell_type": "code",
   "execution_count": 7,
   "metadata": {},
   "outputs": [],
   "source": [
    "xhigh <- max(station$longitude)+ .3\n",
    "xlow <- min(station$longitude)- .3\n",
    "yhigh <- max(station$latitude)+ .3\n",
    "ylow <- min(station$latitude)- .3"
   ]
  },
  {
   "cell_type": "markdown",
   "metadata": {},
   "source": [
    "We can take the maximum longitude shown on the map to the maximum longitude of all the station and the same for minimum and latitude. \n",
    "So that the data is not on the edge of the map we can make sure all points are at least 0.3 from the edge of the map by modifying the maximum and minimum,longitude and latitude by 0.3. "
   ]
  },
  {
   "cell_type": "code",
   "execution_count": 8,
   "metadata": {},
   "outputs": [
    {
     "data": {
      "image/png": "[encoded data removed]",
      "text/plain": [
       "plot without title"
      ]
     },
     "metadata": {},
     "output_type": "display_data"
    }
   ],
   "source": [
    "map(\"nz\",xlim=c(xlow,xhigh),ylim=c(ylow,yhigh), fill=TRUE, col=\"lightgreen\")\n",
    "points(station$longitude, station$latitude, pch=17, cex=2, col='red')\n",
    "labels <- paste(station$station)\n",
    "text(station$longitude, station$latitude, labels=labels, cex=1, pos=4)\n",
    "map.axes()"
   ]
  },
  {
   "cell_type": "markdown",
   "metadata": {},
   "source": [
    "`map` makes the base map using the longitude and latitude as found above.\n",
    "`pch` say what shape will be plotted` pch=17` say the shape will be triangle.\n",
    "If you right click on this plot in the notebook you can save it.\n",
    "For more about what you can do with maps go to http://www.geog.uoregon.edu/GeogR/ or run `library(help =\"maps\")`"
   ]
  },
  {
   "cell_type": "markdown",
   "metadata": {},
   "source": [
    "###### Print station data"
   ]
  },
  {
   "cell_type": "code",
   "execution_count": 9,
   "metadata": {},
   "outputs": [
    {
     "data": {
      "text/html": [
       "<table>\n",
       "<thead><tr><th scope=col>network</th><th scope=col>station</th><th scope=col>latitude</th><th scope=col>longitude</th><th scope=col>elevation</th><th scope=col>sitename</th><th scope=col>starttime</th><th scope=col>endtime</th></tr></thead>\n",
       "<tbody>\n",
       "\t<tr><td>NZ                   </td><td>CRLZ                 </td><td>-43.57475            </td><td>172.6232             </td><td> 55                  </td><td>Canterbury Ring Laser</td><td>1996-02-22           </td><td>2014-01-09           </td></tr>\n",
       "\t<tr><td>NZ                   </td><td>LTZ                  </td><td>-42.78167            </td><td>172.2710             </td><td>648                  </td><td>Lake Taylor Station  </td><td>1989-10-12           </td><td>NA                   </td></tr>\n",
       "\t<tr><td>NZ                   </td><td>MQZ                  </td><td>-43.70608            </td><td>172.6538             </td><td> 57                  </td><td>McQueen's Valley     </td><td>1989-10-13           </td><td>NA                   </td></tr>\n",
       "\t<tr><td>NZ                   </td><td>OXZ                  </td><td>-43.32590            </td><td>172.0383             </td><td>360                  </td><td>Oxford               </td><td>2009-03-14           </td><td>NA                   </td></tr>\n",
       "</tbody>\n",
       "</table>\n"
      ],
      "text/latex": [
       "\\begin{tabular}{r|llllllll}\n",
       " network & station & latitude & longitude & elevation & sitename & starttime & endtime\\\\\n",
       "\\hline\n",
       "\t NZ                    & CRLZ                  & -43.57475             & 172.6232              &  55                   & Canterbury Ring Laser & 1996-02-22            & 2014-01-09           \\\\\n",
       "\t NZ                    & LTZ                   & -42.78167             & 172.2710              & 648                   & Lake Taylor Station   & 1989-10-12            & NA                   \\\\\n",
       "\t NZ                    & MQZ                   & -43.70608             & 172.6538              &  57                   & McQueen's Valley      & 1989-10-13            & NA                   \\\\\n",
       "\t NZ                    & OXZ                   & -43.32590             & 172.0383              & 360                   & Oxford                & 2009-03-14            & NA                   \\\\\n",
       "\\end{tabular}\n"
      ],
      "text/markdown": [
       "\n",
       "network | station | latitude | longitude | elevation | sitename | starttime | endtime | \n",
       "|---|---|---|---|\n",
       "| NZ                    | CRLZ                  | -43.57475             | 172.6232              |  55                   | Canterbury Ring Laser | 1996-02-22            | 2014-01-09            | \n",
       "| NZ                    | LTZ                   | -42.78167             | 172.2710              | 648                   | Lake Taylor Station   | 1989-10-12            | NA                    | \n",
       "| NZ                    | MQZ                   | -43.70608             | 172.6538              |  57                   | McQueen's Valley      | 1989-10-13            | NA                    | \n",
       "| NZ                    | OXZ                   | -43.32590             | 172.0383              | 360                   | Oxford                | 2009-03-14            | NA                    | \n",
       "\n",
       "\n"
      ],
      "text/plain": [
       "  network station latitude  longitude elevation sitename             \n",
       "1 NZ      CRLZ    -43.57475 172.6232   55       Canterbury Ring Laser\n",
       "2 NZ      LTZ     -42.78167 172.2710  648       Lake Taylor Station  \n",
       "3 NZ      MQZ     -43.70608 172.6538   57       McQueen's Valley     \n",
       "4 NZ      OXZ     -43.32590 172.0383  360       Oxford               \n",
       "  starttime  endtime   \n",
       "1 1996-02-22 2014-01-09\n",
       "2 1989-10-12 <NA>      \n",
       "3 1989-10-13 <NA>      \n",
       "4 2009-03-14 <NA>      "
      ]
     },
     "metadata": {},
     "output_type": "display_data"
    }
   ],
   "source": [
    "station"
   ]
  },
  {
   "cell_type": "markdown",
   "metadata": {},
   "source": [
    "## &nbsp;  4.3 Channel Data"
   ]
  },
  {
   "cell_type": "markdown",
   "metadata": {},
   "source": [
    "Channel data is a inventory of metadata from the stations with some extra data to the station data set. \n",
    "The `getChannel` function with return a R `data.frame` with columns `network` `station` `location` `channel` `latitude` `longitude` `elevation` `depth` `azimuth` `dip` `instrument` `scale` `scalefreq` `scaleunits` `samplerate` `starttime` `endtim` and `snclId`. Where `startime` and `endtime` are the same as for the station data."
   ]
  },
  {
   "cell_type": "markdown",
   "metadata": {},
   "source": [
    "###### Get Channel data"
   ]
  },
  {
   "cell_type": "code",
   "execution_count": 10,
   "metadata": {},
   "outputs": [],
   "source": [
    "channels<-getChannel(acr,\"NZ\", \"*\",\"*\", \"?H?\",starttime ,endtime, latitude= lat, longitude= lon ,maxradius = 1)"
   ]
  },
  {
   "cell_type": "markdown",
   "metadata": {},
   "source": [
    "The parameters needed are service, network, station, location, channel, starttime, and endtime.\n",
    "     The `*` is a wildcard character that says that value can be anything.\n",
    "    Optional parameters are `latitude` `longitude` `maxradius` and `minradius`."
   ]
  },
  {
   "cell_type": "markdown",
   "metadata": {},
   "source": [
    "To get the same stations as befor give `getChannel` the same parameters as `getStation`."
   ]
  },
  {
   "cell_type": "markdown",
   "metadata": {},
   "source": [
    "###### Print channel data"
   ]
  },
  {
   "cell_type": "code",
   "execution_count": 11,
   "metadata": {},
   "outputs": [
    {
     "data": {
      "text/html": [
       "<table>\n",
       "<thead><tr><th></th><th scope=col>network</th><th scope=col>station</th><th scope=col>location</th><th scope=col>channel</th><th scope=col>latitude</th><th scope=col>longitude</th><th scope=col>elevation</th><th scope=col>depth</th><th scope=col>azimuth</th><th scope=col>dip</th><th scope=col>instrument</th><th scope=col>scale</th><th scope=col>scalefreq</th><th scope=col>scaleunits</th><th scope=col>samplerate</th><th scope=col>starttime</th><th scope=col>endtime</th><th scope=col>snclId</th></tr></thead>\n",
       "<tbody>\n",
       "\t<tr><th scope=row>6</th><td>NZ                   </td><td>LTZ                  </td><td>10                   </td><td>HHE                  </td><td>-42.78167            </td><td>172.2710             </td><td>648                  </td><td>0.0                  </td><td>90                   </td><td>  0                  </td><td>Broadband Seismometer</td><td> 838860800           </td><td>1.00                 </td><td>m/s                  </td><td>100.0                </td><td>2010-02-09 01:03:00  </td><td>2013-10-23 05:05:00  </td><td>NZ.LTZ.10.HHE        </td></tr>\n",
       "\t<tr><th scope=row>9</th><td>NZ                   </td><td>LTZ                  </td><td>10                   </td><td>HHN                  </td><td>-42.78167            </td><td>172.2710             </td><td>648                  </td><td>0.0                  </td><td> 0                   </td><td>  0                  </td><td>Broadband Seismometer</td><td> 838860800           </td><td>1.00                 </td><td>m/s                  </td><td>100.0                </td><td>2010-02-09 01:03:00  </td><td>2013-10-23 05:05:00  </td><td>NZ.LTZ.10.HHN        </td></tr>\n",
       "\t<tr><th scope=row>4</th><td>NZ                   </td><td>LTZ                  </td><td>10                   </td><td>HHZ                  </td><td>-42.78167            </td><td>172.2710             </td><td>648                  </td><td>0.0                  </td><td> 0                   </td><td>-90                  </td><td>Broadband Seismometer</td><td> 838860800           </td><td>1.00                 </td><td>m/s                  </td><td>100.0                </td><td>2010-02-09 01:03:00  </td><td>2013-10-23 05:05:00  </td><td>NZ.LTZ.10.HHZ        </td></tr>\n",
       "\t<tr><th scope=row>1</th><td>NZ                   </td><td>LTZ                  </td><td>10                   </td><td>LHE                  </td><td>-42.78167            </td><td>172.2710             </td><td>648                  </td><td>0.0                  </td><td>90                   </td><td>  0                  </td><td>Broadband Seismometer</td><td> 838631826           </td><td>0.10                 </td><td>m/s                  </td><td>  1.0                </td><td>2010-02-09 01:03:00  </td><td>2013-10-23 05:05:00  </td><td>NZ.LTZ.10.LHE        </td></tr>\n",
       "\t<tr><th scope=row>8</th><td>NZ                   </td><td>LTZ                  </td><td>10                   </td><td>LHN                  </td><td>-42.78167            </td><td>172.2710             </td><td>648                  </td><td>0.0                  </td><td> 0                   </td><td>  0                  </td><td>Broadband Seismometer</td><td> 838631826           </td><td>0.10                 </td><td>m/s                  </td><td>  1.0                </td><td>2010-02-09 01:03:00  </td><td>2013-10-23 05:05:00  </td><td>NZ.LTZ.10.LHN        </td></tr>\n",
       "\t<tr><th scope=row>7</th><td>NZ                   </td><td>LTZ                  </td><td>10                   </td><td>LHZ                  </td><td>-42.78167            </td><td>172.2710             </td><td>648                  </td><td>0.0                  </td><td> 0                   </td><td>-90                  </td><td>Broadband Seismometer</td><td> 838631826           </td><td>0.10                 </td><td>m/s                  </td><td>  1.0                </td><td>2010-02-09 01:03:00  </td><td>2013-10-23 05:05:00  </td><td>NZ.LTZ.10.LHZ        </td></tr>\n",
       "\t<tr><th scope=row>3</th><td>NZ                   </td><td>LTZ                  </td><td>10                   </td><td>VHE                  </td><td>-42.78167            </td><td>172.2710             </td><td>648                  </td><td>0.0                  </td><td>90                   </td><td>  0                  </td><td>Broadband Seismometer</td><td>3335332015           </td><td>0.05                 </td><td>m/s                  </td><td>  0.1                </td><td>2010-02-09 01:03:00  </td><td>2013-10-23 05:05:00  </td><td>NZ.LTZ.10.VHE        </td></tr>\n",
       "\t<tr><th scope=row>2</th><td>NZ                   </td><td>LTZ                  </td><td>10                   </td><td>VHN                  </td><td>-42.78167            </td><td>172.2710             </td><td>648                  </td><td>0.0                  </td><td> 0                   </td><td>  0                  </td><td>Broadband Seismometer</td><td>3335332015           </td><td>0.05                 </td><td>m/s                  </td><td>  0.1                </td><td>2010-02-09 01:03:00  </td><td>2013-10-23 05:05:00  </td><td>NZ.LTZ.10.VHN        </td></tr>\n",
       "\t<tr><th scope=row>5</th><td>NZ                   </td><td>LTZ                  </td><td>10                   </td><td>VHZ                  </td><td>-42.78167            </td><td>172.2710             </td><td>648                  </td><td>0.0                  </td><td> 0                   </td><td>-90                  </td><td>Broadband Seismometer</td><td>3335332015           </td><td>0.05                 </td><td>m/s                  </td><td>  0.1                </td><td>2010-02-09 01:03:00  </td><td>2013-10-23 05:05:00  </td><td>NZ.LTZ.10.VHZ        </td></tr>\n",
       "\t<tr><th scope=row>16</th><td>NZ                   </td><td>MQZ                  </td><td>10                   </td><td>HHE                  </td><td>-43.70608            </td><td>172.6538             </td><td> 57                  </td><td>0.0                  </td><td>90                   </td><td>  0                  </td><td>Broadband Seismometer</td><td> 838860800           </td><td>1.00                 </td><td>m/s                  </td><td>100.0                </td><td>2009-08-06 04:00:00  </td><td>NA                   </td><td>NZ.MQZ.10.HHE        </td></tr>\n",
       "\t<tr><th scope=row>17</th><td>NZ                   </td><td>MQZ                  </td><td>10                   </td><td>HHN                  </td><td>-43.70608            </td><td>172.6538             </td><td> 57                  </td><td>0.0                  </td><td> 0                   </td><td>  0                  </td><td>Broadband Seismometer</td><td> 838860800           </td><td>1.00                 </td><td>m/s                  </td><td>100.0                </td><td>2009-08-06 04:00:00  </td><td>NA                   </td><td>NZ.MQZ.10.HHN        </td></tr>\n",
       "\t<tr><th scope=row>10</th><td>NZ                   </td><td>MQZ                  </td><td>10                   </td><td>HHZ                  </td><td>-43.70608            </td><td>172.6538             </td><td> 57                  </td><td>0.0                  </td><td> 0                   </td><td>-90                  </td><td>Broadband Seismometer</td><td> 838860800           </td><td>1.00                 </td><td>m/s                  </td><td>100.0                </td><td>2009-08-06 04:00:00  </td><td>NA                   </td><td>NZ.MQZ.10.HHZ        </td></tr>\n",
       "\t<tr><th scope=row>13</th><td>NZ                   </td><td>MQZ                  </td><td>10                   </td><td>LHE                  </td><td>-43.70608            </td><td>172.6538             </td><td> 57                  </td><td>0.0                  </td><td>90                   </td><td>  0                  </td><td>Broadband Seismometer</td><td> 838631826           </td><td>0.10                 </td><td>m/s                  </td><td>  1.0                </td><td>2009-08-06 04:00:00  </td><td>NA                   </td><td>NZ.MQZ.10.LHE        </td></tr>\n",
       "\t<tr><th scope=row>14</th><td>NZ                   </td><td>MQZ                  </td><td>10                   </td><td>LHN                  </td><td>-43.70608            </td><td>172.6538             </td><td> 57                  </td><td>0.0                  </td><td> 0                   </td><td>  0                  </td><td>Broadband Seismometer</td><td> 838631826           </td><td>0.10                 </td><td>m/s                  </td><td>  1.0                </td><td>2009-08-06 04:00:00  </td><td>NA                   </td><td>NZ.MQZ.10.LHN        </td></tr>\n",
       "\t<tr><th scope=row>15</th><td>NZ                   </td><td>MQZ                  </td><td>10                   </td><td>LHZ                  </td><td>-43.70608            </td><td>172.6538             </td><td> 57                  </td><td>0.0                  </td><td> 0                   </td><td>-90                  </td><td>Broadband Seismometer</td><td> 838631826           </td><td>0.10                 </td><td>m/s                  </td><td>  1.0                </td><td>2009-08-06 04:00:00  </td><td>NA                   </td><td>NZ.MQZ.10.LHZ        </td></tr>\n",
       "\t<tr><th scope=row>18</th><td>NZ                   </td><td>MQZ                  </td><td>10                   </td><td>VHE                  </td><td>-43.70608            </td><td>172.6538             </td><td> 57                  </td><td>0.0                  </td><td>90                   </td><td>  0                  </td><td>Broadband Seismometer</td><td> 833833004           </td><td>0.05                 </td><td>m/s                  </td><td>  0.1                </td><td>2009-08-06 04:00:00  </td><td>NA                   </td><td>NZ.MQZ.10.VHE        </td></tr>\n",
       "\t<tr><th scope=row>12</th><td>NZ                   </td><td>MQZ                  </td><td>10                   </td><td>VHN                  </td><td>-43.70608            </td><td>172.6538             </td><td> 57                  </td><td>0.0                  </td><td> 0                   </td><td>  0                  </td><td>Broadband Seismometer</td><td> 833833004           </td><td>0.05                 </td><td>m/s                  </td><td>  0.1                </td><td>2009-08-06 04:00:00  </td><td>NA                   </td><td>NZ.MQZ.10.VHN        </td></tr>\n",
       "\t<tr><th scope=row>11</th><td>NZ                   </td><td>MQZ                  </td><td>10                   </td><td>VHZ                  </td><td>-43.70608            </td><td>172.6538             </td><td> 57                  </td><td>0.0                  </td><td> 0                   </td><td>-90                  </td><td>Broadband Seismometer</td><td> 833833004           </td><td>0.05                 </td><td>m/s                  </td><td>  0.1                </td><td>2009-08-06 04:00:00  </td><td>NA                   </td><td>NZ.MQZ.10.VHZ        </td></tr>\n",
       "\t<tr><th scope=row>25</th><td>NZ                   </td><td>OXZ                  </td><td>10                   </td><td>HHE                  </td><td>-43.32590            </td><td>172.0383             </td><td>360                  </td><td>0.6                  </td><td>90                   </td><td>  0                  </td><td>Broadband Seismometer</td><td> 838860800           </td><td>1.00                 </td><td>m/s                  </td><td>100.0                </td><td>2009-03-14 00:00:02  </td><td>2014-10-30 00:00:00  </td><td>NZ.OXZ.10.HHE        </td></tr>\n",
       "\t<tr><th scope=row>24</th><td>NZ                   </td><td>OXZ                  </td><td>10                   </td><td>HHN                  </td><td>-43.32590            </td><td>172.0383             </td><td>360                  </td><td>0.6                  </td><td> 0                   </td><td>  0                  </td><td>Broadband Seismometer</td><td> 838860800           </td><td>1.00                 </td><td>m/s                  </td><td>100.0                </td><td>2009-03-14 00:00:02  </td><td>2014-10-30 00:00:00  </td><td>NZ.OXZ.10.HHN        </td></tr>\n",
       "\t<tr><th scope=row>23</th><td>NZ                   </td><td>OXZ                  </td><td>10                   </td><td>HHZ                  </td><td>-43.32590            </td><td>172.0383             </td><td>360                  </td><td>0.6                  </td><td> 0                   </td><td>-90                  </td><td>Broadband Seismometer</td><td> 838860800           </td><td>1.00                 </td><td>m/s                  </td><td>100.0                </td><td>2009-03-14 00:00:02  </td><td>2014-10-30 00:00:00  </td><td>NZ.OXZ.10.HHZ        </td></tr>\n",
       "\t<tr><th scope=row>19</th><td>NZ                   </td><td>OXZ                  </td><td>10                   </td><td>LHE                  </td><td>-43.32590            </td><td>172.0383             </td><td>360                  </td><td>0.6                  </td><td>90                   </td><td>  0                  </td><td>Broadband Seismometer</td><td> 838631826           </td><td>0.10                 </td><td>m/s                  </td><td>  1.0                </td><td>2009-03-14 00:00:02  </td><td>2014-10-30 00:00:00  </td><td>NZ.OXZ.10.LHE        </td></tr>\n",
       "\t<tr><th scope=row>27</th><td>NZ                   </td><td>OXZ                  </td><td>10                   </td><td>LHN                  </td><td>-43.32590            </td><td>172.0383             </td><td>360                  </td><td>0.6                  </td><td> 0                   </td><td>  0                  </td><td>Broadband Seismometer</td><td> 838631826           </td><td>0.10                 </td><td>m/s                  </td><td>  1.0                </td><td>2009-03-14 00:00:02  </td><td>2014-10-30 00:00:00  </td><td>NZ.OXZ.10.LHN        </td></tr>\n",
       "\t<tr><th scope=row>26</th><td>NZ                   </td><td>OXZ                  </td><td>10                   </td><td>LHZ                  </td><td>-43.32590            </td><td>172.0383             </td><td>360                  </td><td>0.6                  </td><td> 0                   </td><td>-90                  </td><td>Broadband Seismometer</td><td> 838631826           </td><td>0.10                 </td><td>m/s                  </td><td>  1.0                </td><td>2009-03-14 00:00:02  </td><td>2014-10-30 00:00:00  </td><td>NZ.OXZ.10.LHZ        </td></tr>\n",
       "\t<tr><th scope=row>20</th><td>NZ                   </td><td>OXZ                  </td><td>10                   </td><td>VHE                  </td><td>-43.32590            </td><td>172.0383             </td><td>360                  </td><td>0.6                  </td><td>90                   </td><td>  0                  </td><td>Broadband Seismometer</td><td> 833833004           </td><td>0.05                 </td><td>m/s                  </td><td>  0.1                </td><td>2009-03-14 00:00:02  </td><td>2014-10-30 00:00:00  </td><td>NZ.OXZ.10.VHE        </td></tr>\n",
       "\t<tr><th scope=row>21</th><td>NZ                   </td><td>OXZ                  </td><td>10                   </td><td>VHN                  </td><td>-43.32590            </td><td>172.0383             </td><td>360                  </td><td>0.6                  </td><td> 0                   </td><td>  0                  </td><td>Broadband Seismometer</td><td> 833833004           </td><td>0.05                 </td><td>m/s                  </td><td>  0.1                </td><td>2009-03-14 00:00:02  </td><td>2014-10-30 00:00:00  </td><td>NZ.OXZ.10.VHN        </td></tr>\n",
       "\t<tr><th scope=row>22</th><td>NZ                   </td><td>OXZ                  </td><td>10                   </td><td>VHZ                  </td><td>-43.32590            </td><td>172.0383             </td><td>360                  </td><td>0.6                  </td><td> 0                   </td><td>-90                  </td><td>Broadband Seismometer</td><td> 833833004           </td><td>0.05                 </td><td>m/s                  </td><td>  0.1                </td><td>2009-03-14 00:00:02  </td><td>2014-10-30 00:00:00  </td><td>NZ.OXZ.10.VHZ        </td></tr>\n",
       "</tbody>\n",
       "</table>\n"
      ],
      "text/latex": [
       "\\begin{tabular}{r|llllllllllllllllll}\n",
       "  & network & station & location & channel & latitude & longitude & elevation & depth & azimuth & dip & instrument & scale & scalefreq & scaleunits & samplerate & starttime & endtime & snclId\\\\\n",
       "\\hline\n",
       "\t6 & NZ                    & LTZ                   & 10                    & HHE                   & -42.78167             & 172.2710              & 648                   & 0.0                   & 90                    &   0                   & Broadband Seismometer &  838860800            & 1.00                  & m/s                   & 100.0                 & 2010-02-09 01:03:00   & 2013-10-23 05:05:00   & NZ.LTZ.10.HHE        \\\\\n",
       "\t9 & NZ                    & LTZ                   & 10                    & HHN                   & -42.78167             & 172.2710              & 648                   & 0.0                   &  0                    &   0                   & Broadband Seismometer &  838860800            & 1.00                  & m/s                   & 100.0                 & 2010-02-09 01:03:00   & 2013-10-23 05:05:00   & NZ.LTZ.10.HHN        \\\\\n",
       "\t4 & NZ                    & LTZ                   & 10                    & HHZ                   & -42.78167             & 172.2710              & 648                   & 0.0                   &  0                    & -90                   & Broadband Seismometer &  838860800            & 1.00                  & m/s                   & 100.0                 & 2010-02-09 01:03:00   & 2013-10-23 05:05:00   & NZ.LTZ.10.HHZ        \\\\\n",
       "\t1 & NZ                    & LTZ                   & 10                    & LHE                   & -42.78167             & 172.2710              & 648                   & 0.0                   & 90                    &   0                   & Broadband Seismometer &  838631826            & 0.10                  & m/s                   &   1.0                 & 2010-02-09 01:03:00   & 2013-10-23 05:05:00   & NZ.LTZ.10.LHE        \\\\\n",
       "\t8 & NZ                    & LTZ                   & 10                    & LHN                   & -42.78167             & 172.2710              & 648                   & 0.0                   &  0                    &   0                   & Broadband Seismometer &  838631826            & 0.10                  & m/s                   &   1.0                 & 2010-02-09 01:03:00   & 2013-10-23 05:05:00   & NZ.LTZ.10.LHN        \\\\\n",
       "\t7 & NZ                    & LTZ                   & 10                    & LHZ                   & -42.78167             & 172.2710              & 648                   & 0.0                   &  0                    & -90                   & Broadband Seismometer &  838631826            & 0.10                  & m/s                   &   1.0                 & 2010-02-09 01:03:00   & 2013-10-23 05:05:00   & NZ.LTZ.10.LHZ        \\\\\n",
       "\t3 & NZ                    & LTZ                   & 10                    & VHE                   & -42.78167             & 172.2710              & 648                   & 0.0                   & 90                    &   0                   & Broadband Seismometer & 3335332015            & 0.05                  & m/s                   &   0.1                 & 2010-02-09 01:03:00   & 2013-10-23 05:05:00   & NZ.LTZ.10.VHE        \\\\\n",
       "\t2 & NZ                    & LTZ                   & 10                    & VHN                   & -42.78167             & 172.2710              & 648                   & 0.0                   &  0                    &   0                   & Broadband Seismometer & 3335332015            & 0.05                  & m/s                   &   0.1                 & 2010-02-09 01:03:00   & 2013-10-23 05:05:00   & NZ.LTZ.10.VHN        \\\\\n",
       "\t5 & NZ                    & LTZ                   & 10                    & VHZ                   & -42.78167             & 172.2710              & 648                   & 0.0                   &  0                    & -90                   & Broadband Seismometer & 3335332015            & 0.05                  & m/s                   &   0.1                 & 2010-02-09 01:03:00   & 2013-10-23 05:05:00   & NZ.LTZ.10.VHZ        \\\\\n",
       "\t16 & NZ                    & MQZ                   & 10                    & HHE                   & -43.70608             & 172.6538              &  57                   & 0.0                   & 90                    &   0                   & Broadband Seismometer &  838860800            & 1.00                  & m/s                   & 100.0                 & 2009-08-06 04:00:00   & NA                    & NZ.MQZ.10.HHE        \\\\\n",
       "\t17 & NZ                    & MQZ                   & 10                    & HHN                   & -43.70608             & 172.6538              &  57                   & 0.0                   &  0                    &   0                   & Broadband Seismometer &  838860800            & 1.00                  & m/s                   & 100.0                 & 2009-08-06 04:00:00   & NA                    & NZ.MQZ.10.HHN        \\\\\n",
       "\t10 & NZ                    & MQZ                   & 10                    & HHZ                   & -43.70608             & 172.6538              &  57                   & 0.0                   &  0                    & -90                   & Broadband Seismometer &  838860800            & 1.00                  & m/s                   & 100.0                 & 2009-08-06 04:00:00   & NA                    & NZ.MQZ.10.HHZ        \\\\\n",
       "\t13 & NZ                    & MQZ                   & 10                    & LHE                   & -43.70608             & 172.6538              &  57                   & 0.0                   & 90                    &   0                   & Broadband Seismometer &  838631826            & 0.10                  & m/s                   &   1.0                 & 2009-08-06 04:00:00   & NA                    & NZ.MQZ.10.LHE        \\\\\n",
       "\t14 & NZ                    & MQZ                   & 10                    & LHN                   & -43.70608             & 172.6538              &  57                   & 0.0                   &  0                    &   0                   & Broadband Seismometer &  838631826            & 0.10                  & m/s                   &   1.0                 & 2009-08-06 04:00:00   & NA                    & NZ.MQZ.10.LHN        \\\\\n",
       "\t15 & NZ                    & MQZ                   & 10                    & LHZ                   & -43.70608             & 172.6538              &  57                   & 0.0                   &  0                    & -90                   & Broadband Seismometer &  838631826            & 0.10                  & m/s                   &   1.0                 & 2009-08-06 04:00:00   & NA                    & NZ.MQZ.10.LHZ        \\\\\n",
       "\t18 & NZ                    & MQZ                   & 10                    & VHE                   & -43.70608             & 172.6538              &  57                   & 0.0                   & 90                    &   0                   & Broadband Seismometer &  833833004            & 0.05                  & m/s                   &   0.1                 & 2009-08-06 04:00:00   & NA                    & NZ.MQZ.10.VHE        \\\\\n",
       "\t12 & NZ                    & MQZ                   & 10                    & VHN                   & -43.70608             & 172.6538              &  57                   & 0.0                   &  0                    &   0                   & Broadband Seismometer &  833833004            & 0.05                  & m/s                   &   0.1                 & 2009-08-06 04:00:00   & NA                    & NZ.MQZ.10.VHN        \\\\\n",
       "\t11 & NZ                    & MQZ                   & 10                    & VHZ                   & -43.70608             & 172.6538              &  57                   & 0.0                   &  0                    & -90                   & Broadband Seismometer &  833833004            & 0.05                  & m/s                   &   0.1                 & 2009-08-06 04:00:00   & NA                    & NZ.MQZ.10.VHZ        \\\\\n",
       "\t25 & NZ                    & OXZ                   & 10                    & HHE                   & -43.32590             & 172.0383              & 360                   & 0.6                   & 90                    &   0                   & Broadband Seismometer &  838860800            & 1.00                  & m/s                   & 100.0                 & 2009-03-14 00:00:02   & 2014-10-30 00:00:00   & NZ.OXZ.10.HHE        \\\\\n",
       "\t24 & NZ                    & OXZ                   & 10                    & HHN                   & -43.32590             & 172.0383              & 360                   & 0.6                   &  0                    &   0                   & Broadband Seismometer &  838860800            & 1.00                  & m/s                   & 100.0                 & 2009-03-14 00:00:02   & 2014-10-30 00:00:00   & NZ.OXZ.10.HHN        \\\\\n",
       "\t23 & NZ                    & OXZ                   & 10                    & HHZ                   & -43.32590             & 172.0383              & 360                   & 0.6                   &  0                    & -90                   & Broadband Seismometer &  838860800            & 1.00                  & m/s                   & 100.0                 & 2009-03-14 00:00:02   & 2014-10-30 00:00:00   & NZ.OXZ.10.HHZ        \\\\\n",
       "\t19 & NZ                    & OXZ                   & 10                    & LHE                   & -43.32590             & 172.0383              & 360                   & 0.6                   & 90                    &   0                   & Broadband Seismometer &  838631826            & 0.10                  & m/s                   &   1.0                 & 2009-03-14 00:00:02   & 2014-10-30 00:00:00   & NZ.OXZ.10.LHE        \\\\\n",
       "\t27 & NZ                    & OXZ                   & 10                    & LHN                   & -43.32590             & 172.0383              & 360                   & 0.6                   &  0                    &   0                   & Broadband Seismometer &  838631826            & 0.10                  & m/s                   &   1.0                 & 2009-03-14 00:00:02   & 2014-10-30 00:00:00   & NZ.OXZ.10.LHN        \\\\\n",
       "\t26 & NZ                    & OXZ                   & 10                    & LHZ                   & -43.32590             & 172.0383              & 360                   & 0.6                   &  0                    & -90                   & Broadband Seismometer &  838631826            & 0.10                  & m/s                   &   1.0                 & 2009-03-14 00:00:02   & 2014-10-30 00:00:00   & NZ.OXZ.10.LHZ        \\\\\n",
       "\t20 & NZ                    & OXZ                   & 10                    & VHE                   & -43.32590             & 172.0383              & 360                   & 0.6                   & 90                    &   0                   & Broadband Seismometer &  833833004            & 0.05                  & m/s                   &   0.1                 & 2009-03-14 00:00:02   & 2014-10-30 00:00:00   & NZ.OXZ.10.VHE        \\\\\n",
       "\t21 & NZ                    & OXZ                   & 10                    & VHN                   & -43.32590             & 172.0383              & 360                   & 0.6                   &  0                    &   0                   & Broadband Seismometer &  833833004            & 0.05                  & m/s                   &   0.1                 & 2009-03-14 00:00:02   & 2014-10-30 00:00:00   & NZ.OXZ.10.VHN        \\\\\n",
       "\t22 & NZ                    & OXZ                   & 10                    & VHZ                   & -43.32590             & 172.0383              & 360                   & 0.6                   &  0                    & -90                   & Broadband Seismometer &  833833004            & 0.05                  & m/s                   &   0.1                 & 2009-03-14 00:00:02   & 2014-10-30 00:00:00   & NZ.OXZ.10.VHZ        \\\\\n",
       "\\end{tabular}\n"
      ],
      "text/markdown": [
       "\n",
       "| <!--/--> | network | station | location | channel | latitude | longitude | elevation | depth | azimuth | dip | instrument | scale | scalefreq | scaleunits | samplerate | starttime | endtime | snclId | \n",
       "|---|---|---|---|---|---|---|---|---|---|---|---|---|---|---|---|---|---|---|---|---|---|---|---|---|---|---|\n",
       "| 6 | NZ                    | LTZ                   | 10                    | HHE                   | -42.78167             | 172.2710              | 648                   | 0.0                   | 90                    |   0                   | Broadband Seismometer |  838860800            | 1.00                  | m/s                   | 100.0                 | 2010-02-09 01:03:00   | 2013-10-23 05:05:00   | NZ.LTZ.10.HHE         | \n",
       "| 9 | NZ                    | LTZ                   | 10                    | HHN                   | -42.78167             | 172.2710              | 648                   | 0.0                   |  0                    |   0                   | Broadband Seismometer |  838860800            | 1.00                  | m/s                   | 100.0                 | 2010-02-09 01:03:00   | 2013-10-23 05:05:00   | NZ.LTZ.10.HHN         | \n",
       "| 4 | NZ                    | LTZ                   | 10                    | HHZ                   | -42.78167             | 172.2710              | 648                   | 0.0                   |  0                    | -90                   | Broadband Seismometer |  838860800            | 1.00                  | m/s                   | 100.0                 | 2010-02-09 01:03:00   | 2013-10-23 05:05:00   | NZ.LTZ.10.HHZ         | \n",
       "| 1 | NZ                    | LTZ                   | 10                    | LHE                   | -42.78167             | 172.2710              | 648                   | 0.0                   | 90                    |   0                   | Broadband Seismometer |  838631826            | 0.10                  | m/s                   |   1.0                 | 2010-02-09 01:03:00   | 2013-10-23 05:05:00   | NZ.LTZ.10.LHE         | \n",
       "| 8 | NZ                    | LTZ                   | 10                    | LHN                   | -42.78167             | 172.2710              | 648                   | 0.0                   |  0                    |   0                   | Broadband Seismometer |  838631826            | 0.10                  | m/s                   |   1.0                 | 2010-02-09 01:03:00   | 2013-10-23 05:05:00   | NZ.LTZ.10.LHN         | \n",
       "| 7 | NZ                    | LTZ                   | 10                    | LHZ                   | -42.78167             | 172.2710              | 648                   | 0.0                   |  0                    | -90                   | Broadband Seismometer |  838631826            | 0.10                  | m/s                   |   1.0                 | 2010-02-09 01:03:00   | 2013-10-23 05:05:00   | NZ.LTZ.10.LHZ         | \n",
       "| 3 | NZ                    | LTZ                   | 10                    | VHE                   | -42.78167             | 172.2710              | 648                   | 0.0                   | 90                    |   0                   | Broadband Seismometer | 3335332015            | 0.05                  | m/s                   |   0.1                 | 2010-02-09 01:03:00   | 2013-10-23 05:05:00   | NZ.LTZ.10.VHE         | \n",
       "| 2 | NZ                    | LTZ                   | 10                    | VHN                   | -42.78167             | 172.2710              | 648                   | 0.0                   |  0                    |   0                   | Broadband Seismometer | 3335332015            | 0.05                  | m/s                   |   0.1                 | 2010-02-09 01:03:00   | 2013-10-23 05:05:00   | NZ.LTZ.10.VHN         | \n",
       "| 5 | NZ                    | LTZ                   | 10                    | VHZ                   | -42.78167             | 172.2710              | 648                   | 0.0                   |  0                    | -90                   | Broadband Seismometer | 3335332015            | 0.05                  | m/s                   |   0.1                 | 2010-02-09 01:03:00   | 2013-10-23 05:05:00   | NZ.LTZ.10.VHZ         | \n",
       "| 16 | NZ                    | MQZ                   | 10                    | HHE                   | -43.70608             | 172.6538              |  57                   | 0.0                   | 90                    |   0                   | Broadband Seismometer |  838860800            | 1.00                  | m/s                   | 100.0                 | 2009-08-06 04:00:00   | NA                    | NZ.MQZ.10.HHE         | \n",
       "| 17 | NZ                    | MQZ                   | 10                    | HHN                   | -43.70608             | 172.6538              |  57                   | 0.0                   |  0                    |   0                   | Broadband Seismometer |  838860800            | 1.00                  | m/s                   | 100.0                 | 2009-08-06 04:00:00   | NA                    | NZ.MQZ.10.HHN         | \n",
       "| 10 | NZ                    | MQZ                   | 10                    | HHZ                   | -43.70608             | 172.6538              |  57                   | 0.0                   |  0                    | -90                   | Broadband Seismometer |  838860800            | 1.00                  | m/s                   | 100.0                 | 2009-08-06 04:00:00   | NA                    | NZ.MQZ.10.HHZ         | \n",
       "| 13 | NZ                    | MQZ                   | 10                    | LHE                   | -43.70608             | 172.6538              |  57                   | 0.0                   | 90                    |   0                   | Broadband Seismometer |  838631826            | 0.10                  | m/s                   |   1.0                 | 2009-08-06 04:00:00   | NA                    | NZ.MQZ.10.LHE         | \n",
       "| 14 | NZ                    | MQZ                   | 10                    | LHN                   | -43.70608             | 172.6538              |  57                   | 0.0                   |  0                    |   0                   | Broadband Seismometer |  838631826            | 0.10                  | m/s                   |   1.0                 | 2009-08-06 04:00:00   | NA                    | NZ.MQZ.10.LHN         | \n",
       "| 15 | NZ                    | MQZ                   | 10                    | LHZ                   | -43.70608             | 172.6538              |  57                   | 0.0                   |  0                    | -90                   | Broadband Seismometer |  838631826            | 0.10                  | m/s                   |   1.0                 | 2009-08-06 04:00:00   | NA                    | NZ.MQZ.10.LHZ         | \n",
       "| 18 | NZ                    | MQZ                   | 10                    | VHE                   | -43.70608             | 172.6538              |  57                   | 0.0                   | 90                    |   0                   | Broadband Seismometer |  833833004            | 0.05                  | m/s                   |   0.1                 | 2009-08-06 04:00:00   | NA                    | NZ.MQZ.10.VHE         | \n",
       "| 12 | NZ                    | MQZ                   | 10                    | VHN                   | -43.70608             | 172.6538              |  57                   | 0.0                   |  0                    |   0                   | Broadband Seismometer |  833833004            | 0.05                  | m/s                   |   0.1                 | 2009-08-06 04:00:00   | NA                    | NZ.MQZ.10.VHN         | \n",
       "| 11 | NZ                    | MQZ                   | 10                    | VHZ                   | -43.70608             | 172.6538              |  57                   | 0.0                   |  0                    | -90                   | Broadband Seismometer |  833833004            | 0.05                  | m/s                   |   0.1                 | 2009-08-06 04:00:00   | NA                    | NZ.MQZ.10.VHZ         | \n",
       "| 25 | NZ                    | OXZ                   | 10                    | HHE                   | -43.32590             | 172.0383              | 360                   | 0.6                   | 90                    |   0                   | Broadband Seismometer |  838860800            | 1.00                  | m/s                   | 100.0                 | 2009-03-14 00:00:02   | 2014-10-30 00:00:00   | NZ.OXZ.10.HHE         | \n",
       "| 24 | NZ                    | OXZ                   | 10                    | HHN                   | -43.32590             | 172.0383              | 360                   | 0.6                   |  0                    |   0                   | Broadband Seismometer |  838860800            | 1.00                  | m/s                   | 100.0                 | 2009-03-14 00:00:02   | 2014-10-30 00:00:00   | NZ.OXZ.10.HHN         | \n",
       "| 23 | NZ                    | OXZ                   | 10                    | HHZ                   | -43.32590             | 172.0383              | 360                   | 0.6                   |  0                    | -90                   | Broadband Seismometer |  838860800            | 1.00                  | m/s                   | 100.0                 | 2009-03-14 00:00:02   | 2014-10-30 00:00:00   | NZ.OXZ.10.HHZ         | \n",
       "| 19 | NZ                    | OXZ                   | 10                    | LHE                   | -43.32590             | 172.0383              | 360                   | 0.6                   | 90                    |   0                   | Broadband Seismometer |  838631826            | 0.10                  | m/s                   |   1.0                 | 2009-03-14 00:00:02   | 2014-10-30 00:00:00   | NZ.OXZ.10.LHE         | \n",
       "| 27 | NZ                    | OXZ                   | 10                    | LHN                   | -43.32590             | 172.0383              | 360                   | 0.6                   |  0                    |   0                   | Broadband Seismometer |  838631826            | 0.10                  | m/s                   |   1.0                 | 2009-03-14 00:00:02   | 2014-10-30 00:00:00   | NZ.OXZ.10.LHN         | \n",
       "| 26 | NZ                    | OXZ                   | 10                    | LHZ                   | -43.32590             | 172.0383              | 360                   | 0.6                   |  0                    | -90                   | Broadband Seismometer |  838631826            | 0.10                  | m/s                   |   1.0                 | 2009-03-14 00:00:02   | 2014-10-30 00:00:00   | NZ.OXZ.10.LHZ         | \n",
       "| 20 | NZ                    | OXZ                   | 10                    | VHE                   | -43.32590             | 172.0383              | 360                   | 0.6                   | 90                    |   0                   | Broadband Seismometer |  833833004            | 0.05                  | m/s                   |   0.1                 | 2009-03-14 00:00:02   | 2014-10-30 00:00:00   | NZ.OXZ.10.VHE         | \n",
       "| 21 | NZ                    | OXZ                   | 10                    | VHN                   | -43.32590             | 172.0383              | 360                   | 0.6                   |  0                    |   0                   | Broadband Seismometer |  833833004            | 0.05                  | m/s                   |   0.1                 | 2009-03-14 00:00:02   | 2014-10-30 00:00:00   | NZ.OXZ.10.VHN         | \n",
       "| 22 | NZ                    | OXZ                   | 10                    | VHZ                   | -43.32590             | 172.0383              | 360                   | 0.6                   |  0                    | -90                   | Broadband Seismometer |  833833004            | 0.05                  | m/s                   |   0.1                 | 2009-03-14 00:00:02   | 2014-10-30 00:00:00   | NZ.OXZ.10.VHZ         | \n",
       "\n",
       "\n"
      ],
      "text/plain": [
       "   network station location channel latitude  longitude elevation depth azimuth\n",
       "6  NZ      LTZ     10       HHE     -42.78167 172.2710  648       0.0   90     \n",
       "9  NZ      LTZ     10       HHN     -42.78167 172.2710  648       0.0    0     \n",
       "4  NZ      LTZ     10       HHZ     -42.78167 172.2710  648       0.0    0     \n",
       "1  NZ      LTZ     10       LHE     -42.78167 172.2710  648       0.0   90     \n",
       "8  NZ      LTZ     10       LHN     -42.78167 172.2710  648       0.0    0     \n",
       "7  NZ      LTZ     10       LHZ     -42.78167 172.2710  648       0.0    0     \n",
       "3  NZ      LTZ     10       VHE     -42.78167 172.2710  648       0.0   90     \n",
       "2  NZ      LTZ     10       VHN     -42.78167 172.2710  648       0.0    0     \n",
       "5  NZ      LTZ     10       VHZ     -42.78167 172.2710  648       0.0    0     \n",
       "16 NZ      MQZ     10       HHE     -43.70608 172.6538   57       0.0   90     \n",
       "17 NZ      MQZ     10       HHN     -43.70608 172.6538   57       0.0    0     \n",
       "10 NZ      MQZ     10       HHZ     -43.70608 172.6538   57       0.0    0     \n",
       "13 NZ      MQZ     10       LHE     -43.70608 172.6538   57       0.0   90     \n",
       "14 NZ      MQZ     10       LHN     -43.70608 172.6538   57       0.0    0     \n",
       "15 NZ      MQZ     10       LHZ     -43.70608 172.6538   57       0.0    0     \n",
       "18 NZ      MQZ     10       VHE     -43.70608 172.6538   57       0.0   90     \n",
       "12 NZ      MQZ     10       VHN     -43.70608 172.6538   57       0.0    0     \n",
       "11 NZ      MQZ     10       VHZ     -43.70608 172.6538   57       0.0    0     \n",
       "25 NZ      OXZ     10       HHE     -43.32590 172.0383  360       0.6   90     \n",
       "24 NZ      OXZ     10       HHN     -43.32590 172.0383  360       0.6    0     \n",
       "23 NZ      OXZ     10       HHZ     -43.32590 172.0383  360       0.6    0     \n",
       "19 NZ      OXZ     10       LHE     -43.32590 172.0383  360       0.6   90     \n",
       "27 NZ      OXZ     10       LHN     -43.32590 172.0383  360       0.6    0     \n",
       "26 NZ      OXZ     10       LHZ     -43.32590 172.0383  360       0.6    0     \n",
       "20 NZ      OXZ     10       VHE     -43.32590 172.0383  360       0.6   90     \n",
       "21 NZ      OXZ     10       VHN     -43.32590 172.0383  360       0.6    0     \n",
       "22 NZ      OXZ     10       VHZ     -43.32590 172.0383  360       0.6    0     \n",
       "   dip instrument            scale      scalefreq scaleunits samplerate\n",
       "6    0 Broadband Seismometer  838860800 1.00      m/s        100.0     \n",
       "9    0 Broadband Seismometer  838860800 1.00      m/s        100.0     \n",
       "4  -90 Broadband Seismometer  838860800 1.00      m/s        100.0     \n",
       "1    0 Broadband Seismometer  838631826 0.10      m/s          1.0     \n",
       "8    0 Broadband Seismometer  838631826 0.10      m/s          1.0     \n",
       "7  -90 Broadband Seismometer  838631826 0.10      m/s          1.0     \n",
       "3    0 Broadband Seismometer 3335332015 0.05      m/s          0.1     \n",
       "2    0 Broadband Seismometer 3335332015 0.05      m/s          0.1     \n",
       "5  -90 Broadband Seismometer 3335332015 0.05      m/s          0.1     \n",
       "16   0 Broadband Seismometer  838860800 1.00      m/s        100.0     \n",
       "17   0 Broadband Seismometer  838860800 1.00      m/s        100.0     \n",
       "10 -90 Broadband Seismometer  838860800 1.00      m/s        100.0     \n",
       "13   0 Broadband Seismometer  838631826 0.10      m/s          1.0     \n",
       "14   0 Broadband Seismometer  838631826 0.10      m/s          1.0     \n",
       "15 -90 Broadband Seismometer  838631826 0.10      m/s          1.0     \n",
       "18   0 Broadband Seismometer  833833004 0.05      m/s          0.1     \n",
       "12   0 Broadband Seismometer  833833004 0.05      m/s          0.1     \n",
       "11 -90 Broadband Seismometer  833833004 0.05      m/s          0.1     \n",
       "25   0 Broadband Seismometer  838860800 1.00      m/s        100.0     \n",
       "24   0 Broadband Seismometer  838860800 1.00      m/s        100.0     \n",
       "23 -90 Broadband Seismometer  838860800 1.00      m/s        100.0     \n",
       "19   0 Broadband Seismometer  838631826 0.10      m/s          1.0     \n",
       "27   0 Broadband Seismometer  838631826 0.10      m/s          1.0     \n",
       "26 -90 Broadband Seismometer  838631826 0.10      m/s          1.0     \n",
       "20   0 Broadband Seismometer  833833004 0.05      m/s          0.1     \n",
       "21   0 Broadband Seismometer  833833004 0.05      m/s          0.1     \n",
       "22 -90 Broadband Seismometer  833833004 0.05      m/s          0.1     \n",
       "   starttime           endtime             snclId       \n",
       "6  2010-02-09 01:03:00 2013-10-23 05:05:00 NZ.LTZ.10.HHE\n",
       "9  2010-02-09 01:03:00 2013-10-23 05:05:00 NZ.LTZ.10.HHN\n",
       "4  2010-02-09 01:03:00 2013-10-23 05:05:00 NZ.LTZ.10.HHZ\n",
       "1  2010-02-09 01:03:00 2013-10-23 05:05:00 NZ.LTZ.10.LHE\n",
       "8  2010-02-09 01:03:00 2013-10-23 05:05:00 NZ.LTZ.10.LHN\n",
       "7  2010-02-09 01:03:00 2013-10-23 05:05:00 NZ.LTZ.10.LHZ\n",
       "3  2010-02-09 01:03:00 2013-10-23 05:05:00 NZ.LTZ.10.VHE\n",
       "2  2010-02-09 01:03:00 2013-10-23 05:05:00 NZ.LTZ.10.VHN\n",
       "5  2010-02-09 01:03:00 2013-10-23 05:05:00 NZ.LTZ.10.VHZ\n",
       "16 2009-08-06 04:00:00 <NA>                NZ.MQZ.10.HHE\n",
       "17 2009-08-06 04:00:00 <NA>                NZ.MQZ.10.HHN\n",
       "10 2009-08-06 04:00:00 <NA>                NZ.MQZ.10.HHZ\n",
       "13 2009-08-06 04:00:00 <NA>                NZ.MQZ.10.LHE\n",
       "14 2009-08-06 04:00:00 <NA>                NZ.MQZ.10.LHN\n",
       "15 2009-08-06 04:00:00 <NA>                NZ.MQZ.10.LHZ\n",
       "18 2009-08-06 04:00:00 <NA>                NZ.MQZ.10.VHE\n",
       "12 2009-08-06 04:00:00 <NA>                NZ.MQZ.10.VHN\n",
       "11 2009-08-06 04:00:00 <NA>                NZ.MQZ.10.VHZ\n",
       "25 2009-03-14 00:00:02 2014-10-30 00:00:00 NZ.OXZ.10.HHE\n",
       "24 2009-03-14 00:00:02 2014-10-30 00:00:00 NZ.OXZ.10.HHN\n",
       "23 2009-03-14 00:00:02 2014-10-30 00:00:00 NZ.OXZ.10.HHZ\n",
       "19 2009-03-14 00:00:02 2014-10-30 00:00:00 NZ.OXZ.10.LHE\n",
       "27 2009-03-14 00:00:02 2014-10-30 00:00:00 NZ.OXZ.10.LHN\n",
       "26 2009-03-14 00:00:02 2014-10-30 00:00:00 NZ.OXZ.10.LHZ\n",
       "20 2009-03-14 00:00:02 2014-10-30 00:00:00 NZ.OXZ.10.VHE\n",
       "21 2009-03-14 00:00:02 2014-10-30 00:00:00 NZ.OXZ.10.VHN\n",
       "22 2009-03-14 00:00:02 2014-10-30 00:00:00 NZ.OXZ.10.VHZ"
      ]
     },
     "metadata": {},
     "output_type": "display_data"
    }
   ],
   "source": [
    "channels"
   ]
  },
  {
   "cell_type": "markdown",
   "metadata": {},
   "source": [
    "What the channel code means can be found at https://www.geonet.org.nz/data/supplementary/channels."
   ]
  },
  {
   "cell_type": "markdown",
   "metadata": {},
   "source": [
    "## Useful links. "
   ]
  },
  {
   "cell_type": "markdown",
   "metadata": {},
   "source": [
    "<ul>\n",
    "<li>More on how to get seismic data can be found in the notebooks at https://github.com/GeoNet/data-tutorials/tree/master/Seismic_Data/R\n",
    "<li> There is a station search at https://www.geonet.org.nz/data/network/sensor/search \n",
    "<li> To learn more about station codes go to https://www.geonet.org.nz/data/supplementary/channels\n",
    "<li>IRISSeismic has a lot of functions that could be useful. Documentation of them with examples can be found at https://cran.r-project.org/web/packages/IRISSeismic/IRISSeismic.pdf\n",
    "<li>To find out more about R go to https://www.r-project.org/\n",
    "<li>To understand more about data frames go to https://www.rdocumentation.org/packages/base/versions/3.5.1/topics/data.frame \n",
    "<li>To understand more about plots in R go to https://www.rdocumentation.org/packages/graphics/versions/3.5.1/topics/plot\n",
    "<li> To understad more about maps in R go to https://cran.r-project.org/web/packages/maps/maps.pdf\n",
    "<li> To learn more about what maps can be made in R go to http://www.geog.uoregon.edu/GeogR/\n",
    "<li> To learn more about station codes go to https://www.geonet.org.nz/data/supplementary/channels\n",
    "<li> For how to do all of this in python go to https://github.com/GeoNet/data-tutorials/tree/master/Seismic_Data/Python "
   ]
  }
 ],
 "metadata": {
  "kernelspec": {
   "display_name": "R",
   "language": "R",
   "name": "ir"
  },
  "language_info": {
   "codemirror_mode": "r",
   "file_extension": ".r",
   "mimetype": "text/x-r-source",
   "name": "R",
   "pygments_lexer": "r",
   "version": "3.5.1"
  }
 },
 "nbformat": 4,
 "nbformat_minor": 2
}
