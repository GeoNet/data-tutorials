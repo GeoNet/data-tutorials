{
 "cells": [
  {
   "cell_type": "markdown",
   "metadata": {},
   "source": [
    "# <center>Introduction on Using the language R to access and analyse a Seismic Event catalogued by GeoNet"
   ]
  },
  {
   "cell_type": "markdown",
   "metadata": {},
   "source": [
    "In this tutorial we will look at the work flow from knowing the data of the Seismic Event we wish to look at to getting data on this Seismic Event. We will get a map of Seismic Events <img src=\"event.png\" height=\"250\" width=\"250\"> \n",
    "Then we will get a station map <img src=\"station.png\" height=\"250\" width=\"250\"> \n",
    "and we will get waveform data from one these stations <img src=\"waveform.png\" height=\"250\" width=\"250\"> "
   ]
  },
  {
   "cell_type": "markdown",
   "metadata": {},
   "source": [
    "## &nbsp; Table of contents"
   ]
  },
  {
   "cell_type": "markdown",
   "metadata": {},
   "source": [
    "### 1. Introduction\n",
    "### 2. Set Up\n",
    "### 3. Event Data\n",
    "##### &nbsp; 3.1 Get Event data\n",
    "##### &nbsp; 3.2 Visualising event data\n",
    "### 4. Station Data\n",
    "##### &nbsp; 4.1 Get Station data\n",
    "##### &nbsp; 4.2 Visualising Station data\n",
    "##### &nbsp;  4.3 Get Channel Data\n",
    "### 5. Waveform Data\n",
    "##### &nbsp; 5.1 Get Waveform data\n",
    "##### &nbsp; 5.2 Visualising Waveform data\n",
    "##### &nbsp; 5.3 Saving Waveform Data"
   ]
  },
  {
   "cell_type": "markdown",
   "metadata": {},
   "source": [
    "## &nbsp; 1. Introduction"
   ]
  },
  {
   "cell_type": "markdown",
   "metadata": {},
   "source": [
    "In this tutorial we will be learning how to use the language R to be able to access GeoNet’s seismic data. First we will look at all events that happen above a set magnitude in one day. We will then find stations near one of these events. Finally, we will get waveform data from one of these stations.  "
   ]
  },
  {
   "cell_type": "markdown",
   "metadata": {},
   "source": [
    "R is a language made for statisticians by statisticians. It is an open source language which anyone can make a package for. This means that R has a lot of useful functions for all kinds of research."
   ]
  },
  {
   "cell_type": "markdown",
   "metadata": {},
   "source": [
    "This tutorial assumes that you have basic knowledge of the language R, but basic knowledge of any programming language should be sufficient to follow this tutorial.\n",
    "We will be using the packages IRISSeismic (https://CRAN.R-project.org/package=IRISSeismic) and maps (https://CRAN.R-project.org/package=maps ).<br>"
   ]
  },
  {
   "cell_type": "markdown",
   "metadata": {},
   "source": [
    "This tutorial will be using GeoNet's FDSN webservices. FDSN stands for Federation of Digital Seismograph Networks. Their specifications make sure there is a consistent way for people to access seismic data. \n",
    "IRIS(Incorporated Research Institutions for Seismology) also have a FDSN webservice which IRISSeismic was written for. As such some of the functions in IRISSeismic may not work on GeoNet's data."
   ]
  },
  {
   "cell_type": "markdown",
   "metadata": {},
   "source": [
    "When talking about seismic data two words will come up a lot, stream and trace<br> \n",
    "Stream : A stream may have multiple traces and it may have data from multiple sensors <br>\n",
    "Trace : A trace holds continuous waveform data normally from only one sensor. "
   ]
  },
  {
   "cell_type": "markdown",
   "metadata": {},
   "source": [
    "All data will be save into R as a data frame which is much like, what would be called, a dictionary in other languages, but with a few more restrictions to the data structure. To understand more about data frames go to https://www.rdocumentation.org/packages/base/versions/3.5.1/topics/data.frame"
   ]
  },
  {
   "cell_type": "markdown",
   "metadata": {},
   "source": [
    "## &nbsp; 2. Set Up"
   ]
  },
  {
   "cell_type": "markdown",
   "metadata": {},
   "source": [
    "###### Install the IRISSeismic and maps packages"
   ]
  },
  {
   "cell_type": "code",
   "execution_count": 2,
   "metadata": {},
   "outputs": [],
   "source": [
    "install.packages(\"IRISSeismic\")\n",
    "install.packages(\"maps\")"
   ]
  },
  {
   "cell_type": "code",
   "execution_count": null,
   "metadata": {},
   "outputs": [],
   "source": [
    "#library(help = \"IRISSeismic\")"
   ]
  },
  {
   "cell_type": "markdown",
   "metadata": {},
   "source": [
    "Note this code might take some time to run but you only need to run this ONCE. \n",
    "IRISSemismic has many functions that may be useful. To see a list of them all with description run `library(help = \"IRISSeismic\")`"
   ]
  },
  {
   "cell_type": "markdown",
   "metadata": {},
   "source": [
    "###### Import the library and set your URLs to the same as below"
   ]
  },
  {
   "cell_type": "code",
   "execution_count": 3,
   "metadata": {},
   "outputs": [],
   "source": [
    "library(IRISSeismic)\n",
    "library(maps)\n",
    "#Near real time\n",
    "nrt <- new('IrisClient', site = 'https://service-nrt.geonet.org.nz')\n",
    "#Archive\n",
    "acr <- new('IrisClient', site = 'https://service.geonet.org.nz')"
   ]
  },
  {
   "cell_type": "markdown",
   "metadata": {},
   "source": [
    "GeoNet has two FDSN services <br>\n",
    "For waveform data\n",
    "an archive service holds verified data starting 7 days after collection, \n",
    "and a near real-time service holds data that could be incomplete from the last 8 days<br>\n",
    "For the event and station data there is no distinction between these services "
   ]
  },
  {
   "cell_type": "markdown",
   "metadata": {},
   "source": [
    "## &nbsp; 3. Event Data"
   ]
  },
  {
   "cell_type": "markdown",
   "metadata": {},
   "source": [
    "In this section we will learn how to get GeoNet’s catalogue of events using their FDSN webservices and then visualise this data. "
   ]
  },
  {
   "cell_type": "markdown",
   "metadata": {},
   "source": [
    "Event data is a catalogue of all the events such as earthquakes that the New Zealand network of seismometers have detected.\n",
    "The `getEvent` function with return a R `data.frame` with column that has `eventId` `time`  `latitude` `longitude` `depth` `author` `cCatalog` `contributor` `contributorId` `magType` `magnitude` `magAuthor` and `eventLocationName.` \n",
    "Each row is a different event<br>"
   ]
  },
  {
   "cell_type": "markdown",
   "metadata": {},
   "source": [
    "## &nbsp;  3.1 Get event data "
   ]
  },
  {
   "cell_type": "markdown",
   "metadata": {},
   "source": [
    "###### Set the start and end time of the data you want to select"
   ]
  },
  {
   "cell_type": "code",
   "execution_count": 4,
   "metadata": {},
   "outputs": [],
   "source": [
    "starttime <- as.POSIXct(\"2016-11-13\",tz=\"GMT\")\n",
    "endtime <-  as.POSIXct(\"2016-11-14\", tz=\"GMT\")"
   ]
  },
  {
   "cell_type": "markdown",
   "metadata": {},
   "source": [
    "Note that time must be in UTC (Universal Time Coordinated) which is 13 or 12 hours behind nzt (New Zealand Time) (depending on daylight savings time).\n",
    "Also Note that GMT or Greenwich mean time is the same time as UTC.\n",
    "    In this case we are looking at the 2016 Kaikoura earthquake which happened just after midnight on 14th of November. So just after 11am on the 13th of November in UTC.\n",
    "    There are online converters if needed.\n",
    "    You can add to the time in number of seconds eg. `stattime + 60` would be the time 2016-11-13 00:01:00.000<br>"
   ]
  },
  {
   "cell_type": "markdown",
   "metadata": {},
   "source": [
    "###### Get event data"
   ]
  },
  {
   "cell_type": "code",
   "execution_count": 5,
   "metadata": {},
   "outputs": [],
   "source": [
    "events <- getEvent(acr, starttime, endtime, minmag=6)"
   ]
  },
  {
   "cell_type": "markdown",
   "metadata": {},
   "source": [
    "The parameters needed are service, starttime and endtime.\n",
    "    You can also look by magnitude with `minmag=` and `maxmag=`.\n",
    "    You can look by depth with `mindepth=` and `maxdepth=`.\n",
    "    Another parameter you can look by is magnitude type with `magtype= `."
   ]
  },
  {
   "cell_type": "markdown",
   "metadata": {},
   "source": [
    "## &nbsp; 3.2 Visualise event data"
   ]
  },
  {
   "cell_type": "markdown",
   "metadata": {},
   "source": [
    "###### See the number of events"
   ]
  },
  {
   "cell_type": "code",
   "execution_count": 6,
   "metadata": {},
   "outputs": [
    {
     "data": {
      "text/html": [
       "5"
      ],
      "text/latex": [
       "5"
      ],
      "text/markdown": [
       "5"
      ],
      "text/plain": [
       "[1] 5"
      ]
     },
     "metadata": {},
     "output_type": "display_data"
    },
    {
     "data": {
      "text/html": [
       "'earthquakes found with magnitude &gt; 6'"
      ],
      "text/latex": [
       "'earthquakes found with magnitude > 6'"
      ],
      "text/markdown": [
       "'earthquakes found with magnitude &gt; 6'"
      ],
      "text/plain": [
       "[1] \"earthquakes found with magnitude > 6\""
      ]
     },
     "metadata": {},
     "output_type": "display_data"
    }
   ],
   "source": [
    "nrow(events)\n",
    "\"earthquakes found with magnitude > 6\""
   ]
  },
  {
   "cell_type": "markdown",
   "metadata": {},
   "source": [
    "###### Plot the map"
   ]
  },
  {
   "cell_type": "code",
   "execution_count": 7,
   "metadata": {},
   "outputs": [
    {
     "data": {
      "image/png": "[encoded data removed]",
      "text/plain": [
       "plot without title"
      ]
     },
     "metadata": {},
     "output_type": "display_data"
    }
   ],
   "source": [
    "map(\"nz\", fill=TRUE, col=\"lightgreen\", bg= \"light blue\")\n",
    "points(events$longitude, events$latitude, pch=1, cex=events$magnitude, col='red')\n",
    "labels <- paste(\" \", as.character(round(events$magnitude,1)))\n",
    "text(events$longitude, events$latitude, labels=labels, cex=1)"
   ]
  },
  {
   "cell_type": "markdown",
   "metadata": {},
   "source": [
    "The function `map` makes the base map. The function `points` makes a point for each event.\n",
    "    The point is given an x,y coordinate of its longitude and latitude.\n",
    "    The function`pch` say what shape will be plotted `pch=1` say the shape will be circle with its centre on the point.\n",
    "    The function `cex` say the size of the shape will be. In the code above this is set to the magnitude of the event.\n",
    "If you right click on this plot in the notebook you can save it"
   ]
  },
  {
   "cell_type": "markdown",
   "metadata": {},
   "source": [
    "This map shows all of nz but the events are all in one place so I want to \"zoom in\""
   ]
  },
  {
   "cell_type": "markdown",
   "metadata": {},
   "source": [
    "###### Set parameters for map"
   ]
  },
  {
   "cell_type": "code",
   "execution_count": 8,
   "metadata": {},
   "outputs": [],
   "source": [
    "xhigh <- max(events$longitude)+ .5\n",
    "xlow <- min(events$longitude)- .5\n",
    "yhigh <- max(events$latitude)+ .5\n",
    "ylow <- min(events$latitude)- .5"
   ]
  },
  {
   "cell_type": "markdown",
   "metadata": {},
   "source": [
    "We can take the maximum longitude shown on the map to the maximum longitude of all the events and the same for minimum and latitude. \n",
    "So that the data is not on the edge of the map we can make sure all points are at least 0.5 from the edge of the map by modifying the maximum and minimum,longitude and latitude by 0.5. "
   ]
  },
  {
   "cell_type": "markdown",
   "metadata": {},
   "source": [
    "###### Plot the map with x,y parameters"
   ]
  },
  {
   "cell_type": "code",
   "execution_count": 9,
   "metadata": {},
   "outputs": [
    {
     "data": {
      "image/png": "[encoded data removed]",
      "text/plain": [
       "plot without title"
      ]
     },
     "metadata": {},
     "output_type": "display_data"
    }
   ],
   "source": [
    "map('nz',xlim=c(xlow,xhigh),ylim=c(ylow,yhigh), fill=TRUE, col=\"lightgreen\")\n",
    "points(events$longitude, events$latitude, pch=1, cex=events$magnitude, col='red')\n",
    "labels <- paste(\" \", as.character(round(events$magnitude,1)),\" at \", substr(as.character(events$time), 12, 20), \" UCT\")\n",
    "text(events$longitude, events$latitude, labels=labels, cex=1)\n",
    "map.axes()"
   ]
  },
  {
   "cell_type": "markdown",
   "metadata": {},
   "source": [
    "`map` makes the base map using the longitude and latitude as found above.\n",
    "    The label now has the time of the event done by taking a sub-string of the time of the event.\n",
    "    If you right click on this plot in the notebook you can save it.\n",
    "For more about what you can do with maps go to http://www.geog.uoregon.edu/GeogR/ or run `library(help =\"maps\")`"
   ]
  },
  {
   "cell_type": "markdown",
   "metadata": {},
   "source": [
    "###### Look at the first event in our list of events"
   ]
  },
  {
   "cell_type": "code",
   "execution_count": 10,
   "metadata": {},
   "outputs": [
    {
     "data": {
      "text/html": [
       "<table>\n",
       "<thead><tr><th></th><th scope=col>eventId</th><th scope=col>time</th><th scope=col>latitude</th><th scope=col>longitude</th><th scope=col>depth</th><th scope=col>author</th><th scope=col>cCatalog</th><th scope=col>contributor</th><th scope=col>contributorId</th><th scope=col>magType</th><th scope=col>magnitude</th><th scope=col>magAuthor</th><th scope=col>eventLocationName</th></tr></thead>\n",
       "<tbody>\n",
       "\t<tr><th scope=row>3</th><td>2016p858000                  </td><td>2016-11-13 11:02:56          </td><td>-42.693                      </td><td>173.022                      </td><td>15.1                         </td><td>GNS                          </td><td>GNS                          </td><td>GNS                          </td><td>2016p858000                  </td><td>Mw(mB)                       </td><td>7.8                          </td><td>GNS                          </td><td>15 km north-east of Culverden</td></tr>\n",
       "</tbody>\n",
       "</table>\n"
      ],
      "text/latex": [
       "\\begin{tabular}{r|lllllllllllll}\n",
       "  & eventId & time & latitude & longitude & depth & author & cCatalog & contributor & contributorId & magType & magnitude & magAuthor & eventLocationName\\\\\n",
       "\\hline\n",
       "\t3 & 2016p858000                   & 2016-11-13 11:02:56           & -42.693                       & 173.022                       & 15.1                          & GNS                           & GNS                           & GNS                           & 2016p858000                   & Mw(mB)                        & 7.8                           & GNS                           & 15 km north-east of Culverden\\\\\n",
       "\\end{tabular}\n"
      ],
      "text/markdown": [
       "\n",
       "| <!--/--> | eventId | time | latitude | longitude | depth | author | cCatalog | contributor | contributorId | magType | magnitude | magAuthor | eventLocationName | \n",
       "|---|\n",
       "| 3 | 2016p858000                   | 2016-11-13 11:02:56           | -42.693                       | 173.022                       | 15.1                          | GNS                           | GNS                           | GNS                           | 2016p858000                   | Mw(mB)                        | 7.8                           | GNS                           | 15 km north-east of Culverden | \n",
       "\n",
       "\n"
      ],
      "text/plain": [
       "  eventId     time                latitude longitude depth author cCatalog\n",
       "3 2016p858000 2016-11-13 11:02:56 -42.693  173.022   15.1  GNS    GNS     \n",
       "  contributor contributorId magType magnitude magAuthor\n",
       "3 GNS         2016p858000   Mw(mB)  7.8       GNS      \n",
       "  eventLocationName            \n",
       "3 15 km north-east of Culverden"
      ]
     },
     "metadata": {},
     "output_type": "display_data"
    }
   ],
   "source": [
    "events[1,]"
   ]
  },
  {
   "cell_type": "markdown",
   "metadata": {},
   "source": [
    "Events are ordered by event ID which is generated by the time of the event. "
   ]
  },
  {
   "cell_type": "markdown",
   "metadata": {},
   "source": [
    "## &nbsp; 4. Station Data"
   ]
  },
  {
   "cell_type": "markdown",
   "metadata": {},
   "source": [
    "In this section we will learn how to find stations and what instruments they have."
   ]
  },
  {
   "cell_type": "markdown",
   "metadata": {},
   "source": [
    "Station data is an inventory of metadata from the stations \n",
    "The `getStation` function with return a R `data.frame` with columns `network` `station` `latitude` `longitude` `elevation` `sitename` `starttime` `endtime`. Where `startime` is the date of the stations installation and `endtime` is the date of that the station stopped running. Note if `endtime` is NA then the station is still running."
   ]
  },
  {
   "cell_type": "markdown",
   "metadata": {},
   "source": [
    "## &nbsp;  4.1 Get Station Data"
   ]
  },
  {
   "cell_type": "markdown",
   "metadata": {},
   "source": [
    "###### Get data out of this event"
   ]
  },
  {
   "cell_type": "code",
   "execution_count": 11,
   "metadata": {},
   "outputs": [],
   "source": [
    "time <- events[1,]$time\n",
    "lat <- events[1,]$latitude\n",
    "lon <- events[1,]$longitude"
   ]
  },
  {
   "cell_type": "markdown",
   "metadata": {},
   "source": [
    "This gets some of the data about the frist event and renames to make it easier to call later in the notebook. "
   ]
  },
  {
   "cell_type": "markdown",
   "metadata": {},
   "source": [
    "###### Find station close to the event"
   ]
  },
  {
   "cell_type": "code",
   "execution_count": 12,
   "metadata": {},
   "outputs": [],
   "source": [
    "station<- getStation(acr,\"NZ\", \"*\",\"*\", \"*\",starttime ,endtime, latitude= lat, longitude= lon ,maxradius = 0.5)"
   ]
  },
  {
   "cell_type": "markdown",
   "metadata": {},
   "source": [
    "The parameters needed are service, network, station, location, channel, starttime, and endtime.\n",
    "     The `*` is a wildcard character that says that value can be anything\n",
    "    Optional parameters are `latitude` `longitude` `maxradius` and `minradius`.\n",
    "    Here `latitude` and `longitude` are the latitude and longitude of the event. "
   ]
  },
  {
   "cell_type": "markdown",
   "metadata": {},
   "source": [
    "## &nbsp;  4.1 Visualising Station Data"
   ]
  },
  {
   "cell_type": "markdown",
   "metadata": {},
   "source": [
    "###### Set longitude and latitude for the map"
   ]
  },
  {
   "cell_type": "code",
   "execution_count": 13,
   "metadata": {},
   "outputs": [],
   "source": [
    "xhigh <- max(station$longitude)+ .3\n",
    "xlow <- min(station$longitude)- .3\n",
    "yhigh <- max(station$latitude)+ .3\n",
    "ylow <- min(station$latitude)- .3"
   ]
  },
  {
   "cell_type": "markdown",
   "metadata": {},
   "source": [
    "Done the same as in part 3.2. "
   ]
  },
  {
   "cell_type": "markdown",
   "metadata": {},
   "source": [
    "###### Map the stations"
   ]
  },
  {
   "cell_type": "code",
   "execution_count": 14,
   "metadata": {},
   "outputs": [
    {
     "data": {
      "image/png": "[encoded data removed]",
      "text/plain": [
       "plot without title"
      ]
     },
     "metadata": {},
     "output_type": "display_data"
    }
   ],
   "source": [
    "map(\"nz\",xlim=c(xlow,xhigh),ylim=c(ylow,yhigh), fill=TRUE, col=\"lightgreen\")\n",
    "points(station$longitude, station$latitude, pch=17, cex=2, col='red')\n",
    "labels <- paste(\" \", station$network, \".\",station$station)\n",
    "text(station$longitude, station$latitude, labels=labels, cex=1, pos=4)\n",
    "map.axes()"
   ]
  },
  {
   "cell_type": "markdown",
   "metadata": {},
   "source": [
    "`map` makes the base map using the longitude and latitude as found above.\n",
    "`pch` say what shape will be plotted` pch=17` say the shape will be triangle.\n",
    "If you right click on this plot in the notebook you can save it.\n",
    "For more about what you can do with maps go to http://www.geog.uoregon.edu/GeogR/ or run `library(help =\"maps\")`\n"
   ]
  },
  {
   "cell_type": "markdown",
   "metadata": {},
   "source": [
    "###### Print station data"
   ]
  },
  {
   "cell_type": "code",
   "execution_count": 15,
   "metadata": {},
   "outputs": [
    {
     "data": {
      "text/html": [
       "<table>\n",
       "<thead><tr><th scope=col>network</th><th scope=col>station</th><th scope=col>latitude</th><th scope=col>longitude</th><th scope=col>elevation</th><th scope=col>sitename</th><th scope=col>starttime</th><th scope=col>endtime</th></tr></thead>\n",
       "<tbody>\n",
       "\t<tr><td>NZ                             </td><td>CECS                           </td><td>-42.81349                      </td><td>173.2749                       </td><td> 69.0                          </td><td>Cheviot Emergency Centre       </td><td>2002-02-23                     </td><td>NA                             </td></tr>\n",
       "\t<tr><td>NZ                             </td><td>CULC                           </td><td>-42.75944                      </td><td>172.8026                       </td><td>206.0                          </td><td>Culverden Airlie Farm          </td><td>2005-11-15                     </td><td>NA                             </td></tr>\n",
       "\t<tr><td>NZ                             </td><td>GLWS                           </td><td>-42.59417                      </td><td>172.5110                       </td><td>445.0                          </td><td>Glyn Wye                       </td><td>2002-10-17                     </td><td>NA                             </td></tr>\n",
       "\t<tr><td>NZ                             </td><td>GVZ                            </td><td>-42.96737                      </td><td>173.0348                       </td><td>400.5                          </td><td>Greta Valley                   </td><td>2012-12-03                     </td><td>NA                             </td></tr>\n",
       "\t<tr><td>NZ                             </td><td>HSES                           </td><td>-42.52324                      </td><td>172.8305                       </td><td>377.0                          </td><td>Hanmer Springs Emergency Centre</td><td>2002-02-24                     </td><td>NA                             </td></tr>\n",
       "\t<tr><td>NZ                             </td><td>KHZ                            </td><td>-42.41598                      </td><td>173.5390                       </td><td> 64.0                          </td><td>Kahutara                       </td><td>1988-12-08                     </td><td>NA                             </td></tr>\n",
       "\t<tr><td>NZ                             </td><td>LSRC                           </td><td>-42.86952                      </td><td>172.5433                       </td><td>335.0                          </td><td>Lake Sumner Road               </td><td>2004-11-28                     </td><td>NA                             </td></tr>\n",
       "\t<tr><td>NZ                             </td><td>SCAC                           </td><td>-42.93857                      </td><td>172.9216                       </td><td>138.0                          </td><td>Scargill                       </td><td>2005-11-16                     </td><td>NA                             </td></tr>\n",
       "\t<tr><td>NZ                             </td><td>WAKC                           </td><td>-42.96310                      </td><td>172.7052                       </td><td>219.0                          </td><td>Waikari                        </td><td>2005-11-14                     </td><td>NA                             </td></tr>\n",
       "\t<tr><td>NZ                             </td><td>WIGC                           </td><td>-42.70119                      </td><td>172.8003                       </td><td>247.0                          </td><td>Waiau Gorge                    </td><td>2004-11-27                     </td><td>NA                             </td></tr>\n",
       "\t<tr><td>NZ                             </td><td>WTMC                           </td><td>-42.61946                      </td><td>173.0536                       </td><td>198.0                          </td><td>Te Mara Farm Waiau             </td><td>2005-11-15                     </td><td>NA                             </td></tr>\n",
       "</tbody>\n",
       "</table>\n"
      ],
      "text/latex": [
       "\\begin{tabular}{r|llllllll}\n",
       " network & station & latitude & longitude & elevation & sitename & starttime & endtime\\\\\n",
       "\\hline\n",
       "\t NZ                              & CECS                            & -42.81349                       & 173.2749                        &  69.0                           & Cheviot Emergency Centre        & 2002-02-23                      & NA                             \\\\\n",
       "\t NZ                              & CULC                            & -42.75944                       & 172.8026                        & 206.0                           & Culverden Airlie Farm           & 2005-11-15                      & NA                             \\\\\n",
       "\t NZ                              & GLWS                            & -42.59417                       & 172.5110                        & 445.0                           & Glyn Wye                        & 2002-10-17                      & NA                             \\\\\n",
       "\t NZ                              & GVZ                             & -42.96737                       & 173.0348                        & 400.5                           & Greta Valley                    & 2012-12-03                      & NA                             \\\\\n",
       "\t NZ                              & HSES                            & -42.52324                       & 172.8305                        & 377.0                           & Hanmer Springs Emergency Centre & 2002-02-24                      & NA                             \\\\\n",
       "\t NZ                              & KHZ                             & -42.41598                       & 173.5390                        &  64.0                           & Kahutara                        & 1988-12-08                      & NA                             \\\\\n",
       "\t NZ                              & LSRC                            & -42.86952                       & 172.5433                        & 335.0                           & Lake Sumner Road                & 2004-11-28                      & NA                             \\\\\n",
       "\t NZ                              & SCAC                            & -42.93857                       & 172.9216                        & 138.0                           & Scargill                        & 2005-11-16                      & NA                             \\\\\n",
       "\t NZ                              & WAKC                            & -42.96310                       & 172.7052                        & 219.0                           & Waikari                         & 2005-11-14                      & NA                             \\\\\n",
       "\t NZ                              & WIGC                            & -42.70119                       & 172.8003                        & 247.0                           & Waiau Gorge                     & 2004-11-27                      & NA                             \\\\\n",
       "\t NZ                              & WTMC                            & -42.61946                       & 173.0536                        & 198.0                           & Te Mara Farm Waiau              & 2005-11-15                      & NA                             \\\\\n",
       "\\end{tabular}\n"
      ],
      "text/markdown": [
       "\n",
       "network | station | latitude | longitude | elevation | sitename | starttime | endtime | \n",
       "|---|---|---|---|---|---|---|---|---|---|---|\n",
       "| NZ                              | CECS                            | -42.81349                       | 173.2749                        |  69.0                           | Cheviot Emergency Centre        | 2002-02-23                      | NA                              | \n",
       "| NZ                              | CULC                            | -42.75944                       | 172.8026                        | 206.0                           | Culverden Airlie Farm           | 2005-11-15                      | NA                              | \n",
       "| NZ                              | GLWS                            | -42.59417                       | 172.5110                        | 445.0                           | Glyn Wye                        | 2002-10-17                      | NA                              | \n",
       "| NZ                              | GVZ                             | -42.96737                       | 173.0348                        | 400.5                           | Greta Valley                    | 2012-12-03                      | NA                              | \n",
       "| NZ                              | HSES                            | -42.52324                       | 172.8305                        | 377.0                           | Hanmer Springs Emergency Centre | 2002-02-24                      | NA                              | \n",
       "| NZ                              | KHZ                             | -42.41598                       | 173.5390                        |  64.0                           | Kahutara                        | 1988-12-08                      | NA                              | \n",
       "| NZ                              | LSRC                            | -42.86952                       | 172.5433                        | 335.0                           | Lake Sumner Road                | 2004-11-28                      | NA                              | \n",
       "| NZ                              | SCAC                            | -42.93857                       | 172.9216                        | 138.0                           | Scargill                        | 2005-11-16                      | NA                              | \n",
       "| NZ                              | WAKC                            | -42.96310                       | 172.7052                        | 219.0                           | Waikari                         | 2005-11-14                      | NA                              | \n",
       "| NZ                              | WIGC                            | -42.70119                       | 172.8003                        | 247.0                           | Waiau Gorge                     | 2004-11-27                      | NA                              | \n",
       "| NZ                              | WTMC                            | -42.61946                       | 173.0536                        | 198.0                           | Te Mara Farm Waiau              | 2005-11-15                      | NA                              | \n",
       "\n",
       "\n"
      ],
      "text/plain": [
       "   network station latitude  longitude elevation\n",
       "1  NZ      CECS    -42.81349 173.2749   69.0    \n",
       "2  NZ      CULC    -42.75944 172.8026  206.0    \n",
       "3  NZ      GLWS    -42.59417 172.5110  445.0    \n",
       "4  NZ      GVZ     -42.96737 173.0348  400.5    \n",
       "5  NZ      HSES    -42.52324 172.8305  377.0    \n",
       "6  NZ      KHZ     -42.41598 173.5390   64.0    \n",
       "7  NZ      LSRC    -42.86952 172.5433  335.0    \n",
       "8  NZ      SCAC    -42.93857 172.9216  138.0    \n",
       "9  NZ      WAKC    -42.96310 172.7052  219.0    \n",
       "10 NZ      WIGC    -42.70119 172.8003  247.0    \n",
       "11 NZ      WTMC    -42.61946 173.0536  198.0    \n",
       "   sitename                        starttime  endtime\n",
       "1  Cheviot Emergency Centre        2002-02-23 <NA>   \n",
       "2  Culverden Airlie Farm           2005-11-15 <NA>   \n",
       "3  Glyn Wye                        2002-10-17 <NA>   \n",
       "4  Greta Valley                    2012-12-03 <NA>   \n",
       "5  Hanmer Springs Emergency Centre 2002-02-24 <NA>   \n",
       "6  Kahutara                        1988-12-08 <NA>   \n",
       "7  Lake Sumner Road                2004-11-28 <NA>   \n",
       "8  Scargill                        2005-11-16 <NA>   \n",
       "9  Waikari                         2005-11-14 <NA>   \n",
       "10 Waiau Gorge                     2004-11-27 <NA>   \n",
       "11 Te Mara Farm Waiau              2005-11-15 <NA>   "
      ]
     },
     "metadata": {},
     "output_type": "display_data"
    }
   ],
   "source": [
    "station"
   ]
  },
  {
   "cell_type": "markdown",
   "metadata": {},
   "source": [
    "Stations are ordered by network name then station name"
   ]
  },
  {
   "cell_type": "markdown",
   "metadata": {},
   "source": [
    "## &nbsp;  4.3 Get Channel Data"
   ]
  },
  {
   "cell_type": "markdown",
   "metadata": {},
   "source": [
    "Channel data is a inventory of metadata from the stations with some extra data to the station data set. \n",
    "The `getChannel` function with return a R `data.frame` with columns `network` `station` `location` `channel` `latitude` `longitude` `elevation` `depth` `azimuth` `dip` `instrument` `scale` `scalefreq` `scaleunits` `samplerate` `starttime` `endtim` and `snclId`. Where `startime` and `endtime` are the same as for the station data."
   ]
  },
  {
   "cell_type": "markdown",
   "metadata": {},
   "source": [
    "###### Get the names of the station"
   ]
  },
  {
   "cell_type": "code",
   "execution_count": 16,
   "metadata": {},
   "outputs": [],
   "source": [
    "name<- station[1,]$station"
   ]
  },
  {
   "cell_type": "markdown",
   "metadata": {},
   "source": [
    "This gets the name of the first station and renames to make it easier to call later in the notebook. "
   ]
  },
  {
   "cell_type": "markdown",
   "metadata": {},
   "source": [
    "###### Get Channel data"
   ]
  },
  {
   "cell_type": "code",
   "execution_count": 17,
   "metadata": {},
   "outputs": [],
   "source": [
    "channels<-getChannel(acr,\"NZ\",name,\"*\", \"*\", starttime, endtime)"
   ]
  },
  {
   "cell_type": "markdown",
   "metadata": {},
   "source": [
    "The parameters needed are service, network, station, location, channel, starttime, and endtime.\n",
    "     The `*` is a wildcard character that says that value can be anything.\n",
    "    Optional parameters are `latitude` `longitude` `maxradius` and `minradius`."
   ]
  },
  {
   "cell_type": "markdown",
   "metadata": {},
   "source": [
    "###### See the number of channels"
   ]
  },
  {
   "cell_type": "code",
   "execution_count": 18,
   "metadata": {},
   "outputs": [
    {
     "data": {
      "text/html": [
       "'CECS'"
      ],
      "text/latex": [
       "'CECS'"
      ],
      "text/markdown": [
       "'CECS'"
      ],
      "text/plain": [
       "[1] \"CECS\""
      ]
     },
     "metadata": {},
     "output_type": "display_data"
    },
    {
     "data": {
      "text/html": [
       "'has'"
      ],
      "text/latex": [
       "'has'"
      ],
      "text/markdown": [
       "'has'"
      ],
      "text/plain": [
       "[1] \"has\""
      ]
     },
     "metadata": {},
     "output_type": "display_data"
    },
    {
     "data": {
      "text/html": [
       "6"
      ],
      "text/latex": [
       "6"
      ],
      "text/markdown": [
       "6"
      ],
      "text/plain": [
       "[1] 6"
      ]
     },
     "metadata": {},
     "output_type": "display_data"
    },
    {
     "data": {
      "text/html": [
       "'Channels'"
      ],
      "text/latex": [
       "'Channels'"
      ],
      "text/markdown": [
       "'Channels'"
      ],
      "text/plain": [
       "[1] \"Channels\""
      ]
     },
     "metadata": {},
     "output_type": "display_data"
    }
   ],
   "source": [
    "channels[1,]$station\n",
    "\"has\"\n",
    "nrow(channels)\n",
    "\"Channels\""
   ]
  },
  {
   "cell_type": "markdown",
   "metadata": {},
   "source": [
    "###### Print channel data"
   ]
  },
  {
   "cell_type": "code",
   "execution_count": 19,
   "metadata": {},
   "outputs": [
    {
     "data": {
      "text/html": [
       "<table>\n",
       "<thead><tr><th></th><th scope=col>network</th><th scope=col>station</th><th scope=col>location</th><th scope=col>channel</th><th scope=col>latitude</th><th scope=col>longitude</th><th scope=col>elevation</th><th scope=col>depth</th><th scope=col>azimuth</th><th scope=col>dip</th><th scope=col>instrument</th><th scope=col>scale</th><th scope=col>scalefreq</th><th scope=col>scaleunits</th><th scope=col>samplerate</th><th scope=col>starttime</th><th scope=col>endtime</th><th scope=col>snclId</th></tr></thead>\n",
       "<tbody>\n",
       "\t<tr><th scope=row>2</th><td>NZ                 </td><td>CECS               </td><td>20                 </td><td>BN1                </td><td>-42.81349          </td><td>173.2749           </td><td>69                 </td><td>0                  </td><td> 6                 </td><td>  0                </td><td>Accelerometer      </td><td>427336.1           </td><td>1                  </td><td>m/s**2             </td><td> 50                </td><td>2014-12-16 00:30:00</td><td>NA                 </td><td>NZ.CECS.20.BN1     </td></tr>\n",
       "\t<tr><th scope=row>3</th><td>NZ                 </td><td>CECS               </td><td>20                 </td><td>BN2                </td><td>-42.81349          </td><td>173.2749           </td><td>69                 </td><td>0                  </td><td>96                 </td><td>  0                </td><td>Accelerometer      </td><td>427336.1           </td><td>1                  </td><td>m/s**2             </td><td> 50                </td><td>2014-12-16 00:30:00</td><td>NA                 </td><td>NZ.CECS.20.BN2     </td></tr>\n",
       "\t<tr><th scope=row>1</th><td>NZ                 </td><td>CECS               </td><td>20                 </td><td>BNZ                </td><td>-42.81349          </td><td>173.2749           </td><td>69                 </td><td>0                  </td><td> 0                 </td><td>-90                </td><td>Accelerometer      </td><td>427336.1           </td><td>1                  </td><td>m/s**2             </td><td> 50                </td><td>2014-12-16 00:30:00</td><td>NA                 </td><td>NZ.CECS.20.BNZ     </td></tr>\n",
       "\t<tr><th scope=row>5</th><td>NZ                 </td><td>CECS               </td><td>20                 </td><td>HN1                </td><td>-42.81349          </td><td>173.2749           </td><td>69                 </td><td>0                  </td><td> 6                 </td><td>  0                </td><td>Accelerometer      </td><td>427336.1           </td><td>1                  </td><td>m/s**2             </td><td>200                </td><td>2014-12-16 00:30:00</td><td>NA                 </td><td>NZ.CECS.20.HN1     </td></tr>\n",
       "\t<tr><th scope=row>6</th><td>NZ                 </td><td>CECS               </td><td>20                 </td><td>HN2                </td><td>-42.81349          </td><td>173.2749           </td><td>69                 </td><td>0                  </td><td>96                 </td><td>  0                </td><td>Accelerometer      </td><td>427336.1           </td><td>1                  </td><td>m/s**2             </td><td>200                </td><td>2014-12-16 00:30:00</td><td>NA                 </td><td>NZ.CECS.20.HN2     </td></tr>\n",
       "\t<tr><th scope=row>4</th><td>NZ                 </td><td>CECS               </td><td>20                 </td><td>HNZ                </td><td>-42.81349          </td><td>173.2749           </td><td>69                 </td><td>0                  </td><td> 0                 </td><td>-90                </td><td>Accelerometer      </td><td>427336.1           </td><td>1                  </td><td>m/s**2             </td><td>200                </td><td>2014-12-16 00:30:00</td><td>NA                 </td><td>NZ.CECS.20.HNZ     </td></tr>\n",
       "</tbody>\n",
       "</table>\n"
      ],
      "text/latex": [
       "\\begin{tabular}{r|llllllllllllllllll}\n",
       "  & network & station & location & channel & latitude & longitude & elevation & depth & azimuth & dip & instrument & scale & scalefreq & scaleunits & samplerate & starttime & endtime & snclId\\\\\n",
       "\\hline\n",
       "\t2 & NZ                  & CECS                & 20                  & BN1                 & -42.81349           & 173.2749            & 69                  & 0                   &  6                  &   0                 & Accelerometer       & 427336.1            & 1                   & m/s**2              &  50                 & 2014-12-16 00:30:00 & NA                  & NZ.CECS.20.BN1     \\\\\n",
       "\t3 & NZ                  & CECS                & 20                  & BN2                 & -42.81349           & 173.2749            & 69                  & 0                   & 96                  &   0                 & Accelerometer       & 427336.1            & 1                   & m/s**2              &  50                 & 2014-12-16 00:30:00 & NA                  & NZ.CECS.20.BN2     \\\\\n",
       "\t1 & NZ                  & CECS                & 20                  & BNZ                 & -42.81349           & 173.2749            & 69                  & 0                   &  0                  & -90                 & Accelerometer       & 427336.1            & 1                   & m/s**2              &  50                 & 2014-12-16 00:30:00 & NA                  & NZ.CECS.20.BNZ     \\\\\n",
       "\t5 & NZ                  & CECS                & 20                  & HN1                 & -42.81349           & 173.2749            & 69                  & 0                   &  6                  &   0                 & Accelerometer       & 427336.1            & 1                   & m/s**2              & 200                 & 2014-12-16 00:30:00 & NA                  & NZ.CECS.20.HN1     \\\\\n",
       "\t6 & NZ                  & CECS                & 20                  & HN2                 & -42.81349           & 173.2749            & 69                  & 0                   & 96                  &   0                 & Accelerometer       & 427336.1            & 1                   & m/s**2              & 200                 & 2014-12-16 00:30:00 & NA                  & NZ.CECS.20.HN2     \\\\\n",
       "\t4 & NZ                  & CECS                & 20                  & HNZ                 & -42.81349           & 173.2749            & 69                  & 0                   &  0                  & -90                 & Accelerometer       & 427336.1            & 1                   & m/s**2              & 200                 & 2014-12-16 00:30:00 & NA                  & NZ.CECS.20.HNZ     \\\\\n",
       "\\end{tabular}\n"
      ],
      "text/markdown": [
       "\n",
       "| <!--/--> | network | station | location | channel | latitude | longitude | elevation | depth | azimuth | dip | instrument | scale | scalefreq | scaleunits | samplerate | starttime | endtime | snclId | \n",
       "|---|---|---|---|---|---|\n",
       "| 2 | NZ                  | CECS                | 20                  | BN1                 | -42.81349           | 173.2749            | 69                  | 0                   |  6                  |   0                 | Accelerometer       | 427336.1            | 1                   | m/s**2              |  50                 | 2014-12-16 00:30:00 | NA                  | NZ.CECS.20.BN1      | \n",
       "| 3 | NZ                  | CECS                | 20                  | BN2                 | -42.81349           | 173.2749            | 69                  | 0                   | 96                  |   0                 | Accelerometer       | 427336.1            | 1                   | m/s**2              |  50                 | 2014-12-16 00:30:00 | NA                  | NZ.CECS.20.BN2      | \n",
       "| 1 | NZ                  | CECS                | 20                  | BNZ                 | -42.81349           | 173.2749            | 69                  | 0                   |  0                  | -90                 | Accelerometer       | 427336.1            | 1                   | m/s**2              |  50                 | 2014-12-16 00:30:00 | NA                  | NZ.CECS.20.BNZ      | \n",
       "| 5 | NZ                  | CECS                | 20                  | HN1                 | -42.81349           | 173.2749            | 69                  | 0                   |  6                  |   0                 | Accelerometer       | 427336.1            | 1                   | m/s**2              | 200                 | 2014-12-16 00:30:00 | NA                  | NZ.CECS.20.HN1      | \n",
       "| 6 | NZ                  | CECS                | 20                  | HN2                 | -42.81349           | 173.2749            | 69                  | 0                   | 96                  |   0                 | Accelerometer       | 427336.1            | 1                   | m/s**2              | 200                 | 2014-12-16 00:30:00 | NA                  | NZ.CECS.20.HN2      | \n",
       "| 4 | NZ                  | CECS                | 20                  | HNZ                 | -42.81349           | 173.2749            | 69                  | 0                   |  0                  | -90                 | Accelerometer       | 427336.1            | 1                   | m/s**2              | 200                 | 2014-12-16 00:30:00 | NA                  | NZ.CECS.20.HNZ      | \n",
       "\n",
       "\n"
      ],
      "text/plain": [
       "  network station location channel latitude  longitude elevation depth azimuth\n",
       "2 NZ      CECS    20       BN1     -42.81349 173.2749  69        0      6     \n",
       "3 NZ      CECS    20       BN2     -42.81349 173.2749  69        0     96     \n",
       "1 NZ      CECS    20       BNZ     -42.81349 173.2749  69        0      0     \n",
       "5 NZ      CECS    20       HN1     -42.81349 173.2749  69        0      6     \n",
       "6 NZ      CECS    20       HN2     -42.81349 173.2749  69        0     96     \n",
       "4 NZ      CECS    20       HNZ     -42.81349 173.2749  69        0      0     \n",
       "  dip instrument    scale    scalefreq scaleunits samplerate\n",
       "2   0 Accelerometer 427336.1 1         m/s**2      50       \n",
       "3   0 Accelerometer 427336.1 1         m/s**2      50       \n",
       "1 -90 Accelerometer 427336.1 1         m/s**2      50       \n",
       "5   0 Accelerometer 427336.1 1         m/s**2     200       \n",
       "6   0 Accelerometer 427336.1 1         m/s**2     200       \n",
       "4 -90 Accelerometer 427336.1 1         m/s**2     200       \n",
       "  starttime           endtime snclId        \n",
       "2 2014-12-16 00:30:00 <NA>    NZ.CECS.20.BN1\n",
       "3 2014-12-16 00:30:00 <NA>    NZ.CECS.20.BN2\n",
       "1 2014-12-16 00:30:00 <NA>    NZ.CECS.20.BNZ\n",
       "5 2014-12-16 00:30:00 <NA>    NZ.CECS.20.HN1\n",
       "6 2014-12-16 00:30:00 <NA>    NZ.CECS.20.HN2\n",
       "4 2014-12-16 00:30:00 <NA>    NZ.CECS.20.HNZ"
      ]
     },
     "metadata": {},
     "output_type": "display_data"
    }
   ],
   "source": [
    "channels"
   ]
  },
  {
   "cell_type": "markdown",
   "metadata": {},
   "source": [
    "What the channel code means can be found at https://www.geonet.org.nz/data/supplementary/channels."
   ]
  },
  {
   "cell_type": "markdown",
   "metadata": {},
   "source": [
    "## &nbsp; 5. Waveform Data"
   ]
  },
  {
   "cell_type": "markdown",
   "metadata": {},
   "source": [
    "In this section we will learn how to get and plot GeoNet waveform data."
   ]
  },
  {
   "cell_type": "markdown",
   "metadata": {},
   "source": [
    "Waveform data is the raw data that has be collected by the sensors. \n",
    "`getDataselect` gets a stream of data as a R `data.frame` with columns `url` `requestedStarttime` `requestedEndtime` `act_flags` `io_flags` `dq_flags` `timing_qual` and `traces`.\n",
    "Traces has the traces that are in the stream. Traces is a `data.frame` with columns `stats` `sensor` `InstrumentSensitivity` `SensitivityFrequency` `InputUnits` and `data`. \n",
    "Data is the raw data in a list format"
   ]
  },
  {
   "cell_type": "markdown",
   "metadata": {},
   "source": [
    "## &nbsp; 5.1 Get Waveform Data"
   ]
  },
  {
   "cell_type": "markdown",
   "metadata": {},
   "source": [
    "###### Set the time  you want to look at"
   ]
  },
  {
   "cell_type": "code",
   "execution_count": 20,
   "metadata": {},
   "outputs": [],
   "source": [
    "event_time <- as.POSIXct( time , tz=\"GMT\")\n",
    "start <- event_time\n",
    "end <- event_time+300"
   ]
  },
  {
   "cell_type": "markdown",
   "metadata": {},
   "source": [
    "This picks the time to look at based off the time of the event. This time must be in UTC"
   ]
  },
  {
   "cell_type": "markdown",
   "metadata": {},
   "source": [
    "###### Get the waveform data"
   ]
  },
  {
   "cell_type": "code",
   "execution_count": 21,
   "metadata": {},
   "outputs": [],
   "source": [
    "station_Z<- getDataselect(acr,\"NZ\", name ,\"*\", \"B?Z\", start ,end)\n",
    "station_1<- getDataselect(acr,\"NZ\", name ,\"*\", \"B?1\", start ,end)\n",
    "station_2<- getDataselect(acr,\"NZ\", name ,\"*\", \"B?2\", start ,end)"
   ]
  },
  {
   "cell_type": "markdown",
   "metadata": {},
   "source": [
    "The parameters needed are service, network, station, location, channel, starttime, and endtime.\n",
    "The * is a wildcard character that says it will look for data with any location code.\n",
    "The ? is a wildcard character for only a single character."
   ]
  },
  {
   "cell_type": "markdown",
   "metadata": {},
   "source": [
    "## &nbsp; 5.2 Visualising  Waveform Data"
   ]
  },
  {
   "cell_type": "markdown",
   "metadata": {},
   "source": [
    "Visualise the data from the 50 Hz Strong motion sensors at station CECS"
   ]
  },
  {
   "cell_type": "markdown",
   "metadata": {},
   "source": [
    "###### Plot data"
   ]
  },
  {
   "cell_type": "code",
   "execution_count": 22,
   "metadata": {},
   "outputs": [
    {
     "data": {
      "image/png": "[encoded data removed]",
      "text/plain": [
       "Plot with title \"Seismic Trace for  NZ.CECS.20.BNZ\""
      ]
     },
     "metadata": {},
     "output_type": "display_data"
    },
    {
     "data": {
      "image/png": "[encoded data removed]",
      "text/plain": [
       "Plot with title \"Seismic Trace for  NZ.CECS.20.BN1\""
      ]
     },
     "metadata": {},
     "output_type": "display_data"
    },
    {
     "data": {
      "image/png": "[encoded data removed]",
      "text/plain": [
       "Plot with title \"Seismic Trace for  NZ.CECS.20.BN2\""
      ]
     },
     "metadata": {},
     "output_type": "display_data"
    }
   ],
   "source": [
    "plot(station_Z)\n",
    "plot(station_1)\n",
    "plot(station_2)"
   ]
  },
  {
   "cell_type": "markdown",
   "metadata": {},
   "source": [
    "Most parameters that you can give `plot` in R normally should work on this data set. \n",
    "To find out what these are and there description go to https://www.rdocumentation.org/packages/graphics/versions/3.5.1/topics/plot . \n",
    "Note that time is shown in minutes on the x axis, where the point x=03:00 is 2016-11-13 11:03:00.000. \n",
    "For data sets over longer time periods time may be shown in hours or even days.\n",
    "If you right click on this plot in the notebook you can save it."
   ]
  },
  {
   "cell_type": "markdown",
   "metadata": {},
   "source": [
    "## &nbsp; 5.3 Saving Waveform Data"
   ]
  },
  {
   "cell_type": "code",
   "execution_count": 23,
   "metadata": {},
   "outputs": [],
   "source": [
    "tr <- station_1@traces[[1]]#tack the trace out of the stream. in this case we only have one\n",
    "data_1 <- slot(tr,\"data\")\n",
    "write.csv(data_1, file=\"data_1.csv\") "
   ]
  },
  {
   "cell_type": "markdown",
   "metadata": {},
   "source": [
    "The above code gets the trace from the stream, then gets the waveform data from the trace and finally saves it as `data_1.csv`.\n",
    "The file will be saved in the same folder as this code is run from."
   ]
  },
  {
   "cell_type": "markdown",
   "metadata": {},
   "source": [
    "## Useful links. "
   ]
  },
  {
   "cell_type": "markdown",
   "metadata": {},
   "source": [
    "<ul>\n",
    "<li>More on how to get seismic data can be found in the notebooks at https://github.com/GeoNet/data-tutorials/tree/master/Seismic_Data/R\n",
    "<li> There is a station search at https://www.geonet.org.nz/data/network/sensor/search \n",
    "<li> To learn more about station codes go to https://www.geonet.org.nz/data/supplementary/channels\n",
    "<li>IRISSeismic has a lot of functions that could be useful. Documentation of them with examples can be found at https://cran.r-project.org/web/packages/IRISSeismic/IRISSeismic.pdf\n",
    "<li>To find out more about R go to https://www.r-project.org/\n",
    "<li>To understand more about data frames go to https://www.rdocumentation.org/packages/base/versions/3.5.1/topics/data.frame \n",
    "<li>To understand more about plots in R go to https://www.rdocumentation.org/packages/graphics/versions/3.5.1/topics/plot\n",
    "<li> To understad more about maps in R go to https://cran.r-project.org/web/packages/maps/maps.pdf\n",
    "<li> To learn more about what maps can be made in R go to http://www.geog.uoregon.edu/GeogR/\n",
    "<li> To learn more about station codes go to https://www.geonet.org.nz/data/supplementary/channels\n",
    "<li> For how to do all of this in python go to https://github.com/GeoNet/data-tutorials/tree/master/Seismic_Data/Python"
   ]
  }
 ],
 "metadata": {
  "kernelspec": {
   "display_name": "R",
   "language": "R",
   "name": "ir"
  },
  "language_info": {
   "codemirror_mode": "r",
   "file_extension": ".r",
   "mimetype": "text/x-r-source",
   "name": "R",
   "pygments_lexer": "r",
   "version": "3.5.1"
  }
 },
 "nbformat": 4,
 "nbformat_minor": 2
}
