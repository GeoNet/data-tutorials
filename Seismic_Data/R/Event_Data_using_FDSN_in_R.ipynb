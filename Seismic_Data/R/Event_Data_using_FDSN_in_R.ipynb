{
 "cells": [
  {
   "cell_type": "markdown",
   "metadata": {},
   "source": [
    "# <center>Introduction on Using the language R to access Event Data"
   ]
  },
  {
   "cell_type": "markdown",
   "metadata": {},
   "source": [
    "In this tutorial we find all the seismic events that happend in set time. By the end of this notebook you should be able to make a event map like the one below.<img src=\"event.png\" height=\"500\" width=\"500\"> "
   ]
  },
  {
   "cell_type": "markdown",
   "metadata": {},
   "source": [
    "## &nbsp; Table of contents"
   ]
  },
  {
   "cell_type": "markdown",
   "metadata": {},
   "source": [
    "### 1. Introduction\n",
    "### 2. Set Up\n",
    "### 3. Get Event Data\n",
    "### 4. Visualising Event Data"
   ]
  },
  {
   "cell_type": "markdown",
   "metadata": {},
   "source": [
    "## &nbsp; 1. Introduction"
   ]
  },
  {
   "cell_type": "markdown",
   "metadata": {},
   "source": [
    "In this tutorial we will be learning how to use the language R to be able to access event data for a set time period "
   ]
  },
  {
   "cell_type": "markdown",
   "metadata": {},
   "source": [
    "R is a language made for statisticians by statisticians. It is an open source language which anyone can make a package for. This means that R has a lot of useful functions for all kinds of research."
   ]
  },
  {
   "cell_type": "markdown",
   "metadata": {},
   "source": [
    "This tutorial assumes that you have basic knowledge of the language R, but basic knowledge of any programming language should be sufficient to follow this tutorial.\n",
    "We will be using the packages IRISSeismic (https://CRAN.R-project.org/package=IRISSeismic) and maps (https://CRAN.R-project.org/package=maps ).<br>"
   ]
  },
  {
   "cell_type": "markdown",
   "metadata": {},
   "source": [
    "This tutorial will be using GeoNet's FDSN webservices. FDSN stands for Federation of Digital Seismograph Networks. Their specifications make sure there is a consistent way for people to access seismic data. \n",
    "IRIS(Incorporated Research Institutions for Seismology) also have a FDSN webservice which IRISSeismic was written for. As such some of the functions in IRISSeismic may not work on GeoNet's data."
   ]
  },
  {
   "cell_type": "markdown",
   "metadata": {},
   "source": [
    "All data will be save into R as a data frame which is much like, what would be called, a dictionary in other languages, but with a few more restrictions to the data structure. To understand more about data frames go to https://www.rdocumentation.org/packages/base/versions/3.5.1/topics/data.frame"
   ]
  },
  {
   "cell_type": "markdown",
   "metadata": {},
   "source": [
    "## &nbsp; 2. Set Up"
   ]
  },
  {
   "cell_type": "markdown",
   "metadata": {},
   "source": [
    "###### Install the IRISSeismic and maps packages"
   ]
  },
  {
   "cell_type": "code",
   "execution_count": null,
   "metadata": {},
   "outputs": [],
   "source": [
    "install.packages(\"IRISSeismic\")\n",
    "install.packages(\"maps\")\n",
    "install.packages(\"mapdata\")"
   ]
  },
  {
   "cell_type": "code",
   "execution_count": 3,
   "metadata": {},
   "outputs": [],
   "source": [
    "#library(help = \"IRISSeismic\")"
   ]
  },
  {
   "cell_type": "markdown",
   "metadata": {},
   "source": [
    "Note this code might take some time to run but you only need to run this ONCE. \n",
    "IRISSemismic has many functions that may be useful. To see a list of them all with description run `library(help = \"IRISSeismic\")`"
   ]
  },
  {
   "cell_type": "markdown",
   "metadata": {},
   "source": [
    "###### Import the library and set your URLs to the same as below"
   ]
  },
  {
   "cell_type": "code",
   "execution_count": 17,
   "metadata": {},
   "outputs": [],
   "source": [
    "library(IRISSeismic)\n",
    "library(maps)\n",
    "library(mapdata)\n",
    "acr <- new('IrisClient', site = 'https://service.geonet.org.nz')"
   ]
  },
  {
   "cell_type": "markdown",
   "metadata": {},
   "source": [
    "GeoNet has two FDSN services <br>\n",
    "For waveform data\n",
    "an archive service holds verified data starting 7 days after collection, \n",
    "and a near real-time service holds data that could be incomplete from the last 8 days<br>\n",
    "For the event and station data there is no distinction between these services "
   ]
  },
  {
   "cell_type": "markdown",
   "metadata": {},
   "source": [
    "###### Set the start and end time of the data you want to select"
   ]
  },
  {
   "cell_type": "code",
   "execution_count": 19,
   "metadata": {},
   "outputs": [],
   "source": [
    "starttime <- as.POSIXct(\"2016-11-13\",tz=\"UTC\")\n",
    "endtime <-  as.POSIXct(\"2016-11-14\", tz=\"UTC\")"
   ]
  },
  {
   "cell_type": "markdown",
   "metadata": {},
   "source": [
    "Note that time must be in UTC (Universal Time Coordinated) which is 13 or 12 hours behind nzt (New Zealand Time) (depending on daylight savings time).\n",
    "Also Note that GMT or Greenwich mean time is the same time as UTC.\n",
    "    In this case we are looking at the 2016 Kaikoura earthquake which happened just after midnight on 14th of November. So just after 11am on the 13th of November in UTC.\n",
    "    There are online converters if needed.\n",
    "    You can add to the time in number of seconds eg. `stattime + 60` would be the time 2016-11-13 00:01:00.000<br>"
   ]
  },
  {
   "cell_type": "markdown",
   "metadata": {},
   "source": [
    "## &nbsp; 3. Get Event Data"
   ]
  },
  {
   "cell_type": "markdown",
   "metadata": {},
   "source": [
    "Event data is a catalogue of all the events such as earthquakes that the New Zealand network of seismometers have detected.\n",
    "The `getEvent` function with return a R `data.frame` with column that has `eventId` `time`  `latitude` `longitude` `depth` `author` `cCatalog` `contributor` `contributorId` `magType` `magnitude` `magAuthor` and `eventLocationName.` \n",
    "Each row is a different event<br>"
   ]
  },
  {
   "cell_type": "markdown",
   "metadata": {},
   "source": [
    "###### Get event data"
   ]
  },
  {
   "cell_type": "code",
   "execution_count": 20,
   "metadata": {},
   "outputs": [],
   "source": [
    "events <- getEvent(acr, starttime, endtime, minmag=6)"
   ]
  },
  {
   "cell_type": "markdown",
   "metadata": {},
   "source": [
    "The parameters needed are service, starttime and endtime.\n",
    "    You can also look by magnitude with `minmag=` and `maxmag=`.\n",
    "    You can look by depth with `mindepth=` and `maxdepth=`.\n",
    "    Another parameter you can look by is magnitude type with `magtype= `."
   ]
  },
  {
   "cell_type": "markdown",
   "metadata": {},
   "source": [
    "###### See the number of events"
   ]
  },
  {
   "cell_type": "code",
   "execution_count": 21,
   "metadata": {},
   "outputs": [
    {
     "data": {
      "text/html": [
       "5"
      ],
      "text/latex": [
       "5"
      ],
      "text/markdown": [
       "5"
      ],
      "text/plain": [
       "[1] 5"
      ]
     },
     "metadata": {},
     "output_type": "display_data"
    },
    {
     "data": {
      "text/html": [
       "'earthquakes found with magnitude &gt; 6'"
      ],
      "text/latex": [
       "'earthquakes found with magnitude > 6'"
      ],
      "text/markdown": [
       "'earthquakes found with magnitude &gt; 6'"
      ],
      "text/plain": [
       "[1] \"earthquakes found with magnitude > 6\""
      ]
     },
     "metadata": {},
     "output_type": "display_data"
    }
   ],
   "source": [
    "nrow(events)\n",
    "\"earthquakes found with magnitude > 6\""
   ]
  },
  {
   "cell_type": "markdown",
   "metadata": {},
   "source": [
    "## &nbsp; 4. Visualise event data"
   ]
  },
  {
   "cell_type": "markdown",
   "metadata": {},
   "source": [
    "###### Plot the map"
   ]
  },
  {
   "cell_type": "code",
   "execution_count": 28,
   "metadata": {},
   "outputs": [
    {
     "data": {
      "image/png": "[encoded data removed]",
      "text/plain": [
       "plot without title"
      ]
     },
     "metadata": {},
     "output_type": "display_data"
    }
   ],
   "source": [
    "map(\"nz\", fill=TRUE, col=\"lightgreen\", bg= \"light blue\")\n",
    "points(events$longitude, events$latitude, pch=1, cex=events$magnitude, col='red')\n",
    "labels <- paste(\" \", as.character(round(events$magnitude,1)))\n",
    "text(events$longitude, events$latitude, labels=labels, cex=1)"
   ]
  },
  {
   "cell_type": "markdown",
   "metadata": {},
   "source": [
    "The function `map` makes the base map. The function `points` makes a point for each event.\n",
    "    The point is given an x,y coordinate of its longitude and latitude.\n",
    "    The function`pch` say what shape will be plotted `pch=1` say the shape will be circle with its centre on the point.\n",
    "    The function `cex` say the size of the shape will be. In the code above this is set to the magnitude of the event.\n",
    "If you right click on this plot in the notebook you can save it"
   ]
  },
  {
   "cell_type": "markdown",
   "metadata": {},
   "source": [
    "This map shows all of nz but the events are all in one place so I want to \"zoom in\""
   ]
  },
  {
   "cell_type": "markdown",
   "metadata": {},
   "source": [
    "###### Set parameters for map"
   ]
  },
  {
   "cell_type": "code",
   "execution_count": 23,
   "metadata": {},
   "outputs": [],
   "source": [
    "xhigh <- max(events$longitude)+ .5\n",
    "xlow <- min(events$longitude)- .5\n",
    "yhigh <- max(events$latitude)+ .5\n",
    "ylow <- min(events$latitude)- .5"
   ]
  },
  {
   "cell_type": "markdown",
   "metadata": {},
   "source": [
    "We can take the maximum longitude shown on the map to the maximum longitude of all the events and the same for minimum and latitude. \n",
    "So that the data is not on the edge of the map we can make sure all points are at least 0.5 from the edge of the map by modifying the maximum and minimum,longitude and latitude by 0.5. "
   ]
  },
  {
   "cell_type": "markdown",
   "metadata": {},
   "source": [
    "###### Plot the map with x,y parameters"
   ]
  },
  {
   "cell_type": "code",
   "execution_count": 26,
   "metadata": {},
   "outputs": [
    {
     "data": {
      "image/png": "[encoded data removed]",
      "text/plain": [
       "plot without title"
      ]
     },
     "metadata": {},
     "output_type": "display_data"
    }
   ],
   "source": [
    "map('nzHires',xlim=c(xlow,xhigh),ylim=c(ylow,yhigh), fill=TRUE, col=\"lightgreen\")\n",
    "points(events$longitude, events$latitude, pch=1, cex=events$magnitude, col='red')\n",
    "labels <- paste(\" \", as.character(round(events$magnitude,1)),\" at \", substr(as.character(events$time), 12, 20), \" UCT\")\n",
    "text(events$longitude, events$latitude, labels=labels, cex=1)\n",
    "map.axes()"
   ]
  },
  {
   "cell_type": "markdown",
   "metadata": {},
   "source": [
    "`map` makes the base map using the longitude and latitude as found above.\n",
    "    The label now has the time of the event done by taking a sub-string of the time of the event.\n",
    "    If you right click on this plot in the notebook you can save it.\n",
    "For more about what you can do with maps go to http://www.geog.uoregon.edu/GeogR/ or run `library(help =\"maps\")`"
   ]
  },
  {
   "cell_type": "markdown",
   "metadata": {},
   "source": [
    "###### Print the event data"
   ]
  },
  {
   "cell_type": "code",
   "execution_count": 11,
   "metadata": {},
   "outputs": [
    {
     "data": {
      "text/html": [
       "<table>\n",
       "<thead><tr><th></th><th scope=col>eventId</th><th scope=col>time</th><th scope=col>latitude</th><th scope=col>longitude</th><th scope=col>depth</th><th scope=col>author</th><th scope=col>cCatalog</th><th scope=col>contributor</th><th scope=col>contributorId</th><th scope=col>magType</th><th scope=col>magnitude</th><th scope=col>magAuthor</th><th scope=col>eventLocationName</th></tr></thead>\n",
       "<tbody>\n",
       "\t<tr><th scope=row>3</th><td>2016p858000                  </td><td>2016-11-13 11:02:56          </td><td>-42.693                      </td><td>173.022                      </td><td>15.1                         </td><td>GNS                          </td><td>GNS                          </td><td>GNS                          </td><td>2016p858000                  </td><td>Mw(mB)                       </td><td>7.8                          </td><td>GNS                          </td><td>15 km north-east of Culverden</td></tr>\n",
       "\t<tr><th scope=row>2</th><td>2016p858007                  </td><td>2016-11-13 11:05:14          </td><td>-41.969                      </td><td>173.701                      </td><td> 4.9                         </td><td>GNS                          </td><td>GNS                          </td><td>GNS                          </td><td>2016p858007                  </td><td>M                            </td><td>6.0                          </td><td>GNS                          </td><td>45 km south-west of Seddon   </td></tr>\n",
       "\t<tr><th scope=row>4</th><td>2016p858021                  </td><td>2016-11-13 11:12:35          </td><td>-42.428                      </td><td>173.777                      </td><td> 5.6                         </td><td>GNS                          </td><td>GNS                          </td><td>GNS                          </td><td>2016p858021                  </td><td>M                            </td><td>6.0                          </td><td>GNS                          </td><td>5 km east of Kaikoura        </td></tr>\n",
       "\t<tr><th scope=row>1</th><td>2016p858055                  </td><td>2016-11-13 11:32:07          </td><td>-42.246                      </td><td>173.673                      </td><td>11.3                         </td><td>GNS                          </td><td>GNS                          </td><td>GNS                          </td><td>2016p858055                  </td><td>M                            </td><td>6.2                          </td><td>GNS                          </td><td>15 km north of Kaikoura      </td></tr>\n",
       "\t<tr><th scope=row>5</th><td>2016p858094                  </td><td>2016-11-13 11:52:44          </td><td>-42.201                      </td><td>173.603                      </td><td> 9.0                         </td><td>GNS                          </td><td>GNS                          </td><td>GNS                          </td><td>2016p858094                  </td><td>Mw(mB)                       </td><td>6.1                          </td><td>GNS                          </td><td>20 km north of Kaikoura      </td></tr>\n",
       "</tbody>\n",
       "</table>\n"
      ],
      "text/latex": [
       "\\begin{tabular}{r|lllllllllllll}\n",
       "  & eventId & time & latitude & longitude & depth & author & cCatalog & contributor & contributorId & magType & magnitude & magAuthor & eventLocationName\\\\\n",
       "\\hline\n",
       "\t3 & 2016p858000                   & 2016-11-13 11:02:56           & -42.693                       & 173.022                       & 15.1                          & GNS                           & GNS                           & GNS                           & 2016p858000                   & Mw(mB)                        & 7.8                           & GNS                           & 15 km north-east of Culverden\\\\\n",
       "\t2 & 2016p858007                   & 2016-11-13 11:05:14           & -41.969                       & 173.701                       &  4.9                          & GNS                           & GNS                           & GNS                           & 2016p858007                   & M                             & 6.0                           & GNS                           & 45 km south-west of Seddon   \\\\\n",
       "\t4 & 2016p858021                   & 2016-11-13 11:12:35           & -42.428                       & 173.777                       &  5.6                          & GNS                           & GNS                           & GNS                           & 2016p858021                   & M                             & 6.0                           & GNS                           & 5 km east of Kaikoura        \\\\\n",
       "\t1 & 2016p858055                   & 2016-11-13 11:32:07           & -42.246                       & 173.673                       & 11.3                          & GNS                           & GNS                           & GNS                           & 2016p858055                   & M                             & 6.2                           & GNS                           & 15 km north of Kaikoura      \\\\\n",
       "\t5 & 2016p858094                   & 2016-11-13 11:52:44           & -42.201                       & 173.603                       &  9.0                          & GNS                           & GNS                           & GNS                           & 2016p858094                   & Mw(mB)                        & 6.1                           & GNS                           & 20 km north of Kaikoura      \\\\\n",
       "\\end{tabular}\n"
      ],
      "text/markdown": [
       "\n",
       "| <!--/--> | eventId | time | latitude | longitude | depth | author | cCatalog | contributor | contributorId | magType | magnitude | magAuthor | eventLocationName | \n",
       "|---|---|---|---|---|\n",
       "| 3 | 2016p858000                   | 2016-11-13 11:02:56           | -42.693                       | 173.022                       | 15.1                          | GNS                           | GNS                           | GNS                           | 2016p858000                   | Mw(mB)                        | 7.8                           | GNS                           | 15 km north-east of Culverden | \n",
       "| 2 | 2016p858007                   | 2016-11-13 11:05:14           | -41.969                       | 173.701                       |  4.9                          | GNS                           | GNS                           | GNS                           | 2016p858007                   | M                             | 6.0                           | GNS                           | 45 km south-west of Seddon    | \n",
       "| 4 | 2016p858021                   | 2016-11-13 11:12:35           | -42.428                       | 173.777                       |  5.6                          | GNS                           | GNS                           | GNS                           | 2016p858021                   | M                             | 6.0                           | GNS                           | 5 km east of Kaikoura         | \n",
       "| 1 | 2016p858055                   | 2016-11-13 11:32:07           | -42.246                       | 173.673                       | 11.3                          | GNS                           | GNS                           | GNS                           | 2016p858055                   | M                             | 6.2                           | GNS                           | 15 km north of Kaikoura       | \n",
       "| 5 | 2016p858094                   | 2016-11-13 11:52:44           | -42.201                       | 173.603                       |  9.0                          | GNS                           | GNS                           | GNS                           | 2016p858094                   | Mw(mB)                        | 6.1                           | GNS                           | 20 km north of Kaikoura       | \n",
       "\n",
       "\n"
      ],
      "text/plain": [
       "  eventId     time                latitude longitude depth author cCatalog\n",
       "3 2016p858000 2016-11-13 11:02:56 -42.693  173.022   15.1  GNS    GNS     \n",
       "2 2016p858007 2016-11-13 11:05:14 -41.969  173.701    4.9  GNS    GNS     \n",
       "4 2016p858021 2016-11-13 11:12:35 -42.428  173.777    5.6  GNS    GNS     \n",
       "1 2016p858055 2016-11-13 11:32:07 -42.246  173.673   11.3  GNS    GNS     \n",
       "5 2016p858094 2016-11-13 11:52:44 -42.201  173.603    9.0  GNS    GNS     \n",
       "  contributor contributorId magType magnitude magAuthor\n",
       "3 GNS         2016p858000   Mw(mB)  7.8       GNS      \n",
       "2 GNS         2016p858007   M       6.0       GNS      \n",
       "4 GNS         2016p858021   M       6.0       GNS      \n",
       "1 GNS         2016p858055   M       6.2       GNS      \n",
       "5 GNS         2016p858094   Mw(mB)  6.1       GNS      \n",
       "  eventLocationName            \n",
       "3 15 km north-east of Culverden\n",
       "2 45 km south-west of Seddon   \n",
       "4 5 km east of Kaikoura        \n",
       "1 15 km north of Kaikoura      \n",
       "5 20 km north of Kaikoura      "
      ]
     },
     "metadata": {},
     "output_type": "display_data"
    }
   ],
   "source": [
    "events"
   ]
  },
  {
   "cell_type": "code",
   "execution_count": 15,
   "metadata": {},
   "outputs": [
    {
     "data": {
      "text/html": [
       "<table>\n",
       "<thead><tr><th></th><th scope=col>eventId</th><th scope=col>time</th><th scope=col>latitude</th><th scope=col>longitude</th><th scope=col>depth</th><th scope=col>author</th><th scope=col>cCatalog</th><th scope=col>contributor</th><th scope=col>contributorId</th><th scope=col>magType</th><th scope=col>magnitude</th><th scope=col>magAuthor</th><th scope=col>eventLocationName</th></tr></thead>\n",
       "<tbody>\n",
       "\t<tr><th scope=row>3</th><td>2016p858000                  </td><td>2016-11-13 11:02:56          </td><td>-42.693                      </td><td>173.022                      </td><td>15.1                         </td><td>GNS                          </td><td>GNS                          </td><td>GNS                          </td><td>2016p858000                  </td><td>Mw(mB)                       </td><td>7.8                          </td><td>GNS                          </td><td>15 km north-east of Culverden</td></tr>\n",
       "</tbody>\n",
       "</table>\n"
      ],
      "text/latex": [
       "\\begin{tabular}{r|lllllllllllll}\n",
       "  & eventId & time & latitude & longitude & depth & author & cCatalog & contributor & contributorId & magType & magnitude & magAuthor & eventLocationName\\\\\n",
       "\\hline\n",
       "\t3 & 2016p858000                   & 2016-11-13 11:02:56           & -42.693                       & 173.022                       & 15.1                          & GNS                           & GNS                           & GNS                           & 2016p858000                   & Mw(mB)                        & 7.8                           & GNS                           & 15 km north-east of Culverden\\\\\n",
       "\\end{tabular}\n"
      ],
      "text/markdown": [
       "\n",
       "| <!--/--> | eventId | time | latitude | longitude | depth | author | cCatalog | contributor | contributorId | magType | magnitude | magAuthor | eventLocationName | \n",
       "|---|\n",
       "| 3 | 2016p858000                   | 2016-11-13 11:02:56           | -42.693                       | 173.022                       | 15.1                          | GNS                           | GNS                           | GNS                           | 2016p858000                   | Mw(mB)                        | 7.8                           | GNS                           | 15 km north-east of Culverden | \n",
       "\n",
       "\n"
      ],
      "text/plain": [
       "  eventId     time                latitude longitude depth author cCatalog\n",
       "3 2016p858000 2016-11-13 11:02:56 -42.693  173.022   15.1  GNS    GNS     \n",
       "  contributor contributorId magType magnitude magAuthor\n",
       "3 GNS         2016p858000   Mw(mB)  7.8       GNS      \n",
       "  eventLocationName            \n",
       "3 15 km north-east of Culverden"
      ]
     },
     "metadata": {},
     "output_type": "display_data"
    }
   ],
   "source": [
    "events[1,]"
   ]
  },
  {
   "cell_type": "markdown",
   "metadata": {},
   "source": [
    "## Useful links. "
   ]
  },
  {
   "cell_type": "markdown",
   "metadata": {},
   "source": [
    "<ul>\n",
    "<li>More on how to get seismic data can be found in the notebooks at https://github.com/GeoNet/data-tutorials/tree/master/Seismic_Data/R\n",
    "<li> There is a station search at https://www.geonet.org.nz/data/network/sensor/search \n",
    "<li>IRISSeismic has a lot of functions that could be useful. Documentation of them with examples can be found at https://cran.r-project.org/web/packages/IRISSeismic/IRISSeismic.pdf\n",
    "<li>To find out more about R go to https://www.r-project.org/\n",
    "<li>To understand more about data frames go to https://www.rdocumentation.org/packages/base/versions/3.5.1/topics/data.frame \n",
    "<li>To understand more about plots in R go to https://www.rdocumentation.org/packages/graphics/versions/3.5.1/topics/plot\n",
    "<li> To understad more about maps in R go to https://cran.r-project.org/web/packages/maps/maps.pdf\n",
    "<li> To learn more about what maps can be made in R go to http://www.geog.uoregon.edu/GeogR/\n",
    "<li> For how to do all of this in python go to https://github.com/GeoNet/data-tutorials/tree/master/Seismic_Data/Python "
   ]
  }
 ],
 "metadata": {
  "kernelspec": {
   "display_name": "R",
   "language": "R",
   "name": "ir"
  },
  "language_info": {
   "codemirror_mode": "r",
   "file_extension": ".r",
   "mimetype": "text/x-r-source",
   "name": "R",
   "pygments_lexer": "r",
   "version": "3.5.1"
  }
 },
 "nbformat": 4,
 "nbformat_minor": 2
}
