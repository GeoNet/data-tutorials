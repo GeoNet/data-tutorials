{
 "cells": [
  {
   "cell_type": "markdown",
   "metadata": {},
   "source": [
    "# GeoNet FDSN webservice with Obspy demo - GeoNet FDSN Clients"
   ]
  },
  {
   "cell_type": "markdown",
   "metadata": {},
   "source": [
    "In this tutorial we will look at how to get both near real-time and archiv waveform data. By the end of this notebook you will will be be able to get both data sets and output something like the text below\n",
    "\n",
    "1 Trace(s) in Stream:\n",
    "\n",
    "NZ.WEL.10.HHZ | 2018-11-18T01:20:32.853131Z - 2018-11-21T01:20:35.453131Z | 100.0 Hz, 25920261 samples"
   ]
  },
  {
   "cell_type": "markdown",
   "metadata": {},
   "source": [
    "GeoNet operates two FDNS wave servers\n",
    "- An archive server holds verified data starting 7 days after collection\n",
    "- A near real-time servers holds unverified data for the last 8 days\n",
    "\n",
    "There are a few different ways this could be done. "
   ]
  },
  {
   "cell_type": "markdown",
   "metadata": {},
   "source": [
    "## Import Modules and Define Clients"
   ]
  },
  {
   "cell_type": "code",
   "execution_count": 1,
   "metadata": {},
   "outputs": [],
   "source": [
    "from obspy.core import UTCDateTime\n",
    "from obspy.clients.fdsn import Client\n",
    "\n",
    "arc_client  = 'http://service.geonet.org.nz'\n",
    "# or arc_client = \"GEONET\"\n",
    "nrt_client = 'http://service-nrt.geonet.org.nz'"
   ]
  },
  {
   "cell_type": "markdown",
   "metadata": {},
   "source": [
    "## Option 1: By trial\n",
    "\n",
    "You will need to specify the correct wave server to get the data you want. If you try to get data from one server and that raises an exception (because the data you requested are not available) repeat the request with the other server."
   ]
  },
  {
   "cell_type": "code",
   "execution_count": 2,
   "metadata": {},
   "outputs": [
    {
     "name": "stdout",
     "output_type": "stream",
     "text": [
      "arc client successful\n",
      "1 Trace(s) in Stream:\n",
      "NZ.KRVZ.10.EHZ | 2017-10-03T23:59:59.283134Z - 2017-10-04T00:05:03.523134Z | 100.0 Hz, 30425 samples\n"
     ]
    }
   ],
   "source": [
    "t = UTCDateTime('2017-10-04')\n",
    "\n",
    "#first try to get data from archive server\n",
    "try:\n",
    "    client = Client(arc_client)\n",
    "    st = client.get_waveforms('NZ', 'KRVZ', '10', 'EHZ', t, t + 300)\n",
    "    print('arc client successful')\n",
    "#if this raises an exception, try the near real-time server\n",
    "except:\n",
    "    client = Client(nrt_client)\n",
    "    st = client.get_waveforms('NZ', 'KRVZ', '10', 'EHZ', t, t + 300)\n",
    "    print('nrt client successful')\n",
    "print(st)"
   ]
  },
  {
   "cell_type": "markdown",
   "metadata": {},
   "source": [
    "## Option 2: Use the time range to select client\n",
    "Use the time range to select a client, if the time range requires both clients then use Option 3. "
   ]
  },
  {
   "cell_type": "code",
   "execution_count": 3,
   "metadata": {},
   "outputs": [
    {
     "name": "stdout",
     "output_type": "stream",
     "text": [
      "Client is near real-time client\n",
      "1 Trace(s) in Stream:\n",
      "NZ.WEL.10.HHZ | 2018-11-21T01:20:32.283128Z - 2018-11-21T01:25:33.283128Z | 100.0 Hz, 30101 samples\n"
     ]
    }
   ],
   "source": [
    "starttime = UTCDateTime.now()-518400 #6 days ago\n",
    "endtime = starttime+300\n",
    "\n",
    "days7 = UTCDateTime.now()-604800 #7 days ago\n",
    "days8 = UTCDateTime.now()-691200 #8 days ago\n",
    "\n",
    "if endtime < days7:\n",
    "    client = Client(arc_client)\n",
    "    print(\"Client is archive client\")\n",
    "elif starttime > days8:\n",
    "    client = Client(nrt_client)\n",
    "    print(\"Client is near real-time client\")\n",
    "else:\n",
    "    print(\"Time range requires both clients\")\n",
    "    \n",
    "st = client.get_waveforms('NZ', 'WEL', '10', 'HHZ', starttime, endtime)\n",
    "print(st)"
   ]
  },
  {
   "cell_type": "markdown",
   "metadata": {},
   "source": [
    "## Option 3: Request from both clients and merge\n",
    "This is useful if the time window for the data request spans both time periods.\n",
    "\n",
    "First, request data from both clients"
   ]
  },
  {
   "cell_type": "code",
   "execution_count": 4,
   "metadata": {},
   "outputs": [
    {
     "name": "stdout",
     "output_type": "stream",
     "text": [
      "nrt client successful\n",
      "arc client successful\n",
      "(<obspy.core.stream.Stream object at 0x0000000007DCD4A8>, <obspy.core.stream.Stream object at 0x000000000C619470>)\n"
     ]
    }
   ],
   "source": [
    "#Define time period\n",
    "t1 = UTCDateTime.now()-777600 #9 days ago\n",
    "t2 = UTCDateTime.now()-518400 #6 days ago\n",
    "\n",
    "#nrt client\n",
    "try:\n",
    "    client = Client(nrt_client)\n",
    "    stnrt = client.get_waveforms('NZ', 'WEL', '10', 'HHZ', t1, t2)\n",
    "    print('nrt client successful')\n",
    "except:\n",
    "    print('nrt client not successful')\n",
    "\n",
    "#arc client\n",
    "try:\n",
    "    client = Client(arc_client)\n",
    "    starc = client.get_waveforms('NZ', 'WEL', '10', 'HHZ', t1, t2)\n",
    "    print('arc client successful')\n",
    "except:\n",
    "    print('arc client not successful')\n",
    "print(stnrt,starc)"
   ]
  },
  {
   "cell_type": "markdown",
   "metadata": {},
   "source": [
    "Now merge waveforms into a single stream object. "
   ]
  },
  {
   "cell_type": "code",
   "execution_count": 5,
   "metadata": {},
   "outputs": [
    {
     "name": "stdout",
     "output_type": "stream",
     "text": [
      "1 Trace(s) in Stream:\n",
      "NZ.WEL.10.HHZ | 2018-11-18T01:20:32.853131Z - 2018-11-21T01:20:35.453131Z | 100.0 Hz, 25920261 samples\n"
     ]
    }
   ],
   "source": [
    "st = stnrt\n",
    "st += starc\n",
    "st.merge(fill_value = 'interpolate')\n",
    "print(st)"
   ]
  }
 ],
 "metadata": {
  "kernelspec": {
   "display_name": "Python 2",
   "language": "python",
   "name": "python2"
  },
  "language_info": {
   "codemirror_mode": {
    "name": "ipython",
    "version": 2
   },
   "file_extension": ".py",
   "mimetype": "text/x-python",
   "name": "python",
   "nbconvert_exporter": "python",
   "pygments_lexer": "ipython2",
   "version": "2.7.15"
  }
 },
 "nbformat": 4,
 "nbformat_minor": 2
}
