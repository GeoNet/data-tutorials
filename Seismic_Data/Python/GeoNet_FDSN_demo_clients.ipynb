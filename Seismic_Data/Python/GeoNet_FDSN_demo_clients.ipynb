{
 "cells": [
  {
   "cell_type": "markdown",
   "metadata": {},
   "source": [
    "# GeoNet FDSN webservice with Obspy demo - GeoNet FDSN Clients"
   ]
  },
  {
   "cell_type": "markdown",
   "metadata": {},
   "source": [
    "This tutorial provides steps to follow in accessing both near real-time and archive waveform data. By the end of this notebook, the user will be able to access both data sets.  "
   ]
  },
  {
   "cell_type": "markdown",
   "metadata": {},
   "source": [
    "GeoNet operates two FDSN web servers\n",
    "- An archive server holds verified data starting 7 days after collection\n",
    "- A near real-time server holds unverified data for the last 8 days"
   ]
  },
  {
   "cell_type": "markdown",
   "metadata": {},
   "source": [
    "## Import Modules and Define Clients"
   ]
  },
  {
   "cell_type": "code",
   "execution_count": 2,
   "metadata": {},
   "outputs": [],
   "source": [
    "from obspy.core import UTCDateTime\n",
    "from obspy.clients.fdsn import Client\n",
    "\n",
    "arc_client  = 'http://service.geonet.org.nz'\n",
    "# or arc_client = \"GEONET\"\n",
    "nrt_client = 'http://service-nrt.geonet.org.nz'"
   ]
  },
  {
   "cell_type": "markdown",
   "metadata": {},
   "source": [
    "## Option 1: By trial\n",
    "\n",
    "Specify the web server where data will be accessed from. If data request from one server raises an exception, check the other server and ensure that details supplied in the request are correct."
   ]
  },
  {
   "cell_type": "code",
   "execution_count": 3,
   "metadata": {},
   "outputs": [
    {
     "name": "stdout",
     "output_type": "stream",
     "text": [
      "arc client successful\n",
      "1 Trace(s) in Stream:\n",
      "NZ.KRVZ.10.EHZ | 2017-10-03T23:59:59.283134Z - 2017-10-04T00:05:03.523134Z | 100.0 Hz, 30425 samples\n"
     ]
    }
   ],
   "source": [
    "t = UTCDateTime('2017-10-04')\n",
    "\n",
    "#first try to get data from archive server\n",
    "try:\n",
    "    client = Client(arc_client)\n",
    "    st = client.get_waveforms('NZ', 'KRVZ', '10', 'EHZ', t, t + 300)\n",
    "    print('arc client successful')\n",
    "#if this raises an exception, try the near real-time server\n",
    "except:\n",
    "    client = Client(nrt_client)\n",
    "    st = client.get_waveforms('NZ', 'KRVZ', '10', 'EHZ', t, t + 300)\n",
    "    print('nrt client successful')\n",
    "print(st)"
   ]
  },
  {
   "cell_type": "markdown",
   "metadata": {},
   "source": [
    "## Option 2: Use the time range to select client\n",
    "Specify a time range to select a client. If the time range requires both clients, use Option 3. "
   ]
  },
  {
   "cell_type": "code",
   "execution_count": 4,
   "metadata": {},
   "outputs": [
    {
     "name": "stdout",
     "output_type": "stream",
     "text": [
      "Client is near real-time client\n",
      "1 Trace(s) in Stream:\n",
      "NZ.WEL.10.HHZ | 2019-01-21T23:15:52.103133Z - 2019-01-21T23:20:50.833133Z | 100.0 Hz, 29874 samples\n"
     ]
    }
   ],
   "source": [
    "starttime = UTCDateTime.now()-518400 #6 days ago\n",
    "endtime = starttime+300\n",
    "\n",
    "days7 = UTCDateTime.now()-604800 #7 days ago\n",
    "days8 = UTCDateTime.now()-691200 #8 days ago\n",
    "\n",
    "if endtime < days7:\n",
    "    client = Client(arc_client)\n",
    "    print(\"Client is archive client\")\n",
    "elif starttime > days8:\n",
    "    client = Client(nrt_client)\n",
    "    print(\"Client is near real-time client\")\n",
    "else:\n",
    "    print(\"Time range requires both clients\")\n",
    "    \n",
    "st = client.get_waveforms('NZ', 'WEL', '10', 'HHZ', starttime, endtime)\n",
    "print(st)"
   ]
  },
  {
   "cell_type": "markdown",
   "metadata": {},
   "source": [
    "## Option 3: Request from both clients and merge\n",
    "This is useful if the time window for the data request spans both time periods.\n",
    "First step is to request data from both clients."
   ]
  },
  {
   "cell_type": "code",
   "execution_count": 5,
   "metadata": {},
   "outputs": [
    {
     "name": "stdout",
     "output_type": "stream",
     "text": [
      "nrt client successful\n",
      "arc client successful\n",
      "1 Trace(s) in Stream:\n",
      "NZ.WEL.10.HHZ | 2019-01-19T23:15:23.753131Z - 2019-01-21T23:15:54.983131Z | 100.0 Hz, 17283124 samples 1 Trace(s) in Stream:\n",
      "NZ.WEL.10.HHZ | 2019-01-18T23:15:54.063133Z - 2019-01-21T23:15:54.983133Z | 100.0 Hz, 25920093 samples\n"
     ]
    }
   ],
   "source": [
    "#Define time period\n",
    "t1 = UTCDateTime.now()-777600 #9 days ago\n",
    "t2 = UTCDateTime.now()-518400 #6 days ago\n",
    "\n",
    "#nrt client\n",
    "try:\n",
    "    client = Client(nrt_client)\n",
    "    stnrt = client.get_waveforms('NZ', 'WEL', '10', 'HHZ', t1, t2)\n",
    "    print('nrt client successful')\n",
    "except:\n",
    "    print('nrt client not successful')\n",
    "\n",
    "#arc client\n",
    "try:\n",
    "    client = Client(arc_client)\n",
    "    starc = client.get_waveforms('NZ', 'WEL', '10', 'HHZ', t1, t2)\n",
    "    print('arc client successful')\n",
    "except:\n",
    "    print('arc client not successful')\n",
    "print(stnrt,starc)"
   ]
  },
  {
   "cell_type": "markdown",
   "metadata": {},
   "source": [
    "Now merge waveforms into a single stream object. "
   ]
  },
  {
   "cell_type": "code",
   "execution_count": 6,
   "metadata": {},
   "outputs": [
    {
     "name": "stdout",
     "output_type": "stream",
     "text": [
      "1 Trace(s) in Stream:\n",
      "NZ.WEL.10.HHZ | 2019-01-18T23:15:54.063133Z - 2019-01-21T23:15:54.983133Z | 100.0 Hz, 25920093 samples\n"
     ]
    }
   ],
   "source": [
    "st = stnrt\n",
    "st += starc\n",
    "st.merge(fill_value = 'interpolate')\n",
    "print(st)"
   ]
  }
 ],
 "metadata": {
  "kernelspec": {
   "display_name": "Python 3",
   "language": "python",
   "name": "python3"
  },
  "language_info": {
   "codemirror_mode": {
    "name": "ipython",
    "version": 3
   },
   "file_extension": ".py",
   "mimetype": "text/x-python",
   "name": "python",
   "nbconvert_exporter": "python",
   "pygments_lexer": "ipython3",
   "version": "3.6.4"
  }
 },
 "nbformat": 4,
 "nbformat_minor": 2
}
